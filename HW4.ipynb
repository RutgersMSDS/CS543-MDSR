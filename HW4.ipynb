{
 "cells": [
  {
   "cell_type": "code",
   "execution_count": 2,
   "metadata": {},
   "outputs": [],
   "source": [
    "import networkx as nx"
   ]
  },
  {
   "cell_type": "code",
   "execution_count": 3,
   "metadata": {},
   "outputs": [
    {
     "data": {
      "text/plain": [
       "53"
      ]
     },
     "execution_count": 3,
     "metadata": {},
     "output_type": "execute_result"
    }
   ],
   "source": [
    "node_list = list(range(1, 54))\n",
    "G = nx.Graph()\n",
    "G.add_nodes_from(node_list)\n",
    "G.number_of_nodes()"
   ]
  },
  {
   "cell_type": "code",
   "execution_count": 4,
   "metadata": {},
   "outputs": [],
   "source": [
    "edge_list = [(1, 2), (1, 4), (1, 5), (2, 3), (2, 4), (3, 4), (3, 5), (4, 5), (5, 9), (6, 9), (7, 8), (7, 9), (7, 10), (8, 10), (8, 11),\n",
    "             (8, 15), (9, 10), (9, 12), (10, 11), (10, 12), (11, 12), (11, 14), (11, 15), (12, 13), (12, 14), (13, 14), (13, 15),\n",
    "             (14, 15), (15, 16), (15, 17), (15, 18), (15, 40), (15, 41), (15, 42), (16, 17), (16, 19), (16, 20), (17, 18), (17, 20),\n",
    "             (18, 20), (18, 22), (19, 20), (19, 21), (20, 21), (20, 22), (21, 22), (21, 28), (21, 36), (21, 39), (22, 23), (22, 27), (23, 24), \n",
    "             (23, 26), (23, 27), (24, 25), (24, 26), (25, 26), (25, 27), (26, 27), (28, 29), (28, 30), (29, 30), (29, 33), (29, 34),\n",
    "             (30, 31), (30, 34), (31, 32), (31, 34), (32, 33), (32, 34), (33, 34), (35, 36), (35, 37), (35, 38), (36, 37), (36, 39), \n",
    "             (37, 38), (37, 39), (38, 39), (40, 41), (40, 42), (40, 43), (40, 44), (41, 42), (42, 43), (42, 52), (42, 53), (43, 44),\n",
    "             (43, 51), (43, 52), (44, 45), (44, 47), (44, 48), (44, 49), (44, 50), (44, 51), (45, 46), (45, 47), (46, 47), (46, 48), \n",
    "             (47, 48), (49, 50), (51, 52), (52, 53)]"
   ]
  },
  {
   "cell_type": "code",
   "execution_count": 5,
   "metadata": {},
   "outputs": [],
   "source": [
    "G.add_edges_from(edge_list)"
   ]
  },
  {
   "cell_type": "code",
   "execution_count": 6,
   "metadata": {},
   "outputs": [],
   "source": [
    "rdd_edge_list = sc.parallelize(edge_list)"
   ]
  },
  {
   "cell_type": "code",
   "execution_count": 7,
   "metadata": {},
   "outputs": [],
   "source": [
    "rdd_edge_weight_list = rdd_edge_list.map(lambda n: (n[0], n[1], 1 / (G.degree(n[0]) * G.degree(n[1]))))"
   ]
  },
  {
   "cell_type": "code",
   "execution_count": 8,
   "metadata": {},
   "outputs": [
    {
     "data": {
      "text/plain": [
       "[(1, 2, 0.1111111111111111),\n",
       " (1, 4, 0.08333333333333333),\n",
       " (1, 5, 0.08333333333333333),\n",
       " (2, 3, 0.1111111111111111),\n",
       " (2, 4, 0.08333333333333333),\n",
       " (3, 4, 0.08333333333333333),\n",
       " (3, 5, 0.08333333333333333),\n",
       " (4, 5, 0.0625),\n",
       " (5, 9, 0.05),\n",
       " (6, 9, 0.2),\n",
       " (7, 8, 0.08333333333333333),\n",
       " (7, 9, 0.06666666666666667),\n",
       " (7, 10, 0.06666666666666667),\n",
       " (8, 10, 0.05),\n",
       " (8, 11, 0.05),\n",
       " (8, 15, 0.025),\n",
       " (9, 10, 0.04),\n",
       " (9, 12, 0.04),\n",
       " (10, 11, 0.04),\n",
       " (10, 12, 0.04),\n",
       " (11, 12, 0.04),\n",
       " (11, 14, 0.05),\n",
       " (11, 15, 0.02),\n",
       " (12, 13, 0.06666666666666667),\n",
       " (12, 14, 0.05),\n",
       " (13, 14, 0.08333333333333333),\n",
       " (13, 15, 0.03333333333333333),\n",
       " (14, 15, 0.025),\n",
       " (15, 16, 0.025),\n",
       " (15, 17, 0.025),\n",
       " (15, 18, 0.025),\n",
       " (15, 40, 0.02),\n",
       " (15, 41, 0.03333333333333333),\n",
       " (15, 42, 0.016666666666666666),\n",
       " (16, 17, 0.0625),\n",
       " (16, 19, 0.08333333333333333),\n",
       " (16, 20, 0.041666666666666664),\n",
       " (17, 18, 0.0625),\n",
       " (17, 20, 0.041666666666666664),\n",
       " (18, 20, 0.041666666666666664),\n",
       " (18, 22, 0.05),\n",
       " (19, 20, 0.05555555555555555),\n",
       " (19, 21, 0.05555555555555555),\n",
       " (20, 21, 0.027777777777777776),\n",
       " (20, 22, 0.03333333333333333),\n",
       " (21, 22, 0.03333333333333333),\n",
       " (21, 28, 0.05555555555555555),\n",
       " (21, 36, 0.041666666666666664),\n",
       " (21, 39, 0.041666666666666664),\n",
       " (22, 23, 0.05),\n",
       " (22, 27, 0.05),\n",
       " (23, 24, 0.08333333333333333),\n",
       " (23, 26, 0.0625),\n",
       " (23, 27, 0.0625),\n",
       " (24, 25, 0.1111111111111111),\n",
       " (24, 26, 0.08333333333333333),\n",
       " (25, 26, 0.08333333333333333),\n",
       " (25, 27, 0.08333333333333333),\n",
       " (26, 27, 0.0625),\n",
       " (28, 29, 0.08333333333333333),\n",
       " (28, 30, 0.08333333333333333),\n",
       " (29, 30, 0.0625),\n",
       " (29, 33, 0.08333333333333333),\n",
       " (29, 34, 0.05),\n",
       " (30, 31, 0.08333333333333333),\n",
       " (30, 34, 0.05),\n",
       " (31, 32, 0.1111111111111111),\n",
       " (31, 34, 0.06666666666666667),\n",
       " (32, 33, 0.1111111111111111),\n",
       " (32, 34, 0.06666666666666667),\n",
       " (33, 34, 0.06666666666666667),\n",
       " (35, 36, 0.08333333333333333),\n",
       " (35, 37, 0.08333333333333333),\n",
       " (35, 38, 0.1111111111111111),\n",
       " (36, 37, 0.0625),\n",
       " (36, 39, 0.0625),\n",
       " (37, 38, 0.08333333333333333),\n",
       " (37, 39, 0.0625),\n",
       " (38, 39, 0.08333333333333333),\n",
       " (40, 41, 0.06666666666666667),\n",
       " (40, 42, 0.03333333333333333),\n",
       " (40, 43, 0.04),\n",
       " (40, 44, 0.025),\n",
       " (41, 42, 0.05555555555555555),\n",
       " (42, 43, 0.03333333333333333),\n",
       " (42, 52, 0.041666666666666664),\n",
       " (42, 53, 0.08333333333333333),\n",
       " (43, 44, 0.025),\n",
       " (43, 51, 0.06666666666666667),\n",
       " (43, 52, 0.05),\n",
       " (44, 45, 0.041666666666666664),\n",
       " (44, 47, 0.03125),\n",
       " (44, 48, 0.041666666666666664),\n",
       " (44, 49, 0.0625),\n",
       " (44, 50, 0.0625),\n",
       " (44, 51, 0.041666666666666664),\n",
       " (45, 46, 0.1111111111111111),\n",
       " (45, 47, 0.08333333333333333),\n",
       " (46, 47, 0.08333333333333333),\n",
       " (46, 48, 0.1111111111111111),\n",
       " (47, 48, 0.08333333333333333),\n",
       " (49, 50, 0.25),\n",
       " (51, 52, 0.08333333333333333),\n",
       " (52, 53, 0.125)]"
      ]
     },
     "execution_count": 8,
     "metadata": {},
     "output_type": "execute_result"
    }
   ],
   "source": [
    "rdd_edge_weight_list.collect()"
   ]
  },
  {
   "cell_type": "code",
   "execution_count": 9,
   "metadata": {},
   "outputs": [],
   "source": [
    "G.add_weighted_edges_from(rdd_edge_weight_list.collect())"
   ]
  },
  {
   "cell_type": "code",
   "execution_count": 10,
   "metadata": {},
   "outputs": [],
   "source": [
    "from collections import defaultdict \n",
    "  \n",
    "#Class to represent a graph \n",
    "class Graph : \n",
    "  \n",
    "    def __init__(self, vertices) : \n",
    "        self.V = vertices # No. of vertices \n",
    "        self.graph = [] # default dictionary to store graph \n",
    "          \n",
    "   \n",
    "    # function to add an edge to graph \n",
    "    def addEdge(self, u, v, w) : \n",
    "        self.graph.append([u, v, w]) \n",
    "  \n",
    "    # A utility function to find set of an element i \n",
    "    # (uses path compression technique) \n",
    "    def find(self, parent, i) : \n",
    "        if parent[i] == i : \n",
    "            return i \n",
    "        return self.find(parent, parent[i]) \n",
    "  \n",
    "    # A function that does union of two sets of x and y \n",
    "    # (uses union by rank) \n",
    "    def union(self, parent, rank, x, y) : \n",
    "        xroot = self.find(parent, x) \n",
    "        yroot = self.find(parent, y) \n",
    "  \n",
    "        # Attach smaller rank tree under root of high rank tree \n",
    "        # (Union by Rank) \n",
    "        if rank[xroot] < rank[yroot] : \n",
    "            parent[xroot] = yroot \n",
    "        elif rank[xroot] > rank[yroot] : \n",
    "            parent[yroot] = xroot \n",
    "        #If ranks are same, then make one as root and increment \n",
    "        # its rank by one \n",
    "        else : \n",
    "            parent[yroot] = xroot \n",
    "            rank[xroot] += 1\n",
    "  \n",
    "    # The main function to construct MST using Kruskal's algorithm \n",
    "    def boruvkaMST(self) : \n",
    "        e_w_list = []\n",
    "        parent = []; rank = [];  \n",
    "  \n",
    "        # An array to store index of the cheapest edge of \n",
    "        # subset. It store [u,v,w] for each component \n",
    "        cheapest = [] \n",
    "  \n",
    "        # Initially there are V different trees. \n",
    "        # Finally there will be one tree that will be MST \n",
    "        numTrees = self.V \n",
    "        MSTweight = 0\n",
    "  \n",
    "        # Create V subsets with single elements \n",
    "        for node in range(self.V) : \n",
    "            parent.append(node) \n",
    "            rank.append(0) \n",
    "            cheapest = [-1] * self.V \n",
    "      \n",
    "        # Keep combining components (or sets) until all \n",
    "        # compnentes are not combined into single MST \n",
    "  \n",
    "        while numTrees > 1 : \n",
    "  \n",
    "            # Traverse through all edges and update \n",
    "               # cheapest of every component \n",
    "            for i in range(len(self.graph)) : \n",
    "  \n",
    "                # Find components (or sets) of two corners \n",
    "                # of current edge \n",
    "                u, v, w = self.graph[i] \n",
    "                set1 = self.find(parent, u) \n",
    "                set2 = self.find(parent, v) \n",
    "  \n",
    "                # If two corners of current edge belong to \n",
    "                # same set, ignore current edge. Else check if  \n",
    "                # current edge is closer to previous \n",
    "                # cheapest edges of set1 and set2 \n",
    "                if set1 != set2 :      \n",
    "                      \n",
    "                    if cheapest[set1] == -1 or cheapest[set1][2] > w : \n",
    "                        cheapest[set1] = [u, v, w]  \n",
    "  \n",
    "                    if cheapest[set2] == -1 or cheapest[set2][2] > w : \n",
    "                        cheapest[set2] = [u, v, w] \n",
    "  \n",
    "            # Consider the above picked cheapest edges and add them \n",
    "            # to MST \n",
    "            for node in range(self.V) : \n",
    "  \n",
    "                #Check if cheapest for current set exists \n",
    "                if cheapest[node] != -1 : \n",
    "                    u, v, w = cheapest[node] \n",
    "                    set1 = self.find(parent, u) \n",
    "                    set2 = self.find(parent, v) \n",
    "  \n",
    "                    if set1 != set2 : \n",
    "                        MSTweight += w \n",
    "                        self.union(parent, rank, set1, set2) \n",
    "                        e_w_list.append((u + 1, v + 1, w))\n",
    "                        #print(\"Edge %d-%d with weight %d included in MST\" % (u, v, w)) \n",
    "                        numTrees = numTrees - 1\n",
    "              \n",
    "            #reset cheapest array \n",
    "            cheapest = [-1] * self.V \n",
    "  \n",
    "        return e_w_list \n",
    "        print(\"Weight of MST is %d\" % MSTweight)"
   ]
  },
  {
   "cell_type": "code",
   "execution_count": 11,
   "metadata": {},
   "outputs": [],
   "source": [
    "rdd_edge_weight_list2 = rdd_edge_weight_list.map(lambda n: (n[0] - 1, n[1] - 1, n[2]))"
   ]
  },
  {
   "cell_type": "code",
   "execution_count": 12,
   "metadata": {},
   "outputs": [
    {
     "data": {
      "text/plain": [
       "[(0, 1, 0.1111111111111111),\n",
       " (0, 3, 0.08333333333333333),\n",
       " (0, 4, 0.08333333333333333),\n",
       " (1, 2, 0.1111111111111111),\n",
       " (1, 3, 0.08333333333333333),\n",
       " (2, 3, 0.08333333333333333),\n",
       " (2, 4, 0.08333333333333333),\n",
       " (3, 4, 0.0625),\n",
       " (4, 8, 0.05),\n",
       " (5, 8, 0.2),\n",
       " (6, 7, 0.08333333333333333),\n",
       " (6, 8, 0.06666666666666667),\n",
       " (6, 9, 0.06666666666666667),\n",
       " (7, 9, 0.05),\n",
       " (7, 10, 0.05),\n",
       " (7, 14, 0.025),\n",
       " (8, 9, 0.04),\n",
       " (8, 11, 0.04),\n",
       " (9, 10, 0.04),\n",
       " (9, 11, 0.04),\n",
       " (10, 11, 0.04),\n",
       " (10, 13, 0.05),\n",
       " (10, 14, 0.02),\n",
       " (11, 12, 0.06666666666666667),\n",
       " (11, 13, 0.05),\n",
       " (12, 13, 0.08333333333333333),\n",
       " (12, 14, 0.03333333333333333),\n",
       " (13, 14, 0.025),\n",
       " (14, 15, 0.025),\n",
       " (14, 16, 0.025),\n",
       " (14, 17, 0.025),\n",
       " (14, 39, 0.02),\n",
       " (14, 40, 0.03333333333333333),\n",
       " (14, 41, 0.016666666666666666),\n",
       " (15, 16, 0.0625),\n",
       " (15, 18, 0.08333333333333333),\n",
       " (15, 19, 0.041666666666666664),\n",
       " (16, 17, 0.0625),\n",
       " (16, 19, 0.041666666666666664),\n",
       " (17, 19, 0.041666666666666664),\n",
       " (17, 21, 0.05),\n",
       " (18, 19, 0.05555555555555555),\n",
       " (18, 20, 0.05555555555555555),\n",
       " (19, 20, 0.027777777777777776),\n",
       " (19, 21, 0.03333333333333333),\n",
       " (20, 21, 0.03333333333333333),\n",
       " (20, 27, 0.05555555555555555),\n",
       " (20, 35, 0.041666666666666664),\n",
       " (20, 38, 0.041666666666666664),\n",
       " (21, 22, 0.05),\n",
       " (21, 26, 0.05),\n",
       " (22, 23, 0.08333333333333333),\n",
       " (22, 25, 0.0625),\n",
       " (22, 26, 0.0625),\n",
       " (23, 24, 0.1111111111111111),\n",
       " (23, 25, 0.08333333333333333),\n",
       " (24, 25, 0.08333333333333333),\n",
       " (24, 26, 0.08333333333333333),\n",
       " (25, 26, 0.0625),\n",
       " (27, 28, 0.08333333333333333),\n",
       " (27, 29, 0.08333333333333333),\n",
       " (28, 29, 0.0625),\n",
       " (28, 32, 0.08333333333333333),\n",
       " (28, 33, 0.05),\n",
       " (29, 30, 0.08333333333333333),\n",
       " (29, 33, 0.05),\n",
       " (30, 31, 0.1111111111111111),\n",
       " (30, 33, 0.06666666666666667),\n",
       " (31, 32, 0.1111111111111111),\n",
       " (31, 33, 0.06666666666666667),\n",
       " (32, 33, 0.06666666666666667),\n",
       " (34, 35, 0.08333333333333333),\n",
       " (34, 36, 0.08333333333333333),\n",
       " (34, 37, 0.1111111111111111),\n",
       " (35, 36, 0.0625),\n",
       " (35, 38, 0.0625),\n",
       " (36, 37, 0.08333333333333333),\n",
       " (36, 38, 0.0625),\n",
       " (37, 38, 0.08333333333333333),\n",
       " (39, 40, 0.06666666666666667),\n",
       " (39, 41, 0.03333333333333333),\n",
       " (39, 42, 0.04),\n",
       " (39, 43, 0.025),\n",
       " (40, 41, 0.05555555555555555),\n",
       " (41, 42, 0.03333333333333333),\n",
       " (41, 51, 0.041666666666666664),\n",
       " (41, 52, 0.08333333333333333),\n",
       " (42, 43, 0.025),\n",
       " (42, 50, 0.06666666666666667),\n",
       " (42, 51, 0.05),\n",
       " (43, 44, 0.041666666666666664),\n",
       " (43, 46, 0.03125),\n",
       " (43, 47, 0.041666666666666664),\n",
       " (43, 48, 0.0625),\n",
       " (43, 49, 0.0625),\n",
       " (43, 50, 0.041666666666666664),\n",
       " (44, 45, 0.1111111111111111),\n",
       " (44, 46, 0.08333333333333333),\n",
       " (45, 46, 0.08333333333333333),\n",
       " (45, 47, 0.1111111111111111),\n",
       " (46, 47, 0.08333333333333333),\n",
       " (48, 49, 0.25),\n",
       " (50, 51, 0.08333333333333333),\n",
       " (51, 52, 0.125)]"
      ]
     },
     "execution_count": 12,
     "metadata": {},
     "output_type": "execute_result"
    }
   ],
   "source": [
    "rdd_edge_weight_list2.collect()"
   ]
  },
  {
   "cell_type": "code",
   "execution_count": 16,
   "metadata": {},
   "outputs": [],
   "source": [
    "g = Graph(53) \n",
    "for i in rdd_edge_weight_list2.collect() :\n",
    "    g.addEdge(i[0] , i[1], i[2]) \n",
    "e_w_list = g.boruvkaMST() "
   ]
  },
  {
   "cell_type": "code",
   "execution_count": 17,
   "metadata": {},
   "outputs": [
    {
     "name": "stdout",
     "output_type": "stream",
     "text": [
      "[(1, 4, 0.08333333333333333), (2, 4, 0.08333333333333333), (3, 4, 0.08333333333333333), (4, 5, 0.0625), (5, 9, 0.05), (6, 9, 0.2), (7, 9, 0.06666666666666667), (8, 15, 0.025), (9, 10, 0.04), (11, 15, 0.02), (9, 12, 0.04), (13, 15, 0.03333333333333333), (14, 15, 0.025), (15, 42, 0.016666666666666666), (15, 16, 0.025), (15, 17, 0.025), (15, 18, 0.025), (19, 20, 0.05555555555555555), (20, 21, 0.027777777777777776), (20, 22, 0.03333333333333333), (22, 23, 0.05), (23, 24, 0.08333333333333333), (25, 26, 0.08333333333333333), (23, 26, 0.0625), (22, 27, 0.05), (21, 28, 0.05555555555555555), (29, 34, 0.05), (30, 34, 0.05), (31, 34, 0.06666666666666667), (32, 34, 0.06666666666666667), (33, 34, 0.06666666666666667), (35, 36, 0.08333333333333333), (21, 36, 0.041666666666666664), (36, 37, 0.0625), (37, 38, 0.08333333333333333), (21, 39, 0.041666666666666664), (15, 40, 0.02), (15, 41, 0.03333333333333333), (43, 44, 0.025), (40, 44, 0.025), (44, 45, 0.041666666666666664), (46, 47, 0.08333333333333333), (44, 47, 0.03125), (44, 48, 0.041666666666666664), (44, 49, 0.0625), (44, 50, 0.0625), (44, 51, 0.041666666666666664), (42, 52, 0.041666666666666664), (42, 53, 0.08333333333333333), (10, 11, 0.04), (16, 20, 0.041666666666666664), (28, 29, 0.08333333333333333)]\n"
     ]
    }
   ],
   "source": [
    "print(e_w_list)"
   ]
  },
  {
   "cell_type": "code",
   "execution_count": 18,
   "metadata": {},
   "outputs": [
    {
     "data": {
      "text/plain": [
       "[(1, 4, 0.08333333333333333),\n",
       " (2, 4, 0.08333333333333333),\n",
       " (3, 4, 0.08333333333333333),\n",
       " (4, 5, 0.0625),\n",
       " (5, 9, 0.05),\n",
       " (6, 9, 0.2),\n",
       " (7, 9, 0.06666666666666667),\n",
       " (8, 15, 0.025),\n",
       " (9, 10, 0.04),\n",
       " (11, 15, 0.02),\n",
       " (9, 12, 0.04),\n",
       " (13, 15, 0.03333333333333333),\n",
       " (14, 15, 0.025),\n",
       " (15, 42, 0.016666666666666666),\n",
       " (15, 16, 0.025),\n",
       " (15, 17, 0.025),\n",
       " (15, 18, 0.025),\n",
       " (19, 20, 0.05555555555555555),\n",
       " (20, 21, 0.027777777777777776),\n",
       " (20, 22, 0.03333333333333333),\n",
       " (22, 23, 0.05),\n",
       " (23, 24, 0.08333333333333333),\n",
       " (25, 26, 0.08333333333333333),\n",
       " (23, 26, 0.0625),\n",
       " (22, 27, 0.05),\n",
       " (21, 28, 0.05555555555555555),\n",
       " (29, 34, 0.05),\n",
       " (30, 34, 0.05),\n",
       " (31, 34, 0.06666666666666667),\n",
       " (32, 34, 0.06666666666666667),\n",
       " (33, 34, 0.06666666666666667),\n",
       " (35, 36, 0.08333333333333333),\n",
       " (21, 36, 0.041666666666666664),\n",
       " (36, 37, 0.0625),\n",
       " (37, 38, 0.08333333333333333),\n",
       " (21, 39, 0.041666666666666664),\n",
       " (15, 40, 0.02),\n",
       " (15, 41, 0.03333333333333333),\n",
       " (43, 44, 0.025),\n",
       " (40, 44, 0.025),\n",
       " (44, 45, 0.041666666666666664),\n",
       " (46, 47, 0.08333333333333333),\n",
       " (44, 47, 0.03125),\n",
       " (44, 48, 0.041666666666666664),\n",
       " (44, 49, 0.0625),\n",
       " (44, 50, 0.0625),\n",
       " (44, 51, 0.041666666666666664),\n",
       " (42, 52, 0.041666666666666664),\n",
       " (42, 53, 0.08333333333333333),\n",
       " (10, 11, 0.04),\n",
       " (16, 20, 0.041666666666666664),\n",
       " (28, 29, 0.08333333333333333)]"
      ]
     },
     "execution_count": 18,
     "metadata": {},
     "output_type": "execute_result"
    }
   ],
   "source": [
    "e_w_list"
   ]
  },
  {
   "cell_type": "code",
   "execution_count": 19,
   "metadata": {},
   "outputs": [
    {
     "data": {
      "text/plain": [
       "53"
      ]
     },
     "execution_count": 19,
     "metadata": {},
     "output_type": "execute_result"
    }
   ],
   "source": [
    "G_mst = nx.Graph()\n",
    "G_mst.add_weighted_edges_from(e_w_list)\n",
    "G_mst.number_of_nodes()"
   ]
  },
  {
   "cell_type": "code",
   "execution_count": 20,
   "metadata": {},
   "outputs": [
    {
     "data": {
      "image/png": "[encoded data removed]",
      "text/plain": [
       "<Figure size 432x288 with 1 Axes>"
      ]
     },
     "metadata": {},
     "output_type": "display_data"
    }
   ],
   "source": [
    "nx.draw(G_mst, with_labels = True)"
   ]
  },
  {
   "cell_type": "code",
   "execution_count": null,
   "metadata": {},
   "outputs": [],
   "source": []
  },
  {
   "cell_type": "code",
   "execution_count": null,
   "metadata": {},
   "outputs": [],
   "source": []
  }
 ],
 "metadata": {
  "kernelspec": {
   "display_name": "Spark 3 in Python 3 (3.8)",
   "language": "python",
   "name": "pyspark3"
  },
  "language_info": {
   "codemirror_mode": {
    "name": "ipython",
    "version": 3
   },
   "file_extension": ".py",
   "mimetype": "text/x-python",
   "name": "python",
   "nbconvert_exporter": "python",
   "pygments_lexer": "ipython3",
   "version": "3.8.2"
  }
 },
 "nbformat": 4,
 "nbformat_minor": 4
}
