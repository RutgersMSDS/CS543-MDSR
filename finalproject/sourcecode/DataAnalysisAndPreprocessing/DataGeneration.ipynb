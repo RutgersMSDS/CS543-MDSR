{
 "cells": [
  {
   "cell_type": "code",
   "execution_count": 1,
   "metadata": {},
   "outputs": [],
   "source": [
    "import random\n",
    "import time\n",
    "import pickle\n",
    "\n",
    "from itertools import islice\n",
    "from shutil import copyfile\n",
    "\n",
    "import numpy as np\n",
    "import pandas as pd\n",
    "from astropy.io import fits\n",
    "from astropy.table import Table"
   ]
  },
  {
   "cell_type": "code",
   "execution_count": 2,
   "metadata": {},
   "outputs": [],
   "source": [
    "batchsize = 10000\n",
    "\n",
    "from_batch_file_folder =  \"/common/home/milky-way/\"\n",
    "\n",
    "to_batch_file_folder_source =  \"/common/home/milky-way/temp1/\"\n",
    "\n",
    "to_batch_file_folder_dest =  \"/common/home/milky-way/temp2/\""
   ]
  },
  {
   "cell_type": "code",
   "execution_count": 3,
   "metadata": {},
   "outputs": [
    {
     "name": "stdout",
     "output_type": "stream",
     "text": [
      "File ready!!!\n"
     ]
    }
   ],
   "source": [
    "# to copy batch files to tempfolder\n",
    "all_batch_files = os.listdir(to_batch_file_folder_source)\n",
    "all_batch_files = sorted(all_batch_files)\n",
    "\n",
    "temp_filenames = []\n",
    "\n",
    "for from_batch_filename in all_batch_files :\n",
    "    try : \n",
    "        copyfile(to_batch_file_folder_source + from_batch_filename,\n",
    "                     to_batch_file_folder_dest + from_batch_filename)\n",
    "        temp_filenames.append(to_batch_file_folder_dest + from_batch_filename)\n",
    "        time.sleep(1)\n",
    "            \n",
    "    except :\n",
    "        pass\n",
    "    \n",
    "\n",
    "print(\"File ready!!!\")"
   ]
  },
  {
   "cell_type": "code",
   "execution_count": 4,
   "metadata": {},
   "outputs": [],
   "source": [
    "def next_n_lines_def(file_opened, N):\n",
    "    return [x for x in islice(file_opened, N)]"
   ]
  },
  {
   "cell_type": "code",
   "execution_count": 5,
   "metadata": {
    "scrolled": true
   },
   "outputs": [],
   "source": [
    "# to create batch files\n",
    "all_files = os.listdir(from_batch_file_folder)\n",
    "\n",
    "fits_files = filter(lambda x: x[-5:] == \".fits\", all_files)\n",
    "\n",
    "batch_counter = 0\n",
    "for from_batch_filename in fits_files :\n",
    "    try :\n",
    "        f2 = from_batch_file_folder + from_batch_filename\n",
    "        t = Table.read(f2)\n",
    "        \n",
    "        df = t.to_pandas()\n",
    "        df = df[[\"SOURCEID\", \"RA2000\", \"DEC2000\", \"L\", \"B\", \"J\", \"K\"]]\n",
    "        \n",
    "        tile = str(df[\"SOURCEID\"][0])[:3]\n",
    "        \n",
    "        #batchfile = open(to_batch_file_folder_source+str(tile)+\"_\"+str(batch_counter)+\".txt\", \"w\", newline='')\n",
    "        \n",
    "        \n",
    "        start_line = 0\n",
    "        end_line = start_line + batchsize\n",
    "        number_of_lines = len(df)\n",
    "        \n",
    "        while number_of_lines > 0:\n",
    "            batch_counter += 1\n",
    "            batch_file_name = to_batch_file_folder_source+str(tile)+\"_\"+str(batch_counter)+\".csv\"\n",
    "\n",
    "            df.iloc[start_line : end_line].to_csv(batch_file_name)\n",
    "            \n",
    "            #time.sleep(3)\n",
    "            \n",
    "            number_of_lines -= batchsize\n",
    "            start_line += batchsize\n",
    "            end_line += batchsize\n",
    "            \n",
    "            print(batch_file_name)\n",
    "        \n",
    "    except Exception as e:\n",
    "        print(e)"
   ]
  },
  {
   "cell_type": "code",
   "execution_count": null,
   "metadata": {},
   "outputs": [],
   "source": [
    "# clear temp folder\n",
    "if len(temp_filenames) > 30:\n",
    "    filename_to_delete = temp_filenames.pop(0)\n",
    "\n",
    "    if os.path.exists(filename_to_delete):\n",
    "        os.remove(filename_to_delete)\n",
    "    else:\n",
    "        print(\"The file does not exist:\", filename_to_delete)\n"
   ]
  }
 ],
 "metadata": {
  "kernelspec": {
   "display_name": "Spark 3 in Python 3",
   "language": "python",
   "name": "pyspark3"
  },
  "language_info": {
   "codemirror_mode": {
    "name": "ipython",
    "version": 3
   },
   "file_extension": ".py",
   "mimetype": "text/x-python",
   "name": "python",
   "nbconvert_exporter": "python",
   "pygments_lexer": "ipython3",
   "version": "3.8.2"
  }
 },
 "nbformat": 4,
 "nbformat_minor": 4
}