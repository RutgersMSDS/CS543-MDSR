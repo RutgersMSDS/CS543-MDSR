{
 "cells": [
  {
   "cell_type": "code",
   "execution_count": 1,
   "metadata": {
    "ExecuteTime": {
     "end_time": "2020-11-24T23:10:01.757493Z",
     "start_time": "2020-11-24T23:09:59.990171Z"
    }
   },
   "outputs": [],
   "source": [
    "import os\n",
    "import json\n",
    "import time\n",
    "import pickle\n",
    "import random \n",
    "import networkx as nx\n",
    "\n",
    "import matplotlib\n",
    "import matplotlib.pyplot as plt\n",
    "\n",
    "from matplotlib import cm\n",
    "from matplotlib.colors import ListedColormap, LinearSegmentedColormap"
   ]
  },
  {
   "cell_type": "code",
   "execution_count": 2,
   "metadata": {
    "ExecuteTime": {
     "end_time": "2020-11-24T23:10:02.797151Z",
     "start_time": "2020-11-24T23:10:02.791761Z"
    },
    "scrolled": true
   },
   "outputs": [],
   "source": [
    "def plot_graph(g):\n",
    "    plt.clf()\n",
    "    plt.figure(3,figsize=(10,6))\n",
    "    nx.draw_kamada_kawai(g, with_labels = True)"
   ]
  },
  {
   "cell_type": "code",
   "execution_count": 3,
   "metadata": {
    "ExecuteTime": {
     "end_time": "2020-11-24T23:10:05.012806Z",
     "start_time": "2020-11-24T23:10:04.996793Z"
    },
    "code_folding": [
     1
    ],
    "run_control": {
     "marked": false
    },
    "scrolled": true
   },
   "outputs": [],
   "source": [
    "# computing max peel value for the input graph\n",
    "def getMaxPeelValueVis(G, name=\"new\"):\n",
    "    \n",
    "    G_copy = G.copy()\n",
    "\n",
    "    iteration = 0\n",
    "    peel_value = 0\n",
    "    degrees = [val for (node, val) in G_copy.degree()]\n",
    "\n",
    "    plt.figure(figsize = (35, 45))\n",
    "\n",
    "    while len(G_copy.nodes) > 0:\n",
    "        iteration += 1\n",
    "        fringe = G_copy.nodes\n",
    "        fringe_degrees = [val for (node, val) in G_copy.degree()]\n",
    "\n",
    "        # pick the vertices of minimum degree \n",
    "        min_degree = min(fringe_degrees)\n",
    "        peel_value = max(peel_value, min_degree)\n",
    "        min_degree_nodes = [node for index, node in enumerate(fringe) if G_copy.degree(node) == min_degree]\n",
    "\n",
    "        plt.subplot(920+iteration)\n",
    "        plt.title(\"-----Iteration :\" + str(iteration) +\n",
    "                  \"------\\nMin degree = \" + str(min_degree) +\n",
    "                  \" \\nMin degree Indices = {\" + str(min_degree_nodes) +\n",
    "                  \"} \\nPeel Value = \" + str(peel_value))\n",
    "\n",
    "        nx.draw_kamada_kawai(G_copy, with_labels = True)\n",
    "\n",
    "        # remove the min degree vertices from fringe\n",
    "        for node in min_degree_nodes:\n",
    "            G_copy.remove_node(node)\n",
    "    \n",
    "    plt.savefig(\"peelvalue/PeelValue-\"+ name + str(iteration) +\".png\", format=\"PNG\")\n",
    "    plt.clf()\n",
    "    return peel_value"
   ]
  },
  {
   "cell_type": "code",
   "execution_count": 4,
   "metadata": {
    "ExecuteTime": {
     "end_time": "2020-11-24T23:34:10.569137Z",
     "start_time": "2020-11-24T23:34:10.539524Z"
    },
    "code_folding": []
   },
   "outputs": [],
   "source": [
    "def getWaveVis(G, S0, P, name=\"1\"):\n",
    "    G_copy = G.copy()\n",
    "    \n",
    "    iteration = 0\n",
    "    print(\"S 0 : \", S0)\n",
    "    \n",
    "    S = []\n",
    "    edges_within_frag = []\n",
    "    edge_fragments = []\n",
    "\n",
    "    plt.figure(figsize = (20, 10))\n",
    "    plt.set_cmap(\"viridis\")\n",
    "    \n",
    "    G_wave = nx.Graph()\n",
    "    while len(S0) > 0:\n",
    "        iteration += 1\n",
    "        S.append(S0)\n",
    "        \n",
    "        S1 = set()\n",
    "        b_edges = []\n",
    "        f_edges = []\n",
    "        G_wave.add_nodes_from(S0)\n",
    "        \n",
    "        # Remove the Frag of S0 in G\n",
    "        for node in S0:\n",
    "            \n",
    "            # E(G[S0])\n",
    "            for node1 in S0:\n",
    "                if (node1 in G_copy and \n",
    "                    node1 != node and \n",
    "                    (node1, node) in G_copy.edges() and\n",
    "                    (node1, node) not in f_edges and\n",
    "                    (node, node1) not in f_edges):\n",
    "                    \n",
    "                    G_copy.remove_edge(node, node1)\n",
    "                    f_edges.append((node, node1))\n",
    "            \n",
    "            # BE(G[S0])\n",
    "            for neighbor in E[node]:\n",
    "                if node in G_copy and neighbor in G_copy:\n",
    "                    \n",
    "                    if neighbor not in S0:\n",
    "                        S1.add(neighbor)\n",
    "                        b_edges.append((node, neighbor))\n",
    "                    \n",
    "                    if (node, neighbor) in G_copy.edges():\n",
    "                        G_copy.remove_edge(node, neighbor)\n",
    "\n",
    "                    if(G_copy.degree(node) == 0):\n",
    "                        G_copy.remove_node(node)\n",
    "\n",
    "                    if(G_copy.degree(neighbor) == 0):\n",
    "                        G_copy.remove_node(neighbor)\n",
    "                        \n",
    "                    elif(G_copy.degree(neighbor) > P):\n",
    "                        S1.discard(neighbor)\n",
    "        \n",
    "            \n",
    "        print(\"Boundary edges:\", b_edges)       \n",
    "        print(\"S\", iteration, \":\", S1)\n",
    "        S0 = S1\n",
    "        edges_within_frag.append(f_edges)\n",
    "        if len(b_edges) > 0 and len(S0) > 0:\n",
    "            edge_fragments.append(b_edges + f_edges)\n",
    "            G_wave.add_edges_from(b_edges + f_edges)\n",
    "            \n",
    "    \n",
    "    # Plot Wave\n",
    "    if(len(G_wave.nodes()) > 0):\n",
    "        plot_wave(name, G_wave, S, edges_within_frag, iteration)\n",
    "    else:\n",
    "        print(\"No nodes to plot in graph wave.\")\n",
    "        \n",
    "        \n",
    "    # Plot leftover G\n",
    "    if(len(G_copy.nodes()) > 0):\n",
    "        plot_graph(G_copy)\n",
    "    else:\n",
    "        print(\"No nodes to plot in leftover graph.\")\n",
    "    \n",
    "    return [S, edge_fragments, G_wave, G_copy]\n",
    "\n",
    "\n",
    "def plot_wave(name, G_wave, S, edges_within_frag, iteration):\n",
    "    plt.title(\"-----Wave :\" + name + \"------\\n\")\n",
    "    \n",
    "    pos = nx.kamada_kawai_layout(G_wave, scale=0.5)\n",
    "    viridis = cm.get_cmap('viridis', 12)\n",
    "    for index in range(len(S)):\n",
    "        #print(\"Ps: \", pos)\n",
    "        new_pos = {key: pos[key] + [0, index*2] for key in pos}\n",
    "        #print(\"Ps new: \", new_pos)\n",
    "        \n",
    "        edge_list = edges_within_frag[index] if index < len(edges_within_frag) else None\n",
    "        new_color_map = [viridis(index * 0.3)] * len(S[index])\n",
    "        \n",
    "        nx.draw_networkx(G_wave,\n",
    "                         new_pos,\n",
    "                         with_labels = True,\n",
    "                         font_color=\"white\",\n",
    "                         set_cmap=\"viridis\",\n",
    "                         nodelist=S[index],\n",
    "                         edgelist=edge_list,\n",
    "                         node_color=new_color_map)\n",
    "    \n",
    "    plt.savefig(\"waves/Wave-\"+ name + str(iteration) +\".png\", format=\"PNG\")"
   ]
  },
  {
   "cell_type": "code",
   "execution_count": 5,
   "metadata": {},
   "outputs": [],
   "source": [
    "def getGraphWithPeelValue(G, peelValue) : \n",
    "    G_core = G.copy()\n",
    "    while True :\n",
    "        for d in list(G_core.degree()) :\n",
    "            if d[1] < peelValue :\n",
    "                G_core.remove_node(d[0])\n",
    "        if sorted(G_core.degree, key = lambda x: x[1])[0][1] >= peelValue : \n",
    "            return G_core"
   ]
  },
  {
   "cell_type": "code",
   "execution_count": 6,
   "metadata": {},
   "outputs": [],
   "source": [
    "# computing max peel value for the input graph without visualization\n",
    "def getMaxPeelValue(G):\n",
    "    \n",
    "    G_copy = G.copy()\n",
    "\n",
    "    iteration = 0\n",
    "    peel_value = 0\n",
    "    degrees = [val for (node, val) in G_copy.degree()]\n",
    "\n",
    "    while len(G_copy.nodes) > 0:\n",
    "        iteration += 1\n",
    "        fringe = G_copy.nodes\n",
    "        fringe_degrees = [val for (node, val) in G_copy.degree()]\n",
    "\n",
    "        # pick the vertices of minimum degree \n",
    "        min_degree = min(fringe_degrees)\n",
    "        peel_value = max(peel_value, min_degree)\n",
    "        min_degree_nodes = [node for index, node in enumerate(fringe) if G_copy.degree(node) == min_degree]\n",
    "\n",
    "        # remove the min degree vertices from fringe\n",
    "        for node in min_degree_nodes:\n",
    "            G_copy.remove_node(node)\n",
    "\n",
    "    return peel_value"
   ]
  },
  {
   "cell_type": "code",
   "execution_count": 7,
   "metadata": {},
   "outputs": [],
   "source": [
    "# Seed set generation for graph waves\n",
    "def getRandomVerticesWithPeelValue(G, n, P) :\n",
    "    node_list = set()\n",
    "    \n",
    "    if len(G.nodes()) == 0 : # if there is no nodes left\n",
    "        return []\n",
    "    \n",
    "    v = [] # possible vertices \n",
    "    for d in list(G.degree()) :\n",
    "        if d[1] <= P :\n",
    "            v.append(d[0])\n",
    "            \n",
    "    if len(v) <= n : # if the number of nodes left is equal or less than n, return all satisfied nodes\n",
    "        return v\n",
    "        \n",
    "    while True : # randomly pick n nodes\n",
    "        node_list.add(random.choice(v))\n",
    "        if len(node_list) == n :\n",
    "            return list(node_list)"
   ]
  },
  {
   "cell_type": "code",
   "execution_count": 8,
   "metadata": {},
   "outputs": [],
   "source": [
    "# getWave without visualization\n",
    "def getWave2(G, S0, P):\n",
    "    G_copy = G.copy()\n",
    "    \n",
    "    S = []\n",
    "    edges_within_frag = []\n",
    "    edge_fragments = []\n",
    "    \n",
    "    G_wave = nx.Graph()\n",
    "    while len(S0) > 0:\n",
    "        S.append(list(S0))\n",
    "        \n",
    "        S1 = set()\n",
    "        b_edges = []\n",
    "        f_edges = []\n",
    "        G_wave.add_nodes_from(S0)\n",
    "        \n",
    "        # Remove the Frag of S0 in G\n",
    "        for node in S0:\n",
    "            \n",
    "            # E(G[S0])\n",
    "            for node1 in S0:\n",
    "                if (node1 in G_copy and \n",
    "                    node1 != node and \n",
    "                    (node1, node) in G_copy.edges() and\n",
    "                    (node1, node) not in f_edges and\n",
    "                    (node, node1) not in f_edges):\n",
    "                    \n",
    "                    G_copy.remove_edge(node, node1)\n",
    "                    f_edges.append((node, node1))\n",
    "            \n",
    "            # BE(G[S0])\n",
    "            for neighbor in G.neighbors(node):\n",
    "                if node in G_copy and neighbor in G_copy:\n",
    "                    \n",
    "                    if neighbor not in S0:\n",
    "                        S1.add(neighbor)\n",
    "                        b_edges.append((node, neighbor))\n",
    "                    \n",
    "                    if (node, neighbor) in G_copy.edges():\n",
    "                        G_copy.remove_edge(node, neighbor)\n",
    "\n",
    "                    if(G_copy.degree(node) == 0):\n",
    "                        G_copy.remove_node(node)\n",
    "\n",
    "                    if(G_copy.degree(neighbor) == 0):\n",
    "                        G_copy.remove_node(neighbor)\n",
    "                        \n",
    "                    elif(G_copy.degree(neighbor) > P):\n",
    "                        S1.discard(neighbor)\n",
    "                        \n",
    "            \n",
    "            # remove independent vertices\n",
    "            if node in G_copy:\n",
    "                G_copy.remove_node(node)\n",
    "        \n",
    "        # print(\"Wave: \", S0, \" : \", S1, \"\\n--------------\")\n",
    "        S0 = S1\n",
    "        \n",
    "        edges_within_frag.append(f_edges)\n",
    "        if len(b_edges) > 0 and len(S0) > 0:\n",
    "            edge_fragments.append(b_edges + f_edges)\n",
    "            G_wave.add_edges_from(b_edges + f_edges)\n",
    "\n",
    "    return [G_wave, G_copy, S]"
   ]
  },
  {
   "cell_type": "code",
   "execution_count": 9,
   "metadata": {},
   "outputs": [],
   "source": [
    "# getWave2(G,  [8, 13, 16, 19, 21], 4)"
   ]
  },
  {
   "cell_type": "code",
   "execution_count": 10,
   "metadata": {},
   "outputs": [],
   "source": [
    "def getBuilding(G, P) :\n",
    "    G_copy = G.copy()\n",
    "    building = []\n",
    "    \n",
    "    counter_key = 1\n",
    "    while True :\n",
    "        S0 = getRandomVerticesWithPeelValue(G_copy, 5, P)\n",
    "        \n",
    "        if len(S0) == 0: \n",
    "            break\n",
    "        \n",
    "        wave, leftover_G, fragments = getWave2(G_copy, S0, P)\n",
    "        # print(\"Building: \", wave.nodes(), \" : \",leftover_G.nodes(), \" : \", fragments, \"\\n--------------\")\n",
    "        if len(wave.nodes()) == 0 or len(fragments) == 0 : \n",
    "            break\n",
    "        \n",
    "        building.append({\"nodes\": list(wave.nodes()), \"edges\": list(wave.edges()), \"fragments\": fragments}) # add edges into building\n",
    "        counter_key += 1\n",
    "        \n",
    "        G_copy = leftover_G\n",
    "    \n",
    "    return [building, G_copy]"
   ]
  },
  {
   "cell_type": "code",
   "execution_count": 11,
   "metadata": {
    "scrolled": true
   },
   "outputs": [],
   "source": [
    "# getBuilding(G, 4)"
   ]
  },
  {
   "cell_type": "code",
   "execution_count": 12,
   "metadata": {},
   "outputs": [],
   "source": [
    "def getCity(G) :\n",
    "    city = []\n",
    "    G_copy = G.copy()\n",
    "    \n",
    "    while True :\n",
    "        if G_copy.number_of_nodes() == 0 :\n",
    "            break\n",
    "        \n",
    "        peelValue = getMaxPeelValue(G_copy)\n",
    "        building, leftover_g = getBuilding(G_copy, peelValue)\n",
    "        \n",
    "        city.append(building)\n",
    "        # print(\"City: \", city, \"\\n\\n---------------\")\n",
    "        \n",
    "        G_copy = leftover_g\n",
    "    \n",
    "    return city"
   ]
  },
  {
   "cell_type": "code",
   "execution_count": 13,
   "metadata": {
    "scrolled": true
   },
   "outputs": [],
   "source": [
    "# getCity(G)"
   ]
  },
  {
   "cell_type": "code",
   "execution_count": 14,
   "metadata": {
    "scrolled": true
   },
   "outputs": [],
   "source": [
    "input_folder = \"/common/home/milky-way/temp/\"\n",
    "\n",
    "output_text_folder = \"/common/home/milky-way/new_graph_cities/cities/h\"\n",
    "output_image_folder = \"/common/home/milky-way/new_graph_cities/graphs/h\"\n",
    "\n",
    "def save_graph(g, filename):\n",
    "    \n",
    "    print(\"Saving image \"+ filename + \" ...\")\n",
    "    fig = plt.figure(figsize=(15, 15))\n",
    "    \n",
    "    ax = fig.add_subplot(111)\n",
    "    \n",
    "    nx.draw_kamada_kawai(g, with_labels = False, node_size=50,\n",
    "                         node_shape='*', node_color=\"gold\", edge_color='crimson',\n",
    "                         alpha=1, cmap=cm.get_cmap(\"Wistia\", 10))\n",
    "\n",
    "    plt.savefig(output_image_folder + filename + \".png\", format=\"PNG\", transparent=True)\n",
    "    #facecolor=\"#0c055a\", edgecolor='none')\n",
    "    plt.clf()\n",
    "    print(\"Saved image: \" + output_image_folder + filename + \".png\")\n",
    "\n",
    "\n",
    "def save_city_as_file(city, filename):\n",
    "    print(\"Saving file \"+ filename + \" ...\")\n",
    "    with open(output_text_folder + filename + \".txt\", 'w') as file:\n",
    "         json.dump(city, file)\n",
    "    \n",
    "    print(\"Saved JSON: \" + output_text_folder + filename + \".txt\\n\\n\")\n",
    "\n",
    "\n",
    "def build_star_tile_city(u, v, stars_tile_batch):\n",
    "        star_u = int(u[1])\n",
    "        star_v = int(v[1])\n",
    "\n",
    "        if(not stars_tile_batch.has_node(star_u)):\n",
    "            stars_tile_batch.add_node(star_u, info=u)\n",
    "\n",
    "        if(not stars_tile_batch.has_node(star_v)):\n",
    "            stars_tile_batch.add_node(star_v, info=v)\n",
    "\n",
    "        if(not stars_tile_batch.has_edge(star_u, star_v)):\n",
    "            stars_tile_batch.add_edge(star_u, star_v)\n",
    "            \n",
    "            \n",
    "def processStar(from_batch_filename):\n",
    "    print(\"Processing: \", from_batch_filename)\n",
    "    \n",
    "    with open(input_folder + from_batch_filename) as f:\n",
    "                stars_tile_batch = nx.Graph()\n",
    "                \n",
    "                for s in f:\n",
    "                    u, v = [list(float(i) for i in el.strip('[]').split(', ')) for el in s.strip('()\\n').split('], [')]\n",
    "                    build_star_tile_city(u, v, stars_tile_batch)\n",
    "\n",
    "                    \n",
    "                \n",
    "                star_tile_number = str(list(stars_tile_batch.nodes())[0])[: 3]\n",
    "                \n",
    "                \n",
    "                    \n",
    "                filename = star_tile_number + \"_errored\" \n",
    "                save_graph(stars_tile_batch, filename)\n",
    "                \n",
    "                cityJSON = {}\n",
    "                cityJSON[\"data\"] = getCity(stars_tile_batch)\n",
    "                cityJSON[\"input_file\"] = from_batch_filename\n",
    "                \n",
    "                \n",
    "                save_city_as_file(cityJSON, filename)\n",
    "              \n",
    "                \n",
    "def processAllStarTiles(folderpath):\n",
    "    all_batch_files = os.listdir(folderpath)\n",
    "    all_batch_files = sorted(all_batch_files)[: 1094]\n",
    "\n",
    "    star_tile_counter = {}\n",
    "    star_tile_number = None\n",
    "    \n",
    "    \n",
    "    for from_batch_filename in all_batch_files :\n",
    "        try :\n",
    "            with open(input_folder + from_batch_filename) as f:\n",
    "                stars_tile_batch = nx.Graph()\n",
    "                print(\"Processing: \", from_batch_filename)\n",
    "                \n",
    "                for s in f:\n",
    "                    u, v = [list(float(i) for i in el.strip('[]').split(', ')) for el in s.strip('()\\n').split('], [')]\n",
    "                    build_star_tile_city(u, v, stars_tile_batch)\n",
    "\n",
    "                    \n",
    "                counter = 1\n",
    "                star_tile_number = str(list(stars_tile_batch.nodes())[0])[: 3]\n",
    "#                 print(star_tile_counter)\n",
    "                if star_tile_number in star_tile_counter:\n",
    "                    counter = star_tile_counter[star_tile_number] + 1\n",
    "                    star_tile_counter[star_tile_number] = counter\n",
    "                else:\n",
    "                    star_tile_counter[star_tile_number] = counter\n",
    "                    \n",
    "                filename = star_tile_number + \"_\" + str(counter)\n",
    "                \n",
    "#                 print(filename)\n",
    "#                 print(star_tile_counter)\n",
    "                \n",
    "#                 time.sleep(10)\n",
    "                save_graph(stars_tile_batch, filename)\n",
    "                \n",
    "                \n",
    "                \n",
    "                cityJSON = {}\n",
    "                cityJSON[\"data\"] = getCity(stars_tile_batch)\n",
    "                cityJSON[\"input_file\"] = from_batch_filename\n",
    "                \n",
    "                \n",
    "                save_city_as_file(cityJSON, filename)\n",
    "        \n",
    "        except Exception as e:\n",
    "            print(\"Got exception: \", e.with_traceback())\n",
    "\n",
    "        finally:\n",
    "            save_city_as_file(star_tile_counter, \"Day10_Harshini\")\n"
   ]
  },
  {
   "cell_type": "code",
   "execution_count": 15,
   "metadata": {
    "scrolled": true
   },
   "outputs": [
    {
     "name": "stdout",
     "output_type": "stream",
     "text": [
      "Processing:  2020-12-12 04:58:34.txt\n",
      "Saving image 201_1 ...\n",
      "Saved image: /common/home/milky-way/new_graph_cities/graphs/h201_1.png\n",
      "Saving file 201_1 ...\n",
      "Saved JSON: /common/home/milky-way/new_graph_cities/cities/h201_1.txt\n",
      "\n",
      "\n",
      "Saving file Day10_Harshini ...\n",
      "Saved JSON: /common/home/milky-way/new_graph_cities/cities/hDay10_Harshini.txt\n",
      "\n",
      "\n",
      "Processing:  2020-12-12 04:58:35.txt\n",
      "Saving image 201_2 ...\n",
      "Saved image: /common/home/milky-way/new_graph_cities/graphs/h201_2.png\n",
      "Saving file 201_2 ...\n",
      "Saved JSON: /common/home/milky-way/new_graph_cities/cities/h201_2.txt\n",
      "\n",
      "\n",
      "Saving file Day10_Harshini ...\n",
      "Saved JSON: /common/home/milky-way/new_graph_cities/cities/hDay10_Harshini.txt\n",
      "\n",
      "\n",
      "Processing:  2020-12-12 04:58:36.txt\n",
      "Saving image 201_3 ...\n",
      "Saved image: /common/home/milky-way/new_graph_cities/graphs/h201_3.png\n",
      "Saving file 201_3 ...\n",
      "Saved JSON: /common/home/milky-way/new_graph_cities/cities/h201_3.txt\n",
      "\n",
      "\n",
      "Saving file Day10_Harshini ...\n",
      "Saved JSON: /common/home/milky-way/new_graph_cities/cities/hDay10_Harshini.txt\n",
      "\n",
      "\n",
      "Processing:  2020-12-12 04:58:37.txt\n",
      "Saving image 201_4 ...\n",
      "Saved image: /common/home/milky-way/new_graph_cities/graphs/h201_4.png\n",
      "Saving file 201_4 ...\n",
      "Saved JSON: /common/home/milky-way/new_graph_cities/cities/h201_4.txt\n",
      "\n",
      "\n",
      "Saving file Day10_Harshini ...\n",
      "Saved JSON: /common/home/milky-way/new_graph_cities/cities/hDay10_Harshini.txt\n",
      "\n",
      "\n",
      "Processing:  2020-12-12 04:58:38.txt\n",
      "Saving image 201_5 ...\n",
      "Saved image: /common/home/milky-way/new_graph_cities/graphs/h201_5.png\n",
      "Saving file 201_5 ...\n",
      "Saved JSON: /common/home/milky-way/new_graph_cities/cities/h201_5.txt\n",
      "\n",
      "\n",
      "Saving file Day10_Harshini ...\n",
      "Saved JSON: /common/home/milky-way/new_graph_cities/cities/hDay10_Harshini.txt\n",
      "\n",
      "\n",
      "Processing:  2020-12-12 04:58:39.txt\n",
      "Saving image 201_6 ...\n",
      "Saved image: /common/home/milky-way/new_graph_cities/graphs/h201_6.png\n",
      "Saving file 201_6 ...\n",
      "Saved JSON: /common/home/milky-way/new_graph_cities/cities/h201_6.txt\n",
      "\n",
      "\n",
      "Saving file Day10_Harshini ...\n",
      "Saved JSON: /common/home/milky-way/new_graph_cities/cities/hDay10_Harshini.txt\n",
      "\n",
      "\n",
      "Processing:  2020-12-12 04:58:40.txt\n",
      "Saving image 201_7 ...\n",
      "Saved image: /common/home/milky-way/new_graph_cities/graphs/h201_7.png\n",
      "Saving file 201_7 ...\n",
      "Saved JSON: /common/home/milky-way/new_graph_cities/cities/h201_7.txt\n",
      "\n",
      "\n",
      "Saving file Day10_Harshini ...\n",
      "Saved JSON: /common/home/milky-way/new_graph_cities/cities/hDay10_Harshini.txt\n",
      "\n",
      "\n",
      "Processing:  2020-12-12 04:58:41.txt\n",
      "Saving image 201_8 ...\n",
      "Saved image: /common/home/milky-way/new_graph_cities/graphs/h201_8.png\n",
      "Saving file 201_8 ...\n",
      "Saved JSON: /common/home/milky-way/new_graph_cities/cities/h201_8.txt\n",
      "\n",
      "\n",
      "Saving file Day10_Harshini ...\n",
      "Saved JSON: /common/home/milky-way/new_graph_cities/cities/hDay10_Harshini.txt\n",
      "\n",
      "\n",
      "Processing:  2020-12-12 04:58:42.txt\n",
      "Saving image 201_9 ...\n",
      "Saved image: /common/home/milky-way/new_graph_cities/graphs/h201_9.png\n",
      "Saving file 201_9 ...\n",
      "Saved JSON: /common/home/milky-way/new_graph_cities/cities/h201_9.txt\n",
      "\n",
      "\n",
      "Saving file Day10_Harshini ...\n",
      "Saved JSON: /common/home/milky-way/new_graph_cities/cities/hDay10_Harshini.txt\n",
      "\n",
      "\n",
      "Processing:  2020-12-12 04:58:43.txt\n",
      "Saving image 201_10 ...\n",
      "Saved image: /common/home/milky-way/new_graph_cities/graphs/h201_10.png\n",
      "Saving file 201_10 ...\n",
      "Saved JSON: /common/home/milky-way/new_graph_cities/cities/h201_10.txt\n",
      "\n",
      "\n",
      "Saving file Day10_Harshini ...\n",
      "Saved JSON: /common/home/milky-way/new_graph_cities/cities/hDay10_Harshini.txt\n",
      "\n",
      "\n",
      "Processing:  2020-12-12 04:58:44.txt\n",
      "Saving image 201_11 ...\n",
      "Saved image: /common/home/milky-way/new_graph_cities/graphs/h201_11.png\n",
      "Saving file 201_11 ...\n",
      "Saved JSON: /common/home/milky-way/new_graph_cities/cities/h201_11.txt\n",
      "\n",
      "\n",
      "Saving file Day10_Harshini ...\n",
      "Saved JSON: /common/home/milky-way/new_graph_cities/cities/hDay10_Harshini.txt\n",
      "\n",
      "\n",
      "Processing:  2020-12-12 04:58:45.txt\n",
      "Saving image 201_12 ...\n",
      "Saved image: /common/home/milky-way/new_graph_cities/graphs/h201_12.png\n",
      "Saving file 201_12 ...\n",
      "Saved JSON: /common/home/milky-way/new_graph_cities/cities/h201_12.txt\n",
      "\n",
      "\n",
      "Saving file Day10_Harshini ...\n",
      "Saved JSON: /common/home/milky-way/new_graph_cities/cities/hDay10_Harshini.txt\n",
      "\n",
      "\n",
      "Processing:  2020-12-12 04:58:46.txt\n",
      "Saving image 201_13 ...\n",
      "Saved image: /common/home/milky-way/new_graph_cities/graphs/h201_13.png\n",
      "Saving file 201_13 ...\n",
      "Saved JSON: /common/home/milky-way/new_graph_cities/cities/h201_13.txt\n",
      "\n",
      "\n",
      "Saving file Day10_Harshini ...\n",
      "Saved JSON: /common/home/milky-way/new_graph_cities/cities/hDay10_Harshini.txt\n",
      "\n",
      "\n",
      "Processing:  2020-12-12 04:58:47.txt\n",
      "Saving image 201_14 ...\n",
      "Saved image: /common/home/milky-way/new_graph_cities/graphs/h201_14.png\n",
      "Saving file 201_14 ...\n",
      "Saved JSON: /common/home/milky-way/new_graph_cities/cities/h201_14.txt\n",
      "\n",
      "\n",
      "Saving file Day10_Harshini ...\n",
      "Saved JSON: /common/home/milky-way/new_graph_cities/cities/hDay10_Harshini.txt\n",
      "\n",
      "\n",
      "Processing:  2020-12-12 04:58:48.txt\n",
      "Saving image 201_15 ...\n",
      "Saved image: /common/home/milky-way/new_graph_cities/graphs/h201_15.png\n",
      "Saving file 201_15 ...\n",
      "Saved JSON: /common/home/milky-way/new_graph_cities/cities/h201_15.txt\n",
      "\n",
      "\n",
      "Saving file Day10_Harshini ...\n",
      "Saved JSON: /common/home/milky-way/new_graph_cities/cities/hDay10_Harshini.txt\n",
      "\n",
      "\n",
      "Processing:  2020-12-12 04:58:49.txt\n",
      "Saving image 201_16 ...\n",
      "Saved image: /common/home/milky-way/new_graph_cities/graphs/h201_16.png\n",
      "Saving file 201_16 ...\n",
      "Saved JSON: /common/home/milky-way/new_graph_cities/cities/h201_16.txt\n",
      "\n",
      "\n",
      "Saving file Day10_Harshini ...\n",
      "Saved JSON: /common/home/milky-way/new_graph_cities/cities/hDay10_Harshini.txt\n",
      "\n",
      "\n",
      "Processing:  2020-12-12 04:58:50.txt\n",
      "Saving image 201_17 ...\n",
      "Saved image: /common/home/milky-way/new_graph_cities/graphs/h201_17.png\n",
      "Saving file 201_17 ...\n",
      "Saved JSON: /common/home/milky-way/new_graph_cities/cities/h201_17.txt\n",
      "\n",
      "\n",
      "Saving file Day10_Harshini ...\n",
      "Saved JSON: /common/home/milky-way/new_graph_cities/cities/hDay10_Harshini.txt\n",
      "\n",
      "\n",
      "Processing:  2020-12-12 04:58:51.txt\n",
      "Saving image 201_18 ...\n",
      "Saved image: /common/home/milky-way/new_graph_cities/graphs/h201_18.png\n",
      "Saving file 201_18 ...\n",
      "Saved JSON: /common/home/milky-way/new_graph_cities/cities/h201_18.txt\n",
      "\n",
      "\n",
      "Saving file Day10_Harshini ...\n",
      "Saved JSON: /common/home/milky-way/new_graph_cities/cities/hDay10_Harshini.txt\n",
      "\n",
      "\n",
      "Processing:  2020-12-12 04:58:52.txt\n",
      "Saving image 201_19 ...\n",
      "Saved image: /common/home/milky-way/new_graph_cities/graphs/h201_19.png\n",
      "Saving file 201_19 ...\n",
      "Saved JSON: /common/home/milky-way/new_graph_cities/cities/h201_19.txt\n",
      "\n",
      "\n",
      "Saving file Day10_Harshini ...\n",
      "Saved JSON: /common/home/milky-way/new_graph_cities/cities/hDay10_Harshini.txt\n",
      "\n",
      "\n",
      "Processing:  2020-12-12 04:58:53.txt\n",
      "Saving image 201_20 ...\n",
      "Saved image: /common/home/milky-way/new_graph_cities/graphs/h201_20.png\n",
      "Saving file 201_20 ...\n",
      "Saved JSON: /common/home/milky-way/new_graph_cities/cities/h201_20.txt\n",
      "\n",
      "\n",
      "Saving file Day10_Harshini ...\n",
      "Saved JSON: /common/home/milky-way/new_graph_cities/cities/hDay10_Harshini.txt\n",
      "\n",
      "\n",
      "Processing:  2020-12-12 04:58:54.txt\n",
      "Saving image 201_21 ...\n"
     ]
    },
    {
     "name": "stderr",
     "output_type": "stream",
     "text": [
      "<ipython-input-14-e9e939b70424>:9: RuntimeWarning: More than 20 figures have been opened. Figures created through the pyplot interface (`matplotlib.pyplot.figure`) are retained until explicitly closed and may consume too much memory. (To control this warning, see the rcParam `figure.max_open_warning`).\n",
      "  fig = plt.figure(figsize=(15, 15))\n"
     ]
    },
    {
     "name": "stdout",
     "output_type": "stream",
     "text": [
      "Saved image: /common/home/milky-way/new_graph_cities/graphs/h201_21.png\n",
      "Saving file 201_21 ...\n",
      "Saved JSON: /common/home/milky-way/new_graph_cities/cities/h201_21.txt\n",
      "\n",
      "\n",
      "Saving file Day10_Harshini ...\n",
      "Saved JSON: /common/home/milky-way/new_graph_cities/cities/hDay10_Harshini.txt\n",
      "\n",
      "\n",
      "Processing:  2020-12-12 04:58:55.txt\n",
      "Saving image 201_22 ...\n",
      "Saved image: /common/home/milky-way/new_graph_cities/graphs/h201_22.png\n",
      "Saving file 201_22 ...\n",
      "Saved JSON: /common/home/milky-way/new_graph_cities/cities/h201_22.txt\n",
      "\n",
      "\n",
      "Saving file Day10_Harshini ...\n",
      "Saved JSON: /common/home/milky-way/new_graph_cities/cities/hDay10_Harshini.txt\n",
      "\n",
      "\n",
      "Processing:  2020-12-12 04:58:56.txt\n",
      "Saving image 201_23 ...\n",
      "Saved image: /common/home/milky-way/new_graph_cities/graphs/h201_23.png\n",
      "Saving file 201_23 ...\n",
      "Saved JSON: /common/home/milky-way/new_graph_cities/cities/h201_23.txt\n",
      "\n",
      "\n",
      "Saving file Day10_Harshini ...\n",
      "Saved JSON: /common/home/milky-way/new_graph_cities/cities/hDay10_Harshini.txt\n",
      "\n",
      "\n",
      "Processing:  2020-12-12 04:58:57.txt\n",
      "Saving image 201_24 ...\n",
      "Saved image: /common/home/milky-way/new_graph_cities/graphs/h201_24.png\n",
      "Saving file 201_24 ...\n",
      "Saved JSON: /common/home/milky-way/new_graph_cities/cities/h201_24.txt\n",
      "\n",
      "\n",
      "Saving file Day10_Harshini ...\n",
      "Saved JSON: /common/home/milky-way/new_graph_cities/cities/hDay10_Harshini.txt\n",
      "\n",
      "\n",
      "Processing:  2020-12-12 04:58:58.txt\n",
      "Saving image 201_25 ...\n",
      "Saved image: /common/home/milky-way/new_graph_cities/graphs/h201_25.png\n",
      "Saving file 201_25 ...\n",
      "Saved JSON: /common/home/milky-way/new_graph_cities/cities/h201_25.txt\n",
      "\n",
      "\n",
      "Saving file Day10_Harshini ...\n",
      "Saved JSON: /common/home/milky-way/new_graph_cities/cities/hDay10_Harshini.txt\n",
      "\n",
      "\n",
      "Processing:  2020-12-12 04:58:59.txt\n",
      "Saving image 201_26 ...\n",
      "Saved image: /common/home/milky-way/new_graph_cities/graphs/h201_26.png\n",
      "Saving file 201_26 ...\n",
      "Saved JSON: /common/home/milky-way/new_graph_cities/cities/h201_26.txt\n",
      "\n",
      "\n",
      "Saving file Day10_Harshini ...\n",
      "Saved JSON: /common/home/milky-way/new_graph_cities/cities/hDay10_Harshini.txt\n",
      "\n",
      "\n",
      "Processing:  2020-12-12 04:59:00.txt\n",
      "Saving image 201_27 ...\n",
      "Saved image: /common/home/milky-way/new_graph_cities/graphs/h201_27.png\n",
      "Saving file 201_27 ...\n",
      "Saved JSON: /common/home/milky-way/new_graph_cities/cities/h201_27.txt\n",
      "\n",
      "\n",
      "Saving file Day10_Harshini ...\n",
      "Saved JSON: /common/home/milky-way/new_graph_cities/cities/hDay10_Harshini.txt\n",
      "\n",
      "\n",
      "Processing:  2020-12-12 04:59:01.txt\n",
      "Saving image 201_28 ...\n",
      "Saved image: /common/home/milky-way/new_graph_cities/graphs/h201_28.png\n",
      "Saving file 201_28 ...\n",
      "Saved JSON: /common/home/milky-way/new_graph_cities/cities/h201_28.txt\n",
      "\n",
      "\n",
      "Saving file Day10_Harshini ...\n",
      "Saved JSON: /common/home/milky-way/new_graph_cities/cities/hDay10_Harshini.txt\n",
      "\n",
      "\n",
      "Processing:  2020-12-12 04:59:02.txt\n",
      "Saving image 201_29 ...\n",
      "Saved image: /common/home/milky-way/new_graph_cities/graphs/h201_29.png\n",
      "Saving file 201_29 ...\n",
      "Saved JSON: /common/home/milky-way/new_graph_cities/cities/h201_29.txt\n",
      "\n",
      "\n",
      "Saving file Day10_Harshini ...\n",
      "Saved JSON: /common/home/milky-way/new_graph_cities/cities/hDay10_Harshini.txt\n",
      "\n",
      "\n",
      "Processing:  2020-12-12 04:59:03.txt\n",
      "Saving image 201_30 ...\n",
      "Saved image: /common/home/milky-way/new_graph_cities/graphs/h201_30.png\n",
      "Saving file 201_30 ...\n",
      "Saved JSON: /common/home/milky-way/new_graph_cities/cities/h201_30.txt\n",
      "\n",
      "\n",
      "Saving file Day10_Harshini ...\n",
      "Saved JSON: /common/home/milky-way/new_graph_cities/cities/hDay10_Harshini.txt\n",
      "\n",
      "\n",
      "Processing:  2020-12-12 04:59:04.txt\n",
      "Saving image 201_31 ...\n",
      "Saved image: /common/home/milky-way/new_graph_cities/graphs/h201_31.png\n",
      "Saving file 201_31 ...\n",
      "Saved JSON: /common/home/milky-way/new_graph_cities/cities/h201_31.txt\n",
      "\n",
      "\n",
      "Saving file Day10_Harshini ...\n",
      "Saved JSON: /common/home/milky-way/new_graph_cities/cities/hDay10_Harshini.txt\n",
      "\n",
      "\n",
      "Processing:  2020-12-12 04:59:05.txt\n",
      "Saving image 201_32 ...\n",
      "Saved image: /common/home/milky-way/new_graph_cities/graphs/h201_32.png\n",
      "Saving file 201_32 ...\n",
      "Saved JSON: /common/home/milky-way/new_graph_cities/cities/h201_32.txt\n",
      "\n",
      "\n",
      "Saving file Day10_Harshini ...\n",
      "Saved JSON: /common/home/milky-way/new_graph_cities/cities/hDay10_Harshini.txt\n",
      "\n",
      "\n",
      "Processing:  2020-12-12 04:59:06.txt\n",
      "Saving image 201_33 ...\n",
      "Saved image: /common/home/milky-way/new_graph_cities/graphs/h201_33.png\n",
      "Saving file 201_33 ...\n",
      "Saved JSON: /common/home/milky-way/new_graph_cities/cities/h201_33.txt\n",
      "\n",
      "\n",
      "Saving file Day10_Harshini ...\n",
      "Saved JSON: /common/home/milky-way/new_graph_cities/cities/hDay10_Harshini.txt\n",
      "\n",
      "\n",
      "Processing:  2020-12-12 04:59:07.txt\n",
      "Saving image 201_34 ...\n",
      "Saved image: /common/home/milky-way/new_graph_cities/graphs/h201_34.png\n",
      "Saving file 201_34 ...\n",
      "Saved JSON: /common/home/milky-way/new_graph_cities/cities/h201_34.txt\n",
      "\n",
      "\n",
      "Saving file Day10_Harshini ...\n",
      "Saved JSON: /common/home/milky-way/new_graph_cities/cities/hDay10_Harshini.txt\n",
      "\n",
      "\n",
      "Processing:  2020-12-12 04:59:08.txt\n",
      "Saving image 201_35 ...\n",
      "Saved image: /common/home/milky-way/new_graph_cities/graphs/h201_35.png\n",
      "Saving file 201_35 ...\n",
      "Saved JSON: /common/home/milky-way/new_graph_cities/cities/h201_35.txt\n",
      "\n",
      "\n",
      "Saving file Day10_Harshini ...\n",
      "Saved JSON: /common/home/milky-way/new_graph_cities/cities/hDay10_Harshini.txt\n",
      "\n",
      "\n",
      "Processing:  2020-12-12 04:59:10.txt\n",
      "Saving image 201_36 ...\n",
      "Saved image: /common/home/milky-way/new_graph_cities/graphs/h201_36.png\n",
      "Saving file 201_36 ...\n",
      "Saved JSON: /common/home/milky-way/new_graph_cities/cities/h201_36.txt\n",
      "\n",
      "\n",
      "Saving file Day10_Harshini ...\n",
      "Saved JSON: /common/home/milky-way/new_graph_cities/cities/hDay10_Harshini.txt\n",
      "\n",
      "\n",
      "Processing:  2020-12-12 04:59:13.txt\n",
      "Saving image 201_37 ...\n",
      "Saved image: /common/home/milky-way/new_graph_cities/graphs/h201_37.png\n",
      "Saving file 201_37 ...\n",
      "Saved JSON: /common/home/milky-way/new_graph_cities/cities/h201_37.txt\n",
      "\n",
      "\n",
      "Saving file Day10_Harshini ...\n",
      "Saved JSON: /common/home/milky-way/new_graph_cities/cities/hDay10_Harshini.txt\n",
      "\n",
      "\n",
      "Processing:  2020-12-12 04:59:14.txt\n",
      "Saving image 201_38 ...\n",
      "Saved image: /common/home/milky-way/new_graph_cities/graphs/h201_38.png\n",
      "Saving file 201_38 ...\n",
      "Saved JSON: /common/home/milky-way/new_graph_cities/cities/h201_38.txt\n",
      "\n",
      "\n",
      "Saving file Day10_Harshini ...\n",
      "Saved JSON: /common/home/milky-way/new_graph_cities/cities/hDay10_Harshini.txt\n",
      "\n",
      "\n",
      "Processing:  2020-12-12 04:59:15.txt\n",
      "Saving image 201_39 ...\n",
      "Saved image: /common/home/milky-way/new_graph_cities/graphs/h201_39.png\n",
      "Saving file 201_39 ...\n",
      "Saved JSON: /common/home/milky-way/new_graph_cities/cities/h201_39.txt\n",
      "\n",
      "\n",
      "Saving file Day10_Harshini ...\n",
      "Saved JSON: /common/home/milky-way/new_graph_cities/cities/hDay10_Harshini.txt\n",
      "\n",
      "\n",
      "Processing:  2020-12-12 04:59:16.txt\n",
      "Saving image 201_40 ...\n",
      "Saved image: /common/home/milky-way/new_graph_cities/graphs/h201_40.png\n",
      "Saving file 201_40 ...\n",
      "Saved JSON: /common/home/milky-way/new_graph_cities/cities/h201_40.txt\n",
      "\n",
      "\n",
      "Saving file Day10_Harshini ...\n",
      "Saved JSON: /common/home/milky-way/new_graph_cities/cities/hDay10_Harshini.txt\n",
      "\n",
      "\n",
      "Processing:  2020-12-12 04:59:19.txt\n",
      "Saving image 201_41 ...\n",
      "Saved image: /common/home/milky-way/new_graph_cities/graphs/h201_41.png\n",
      "Saving file 201_41 ...\n",
      "Saved JSON: /common/home/milky-way/new_graph_cities/cities/h201_41.txt\n",
      "\n",
      "\n",
      "Saving file Day10_Harshini ...\n",
      "Saved JSON: /common/home/milky-way/new_graph_cities/cities/hDay10_Harshini.txt\n",
      "\n",
      "\n",
      "Processing:  2020-12-12 04:59:20.txt\n",
      "Saving image 201_42 ...\n",
      "Saved image: /common/home/milky-way/new_graph_cities/graphs/h201_42.png\n",
      "Saving file 201_42 ...\n",
      "Saved JSON: /common/home/milky-way/new_graph_cities/cities/h201_42.txt\n",
      "\n",
      "\n",
      "Saving file Day10_Harshini ...\n",
      "Saved JSON: /common/home/milky-way/new_graph_cities/cities/hDay10_Harshini.txt\n",
      "\n",
      "\n",
      "Processing:  2020-12-12 04:59:22.txt\n",
      "Saving image 201_43 ...\n",
      "Saved image: /common/home/milky-way/new_graph_cities/graphs/h201_43.png\n",
      "Saving file 201_43 ...\n",
      "Saved JSON: /common/home/milky-way/new_graph_cities/cities/h201_43.txt\n",
      "\n",
      "\n",
      "Saving file Day10_Harshini ...\n",
      "Saved JSON: /common/home/milky-way/new_graph_cities/cities/hDay10_Harshini.txt\n",
      "\n",
      "\n",
      "Processing:  2020-12-12 04:59:23.txt\n",
      "Saving image 201_44 ...\n",
      "Saved image: /common/home/milky-way/new_graph_cities/graphs/h201_44.png\n",
      "Saving file 201_44 ...\n",
      "Saved JSON: /common/home/milky-way/new_graph_cities/cities/h201_44.txt\n",
      "\n",
      "\n",
      "Saving file Day10_Harshini ...\n",
      "Saved JSON: /common/home/milky-way/new_graph_cities/cities/hDay10_Harshini.txt\n",
      "\n",
      "\n",
      "Processing:  2020-12-12 04:59:24.txt\n",
      "Saving image 201_45 ...\n",
      "Saved image: /common/home/milky-way/new_graph_cities/graphs/h201_45.png\n",
      "Saving file 201_45 ...\n",
      "Saved JSON: /common/home/milky-way/new_graph_cities/cities/h201_45.txt\n",
      "\n",
      "\n",
      "Saving file Day10_Harshini ...\n",
      "Saved JSON: /common/home/milky-way/new_graph_cities/cities/hDay10_Harshini.txt\n",
      "\n",
      "\n",
      "Processing:  2020-12-12 04:59:26.txt\n",
      "Saving image 201_46 ...\n",
      "Saved image: /common/home/milky-way/new_graph_cities/graphs/h201_46.png\n",
      "Saving file 201_46 ...\n",
      "Saved JSON: /common/home/milky-way/new_graph_cities/cities/h201_46.txt\n",
      "\n",
      "\n",
      "Saving file Day10_Harshini ...\n",
      "Saved JSON: /common/home/milky-way/new_graph_cities/cities/hDay10_Harshini.txt\n",
      "\n",
      "\n",
      "Processing:  2020-12-12 04:59:27.txt\n",
      "Saving image 201_47 ...\n",
      "Saved image: /common/home/milky-way/new_graph_cities/graphs/h201_47.png\n",
      "Saving file 201_47 ...\n",
      "Saved JSON: /common/home/milky-way/new_graph_cities/cities/h201_47.txt\n",
      "\n",
      "\n",
      "Saving file Day10_Harshini ...\n",
      "Saved JSON: /common/home/milky-way/new_graph_cities/cities/hDay10_Harshini.txt\n",
      "\n",
      "\n",
      "Processing:  2020-12-12 04:59:28.txt\n",
      "Saving image 201_48 ...\n",
      "Saved image: /common/home/milky-way/new_graph_cities/graphs/h201_48.png\n",
      "Saving file 201_48 ...\n",
      "Saved JSON: /common/home/milky-way/new_graph_cities/cities/h201_48.txt\n",
      "\n",
      "\n",
      "Saving file Day10_Harshini ...\n",
      "Saved JSON: /common/home/milky-way/new_graph_cities/cities/hDay10_Harshini.txt\n",
      "\n",
      "\n",
      "Processing:  2020-12-12 04:59:29.txt\n",
      "Saving image 201_49 ...\n",
      "Saved image: /common/home/milky-way/new_graph_cities/graphs/h201_49.png\n",
      "Saving file 201_49 ...\n",
      "Saved JSON: /common/home/milky-way/new_graph_cities/cities/h201_49.txt\n",
      "\n",
      "\n",
      "Saving file Day10_Harshini ...\n",
      "Saved JSON: /common/home/milky-way/new_graph_cities/cities/hDay10_Harshini.txt\n",
      "\n",
      "\n",
      "Processing:  2020-12-12 04:59:30.txt\n",
      "Saving image 201_50 ...\n",
      "Saved image: /common/home/milky-way/new_graph_cities/graphs/h201_50.png\n",
      "Saving file 201_50 ...\n",
      "Saved JSON: /common/home/milky-way/new_graph_cities/cities/h201_50.txt\n",
      "\n",
      "\n",
      "Saving file Day10_Harshini ...\n",
      "Saved JSON: /common/home/milky-way/new_graph_cities/cities/hDay10_Harshini.txt\n",
      "\n",
      "\n",
      "Processing:  2020-12-12 04:59:31.txt\n",
      "Saving image 201_51 ...\n",
      "Saved image: /common/home/milky-way/new_graph_cities/graphs/h201_51.png\n",
      "Saving file 201_51 ...\n",
      "Saved JSON: /common/home/milky-way/new_graph_cities/cities/h201_51.txt\n",
      "\n",
      "\n",
      "Saving file Day10_Harshini ...\n",
      "Saved JSON: /common/home/milky-way/new_graph_cities/cities/hDay10_Harshini.txt\n",
      "\n",
      "\n",
      "Processing:  2020-12-12 04:59:32.txt\n",
      "Saving image 201_52 ...\n",
      "Saved image: /common/home/milky-way/new_graph_cities/graphs/h201_52.png\n",
      "Saving file 201_52 ...\n",
      "Saved JSON: /common/home/milky-way/new_graph_cities/cities/h201_52.txt\n",
      "\n",
      "\n",
      "Saving file Day10_Harshini ...\n",
      "Saved JSON: /common/home/milky-way/new_graph_cities/cities/hDay10_Harshini.txt\n",
      "\n",
      "\n",
      "Processing:  2020-12-12 04:59:33.txt\n",
      "Saving image 201_53 ...\n",
      "Saved image: /common/home/milky-way/new_graph_cities/graphs/h201_53.png\n",
      "Saving file 201_53 ...\n",
      "Saved JSON: /common/home/milky-way/new_graph_cities/cities/h201_53.txt\n",
      "\n",
      "\n",
      "Saving file Day10_Harshini ...\n",
      "Saved JSON: /common/home/milky-way/new_graph_cities/cities/hDay10_Harshini.txt\n",
      "\n",
      "\n",
      "Processing:  2020-12-12 04:59:34.txt\n",
      "Saving image 201_54 ...\n",
      "Saved image: /common/home/milky-way/new_graph_cities/graphs/h201_54.png\n",
      "Saving file 201_54 ...\n",
      "Saved JSON: /common/home/milky-way/new_graph_cities/cities/h201_54.txt\n",
      "\n",
      "\n",
      "Saving file Day10_Harshini ...\n",
      "Saved JSON: /common/home/milky-way/new_graph_cities/cities/hDay10_Harshini.txt\n",
      "\n",
      "\n",
      "Processing:  2020-12-12 04:59:35.txt\n",
      "Saving image 201_55 ...\n",
      "Saved image: /common/home/milky-way/new_graph_cities/graphs/h201_55.png\n",
      "Saving file 201_55 ...\n",
      "Saved JSON: /common/home/milky-way/new_graph_cities/cities/h201_55.txt\n",
      "\n",
      "\n",
      "Saving file Day10_Harshini ...\n",
      "Saved JSON: /common/home/milky-way/new_graph_cities/cities/hDay10_Harshini.txt\n",
      "\n",
      "\n",
      "Processing:  2020-12-12 04:59:36.txt\n",
      "Saving image 201_56 ...\n",
      "Saved image: /common/home/milky-way/new_graph_cities/graphs/h201_56.png\n",
      "Saving file 201_56 ...\n",
      "Saved JSON: /common/home/milky-way/new_graph_cities/cities/h201_56.txt\n",
      "\n",
      "\n",
      "Saving file Day10_Harshini ...\n",
      "Saved JSON: /common/home/milky-way/new_graph_cities/cities/hDay10_Harshini.txt\n",
      "\n",
      "\n",
      "Processing:  2020-12-12 04:59:37.txt\n",
      "Saving image 201_57 ...\n",
      "Saved image: /common/home/milky-way/new_graph_cities/graphs/h201_57.png\n",
      "Saving file 201_57 ...\n",
      "Saved JSON: /common/home/milky-way/new_graph_cities/cities/h201_57.txt\n",
      "\n",
      "\n",
      "Saving file Day10_Harshini ...\n",
      "Saved JSON: /common/home/milky-way/new_graph_cities/cities/hDay10_Harshini.txt\n",
      "\n",
      "\n",
      "Processing:  2020-12-12 04:59:38.txt\n",
      "Saving image 201_58 ...\n",
      "Saved image: /common/home/milky-way/new_graph_cities/graphs/h201_58.png\n",
      "Saving file 201_58 ...\n",
      "Saved JSON: /common/home/milky-way/new_graph_cities/cities/h201_58.txt\n",
      "\n",
      "\n",
      "Saving file Day10_Harshini ...\n",
      "Saved JSON: /common/home/milky-way/new_graph_cities/cities/hDay10_Harshini.txt\n",
      "\n",
      "\n",
      "Processing:  2020-12-12 04:59:39.txt\n",
      "Saving image 201_59 ...\n",
      "Saved image: /common/home/milky-way/new_graph_cities/graphs/h201_59.png\n",
      "Saving file 201_59 ...\n",
      "Saved JSON: /common/home/milky-way/new_graph_cities/cities/h201_59.txt\n",
      "\n",
      "\n",
      "Saving file Day10_Harshini ...\n",
      "Saved JSON: /common/home/milky-way/new_graph_cities/cities/hDay10_Harshini.txt\n",
      "\n",
      "\n",
      "Processing:  2020-12-12 04:59:40.txt\n",
      "Saving image 201_60 ...\n",
      "Saved image: /common/home/milky-way/new_graph_cities/graphs/h201_60.png\n",
      "Saving file 201_60 ...\n",
      "Saved JSON: /common/home/milky-way/new_graph_cities/cities/h201_60.txt\n",
      "\n",
      "\n",
      "Saving file Day10_Harshini ...\n",
      "Saved JSON: /common/home/milky-way/new_graph_cities/cities/hDay10_Harshini.txt\n",
      "\n",
      "\n",
      "Processing:  2020-12-12 04:59:41.txt\n",
      "Saving image 201_61 ...\n",
      "Saved image: /common/home/milky-way/new_graph_cities/graphs/h201_61.png\n",
      "Saving file 201_61 ...\n",
      "Saved JSON: /common/home/milky-way/new_graph_cities/cities/h201_61.txt\n",
      "\n",
      "\n",
      "Saving file Day10_Harshini ...\n",
      "Saved JSON: /common/home/milky-way/new_graph_cities/cities/hDay10_Harshini.txt\n",
      "\n",
      "\n",
      "Processing:  2020-12-12 04:59:42.txt\n",
      "Saving image 201_62 ...\n",
      "Saved image: /common/home/milky-way/new_graph_cities/graphs/h201_62.png\n",
      "Saving file 201_62 ...\n",
      "Saved JSON: /common/home/milky-way/new_graph_cities/cities/h201_62.txt\n",
      "\n",
      "\n",
      "Saving file Day10_Harshini ...\n",
      "Saved JSON: /common/home/milky-way/new_graph_cities/cities/hDay10_Harshini.txt\n",
      "\n",
      "\n",
      "Processing:  2020-12-12 04:59:43.txt\n",
      "Saving image 201_63 ...\n",
      "Saved image: /common/home/milky-way/new_graph_cities/graphs/h201_63.png\n",
      "Saving file 201_63 ...\n",
      "Saved JSON: /common/home/milky-way/new_graph_cities/cities/h201_63.txt\n",
      "\n",
      "\n",
      "Saving file Day10_Harshini ...\n",
      "Saved JSON: /common/home/milky-way/new_graph_cities/cities/hDay10_Harshini.txt\n",
      "\n",
      "\n",
      "Processing:  2020-12-12 04:59:44.txt\n",
      "Saving image 201_64 ...\n",
      "Saved image: /common/home/milky-way/new_graph_cities/graphs/h201_64.png\n",
      "Saving file 201_64 ...\n",
      "Saved JSON: /common/home/milky-way/new_graph_cities/cities/h201_64.txt\n",
      "\n",
      "\n",
      "Saving file Day10_Harshini ...\n",
      "Saved JSON: /common/home/milky-way/new_graph_cities/cities/hDay10_Harshini.txt\n",
      "\n",
      "\n",
      "Processing:  2020-12-12 04:59:45.txt\n",
      "Saving image 201_65 ...\n",
      "Saved image: /common/home/milky-way/new_graph_cities/graphs/h201_65.png\n",
      "Saving file 201_65 ...\n",
      "Saved JSON: /common/home/milky-way/new_graph_cities/cities/h201_65.txt\n",
      "\n",
      "\n",
      "Saving file Day10_Harshini ...\n",
      "Saved JSON: /common/home/milky-way/new_graph_cities/cities/hDay10_Harshini.txt\n",
      "\n",
      "\n",
      "Processing:  2020-12-12 04:59:47.txt\n",
      "Saving image 201_66 ...\n",
      "Saved image: /common/home/milky-way/new_graph_cities/graphs/h201_66.png\n",
      "Saving file 201_66 ...\n",
      "Saved JSON: /common/home/milky-way/new_graph_cities/cities/h201_66.txt\n",
      "\n",
      "\n",
      "Saving file Day10_Harshini ...\n",
      "Saved JSON: /common/home/milky-way/new_graph_cities/cities/hDay10_Harshini.txt\n",
      "\n",
      "\n",
      "Processing:  2020-12-12 04:59:49.txt\n",
      "Saving image 201_67 ...\n",
      "Saved image: /common/home/milky-way/new_graph_cities/graphs/h201_67.png\n",
      "Saving file 201_67 ...\n",
      "Saved JSON: /common/home/milky-way/new_graph_cities/cities/h201_67.txt\n",
      "\n",
      "\n",
      "Saving file Day10_Harshini ...\n",
      "Saved JSON: /common/home/milky-way/new_graph_cities/cities/hDay10_Harshini.txt\n",
      "\n",
      "\n",
      "Processing:  2020-12-12 04:59:50.txt\n",
      "Saving image 201_68 ...\n",
      "Saved image: /common/home/milky-way/new_graph_cities/graphs/h201_68.png\n",
      "Saving file 201_68 ...\n",
      "Saved JSON: /common/home/milky-way/new_graph_cities/cities/h201_68.txt\n",
      "\n",
      "\n",
      "Saving file Day10_Harshini ...\n",
      "Saved JSON: /common/home/milky-way/new_graph_cities/cities/hDay10_Harshini.txt\n",
      "\n",
      "\n",
      "Processing:  2020-12-12 04:59:56.txt\n",
      "Saving image 201_69 ...\n",
      "Saved image: /common/home/milky-way/new_graph_cities/graphs/h201_69.png\n",
      "Saving file 201_69 ...\n",
      "Saved JSON: /common/home/milky-way/new_graph_cities/cities/h201_69.txt\n",
      "\n",
      "\n",
      "Saving file Day10_Harshini ...\n",
      "Saved JSON: /common/home/milky-way/new_graph_cities/cities/hDay10_Harshini.txt\n",
      "\n",
      "\n",
      "Processing:  2020-12-12 04:59:58.txt\n",
      "Saving image 201_70 ...\n",
      "Saved image: /common/home/milky-way/new_graph_cities/graphs/h201_70.png\n",
      "Saving file 201_70 ...\n",
      "Saved JSON: /common/home/milky-way/new_graph_cities/cities/h201_70.txt\n",
      "\n",
      "\n",
      "Saving file Day10_Harshini ...\n",
      "Saved JSON: /common/home/milky-way/new_graph_cities/cities/hDay10_Harshini.txt\n",
      "\n",
      "\n",
      "Processing:  2020-12-12 04:59:59.txt\n",
      "Saving image 201_71 ...\n",
      "Saved image: /common/home/milky-way/new_graph_cities/graphs/h201_71.png\n",
      "Saving file 201_71 ...\n",
      "Saved JSON: /common/home/milky-way/new_graph_cities/cities/h201_71.txt\n",
      "\n",
      "\n",
      "Saving file Day10_Harshini ...\n",
      "Saved JSON: /common/home/milky-way/new_graph_cities/cities/hDay10_Harshini.txt\n",
      "\n",
      "\n",
      "Processing:  2020-12-12 05:00:02.txt\n",
      "Saving image 201_72 ...\n",
      "Saved image: /common/home/milky-way/new_graph_cities/graphs/h201_72.png\n",
      "Saving file 201_72 ...\n",
      "Saved JSON: /common/home/milky-way/new_graph_cities/cities/h201_72.txt\n",
      "\n",
      "\n",
      "Saving file Day10_Harshini ...\n",
      "Saved JSON: /common/home/milky-way/new_graph_cities/cities/hDay10_Harshini.txt\n",
      "\n",
      "\n",
      "Processing:  2020-12-12 05:00:03.txt\n",
      "Saving image 201_73 ...\n",
      "Saved image: /common/home/milky-way/new_graph_cities/graphs/h201_73.png\n",
      "Saving file 201_73 ...\n",
      "Saved JSON: /common/home/milky-way/new_graph_cities/cities/h201_73.txt\n",
      "\n",
      "\n",
      "Saving file Day10_Harshini ...\n",
      "Saved JSON: /common/home/milky-way/new_graph_cities/cities/hDay10_Harshini.txt\n",
      "\n",
      "\n",
      "Processing:  2020-12-12 05:00:04.txt\n",
      "Saving image 201_74 ...\n",
      "Saved image: /common/home/milky-way/new_graph_cities/graphs/h201_74.png\n",
      "Saving file 201_74 ...\n",
      "Saved JSON: /common/home/milky-way/new_graph_cities/cities/h201_74.txt\n",
      "\n",
      "\n",
      "Saving file Day10_Harshini ...\n",
      "Saved JSON: /common/home/milky-way/new_graph_cities/cities/hDay10_Harshini.txt\n",
      "\n",
      "\n",
      "Processing:  2020-12-12 05:00:06.txt\n",
      "Saving image 201_75 ...\n",
      "Saved image: /common/home/milky-way/new_graph_cities/graphs/h201_75.png\n",
      "Saving file 201_75 ...\n",
      "Saved JSON: /common/home/milky-way/new_graph_cities/cities/h201_75.txt\n",
      "\n",
      "\n",
      "Saving file Day10_Harshini ...\n",
      "Saved JSON: /common/home/milky-way/new_graph_cities/cities/hDay10_Harshini.txt\n",
      "\n",
      "\n",
      "Processing:  2020-12-12 05:00:07.txt\n",
      "Saving image 201_76 ...\n",
      "Saved image: /common/home/milky-way/new_graph_cities/graphs/h201_76.png\n",
      "Saving file 201_76 ...\n",
      "Saved JSON: /common/home/milky-way/new_graph_cities/cities/h201_76.txt\n",
      "\n",
      "\n",
      "Saving file Day10_Harshini ...\n",
      "Saved JSON: /common/home/milky-way/new_graph_cities/cities/hDay10_Harshini.txt\n",
      "\n",
      "\n",
      "Processing:  2020-12-12 05:00:08.txt\n",
      "Saving image 201_77 ...\n",
      "Saved image: /common/home/milky-way/new_graph_cities/graphs/h201_77.png\n",
      "Saving file 201_77 ...\n",
      "Saved JSON: /common/home/milky-way/new_graph_cities/cities/h201_77.txt\n",
      "\n",
      "\n",
      "Saving file Day10_Harshini ...\n",
      "Saved JSON: /common/home/milky-way/new_graph_cities/cities/hDay10_Harshini.txt\n",
      "\n",
      "\n",
      "Processing:  2020-12-12 05:00:12.txt\n",
      "Saving image 201_78 ...\n",
      "Saved image: /common/home/milky-way/new_graph_cities/graphs/h201_78.png\n",
      "Saving file 201_78 ...\n",
      "Saved JSON: /common/home/milky-way/new_graph_cities/cities/h201_78.txt\n",
      "\n",
      "\n",
      "Saving file Day10_Harshini ...\n",
      "Saved JSON: /common/home/milky-way/new_graph_cities/cities/hDay10_Harshini.txt\n",
      "\n",
      "\n",
      "Processing:  2020-12-12 05:00:16.txt\n",
      "Saving image 201_79 ...\n",
      "Saved image: /common/home/milky-way/new_graph_cities/graphs/h201_79.png\n",
      "Saving file 201_79 ...\n",
      "Saved JSON: /common/home/milky-way/new_graph_cities/cities/h201_79.txt\n",
      "\n",
      "\n",
      "Saving file Day10_Harshini ...\n",
      "Saved JSON: /common/home/milky-way/new_graph_cities/cities/hDay10_Harshini.txt\n",
      "\n",
      "\n",
      "Processing:  2020-12-12 05:00:19.txt\n",
      "Saving image 201_80 ...\n",
      "Saved image: /common/home/milky-way/new_graph_cities/graphs/h201_80.png\n",
      "Saving file 201_80 ...\n",
      "Saved JSON: /common/home/milky-way/new_graph_cities/cities/h201_80.txt\n",
      "\n",
      "\n",
      "Saving file Day10_Harshini ...\n",
      "Saved JSON: /common/home/milky-way/new_graph_cities/cities/hDay10_Harshini.txt\n",
      "\n",
      "\n",
      "Processing:  2020-12-12 05:00:20.txt\n",
      "Saving image 201_81 ...\n",
      "Saved image: /common/home/milky-way/new_graph_cities/graphs/h201_81.png\n",
      "Saving file 201_81 ...\n",
      "Saved JSON: /common/home/milky-way/new_graph_cities/cities/h201_81.txt\n",
      "\n",
      "\n",
      "Saving file Day10_Harshini ...\n",
      "Saved JSON: /common/home/milky-way/new_graph_cities/cities/hDay10_Harshini.txt\n",
      "\n",
      "\n",
      "Processing:  2020-12-12 05:00:22.txt\n",
      "Saving image 201_82 ...\n",
      "Saved image: /common/home/milky-way/new_graph_cities/graphs/h201_82.png\n",
      "Saving file 201_82 ...\n",
      "Saved JSON: /common/home/milky-way/new_graph_cities/cities/h201_82.txt\n",
      "\n",
      "\n",
      "Saving file Day10_Harshini ...\n",
      "Saved JSON: /common/home/milky-way/new_graph_cities/cities/hDay10_Harshini.txt\n",
      "\n",
      "\n",
      "Processing:  2020-12-12 05:00:23.txt\n",
      "Saving image 201_83 ...\n",
      "Saved image: /common/home/milky-way/new_graph_cities/graphs/h201_83.png\n",
      "Saving file 201_83 ...\n",
      "Saved JSON: /common/home/milky-way/new_graph_cities/cities/h201_83.txt\n",
      "\n",
      "\n",
      "Saving file Day10_Harshini ...\n",
      "Saved JSON: /common/home/milky-way/new_graph_cities/cities/hDay10_Harshini.txt\n",
      "\n",
      "\n",
      "Processing:  2020-12-12 05:00:24.txt\n",
      "Saving image 201_84 ...\n",
      "Saved image: /common/home/milky-way/new_graph_cities/graphs/h201_84.png\n",
      "Saving file 201_84 ...\n",
      "Saved JSON: /common/home/milky-way/new_graph_cities/cities/h201_84.txt\n",
      "\n",
      "\n",
      "Saving file Day10_Harshini ...\n",
      "Saved JSON: /common/home/milky-way/new_graph_cities/cities/hDay10_Harshini.txt\n",
      "\n",
      "\n",
      "Processing:  2020-12-12 05:00:25.txt\n",
      "Saving image 201_85 ...\n",
      "Saved image: /common/home/milky-way/new_graph_cities/graphs/h201_85.png\n",
      "Saving file 201_85 ...\n",
      "Saved JSON: /common/home/milky-way/new_graph_cities/cities/h201_85.txt\n",
      "\n",
      "\n",
      "Saving file Day10_Harshini ...\n",
      "Saved JSON: /common/home/milky-way/new_graph_cities/cities/hDay10_Harshini.txt\n",
      "\n",
      "\n",
      "Processing:  2020-12-12 05:00:29.txt\n",
      "Saving image 201_86 ...\n",
      "Saved image: /common/home/milky-way/new_graph_cities/graphs/h201_86.png\n",
      "Saving file 201_86 ...\n",
      "Saved JSON: /common/home/milky-way/new_graph_cities/cities/h201_86.txt\n",
      "\n",
      "\n",
      "Saving file Day10_Harshini ...\n",
      "Saved JSON: /common/home/milky-way/new_graph_cities/cities/hDay10_Harshini.txt\n",
      "\n",
      "\n",
      "Processing:  2020-12-12 05:00:31.txt\n",
      "Saving image 201_87 ...\n",
      "Saved image: /common/home/milky-way/new_graph_cities/graphs/h201_87.png\n",
      "Saving file 201_87 ...\n",
      "Saved JSON: /common/home/milky-way/new_graph_cities/cities/h201_87.txt\n",
      "\n",
      "\n",
      "Saving file Day10_Harshini ...\n",
      "Saved JSON: /common/home/milky-way/new_graph_cities/cities/hDay10_Harshini.txt\n",
      "\n",
      "\n",
      "Processing:  2020-12-12 05:00:33.txt\n",
      "Saving image 201_88 ...\n",
      "Saved image: /common/home/milky-way/new_graph_cities/graphs/h201_88.png\n",
      "Saving file 201_88 ...\n",
      "Saved JSON: /common/home/milky-way/new_graph_cities/cities/h201_88.txt\n",
      "\n",
      "\n",
      "Saving file Day10_Harshini ...\n",
      "Saved JSON: /common/home/milky-way/new_graph_cities/cities/hDay10_Harshini.txt\n",
      "\n",
      "\n",
      "Processing:  2020-12-12 05:00:34.txt\n",
      "Saving image 201_89 ...\n",
      "Saved image: /common/home/milky-way/new_graph_cities/graphs/h201_89.png\n",
      "Saving file 201_89 ...\n",
      "Saved JSON: /common/home/milky-way/new_graph_cities/cities/h201_89.txt\n",
      "\n",
      "\n",
      "Saving file Day10_Harshini ...\n",
      "Saved JSON: /common/home/milky-way/new_graph_cities/cities/hDay10_Harshini.txt\n",
      "\n",
      "\n",
      "Processing:  2020-12-12 05:00:35.txt\n",
      "Saving image 201_90 ...\n",
      "Saved image: /common/home/milky-way/new_graph_cities/graphs/h201_90.png\n",
      "Saving file 201_90 ...\n",
      "Saved JSON: /common/home/milky-way/new_graph_cities/cities/h201_90.txt\n",
      "\n",
      "\n",
      "Saving file Day10_Harshini ...\n",
      "Saved JSON: /common/home/milky-way/new_graph_cities/cities/hDay10_Harshini.txt\n",
      "\n",
      "\n",
      "Processing:  2020-12-12 05:00:41.txt\n",
      "Saving image 201_91 ...\n",
      "Saved image: /common/home/milky-way/new_graph_cities/graphs/h201_91.png\n",
      "Saving file 201_91 ...\n",
      "Saved JSON: /common/home/milky-way/new_graph_cities/cities/h201_91.txt\n",
      "\n",
      "\n",
      "Saving file Day10_Harshini ...\n",
      "Saved JSON: /common/home/milky-way/new_graph_cities/cities/hDay10_Harshini.txt\n",
      "\n",
      "\n",
      "Processing:  2020-12-12 05:00:42.txt\n",
      "Saving image 201_92 ...\n",
      "Saved image: /common/home/milky-way/new_graph_cities/graphs/h201_92.png\n",
      "Saving file 201_92 ...\n",
      "Saved JSON: /common/home/milky-way/new_graph_cities/cities/h201_92.txt\n",
      "\n",
      "\n",
      "Saving file Day10_Harshini ...\n",
      "Saved JSON: /common/home/milky-way/new_graph_cities/cities/hDay10_Harshini.txt\n",
      "\n",
      "\n",
      "Processing:  2020-12-12 05:00:43.txt\n",
      "Saving image 201_93 ...\n",
      "Saved image: /common/home/milky-way/new_graph_cities/graphs/h201_93.png\n",
      "Saving file 201_93 ...\n",
      "Saved JSON: /common/home/milky-way/new_graph_cities/cities/h201_93.txt\n",
      "\n",
      "\n",
      "Saving file Day10_Harshini ...\n",
      "Saved JSON: /common/home/milky-way/new_graph_cities/cities/hDay10_Harshini.txt\n",
      "\n",
      "\n",
      "Processing:  2020-12-12 05:00:44.txt\n",
      "Saving image 201_94 ...\n",
      "Saved image: /common/home/milky-way/new_graph_cities/graphs/h201_94.png\n",
      "Saving file 201_94 ...\n",
      "Saved JSON: /common/home/milky-way/new_graph_cities/cities/h201_94.txt\n",
      "\n",
      "\n",
      "Saving file Day10_Harshini ...\n",
      "Saved JSON: /common/home/milky-way/new_graph_cities/cities/hDay10_Harshini.txt\n",
      "\n",
      "\n",
      "Processing:  2020-12-12 05:00:46.txt\n",
      "Saving image 201_95 ...\n",
      "Saved image: /common/home/milky-way/new_graph_cities/graphs/h201_95.png\n",
      "Saving file 201_95 ...\n",
      "Saved JSON: /common/home/milky-way/new_graph_cities/cities/h201_95.txt\n",
      "\n",
      "\n",
      "Saving file Day10_Harshini ...\n",
      "Saved JSON: /common/home/milky-way/new_graph_cities/cities/hDay10_Harshini.txt\n",
      "\n",
      "\n",
      "Processing:  2020-12-12 05:00:51.txt\n",
      "Saving image 201_96 ...\n",
      "Saved image: /common/home/milky-way/new_graph_cities/graphs/h201_96.png\n",
      "Saving file 201_96 ...\n",
      "Saved JSON: /common/home/milky-way/new_graph_cities/cities/h201_96.txt\n",
      "\n",
      "\n",
      "Saving file Day10_Harshini ...\n",
      "Saved JSON: /common/home/milky-way/new_graph_cities/cities/hDay10_Harshini.txt\n",
      "\n",
      "\n",
      "Processing:  2020-12-12 05:00:52.txt\n",
      "Saving image 201_97 ...\n",
      "Saved image: /common/home/milky-way/new_graph_cities/graphs/h201_97.png\n",
      "Saving file 201_97 ...\n",
      "Saved JSON: /common/home/milky-way/new_graph_cities/cities/h201_97.txt\n",
      "\n",
      "\n",
      "Saving file Day10_Harshini ...\n",
      "Saved JSON: /common/home/milky-way/new_graph_cities/cities/hDay10_Harshini.txt\n",
      "\n",
      "\n",
      "Processing:  2020-12-12 05:00:54.txt\n",
      "Saving image 201_98 ...\n",
      "Saved image: /common/home/milky-way/new_graph_cities/graphs/h201_98.png\n",
      "Saving file 201_98 ...\n",
      "Saved JSON: /common/home/milky-way/new_graph_cities/cities/h201_98.txt\n",
      "\n",
      "\n",
      "Saving file Day10_Harshini ...\n",
      "Saved JSON: /common/home/milky-way/new_graph_cities/cities/hDay10_Harshini.txt\n",
      "\n",
      "\n",
      "Processing:  2020-12-12 05:01:01.txt\n",
      "Saving image 202_1 ...\n",
      "Saved image: /common/home/milky-way/new_graph_cities/graphs/h202_1.png\n",
      "Saving file 202_1 ...\n",
      "Saved JSON: /common/home/milky-way/new_graph_cities/cities/h202_1.txt\n",
      "\n",
      "\n",
      "Saving file Day10_Harshini ...\n",
      "Saved JSON: /common/home/milky-way/new_graph_cities/cities/hDay10_Harshini.txt\n",
      "\n",
      "\n",
      "Processing:  2020-12-12 05:01:11.txt\n",
      "Saving image 202_2 ...\n",
      "Saved image: /common/home/milky-way/new_graph_cities/graphs/h202_2.png\n",
      "Saving file 202_2 ...\n",
      "Saved JSON: /common/home/milky-way/new_graph_cities/cities/h202_2.txt\n",
      "\n",
      "\n",
      "Saving file Day10_Harshini ...\n",
      "Saved JSON: /common/home/milky-way/new_graph_cities/cities/hDay10_Harshini.txt\n",
      "\n",
      "\n",
      "Processing:  2020-12-12 05:01:14.txt\n",
      "Saving image 202_3 ...\n",
      "Saved image: /common/home/milky-way/new_graph_cities/graphs/h202_3.png\n",
      "Saving file 202_3 ...\n",
      "Saved JSON: /common/home/milky-way/new_graph_cities/cities/h202_3.txt\n",
      "\n",
      "\n",
      "Saving file Day10_Harshini ...\n",
      "Saved JSON: /common/home/milky-way/new_graph_cities/cities/hDay10_Harshini.txt\n",
      "\n",
      "\n",
      "Processing:  2020-12-12 05:01:20.txt\n",
      "Saving image 202_4 ...\n",
      "Saved image: /common/home/milky-way/new_graph_cities/graphs/h202_4.png\n",
      "Saving file 202_4 ...\n",
      "Saved JSON: /common/home/milky-way/new_graph_cities/cities/h202_4.txt\n",
      "\n",
      "\n",
      "Saving file Day10_Harshini ...\n",
      "Saved JSON: /common/home/milky-way/new_graph_cities/cities/hDay10_Harshini.txt\n",
      "\n",
      "\n",
      "Processing:  2020-12-12 05:01:22.txt\n",
      "Saving image 202_5 ...\n",
      "Saved image: /common/home/milky-way/new_graph_cities/graphs/h202_5.png\n",
      "Saving file 202_5 ...\n",
      "Saved JSON: /common/home/milky-way/new_graph_cities/cities/h202_5.txt\n",
      "\n",
      "\n",
      "Saving file Day10_Harshini ...\n",
      "Saved JSON: /common/home/milky-way/new_graph_cities/cities/hDay10_Harshini.txt\n",
      "\n",
      "\n",
      "Processing:  2020-12-12 05:01:24.txt\n",
      "Saving image 202_6 ...\n",
      "Saved image: /common/home/milky-way/new_graph_cities/graphs/h202_6.png\n",
      "Saving file 202_6 ...\n",
      "Saved JSON: /common/home/milky-way/new_graph_cities/cities/h202_6.txt\n",
      "\n",
      "\n",
      "Saving file Day10_Harshini ...\n",
      "Saved JSON: /common/home/milky-way/new_graph_cities/cities/hDay10_Harshini.txt\n",
      "\n",
      "\n",
      "Processing:  2020-12-12 05:01:32.txt\n",
      "Saving image 202_7 ...\n",
      "Saved image: /common/home/milky-way/new_graph_cities/graphs/h202_7.png\n",
      "Saving file 202_7 ...\n",
      "Saved JSON: /common/home/milky-way/new_graph_cities/cities/h202_7.txt\n",
      "\n",
      "\n",
      "Saving file Day10_Harshini ...\n",
      "Saved JSON: /common/home/milky-way/new_graph_cities/cities/hDay10_Harshini.txt\n",
      "\n",
      "\n",
      "Processing:  2020-12-12 05:01:42.txt\n",
      "Saving image 202_8 ...\n",
      "Saved image: /common/home/milky-way/new_graph_cities/graphs/h202_8.png\n",
      "Saving file 202_8 ...\n",
      "Saved JSON: /common/home/milky-way/new_graph_cities/cities/h202_8.txt\n",
      "\n",
      "\n",
      "Saving file Day10_Harshini ...\n",
      "Saved JSON: /common/home/milky-way/new_graph_cities/cities/hDay10_Harshini.txt\n",
      "\n",
      "\n",
      "Processing:  2020-12-12 05:01:46.txt\n",
      "Saving image 202_9 ...\n",
      "Saved image: /common/home/milky-way/new_graph_cities/graphs/h202_9.png\n",
      "Saving file 202_9 ...\n",
      "Saved JSON: /common/home/milky-way/new_graph_cities/cities/h202_9.txt\n",
      "\n",
      "\n",
      "Saving file Day10_Harshini ...\n",
      "Saved JSON: /common/home/milky-way/new_graph_cities/cities/hDay10_Harshini.txt\n",
      "\n",
      "\n",
      "Processing:  2020-12-12 05:01:47.txt\n",
      "Saving image 202_10 ...\n",
      "Saved image: /common/home/milky-way/new_graph_cities/graphs/h202_10.png\n",
      "Saving file 202_10 ...\n",
      "Saved JSON: /common/home/milky-way/new_graph_cities/cities/h202_10.txt\n",
      "\n",
      "\n",
      "Saving file Day10_Harshini ...\n",
      "Saved JSON: /common/home/milky-way/new_graph_cities/cities/hDay10_Harshini.txt\n",
      "\n",
      "\n",
      "Processing:  2020-12-12 05:01:54.txt\n",
      "Saving image 202_11 ...\n",
      "Saved image: /common/home/milky-way/new_graph_cities/graphs/h202_11.png\n",
      "Saving file 202_11 ...\n",
      "Saved JSON: /common/home/milky-way/new_graph_cities/cities/h202_11.txt\n",
      "\n",
      "\n",
      "Saving file Day10_Harshini ...\n",
      "Saved JSON: /common/home/milky-way/new_graph_cities/cities/hDay10_Harshini.txt\n",
      "\n",
      "\n",
      "Processing:  2020-12-12 05:02:12.txt\n",
      "Saving image 202_12 ...\n",
      "Saved image: /common/home/milky-way/new_graph_cities/graphs/h202_12.png\n",
      "Saving file 202_12 ...\n",
      "Saved JSON: /common/home/milky-way/new_graph_cities/cities/h202_12.txt\n",
      "\n",
      "\n",
      "Saving file Day10_Harshini ...\n",
      "Saved JSON: /common/home/milky-way/new_graph_cities/cities/hDay10_Harshini.txt\n",
      "\n",
      "\n",
      "Processing:  2020-12-12 05:02:16.txt\n",
      "Saving image 202_13 ...\n",
      "Saved image: /common/home/milky-way/new_graph_cities/graphs/h202_13.png\n",
      "Saving file 202_13 ...\n",
      "Saved JSON: /common/home/milky-way/new_graph_cities/cities/h202_13.txt\n",
      "\n",
      "\n",
      "Saving file Day10_Harshini ...\n",
      "Saved JSON: /common/home/milky-way/new_graph_cities/cities/hDay10_Harshini.txt\n",
      "\n",
      "\n",
      "Processing:  2020-12-12 05:02:18.txt\n",
      "Saving image 202_14 ...\n",
      "Saved image: /common/home/milky-way/new_graph_cities/graphs/h202_14.png\n",
      "Saving file 202_14 ...\n",
      "Saved JSON: /common/home/milky-way/new_graph_cities/cities/h202_14.txt\n",
      "\n",
      "\n",
      "Saving file Day10_Harshini ...\n",
      "Saved JSON: /common/home/milky-way/new_graph_cities/cities/hDay10_Harshini.txt\n",
      "\n",
      "\n",
      "Processing:  2020-12-12 05:02:22.txt\n",
      "Saving image 202_15 ...\n",
      "Saved image: /common/home/milky-way/new_graph_cities/graphs/h202_15.png\n",
      "Saving file 202_15 ...\n",
      "Saved JSON: /common/home/milky-way/new_graph_cities/cities/h202_15.txt\n",
      "\n",
      "\n",
      "Saving file Day10_Harshini ...\n",
      "Saved JSON: /common/home/milky-way/new_graph_cities/cities/hDay10_Harshini.txt\n",
      "\n",
      "\n",
      "Processing:  2020-12-12 05:02:26.txt\n",
      "Saving image 202_16 ...\n",
      "Saved image: /common/home/milky-way/new_graph_cities/graphs/h202_16.png\n",
      "Saving file 202_16 ...\n",
      "Saved JSON: /common/home/milky-way/new_graph_cities/cities/h202_16.txt\n",
      "\n",
      "\n",
      "Saving file Day10_Harshini ...\n",
      "Saved JSON: /common/home/milky-way/new_graph_cities/cities/hDay10_Harshini.txt\n",
      "\n",
      "\n",
      "Processing:  2020-12-12 05:02:31.txt\n",
      "Saving image 202_17 ...\n",
      "Saved image: /common/home/milky-way/new_graph_cities/graphs/h202_17.png\n",
      "Saving file 202_17 ...\n",
      "Saved JSON: /common/home/milky-way/new_graph_cities/cities/h202_17.txt\n",
      "\n",
      "\n",
      "Saving file Day10_Harshini ...\n",
      "Saved JSON: /common/home/milky-way/new_graph_cities/cities/hDay10_Harshini.txt\n",
      "\n",
      "\n",
      "Processing:  2020-12-12 05:02:34.txt\n",
      "Saving image 202_18 ...\n",
      "Saved image: /common/home/milky-way/new_graph_cities/graphs/h202_18.png\n",
      "Saving file 202_18 ...\n",
      "Saved JSON: /common/home/milky-way/new_graph_cities/cities/h202_18.txt\n",
      "\n",
      "\n",
      "Saving file Day10_Harshini ...\n",
      "Saved JSON: /common/home/milky-way/new_graph_cities/cities/hDay10_Harshini.txt\n",
      "\n",
      "\n",
      "Processing:  2020-12-12 05:02:43.txt\n",
      "Saving image 202_19 ...\n",
      "Saved image: /common/home/milky-way/new_graph_cities/graphs/h202_19.png\n",
      "Saving file 202_19 ...\n",
      "Saved JSON: /common/home/milky-way/new_graph_cities/cities/h202_19.txt\n",
      "\n",
      "\n",
      "Saving file Day10_Harshini ...\n",
      "Saved JSON: /common/home/milky-way/new_graph_cities/cities/hDay10_Harshini.txt\n",
      "\n",
      "\n",
      "Processing:  2020-12-12 05:02:44.txt\n",
      "Saving image 202_20 ...\n",
      "Saved image: /common/home/milky-way/new_graph_cities/graphs/h202_20.png\n",
      "Saving file 202_20 ...\n",
      "Saved JSON: /common/home/milky-way/new_graph_cities/cities/h202_20.txt\n",
      "\n",
      "\n",
      "Saving file Day10_Harshini ...\n",
      "Saved JSON: /common/home/milky-way/new_graph_cities/cities/hDay10_Harshini.txt\n",
      "\n",
      "\n",
      "Processing:  2020-12-12 05:02:45.txt\n",
      "Saving image 202_21 ...\n",
      "Saved image: /common/home/milky-way/new_graph_cities/graphs/h202_21.png\n",
      "Saving file 202_21 ...\n",
      "Saved JSON: /common/home/milky-way/new_graph_cities/cities/h202_21.txt\n",
      "\n",
      "\n",
      "Saving file Day10_Harshini ...\n",
      "Saved JSON: /common/home/milky-way/new_graph_cities/cities/hDay10_Harshini.txt\n",
      "\n",
      "\n",
      "Processing:  2020-12-12 05:02:47.txt\n",
      "Saving image 202_22 ...\n",
      "Saved image: /common/home/milky-way/new_graph_cities/graphs/h202_22.png\n",
      "Saving file 202_22 ...\n",
      "Saved JSON: /common/home/milky-way/new_graph_cities/cities/h202_22.txt\n",
      "\n",
      "\n",
      "Saving file Day10_Harshini ...\n",
      "Saved JSON: /common/home/milky-way/new_graph_cities/cities/hDay10_Harshini.txt\n",
      "\n",
      "\n",
      "Processing:  2020-12-12 05:02:48.txt\n",
      "Saving image 202_23 ...\n",
      "Saved image: /common/home/milky-way/new_graph_cities/graphs/h202_23.png\n",
      "Saving file 202_23 ...\n",
      "Saved JSON: /common/home/milky-way/new_graph_cities/cities/h202_23.txt\n",
      "\n",
      "\n",
      "Saving file Day10_Harshini ...\n",
      "Saved JSON: /common/home/milky-way/new_graph_cities/cities/hDay10_Harshini.txt\n",
      "\n",
      "\n",
      "Processing:  2020-12-12 05:02:49.txt\n",
      "Saving image 202_24 ...\n",
      "Saved image: /common/home/milky-way/new_graph_cities/graphs/h202_24.png\n",
      "Saving file 202_24 ...\n",
      "Saved JSON: /common/home/milky-way/new_graph_cities/cities/h202_24.txt\n",
      "\n",
      "\n",
      "Saving file Day10_Harshini ...\n",
      "Saved JSON: /common/home/milky-way/new_graph_cities/cities/hDay10_Harshini.txt\n",
      "\n",
      "\n",
      "Processing:  2020-12-12 05:02:50.txt\n",
      "Saving image 202_25 ...\n",
      "Saved image: /common/home/milky-way/new_graph_cities/graphs/h202_25.png\n",
      "Saving file 202_25 ...\n",
      "Saved JSON: /common/home/milky-way/new_graph_cities/cities/h202_25.txt\n",
      "\n",
      "\n",
      "Saving file Day10_Harshini ...\n",
      "Saved JSON: /common/home/milky-way/new_graph_cities/cities/hDay10_Harshini.txt\n",
      "\n",
      "\n",
      "Processing:  2020-12-12 05:02:51.txt\n",
      "Saving image 202_26 ...\n",
      "Saved image: /common/home/milky-way/new_graph_cities/graphs/h202_26.png\n",
      "Saving file 202_26 ...\n",
      "Saved JSON: /common/home/milky-way/new_graph_cities/cities/h202_26.txt\n",
      "\n",
      "\n",
      "Saving file Day10_Harshini ...\n",
      "Saved JSON: /common/home/milky-way/new_graph_cities/cities/hDay10_Harshini.txt\n",
      "\n",
      "\n",
      "Processing:  2020-12-12 05:02:52.txt\n",
      "Saving image 202_27 ...\n",
      "Saved image: /common/home/milky-way/new_graph_cities/graphs/h202_27.png\n",
      "Saving file 202_27 ...\n",
      "Saved JSON: /common/home/milky-way/new_graph_cities/cities/h202_27.txt\n",
      "\n",
      "\n",
      "Saving file Day10_Harshini ...\n",
      "Saved JSON: /common/home/milky-way/new_graph_cities/cities/hDay10_Harshini.txt\n",
      "\n",
      "\n",
      "Processing:  2020-12-12 05:02:56.txt\n",
      "Saving image 202_28 ...\n",
      "Saved image: /common/home/milky-way/new_graph_cities/graphs/h202_28.png\n",
      "Saving file 202_28 ...\n",
      "Saved JSON: /common/home/milky-way/new_graph_cities/cities/h202_28.txt\n",
      "\n",
      "\n",
      "Saving file Day10_Harshini ...\n",
      "Saved JSON: /common/home/milky-way/new_graph_cities/cities/hDay10_Harshini.txt\n",
      "\n",
      "\n",
      "Processing:  2020-12-12 05:02:58.txt\n",
      "Saving image 202_29 ...\n",
      "Saved image: /common/home/milky-way/new_graph_cities/graphs/h202_29.png\n",
      "Saving file 202_29 ...\n",
      "Saved JSON: /common/home/milky-way/new_graph_cities/cities/h202_29.txt\n",
      "\n",
      "\n",
      "Saving file Day10_Harshini ...\n",
      "Saved JSON: /common/home/milky-way/new_graph_cities/cities/hDay10_Harshini.txt\n",
      "\n",
      "\n",
      "Processing:  2020-12-12 05:02:59.txt\n",
      "Saving image 202_30 ...\n",
      "Saved image: /common/home/milky-way/new_graph_cities/graphs/h202_30.png\n",
      "Saving file 202_30 ...\n",
      "Saved JSON: /common/home/milky-way/new_graph_cities/cities/h202_30.txt\n",
      "\n",
      "\n",
      "Saving file Day10_Harshini ...\n",
      "Saved JSON: /common/home/milky-way/new_graph_cities/cities/hDay10_Harshini.txt\n",
      "\n",
      "\n",
      "Processing:  2020-12-12 05:03:00.txt\n",
      "Saving image 202_31 ...\n",
      "Saved image: /common/home/milky-way/new_graph_cities/graphs/h202_31.png\n",
      "Saving file 202_31 ...\n",
      "Saved JSON: /common/home/milky-way/new_graph_cities/cities/h202_31.txt\n",
      "\n",
      "\n",
      "Saving file Day10_Harshini ...\n",
      "Saved JSON: /common/home/milky-way/new_graph_cities/cities/hDay10_Harshini.txt\n",
      "\n",
      "\n",
      "Processing:  2020-12-12 05:03:01.txt\n",
      "Saving image 202_32 ...\n",
      "Saved image: /common/home/milky-way/new_graph_cities/graphs/h202_32.png\n",
      "Saving file 202_32 ...\n",
      "Saved JSON: /common/home/milky-way/new_graph_cities/cities/h202_32.txt\n",
      "\n",
      "\n",
      "Saving file Day10_Harshini ...\n",
      "Saved JSON: /common/home/milky-way/new_graph_cities/cities/hDay10_Harshini.txt\n",
      "\n",
      "\n",
      "Processing:  2020-12-12 05:03:08.txt\n",
      "Saving image 202_33 ...\n",
      "Saved image: /common/home/milky-way/new_graph_cities/graphs/h202_33.png\n",
      "Saving file 202_33 ...\n",
      "Saved JSON: /common/home/milky-way/new_graph_cities/cities/h202_33.txt\n",
      "\n",
      "\n",
      "Saving file Day10_Harshini ...\n",
      "Saved JSON: /common/home/milky-way/new_graph_cities/cities/hDay10_Harshini.txt\n",
      "\n",
      "\n",
      "Processing:  2020-12-12 05:03:09.txt\n",
      "Saving image 202_34 ...\n",
      "Saved image: /common/home/milky-way/new_graph_cities/graphs/h202_34.png\n",
      "Saving file 202_34 ...\n",
      "Saved JSON: /common/home/milky-way/new_graph_cities/cities/h202_34.txt\n",
      "\n",
      "\n",
      "Saving file Day10_Harshini ...\n",
      "Saved JSON: /common/home/milky-way/new_graph_cities/cities/hDay10_Harshini.txt\n",
      "\n",
      "\n",
      "Processing:  2020-12-12 05:03:17.txt\n",
      "Saving image 202_35 ...\n",
      "Saved image: /common/home/milky-way/new_graph_cities/graphs/h202_35.png\n",
      "Saving file 202_35 ...\n",
      "Saved JSON: /common/home/milky-way/new_graph_cities/cities/h202_35.txt\n",
      "\n",
      "\n",
      "Saving file Day10_Harshini ...\n",
      "Saved JSON: /common/home/milky-way/new_graph_cities/cities/hDay10_Harshini.txt\n",
      "\n",
      "\n",
      "Processing:  2020-12-12 05:03:18.txt\n",
      "Saving image 203_1 ...\n",
      "Saved image: /common/home/milky-way/new_graph_cities/graphs/h203_1.png\n",
      "Saving file 203_1 ...\n",
      "Saved JSON: /common/home/milky-way/new_graph_cities/cities/h203_1.txt\n",
      "\n",
      "\n",
      "Saving file Day10_Harshini ...\n",
      "Saved JSON: /common/home/milky-way/new_graph_cities/cities/hDay10_Harshini.txt\n",
      "\n",
      "\n",
      "Processing:  2020-12-12 05:03:19.txt\n",
      "Saving image 203_2 ...\n",
      "Saved image: /common/home/milky-way/new_graph_cities/graphs/h203_2.png\n",
      "Saving file 203_2 ...\n",
      "Saved JSON: /common/home/milky-way/new_graph_cities/cities/h203_2.txt\n",
      "\n",
      "\n",
      "Saving file Day10_Harshini ...\n",
      "Saved JSON: /common/home/milky-way/new_graph_cities/cities/hDay10_Harshini.txt\n",
      "\n",
      "\n",
      "Processing:  2020-12-12 05:03:20.txt\n",
      "Saving image 203_3 ...\n",
      "Saved image: /common/home/milky-way/new_graph_cities/graphs/h203_3.png\n",
      "Saving file 203_3 ...\n",
      "Saved JSON: /common/home/milky-way/new_graph_cities/cities/h203_3.txt\n",
      "\n",
      "\n",
      "Saving file Day10_Harshini ...\n",
      "Saved JSON: /common/home/milky-way/new_graph_cities/cities/hDay10_Harshini.txt\n",
      "\n",
      "\n",
      "Processing:  2020-12-12 05:03:21.txt\n",
      "Saving image 203_4 ...\n",
      "Saved image: /common/home/milky-way/new_graph_cities/graphs/h203_4.png\n",
      "Saving file 203_4 ...\n",
      "Saved JSON: /common/home/milky-way/new_graph_cities/cities/h203_4.txt\n",
      "\n",
      "\n",
      "Saving file Day10_Harshini ...\n",
      "Saved JSON: /common/home/milky-way/new_graph_cities/cities/hDay10_Harshini.txt\n",
      "\n",
      "\n",
      "Processing:  2020-12-12 05:03:22.txt\n",
      "Saving image 203_5 ...\n",
      "Saved image: /common/home/milky-way/new_graph_cities/graphs/h203_5.png\n",
      "Saving file 203_5 ...\n",
      "Saved JSON: /common/home/milky-way/new_graph_cities/cities/h203_5.txt\n",
      "\n",
      "\n",
      "Saving file Day10_Harshini ...\n",
      "Saved JSON: /common/home/milky-way/new_graph_cities/cities/hDay10_Harshini.txt\n",
      "\n",
      "\n",
      "Processing:  2020-12-12 05:03:23.txt\n",
      "Saving image 203_6 ...\n",
      "Saved image: /common/home/milky-way/new_graph_cities/graphs/h203_6.png\n",
      "Saving file 203_6 ...\n",
      "Saved JSON: /common/home/milky-way/new_graph_cities/cities/h203_6.txt\n",
      "\n",
      "\n",
      "Saving file Day10_Harshini ...\n",
      "Saved JSON: /common/home/milky-way/new_graph_cities/cities/hDay10_Harshini.txt\n",
      "\n",
      "\n",
      "Processing:  2020-12-12 05:03:24.txt\n",
      "Saving image 203_7 ...\n",
      "Saved image: /common/home/milky-way/new_graph_cities/graphs/h203_7.png\n",
      "Saving file 203_7 ...\n",
      "Saved JSON: /common/home/milky-way/new_graph_cities/cities/h203_7.txt\n",
      "\n",
      "\n",
      "Saving file Day10_Harshini ...\n",
      "Saved JSON: /common/home/milky-way/new_graph_cities/cities/hDay10_Harshini.txt\n",
      "\n",
      "\n",
      "Processing:  2020-12-12 05:03:25.txt\n",
      "Saving image 203_8 ...\n",
      "Saved image: /common/home/milky-way/new_graph_cities/graphs/h203_8.png\n",
      "Saving file 203_8 ...\n",
      "Saved JSON: /common/home/milky-way/new_graph_cities/cities/h203_8.txt\n",
      "\n",
      "\n",
      "Saving file Day10_Harshini ...\n",
      "Saved JSON: /common/home/milky-way/new_graph_cities/cities/hDay10_Harshini.txt\n",
      "\n",
      "\n",
      "Processing:  2020-12-12 05:03:26.txt\n",
      "Saving image 203_9 ...\n",
      "Saved image: /common/home/milky-way/new_graph_cities/graphs/h203_9.png\n",
      "Saving file 203_9 ...\n",
      "Saved JSON: /common/home/milky-way/new_graph_cities/cities/h203_9.txt\n",
      "\n",
      "\n",
      "Saving file Day10_Harshini ...\n",
      "Saved JSON: /common/home/milky-way/new_graph_cities/cities/hDay10_Harshini.txt\n",
      "\n",
      "\n",
      "Processing:  2020-12-12 05:03:27.txt\n",
      "Saving image 203_10 ...\n",
      "Saved image: /common/home/milky-way/new_graph_cities/graphs/h203_10.png\n",
      "Saving file 203_10 ...\n",
      "Saved JSON: /common/home/milky-way/new_graph_cities/cities/h203_10.txt\n",
      "\n",
      "\n",
      "Saving file Day10_Harshini ...\n",
      "Saved JSON: /common/home/milky-way/new_graph_cities/cities/hDay10_Harshini.txt\n",
      "\n",
      "\n",
      "Processing:  2020-12-12 05:03:28.txt\n",
      "Saving image 203_11 ...\n",
      "Saved image: /common/home/milky-way/new_graph_cities/graphs/h203_11.png\n",
      "Saving file 203_11 ...\n",
      "Saved JSON: /common/home/milky-way/new_graph_cities/cities/h203_11.txt\n",
      "\n",
      "\n",
      "Saving file Day10_Harshini ...\n",
      "Saved JSON: /common/home/milky-way/new_graph_cities/cities/hDay10_Harshini.txt\n",
      "\n",
      "\n",
      "Processing:  2020-12-12 05:03:29.txt\n",
      "Saving image 203_12 ...\n",
      "Saved image: /common/home/milky-way/new_graph_cities/graphs/h203_12.png\n",
      "Saving file 203_12 ...\n",
      "Saved JSON: /common/home/milky-way/new_graph_cities/cities/h203_12.txt\n",
      "\n",
      "\n",
      "Saving file Day10_Harshini ...\n",
      "Saved JSON: /common/home/milky-way/new_graph_cities/cities/hDay10_Harshini.txt\n",
      "\n",
      "\n",
      "Processing:  2020-12-12 05:03:30.txt\n",
      "Saving image 203_13 ...\n",
      "Saved image: /common/home/milky-way/new_graph_cities/graphs/h203_13.png\n",
      "Saving file 203_13 ...\n",
      "Saved JSON: /common/home/milky-way/new_graph_cities/cities/h203_13.txt\n",
      "\n",
      "\n",
      "Saving file Day10_Harshini ...\n",
      "Saved JSON: /common/home/milky-way/new_graph_cities/cities/hDay10_Harshini.txt\n",
      "\n",
      "\n",
      "Processing:  2020-12-12 05:03:31.txt\n",
      "Saving image 203_14 ...\n",
      "Saved image: /common/home/milky-way/new_graph_cities/graphs/h203_14.png\n",
      "Saving file 203_14 ...\n",
      "Saved JSON: /common/home/milky-way/new_graph_cities/cities/h203_14.txt\n",
      "\n",
      "\n",
      "Saving file Day10_Harshini ...\n",
      "Saved JSON: /common/home/milky-way/new_graph_cities/cities/hDay10_Harshini.txt\n",
      "\n",
      "\n",
      "Processing:  2020-12-12 05:03:32.txt\n",
      "Saving image 203_15 ...\n",
      "Saved image: /common/home/milky-way/new_graph_cities/graphs/h203_15.png\n",
      "Saving file 203_15 ...\n",
      "Saved JSON: /common/home/milky-way/new_graph_cities/cities/h203_15.txt\n",
      "\n",
      "\n",
      "Saving file Day10_Harshini ...\n",
      "Saved JSON: /common/home/milky-way/new_graph_cities/cities/hDay10_Harshini.txt\n",
      "\n",
      "\n",
      "Processing:  2020-12-12 05:03:33.txt\n",
      "Saving image 203_16 ...\n",
      "Saved image: /common/home/milky-way/new_graph_cities/graphs/h203_16.png\n",
      "Saving file 203_16 ...\n",
      "Saved JSON: /common/home/milky-way/new_graph_cities/cities/h203_16.txt\n",
      "\n",
      "\n",
      "Saving file Day10_Harshini ...\n",
      "Saved JSON: /common/home/milky-way/new_graph_cities/cities/hDay10_Harshini.txt\n",
      "\n",
      "\n",
      "Processing:  2020-12-12 05:03:34.txt\n",
      "Saving image 203_17 ...\n",
      "Saved image: /common/home/milky-way/new_graph_cities/graphs/h203_17.png\n",
      "Saving file 203_17 ...\n",
      "Saved JSON: /common/home/milky-way/new_graph_cities/cities/h203_17.txt\n",
      "\n",
      "\n",
      "Saving file Day10_Harshini ...\n",
      "Saved JSON: /common/home/milky-way/new_graph_cities/cities/hDay10_Harshini.txt\n",
      "\n",
      "\n",
      "Processing:  2020-12-12 05:03:35.txt\n",
      "Saving image 203_18 ...\n",
      "Saved image: /common/home/milky-way/new_graph_cities/graphs/h203_18.png\n",
      "Saving file 203_18 ...\n",
      "Saved JSON: /common/home/milky-way/new_graph_cities/cities/h203_18.txt\n",
      "\n",
      "\n",
      "Saving file Day10_Harshini ...\n",
      "Saved JSON: /common/home/milky-way/new_graph_cities/cities/hDay10_Harshini.txt\n",
      "\n",
      "\n",
      "Processing:  2020-12-12 05:03:36.txt\n",
      "Saving image 203_19 ...\n",
      "Saved image: /common/home/milky-way/new_graph_cities/graphs/h203_19.png\n",
      "Saving file 203_19 ...\n",
      "Saved JSON: /common/home/milky-way/new_graph_cities/cities/h203_19.txt\n",
      "\n",
      "\n",
      "Saving file Day10_Harshini ...\n",
      "Saved JSON: /common/home/milky-way/new_graph_cities/cities/hDay10_Harshini.txt\n",
      "\n",
      "\n",
      "Processing:  2020-12-12 05:03:37.txt\n",
      "Saving image 203_20 ...\n",
      "Saved image: /common/home/milky-way/new_graph_cities/graphs/h203_20.png\n",
      "Saving file 203_20 ...\n",
      "Saved JSON: /common/home/milky-way/new_graph_cities/cities/h203_20.txt\n",
      "\n",
      "\n",
      "Saving file Day10_Harshini ...\n",
      "Saved JSON: /common/home/milky-way/new_graph_cities/cities/hDay10_Harshini.txt\n",
      "\n",
      "\n",
      "Processing:  2020-12-12 05:03:38.txt\n",
      "Saving image 203_21 ...\n",
      "Saved image: /common/home/milky-way/new_graph_cities/graphs/h203_21.png\n",
      "Saving file 203_21 ...\n",
      "Saved JSON: /common/home/milky-way/new_graph_cities/cities/h203_21.txt\n",
      "\n",
      "\n",
      "Saving file Day10_Harshini ...\n",
      "Saved JSON: /common/home/milky-way/new_graph_cities/cities/hDay10_Harshini.txt\n",
      "\n",
      "\n",
      "Processing:  2020-12-12 05:03:39.txt\n",
      "Saving image 203_22 ...\n",
      "Saved image: /common/home/milky-way/new_graph_cities/graphs/h203_22.png\n",
      "Saving file 203_22 ...\n",
      "Saved JSON: /common/home/milky-way/new_graph_cities/cities/h203_22.txt\n",
      "\n",
      "\n",
      "Saving file Day10_Harshini ...\n",
      "Saved JSON: /common/home/milky-way/new_graph_cities/cities/hDay10_Harshini.txt\n",
      "\n",
      "\n",
      "Processing:  2020-12-12 05:03:44.txt\n",
      "Saving image 203_23 ...\n",
      "Saved image: /common/home/milky-way/new_graph_cities/graphs/h203_23.png\n",
      "Saving file 203_23 ...\n",
      "Saved JSON: /common/home/milky-way/new_graph_cities/cities/h203_23.txt\n",
      "\n",
      "\n",
      "Saving file Day10_Harshini ...\n",
      "Saved JSON: /common/home/milky-way/new_graph_cities/cities/hDay10_Harshini.txt\n",
      "\n",
      "\n",
      "Processing:  2020-12-12 05:03:45.txt\n",
      "Saving image 203_24 ...\n",
      "Saved image: /common/home/milky-way/new_graph_cities/graphs/h203_24.png\n",
      "Saving file 203_24 ...\n",
      "Saved JSON: /common/home/milky-way/new_graph_cities/cities/h203_24.txt\n",
      "\n",
      "\n",
      "Saving file Day10_Harshini ...\n",
      "Saved JSON: /common/home/milky-way/new_graph_cities/cities/hDay10_Harshini.txt\n",
      "\n",
      "\n",
      "Processing:  2020-12-12 05:03:46.txt\n",
      "Saving image 203_25 ...\n",
      "Saved image: /common/home/milky-way/new_graph_cities/graphs/h203_25.png\n",
      "Saving file 203_25 ...\n",
      "Saved JSON: /common/home/milky-way/new_graph_cities/cities/h203_25.txt\n",
      "\n",
      "\n",
      "Saving file Day10_Harshini ...\n",
      "Saved JSON: /common/home/milky-way/new_graph_cities/cities/hDay10_Harshini.txt\n",
      "\n",
      "\n",
      "Processing:  2020-12-12 05:03:47.txt\n",
      "Saving image 203_26 ...\n",
      "Saved image: /common/home/milky-way/new_graph_cities/graphs/h203_26.png\n",
      "Saving file 203_26 ...\n",
      "Saved JSON: /common/home/milky-way/new_graph_cities/cities/h203_26.txt\n",
      "\n",
      "\n",
      "Saving file Day10_Harshini ...\n",
      "Saved JSON: /common/home/milky-way/new_graph_cities/cities/hDay10_Harshini.txt\n",
      "\n",
      "\n",
      "Processing:  2020-12-12 05:03:48.txt\n",
      "Saving image 203_27 ...\n",
      "Saved image: /common/home/milky-way/new_graph_cities/graphs/h203_27.png\n",
      "Saving file 203_27 ...\n",
      "Saved JSON: /common/home/milky-way/new_graph_cities/cities/h203_27.txt\n",
      "\n",
      "\n",
      "Saving file Day10_Harshini ...\n",
      "Saved JSON: /common/home/milky-way/new_graph_cities/cities/hDay10_Harshini.txt\n",
      "\n",
      "\n",
      "Processing:  2020-12-12 05:03:49.txt\n",
      "Saving image 203_28 ...\n",
      "Saved image: /common/home/milky-way/new_graph_cities/graphs/h203_28.png\n",
      "Saving file 203_28 ...\n",
      "Saved JSON: /common/home/milky-way/new_graph_cities/cities/h203_28.txt\n",
      "\n",
      "\n",
      "Saving file Day10_Harshini ...\n",
      "Saved JSON: /common/home/milky-way/new_graph_cities/cities/hDay10_Harshini.txt\n",
      "\n",
      "\n",
      "Processing:  2020-12-12 05:03:53.txt\n",
      "Saving image 203_29 ...\n",
      "Saved image: /common/home/milky-way/new_graph_cities/graphs/h203_29.png\n",
      "Saving file 203_29 ...\n",
      "Saved JSON: /common/home/milky-way/new_graph_cities/cities/h203_29.txt\n",
      "\n",
      "\n",
      "Saving file Day10_Harshini ...\n",
      "Saved JSON: /common/home/milky-way/new_graph_cities/cities/hDay10_Harshini.txt\n",
      "\n",
      "\n",
      "Processing:  2020-12-12 05:03:56.txt\n",
      "Saving image 203_30 ...\n",
      "Saved image: /common/home/milky-way/new_graph_cities/graphs/h203_30.png\n",
      "Saving file 203_30 ...\n",
      "Saved JSON: /common/home/milky-way/new_graph_cities/cities/h203_30.txt\n",
      "\n",
      "\n",
      "Saving file Day10_Harshini ...\n",
      "Saved JSON: /common/home/milky-way/new_graph_cities/cities/hDay10_Harshini.txt\n",
      "\n",
      "\n",
      "Processing:  2020-12-12 05:03:57.txt\n",
      "Saving image 203_31 ...\n",
      "Saved image: /common/home/milky-way/new_graph_cities/graphs/h203_31.png\n",
      "Saving file 203_31 ...\n",
      "Saved JSON: /common/home/milky-way/new_graph_cities/cities/h203_31.txt\n",
      "\n",
      "\n",
      "Saving file Day10_Harshini ...\n",
      "Saved JSON: /common/home/milky-way/new_graph_cities/cities/hDay10_Harshini.txt\n",
      "\n",
      "\n",
      "Processing:  2020-12-12 05:03:58.txt\n",
      "Saving image 203_32 ...\n",
      "Saved image: /common/home/milky-way/new_graph_cities/graphs/h203_32.png\n",
      "Saving file 203_32 ...\n",
      "Saved JSON: /common/home/milky-way/new_graph_cities/cities/h203_32.txt\n",
      "\n",
      "\n",
      "Saving file Day10_Harshini ...\n",
      "Saved JSON: /common/home/milky-way/new_graph_cities/cities/hDay10_Harshini.txt\n",
      "\n",
      "\n",
      "Processing:  2020-12-12 05:03:59.txt\n",
      "Saving image 203_33 ...\n",
      "Saved image: /common/home/milky-way/new_graph_cities/graphs/h203_33.png\n",
      "Saving file 203_33 ...\n",
      "Saved JSON: /common/home/milky-way/new_graph_cities/cities/h203_33.txt\n",
      "\n",
      "\n",
      "Saving file Day10_Harshini ...\n",
      "Saved JSON: /common/home/milky-way/new_graph_cities/cities/hDay10_Harshini.txt\n",
      "\n",
      "\n",
      "Processing:  2020-12-12 05:04:00.txt\n",
      "Saving image 203_34 ...\n",
      "Saved image: /common/home/milky-way/new_graph_cities/graphs/h203_34.png\n",
      "Saving file 203_34 ...\n",
      "Saved JSON: /common/home/milky-way/new_graph_cities/cities/h203_34.txt\n",
      "\n",
      "\n",
      "Saving file Day10_Harshini ...\n",
      "Saved JSON: /common/home/milky-way/new_graph_cities/cities/hDay10_Harshini.txt\n",
      "\n",
      "\n",
      "Processing:  2020-12-12 05:04:01.txt\n",
      "Saving image 203_35 ...\n",
      "Saved image: /common/home/milky-way/new_graph_cities/graphs/h203_35.png\n",
      "Saving file 203_35 ...\n",
      "Saved JSON: /common/home/milky-way/new_graph_cities/cities/h203_35.txt\n",
      "\n",
      "\n",
      "Saving file Day10_Harshini ...\n",
      "Saved JSON: /common/home/milky-way/new_graph_cities/cities/hDay10_Harshini.txt\n",
      "\n",
      "\n",
      "Processing:  2020-12-12 05:04:02.txt\n",
      "Saving image 203_36 ...\n",
      "Saved image: /common/home/milky-way/new_graph_cities/graphs/h203_36.png\n",
      "Saving file 203_36 ...\n",
      "Saved JSON: /common/home/milky-way/new_graph_cities/cities/h203_36.txt\n",
      "\n",
      "\n",
      "Saving file Day10_Harshini ...\n",
      "Saved JSON: /common/home/milky-way/new_graph_cities/cities/hDay10_Harshini.txt\n",
      "\n",
      "\n",
      "Processing:  2020-12-12 05:04:03.txt\n",
      "Saving image 203_37 ...\n",
      "Saved image: /common/home/milky-way/new_graph_cities/graphs/h203_37.png\n",
      "Saving file 203_37 ...\n",
      "Saved JSON: /common/home/milky-way/new_graph_cities/cities/h203_37.txt\n",
      "\n",
      "\n",
      "Saving file Day10_Harshini ...\n",
      "Saved JSON: /common/home/milky-way/new_graph_cities/cities/hDay10_Harshini.txt\n",
      "\n",
      "\n",
      "Processing:  2020-12-12 05:04:04.txt\n",
      "Saving image 203_38 ...\n",
      "Saved image: /common/home/milky-way/new_graph_cities/graphs/h203_38.png\n",
      "Saving file 203_38 ...\n",
      "Saved JSON: /common/home/milky-way/new_graph_cities/cities/h203_38.txt\n",
      "\n",
      "\n",
      "Saving file Day10_Harshini ...\n",
      "Saved JSON: /common/home/milky-way/new_graph_cities/cities/hDay10_Harshini.txt\n",
      "\n",
      "\n",
      "Processing:  2020-12-12 05:04:06.txt\n",
      "Saving image 203_39 ...\n",
      "Saved image: /common/home/milky-way/new_graph_cities/graphs/h203_39.png\n",
      "Saving file 203_39 ...\n",
      "Saved JSON: /common/home/milky-way/new_graph_cities/cities/h203_39.txt\n",
      "\n",
      "\n",
      "Saving file Day10_Harshini ...\n",
      "Saved JSON: /common/home/milky-way/new_graph_cities/cities/hDay10_Harshini.txt\n",
      "\n",
      "\n",
      "Processing:  2020-12-12 05:04:07.txt\n",
      "Saving image 203_40 ...\n",
      "Saved image: /common/home/milky-way/new_graph_cities/graphs/h203_40.png\n",
      "Saving file 203_40 ...\n",
      "Saved JSON: /common/home/milky-way/new_graph_cities/cities/h203_40.txt\n",
      "\n",
      "\n",
      "Saving file Day10_Harshini ...\n",
      "Saved JSON: /common/home/milky-way/new_graph_cities/cities/hDay10_Harshini.txt\n",
      "\n",
      "\n",
      "Processing:  2020-12-12 05:04:08.txt\n",
      "Saving image 203_41 ...\n",
      "Saved image: /common/home/milky-way/new_graph_cities/graphs/h203_41.png\n",
      "Saving file 203_41 ...\n",
      "Saved JSON: /common/home/milky-way/new_graph_cities/cities/h203_41.txt\n",
      "\n",
      "\n",
      "Saving file Day10_Harshini ...\n",
      "Saved JSON: /common/home/milky-way/new_graph_cities/cities/hDay10_Harshini.txt\n",
      "\n",
      "\n",
      "Processing:  2020-12-12 05:04:09.txt\n",
      "Saving image 203_42 ...\n",
      "Saved image: /common/home/milky-way/new_graph_cities/graphs/h203_42.png\n",
      "Saving file 203_42 ...\n",
      "Saved JSON: /common/home/milky-way/new_graph_cities/cities/h203_42.txt\n",
      "\n",
      "\n",
      "Saving file Day10_Harshini ...\n",
      "Saved JSON: /common/home/milky-way/new_graph_cities/cities/hDay10_Harshini.txt\n",
      "\n",
      "\n",
      "Processing:  2020-12-12 05:04:10.txt\n",
      "Saving image 203_43 ...\n",
      "Saved image: /common/home/milky-way/new_graph_cities/graphs/h203_43.png\n",
      "Saving file 203_43 ...\n",
      "Saved JSON: /common/home/milky-way/new_graph_cities/cities/h203_43.txt\n",
      "\n",
      "\n",
      "Saving file Day10_Harshini ...\n",
      "Saved JSON: /common/home/milky-way/new_graph_cities/cities/hDay10_Harshini.txt\n",
      "\n",
      "\n",
      "Processing:  2020-12-12 05:04:11.txt\n",
      "Saving image 203_44 ...\n",
      "Saved image: /common/home/milky-way/new_graph_cities/graphs/h203_44.png\n",
      "Saving file 203_44 ...\n",
      "Saved JSON: /common/home/milky-way/new_graph_cities/cities/h203_44.txt\n",
      "\n",
      "\n",
      "Saving file Day10_Harshini ...\n",
      "Saved JSON: /common/home/milky-way/new_graph_cities/cities/hDay10_Harshini.txt\n",
      "\n",
      "\n",
      "Processing:  2020-12-12 05:04:12.txt\n",
      "Saving image 203_45 ...\n",
      "Saved image: /common/home/milky-way/new_graph_cities/graphs/h203_45.png\n",
      "Saving file 203_45 ...\n",
      "Saved JSON: /common/home/milky-way/new_graph_cities/cities/h203_45.txt\n",
      "\n",
      "\n",
      "Saving file Day10_Harshini ...\n",
      "Saved JSON: /common/home/milky-way/new_graph_cities/cities/hDay10_Harshini.txt\n",
      "\n",
      "\n",
      "Processing:  2020-12-12 05:04:13.txt\n",
      "Saving image 203_46 ...\n",
      "Saved image: /common/home/milky-way/new_graph_cities/graphs/h203_46.png\n",
      "Saving file 203_46 ...\n",
      "Saved JSON: /common/home/milky-way/new_graph_cities/cities/h203_46.txt\n",
      "\n",
      "\n",
      "Saving file Day10_Harshini ...\n",
      "Saved JSON: /common/home/milky-way/new_graph_cities/cities/hDay10_Harshini.txt\n",
      "\n",
      "\n",
      "Processing:  2020-12-12 05:04:14.txt\n",
      "Saving image 203_47 ...\n",
      "Saved image: /common/home/milky-way/new_graph_cities/graphs/h203_47.png\n",
      "Saving file 203_47 ...\n",
      "Saved JSON: /common/home/milky-way/new_graph_cities/cities/h203_47.txt\n",
      "\n",
      "\n",
      "Saving file Day10_Harshini ...\n",
      "Saved JSON: /common/home/milky-way/new_graph_cities/cities/hDay10_Harshini.txt\n",
      "\n",
      "\n",
      "Processing:  2020-12-12 05:04:15.txt\n",
      "Saving image 203_48 ...\n",
      "Saved image: /common/home/milky-way/new_graph_cities/graphs/h203_48.png\n",
      "Saving file 203_48 ...\n",
      "Saved JSON: /common/home/milky-way/new_graph_cities/cities/h203_48.txt\n",
      "\n",
      "\n",
      "Saving file Day10_Harshini ...\n",
      "Saved JSON: /common/home/milky-way/new_graph_cities/cities/hDay10_Harshini.txt\n",
      "\n",
      "\n",
      "Processing:  2020-12-12 05:04:16.txt\n",
      "Saving image 203_49 ...\n",
      "Saved image: /common/home/milky-way/new_graph_cities/graphs/h203_49.png\n",
      "Saving file 203_49 ...\n",
      "Saved JSON: /common/home/milky-way/new_graph_cities/cities/h203_49.txt\n",
      "\n",
      "\n",
      "Saving file Day10_Harshini ...\n",
      "Saved JSON: /common/home/milky-way/new_graph_cities/cities/hDay10_Harshini.txt\n",
      "\n",
      "\n",
      "Processing:  2020-12-12 05:04:17.txt\n",
      "Saving image 203_50 ...\n",
      "Saved image: /common/home/milky-way/new_graph_cities/graphs/h203_50.png\n",
      "Saving file 203_50 ...\n",
      "Saved JSON: /common/home/milky-way/new_graph_cities/cities/h203_50.txt\n",
      "\n",
      "\n",
      "Saving file Day10_Harshini ...\n",
      "Saved JSON: /common/home/milky-way/new_graph_cities/cities/hDay10_Harshini.txt\n",
      "\n",
      "\n",
      "Processing:  2020-12-12 05:04:18.txt\n",
      "Saving image 203_51 ...\n",
      "Saved image: /common/home/milky-way/new_graph_cities/graphs/h203_51.png\n",
      "Saving file 203_51 ...\n",
      "Saved JSON: /common/home/milky-way/new_graph_cities/cities/h203_51.txt\n",
      "\n",
      "\n",
      "Saving file Day10_Harshini ...\n",
      "Saved JSON: /common/home/milky-way/new_graph_cities/cities/hDay10_Harshini.txt\n",
      "\n",
      "\n",
      "Processing:  2020-12-12 05:04:19.txt\n",
      "Saving image 203_52 ...\n",
      "Saved image: /common/home/milky-way/new_graph_cities/graphs/h203_52.png\n",
      "Saving file 203_52 ...\n",
      "Saved JSON: /common/home/milky-way/new_graph_cities/cities/h203_52.txt\n",
      "\n",
      "\n",
      "Saving file Day10_Harshini ...\n",
      "Saved JSON: /common/home/milky-way/new_graph_cities/cities/hDay10_Harshini.txt\n",
      "\n",
      "\n",
      "Processing:  2020-12-12 05:04:20.txt\n",
      "Saving image 203_53 ...\n",
      "Saved image: /common/home/milky-way/new_graph_cities/graphs/h203_53.png\n",
      "Saving file 203_53 ...\n",
      "Saved JSON: /common/home/milky-way/new_graph_cities/cities/h203_53.txt\n",
      "\n",
      "\n",
      "Saving file Day10_Harshini ...\n",
      "Saved JSON: /common/home/milky-way/new_graph_cities/cities/hDay10_Harshini.txt\n",
      "\n",
      "\n",
      "Processing:  2020-12-12 05:04:21.txt\n",
      "Saving image 203_54 ...\n",
      "Saved image: /common/home/milky-way/new_graph_cities/graphs/h203_54.png\n",
      "Saving file 203_54 ...\n",
      "Saved JSON: /common/home/milky-way/new_graph_cities/cities/h203_54.txt\n",
      "\n",
      "\n",
      "Saving file Day10_Harshini ...\n",
      "Saved JSON: /common/home/milky-way/new_graph_cities/cities/hDay10_Harshini.txt\n",
      "\n",
      "\n",
      "Processing:  2020-12-12 05:04:22.txt\n",
      "Saving image 203_55 ...\n",
      "Saved image: /common/home/milky-way/new_graph_cities/graphs/h203_55.png\n",
      "Saving file 203_55 ...\n",
      "Saved JSON: /common/home/milky-way/new_graph_cities/cities/h203_55.txt\n",
      "\n",
      "\n",
      "Saving file Day10_Harshini ...\n",
      "Saved JSON: /common/home/milky-way/new_graph_cities/cities/hDay10_Harshini.txt\n",
      "\n",
      "\n",
      "Processing:  2020-12-12 05:04:23.txt\n",
      "Saving image 203_56 ...\n",
      "Saved image: /common/home/milky-way/new_graph_cities/graphs/h203_56.png\n",
      "Saving file 203_56 ...\n",
      "Saved JSON: /common/home/milky-way/new_graph_cities/cities/h203_56.txt\n",
      "\n",
      "\n",
      "Saving file Day10_Harshini ...\n",
      "Saved JSON: /common/home/milky-way/new_graph_cities/cities/hDay10_Harshini.txt\n",
      "\n",
      "\n",
      "Processing:  2020-12-12 05:04:24.txt\n",
      "Saving image 203_57 ...\n",
      "Saved image: /common/home/milky-way/new_graph_cities/graphs/h203_57.png\n",
      "Saving file 203_57 ...\n",
      "Saved JSON: /common/home/milky-way/new_graph_cities/cities/h203_57.txt\n",
      "\n",
      "\n",
      "Saving file Day10_Harshini ...\n",
      "Saved JSON: /common/home/milky-way/new_graph_cities/cities/hDay10_Harshini.txt\n",
      "\n",
      "\n",
      "Processing:  2020-12-12 05:04:25.txt\n",
      "Saving image 203_58 ...\n",
      "Saved image: /common/home/milky-way/new_graph_cities/graphs/h203_58.png\n",
      "Saving file 203_58 ...\n",
      "Saved JSON: /common/home/milky-way/new_graph_cities/cities/h203_58.txt\n",
      "\n",
      "\n",
      "Saving file Day10_Harshini ...\n",
      "Saved JSON: /common/home/milky-way/new_graph_cities/cities/hDay10_Harshini.txt\n",
      "\n",
      "\n",
      "Processing:  2020-12-12 05:04:26.txt\n",
      "Saving image 203_59 ...\n",
      "Saved image: /common/home/milky-way/new_graph_cities/graphs/h203_59.png\n",
      "Saving file 203_59 ...\n",
      "Saved JSON: /common/home/milky-way/new_graph_cities/cities/h203_59.txt\n",
      "\n",
      "\n",
      "Saving file Day10_Harshini ...\n",
      "Saved JSON: /common/home/milky-way/new_graph_cities/cities/hDay10_Harshini.txt\n",
      "\n",
      "\n",
      "Processing:  2020-12-12 05:04:27.txt\n",
      "Saving image 203_60 ...\n",
      "Saved image: /common/home/milky-way/new_graph_cities/graphs/h203_60.png\n",
      "Saving file 203_60 ...\n",
      "Saved JSON: /common/home/milky-way/new_graph_cities/cities/h203_60.txt\n",
      "\n",
      "\n",
      "Saving file Day10_Harshini ...\n",
      "Saved JSON: /common/home/milky-way/new_graph_cities/cities/hDay10_Harshini.txt\n",
      "\n",
      "\n",
      "Processing:  2020-12-12 05:04:28.txt\n",
      "Saving image 203_61 ...\n",
      "Saved image: /common/home/milky-way/new_graph_cities/graphs/h203_61.png\n",
      "Saving file 203_61 ...\n",
      "Saved JSON: /common/home/milky-way/new_graph_cities/cities/h203_61.txt\n",
      "\n",
      "\n",
      "Saving file Day10_Harshini ...\n",
      "Saved JSON: /common/home/milky-way/new_graph_cities/cities/hDay10_Harshini.txt\n",
      "\n",
      "\n",
      "Processing:  2020-12-12 05:04:29.txt\n",
      "Saving image 203_62 ...\n",
      "Saved image: /common/home/milky-way/new_graph_cities/graphs/h203_62.png\n",
      "Saving file 203_62 ...\n",
      "Saved JSON: /common/home/milky-way/new_graph_cities/cities/h203_62.txt\n",
      "\n",
      "\n",
      "Saving file Day10_Harshini ...\n",
      "Saved JSON: /common/home/milky-way/new_graph_cities/cities/hDay10_Harshini.txt\n",
      "\n",
      "\n",
      "Processing:  2020-12-12 05:04:30.txt\n",
      "Saving image 203_63 ...\n",
      "Saved image: /common/home/milky-way/new_graph_cities/graphs/h203_63.png\n",
      "Saving file 203_63 ...\n",
      "Saved JSON: /common/home/milky-way/new_graph_cities/cities/h203_63.txt\n",
      "\n",
      "\n",
      "Saving file Day10_Harshini ...\n",
      "Saved JSON: /common/home/milky-way/new_graph_cities/cities/hDay10_Harshini.txt\n",
      "\n",
      "\n",
      "Processing:  2020-12-12 05:04:31.txt\n",
      "Saving image 203_64 ...\n",
      "Saved image: /common/home/milky-way/new_graph_cities/graphs/h203_64.png\n",
      "Saving file 203_64 ...\n",
      "Saved JSON: /common/home/milky-way/new_graph_cities/cities/h203_64.txt\n",
      "\n",
      "\n",
      "Saving file Day10_Harshini ...\n",
      "Saved JSON: /common/home/milky-way/new_graph_cities/cities/hDay10_Harshini.txt\n",
      "\n",
      "\n",
      "Processing:  2020-12-12 05:04:32.txt\n",
      "Saving image 203_65 ...\n",
      "Saved image: /common/home/milky-way/new_graph_cities/graphs/h203_65.png\n",
      "Saving file 203_65 ...\n",
      "Saved JSON: /common/home/milky-way/new_graph_cities/cities/h203_65.txt\n",
      "\n",
      "\n",
      "Saving file Day10_Harshini ...\n",
      "Saved JSON: /common/home/milky-way/new_graph_cities/cities/hDay10_Harshini.txt\n",
      "\n",
      "\n",
      "Processing:  2020-12-12 05:04:33.txt\n",
      "Saving image 203_66 ...\n",
      "Saved image: /common/home/milky-way/new_graph_cities/graphs/h203_66.png\n",
      "Saving file 203_66 ...\n",
      "Saved JSON: /common/home/milky-way/new_graph_cities/cities/h203_66.txt\n",
      "\n",
      "\n",
      "Saving file Day10_Harshini ...\n",
      "Saved JSON: /common/home/milky-way/new_graph_cities/cities/hDay10_Harshini.txt\n",
      "\n",
      "\n",
      "Processing:  2020-12-12 05:04:34.txt\n",
      "Saving image 203_67 ...\n",
      "Saved image: /common/home/milky-way/new_graph_cities/graphs/h203_67.png\n",
      "Saving file 203_67 ...\n",
      "Saved JSON: /common/home/milky-way/new_graph_cities/cities/h203_67.txt\n",
      "\n",
      "\n",
      "Saving file Day10_Harshini ...\n",
      "Saved JSON: /common/home/milky-way/new_graph_cities/cities/hDay10_Harshini.txt\n",
      "\n",
      "\n",
      "Processing:  2020-12-12 05:04:35.txt\n",
      "Saving image 203_68 ...\n",
      "Saved image: /common/home/milky-way/new_graph_cities/graphs/h203_68.png\n",
      "Saving file 203_68 ...\n",
      "Saved JSON: /common/home/milky-way/new_graph_cities/cities/h203_68.txt\n",
      "\n",
      "\n",
      "Saving file Day10_Harshini ...\n",
      "Saved JSON: /common/home/milky-way/new_graph_cities/cities/hDay10_Harshini.txt\n",
      "\n",
      "\n",
      "Processing:  2020-12-12 05:04:36.txt\n",
      "Saving image 203_69 ...\n",
      "Saved image: /common/home/milky-way/new_graph_cities/graphs/h203_69.png\n",
      "Saving file 203_69 ...\n",
      "Saved JSON: /common/home/milky-way/new_graph_cities/cities/h203_69.txt\n",
      "\n",
      "\n",
      "Saving file Day10_Harshini ...\n",
      "Saved JSON: /common/home/milky-way/new_graph_cities/cities/hDay10_Harshini.txt\n",
      "\n",
      "\n",
      "Processing:  2020-12-12 05:04:37.txt\n",
      "Saving image 203_70 ...\n",
      "Saved image: /common/home/milky-way/new_graph_cities/graphs/h203_70.png\n",
      "Saving file 203_70 ...\n",
      "Saved JSON: /common/home/milky-way/new_graph_cities/cities/h203_70.txt\n",
      "\n",
      "\n",
      "Saving file Day10_Harshini ...\n",
      "Saved JSON: /common/home/milky-way/new_graph_cities/cities/hDay10_Harshini.txt\n",
      "\n",
      "\n",
      "Processing:  2020-12-12 05:04:39.txt\n",
      "Saving image 203_71 ...\n",
      "Saved image: /common/home/milky-way/new_graph_cities/graphs/h203_71.png\n",
      "Saving file 203_71 ...\n",
      "Saved JSON: /common/home/milky-way/new_graph_cities/cities/h203_71.txt\n",
      "\n",
      "\n",
      "Saving file Day10_Harshini ...\n",
      "Saved JSON: /common/home/milky-way/new_graph_cities/cities/hDay10_Harshini.txt\n",
      "\n",
      "\n",
      "Processing:  2020-12-12 05:04:40.txt\n",
      "Saving image 203_72 ...\n",
      "Saved image: /common/home/milky-way/new_graph_cities/graphs/h203_72.png\n",
      "Saving file 203_72 ...\n",
      "Saved JSON: /common/home/milky-way/new_graph_cities/cities/h203_72.txt\n",
      "\n",
      "\n",
      "Saving file Day10_Harshini ...\n",
      "Saved JSON: /common/home/milky-way/new_graph_cities/cities/hDay10_Harshini.txt\n",
      "\n",
      "\n",
      "Processing:  2020-12-12 05:04:41.txt\n",
      "Saving image 203_73 ...\n",
      "Saved image: /common/home/milky-way/new_graph_cities/graphs/h203_73.png\n",
      "Saving file 203_73 ...\n",
      "Saved JSON: /common/home/milky-way/new_graph_cities/cities/h203_73.txt\n",
      "\n",
      "\n",
      "Saving file Day10_Harshini ...\n",
      "Saved JSON: /common/home/milky-way/new_graph_cities/cities/hDay10_Harshini.txt\n",
      "\n",
      "\n",
      "Processing:  2020-12-12 05:04:42.txt\n",
      "Saving image 203_74 ...\n",
      "Saved image: /common/home/milky-way/new_graph_cities/graphs/h203_74.png\n",
      "Saving file 203_74 ...\n",
      "Saved JSON: /common/home/milky-way/new_graph_cities/cities/h203_74.txt\n",
      "\n",
      "\n",
      "Saving file Day10_Harshini ...\n",
      "Saved JSON: /common/home/milky-way/new_graph_cities/cities/hDay10_Harshini.txt\n",
      "\n",
      "\n",
      "Processing:  2020-12-12 05:04:43.txt\n",
      "Saving image 203_75 ...\n",
      "Saved image: /common/home/milky-way/new_graph_cities/graphs/h203_75.png\n",
      "Saving file 203_75 ...\n",
      "Saved JSON: /common/home/milky-way/new_graph_cities/cities/h203_75.txt\n",
      "\n",
      "\n",
      "Saving file Day10_Harshini ...\n",
      "Saved JSON: /common/home/milky-way/new_graph_cities/cities/hDay10_Harshini.txt\n",
      "\n",
      "\n",
      "Processing:  2020-12-12 05:04:44.txt\n",
      "Saving image 203_76 ...\n",
      "Saved image: /common/home/milky-way/new_graph_cities/graphs/h203_76.png\n",
      "Saving file 203_76 ...\n",
      "Saved JSON: /common/home/milky-way/new_graph_cities/cities/h203_76.txt\n",
      "\n",
      "\n",
      "Saving file Day10_Harshini ...\n",
      "Saved JSON: /common/home/milky-way/new_graph_cities/cities/hDay10_Harshini.txt\n",
      "\n",
      "\n",
      "Processing:  2020-12-12 05:04:46.txt\n",
      "Saving image 203_77 ...\n",
      "Saved image: /common/home/milky-way/new_graph_cities/graphs/h203_77.png\n",
      "Saving file 203_77 ...\n",
      "Saved JSON: /common/home/milky-way/new_graph_cities/cities/h203_77.txt\n",
      "\n",
      "\n",
      "Saving file Day10_Harshini ...\n",
      "Saved JSON: /common/home/milky-way/new_graph_cities/cities/hDay10_Harshini.txt\n",
      "\n",
      "\n",
      "Processing:  2020-12-12 05:04:49.txt\n",
      "Saving image 203_78 ...\n",
      "Saved image: /common/home/milky-way/new_graph_cities/graphs/h203_78.png\n",
      "Saving file 203_78 ...\n",
      "Saved JSON: /common/home/milky-way/new_graph_cities/cities/h203_78.txt\n",
      "\n",
      "\n",
      "Saving file Day10_Harshini ...\n",
      "Saved JSON: /common/home/milky-way/new_graph_cities/cities/hDay10_Harshini.txt\n",
      "\n",
      "\n",
      "Processing:  2020-12-12 05:04:50.txt\n",
      "Saving image 203_79 ...\n",
      "Saved image: /common/home/milky-way/new_graph_cities/graphs/h203_79.png\n",
      "Saving file 203_79 ...\n",
      "Saved JSON: /common/home/milky-way/new_graph_cities/cities/h203_79.txt\n",
      "\n",
      "\n",
      "Saving file Day10_Harshini ...\n",
      "Saved JSON: /common/home/milky-way/new_graph_cities/cities/hDay10_Harshini.txt\n",
      "\n",
      "\n",
      "Processing:  2020-12-12 05:04:51.txt\n",
      "Saving image 203_80 ...\n",
      "Saved image: /common/home/milky-way/new_graph_cities/graphs/h203_80.png\n",
      "Saving file 203_80 ...\n",
      "Saved JSON: /common/home/milky-way/new_graph_cities/cities/h203_80.txt\n",
      "\n",
      "\n",
      "Saving file Day10_Harshini ...\n",
      "Saved JSON: /common/home/milky-way/new_graph_cities/cities/hDay10_Harshini.txt\n",
      "\n",
      "\n",
      "Processing:  2020-12-12 05:04:53.txt\n",
      "Saving image 203_81 ...\n",
      "Saved image: /common/home/milky-way/new_graph_cities/graphs/h203_81.png\n",
      "Saving file 203_81 ...\n",
      "Saved JSON: /common/home/milky-way/new_graph_cities/cities/h203_81.txt\n",
      "\n",
      "\n",
      "Saving file Day10_Harshini ...\n",
      "Saved JSON: /common/home/milky-way/new_graph_cities/cities/hDay10_Harshini.txt\n",
      "\n",
      "\n",
      "Processing:  2020-12-12 05:04:54.txt\n",
      "Saving image 203_82 ...\n",
      "Saved image: /common/home/milky-way/new_graph_cities/graphs/h203_82.png\n",
      "Saving file 203_82 ...\n",
      "Saved JSON: /common/home/milky-way/new_graph_cities/cities/h203_82.txt\n",
      "\n",
      "\n",
      "Saving file Day10_Harshini ...\n",
      "Saved JSON: /common/home/milky-way/new_graph_cities/cities/hDay10_Harshini.txt\n",
      "\n",
      "\n",
      "Processing:  2020-12-12 05:04:55.txt\n",
      "Saving image 203_83 ...\n",
      "Saved image: /common/home/milky-way/new_graph_cities/graphs/h203_83.png\n",
      "Saving file 203_83 ...\n",
      "Saved JSON: /common/home/milky-way/new_graph_cities/cities/h203_83.txt\n",
      "\n",
      "\n",
      "Saving file Day10_Harshini ...\n",
      "Saved JSON: /common/home/milky-way/new_graph_cities/cities/hDay10_Harshini.txt\n",
      "\n",
      "\n",
      "Processing:  2020-12-12 05:04:56.txt\n",
      "Saving image 203_84 ...\n",
      "Saved image: /common/home/milky-way/new_graph_cities/graphs/h203_84.png\n",
      "Saving file 203_84 ...\n",
      "Saved JSON: /common/home/milky-way/new_graph_cities/cities/h203_84.txt\n",
      "\n",
      "\n",
      "Saving file Day10_Harshini ...\n",
      "Saved JSON: /common/home/milky-way/new_graph_cities/cities/hDay10_Harshini.txt\n",
      "\n",
      "\n",
      "Processing:  2020-12-12 05:04:57.txt\n",
      "Saving image 203_85 ...\n",
      "Saved image: /common/home/milky-way/new_graph_cities/graphs/h203_85.png\n",
      "Saving file 203_85 ...\n",
      "Saved JSON: /common/home/milky-way/new_graph_cities/cities/h203_85.txt\n",
      "\n",
      "\n",
      "Saving file Day10_Harshini ...\n",
      "Saved JSON: /common/home/milky-way/new_graph_cities/cities/hDay10_Harshini.txt\n",
      "\n",
      "\n",
      "Processing:  2020-12-12 05:04:58.txt\n",
      "Saving image 203_86 ...\n",
      "Saved image: /common/home/milky-way/new_graph_cities/graphs/h203_86.png\n",
      "Saving file 203_86 ...\n",
      "Saved JSON: /common/home/milky-way/new_graph_cities/cities/h203_86.txt\n",
      "\n",
      "\n",
      "Saving file Day10_Harshini ...\n",
      "Saved JSON: /common/home/milky-way/new_graph_cities/cities/hDay10_Harshini.txt\n",
      "\n",
      "\n",
      "Processing:  2020-12-12 05:04:59.txt\n",
      "Saving image 203_87 ...\n",
      "Saved image: /common/home/milky-way/new_graph_cities/graphs/h203_87.png\n",
      "Saving file 203_87 ...\n",
      "Saved JSON: /common/home/milky-way/new_graph_cities/cities/h203_87.txt\n",
      "\n",
      "\n",
      "Saving file Day10_Harshini ...\n",
      "Saved JSON: /common/home/milky-way/new_graph_cities/cities/hDay10_Harshini.txt\n",
      "\n",
      "\n",
      "Processing:  2020-12-12 05:05:01.txt\n",
      "Saving image 203_88 ...\n",
      "Saved image: /common/home/milky-way/new_graph_cities/graphs/h203_88.png\n",
      "Saving file 203_88 ...\n",
      "Saved JSON: /common/home/milky-way/new_graph_cities/cities/h203_88.txt\n",
      "\n",
      "\n",
      "Saving file Day10_Harshini ...\n",
      "Saved JSON: /common/home/milky-way/new_graph_cities/cities/hDay10_Harshini.txt\n",
      "\n",
      "\n",
      "Processing:  2020-12-12 05:05:02.txt\n",
      "Saving image 203_89 ...\n",
      "Saved image: /common/home/milky-way/new_graph_cities/graphs/h203_89.png\n",
      "Saving file 203_89 ...\n",
      "Saved JSON: /common/home/milky-way/new_graph_cities/cities/h203_89.txt\n",
      "\n",
      "\n",
      "Saving file Day10_Harshini ...\n",
      "Saved JSON: /common/home/milky-way/new_graph_cities/cities/hDay10_Harshini.txt\n",
      "\n",
      "\n",
      "Processing:  2020-12-12 05:05:03.txt\n",
      "Saving image 203_90 ...\n",
      "Saved image: /common/home/milky-way/new_graph_cities/graphs/h203_90.png\n",
      "Saving file 203_90 ...\n",
      "Saved JSON: /common/home/milky-way/new_graph_cities/cities/h203_90.txt\n",
      "\n",
      "\n",
      "Saving file Day10_Harshini ...\n",
      "Saved JSON: /common/home/milky-way/new_graph_cities/cities/hDay10_Harshini.txt\n",
      "\n",
      "\n",
      "Processing:  2020-12-12 05:05:04.txt\n",
      "Saving image 203_91 ...\n",
      "Saved image: /common/home/milky-way/new_graph_cities/graphs/h203_91.png\n",
      "Saving file 203_91 ...\n",
      "Saved JSON: /common/home/milky-way/new_graph_cities/cities/h203_91.txt\n",
      "\n",
      "\n",
      "Saving file Day10_Harshini ...\n",
      "Saved JSON: /common/home/milky-way/new_graph_cities/cities/hDay10_Harshini.txt\n",
      "\n",
      "\n",
      "Processing:  2020-12-12 05:05:05.txt\n",
      "Saving image 203_92 ...\n",
      "Saved image: /common/home/milky-way/new_graph_cities/graphs/h203_92.png\n",
      "Saving file 203_92 ...\n",
      "Saved JSON: /common/home/milky-way/new_graph_cities/cities/h203_92.txt\n",
      "\n",
      "\n",
      "Saving file Day10_Harshini ...\n",
      "Saved JSON: /common/home/milky-way/new_graph_cities/cities/hDay10_Harshini.txt\n",
      "\n",
      "\n",
      "Processing:  2020-12-12 05:05:06.txt\n",
      "Saving image 203_93 ...\n",
      "Saved image: /common/home/milky-way/new_graph_cities/graphs/h203_93.png\n",
      "Saving file 203_93 ...\n",
      "Saved JSON: /common/home/milky-way/new_graph_cities/cities/h203_93.txt\n",
      "\n",
      "\n",
      "Saving file Day10_Harshini ...\n",
      "Saved JSON: /common/home/milky-way/new_graph_cities/cities/hDay10_Harshini.txt\n",
      "\n",
      "\n",
      "Processing:  2020-12-12 05:05:08.txt\n",
      "Saving image 203_94 ...\n",
      "Saved image: /common/home/milky-way/new_graph_cities/graphs/h203_94.png\n",
      "Saving file 203_94 ...\n",
      "Saved JSON: /common/home/milky-way/new_graph_cities/cities/h203_94.txt\n",
      "\n",
      "\n",
      "Saving file Day10_Harshini ...\n",
      "Saved JSON: /common/home/milky-way/new_graph_cities/cities/hDay10_Harshini.txt\n",
      "\n",
      "\n",
      "Processing:  2020-12-12 05:05:09.txt\n",
      "Saving image 203_95 ...\n",
      "Saved image: /common/home/milky-way/new_graph_cities/graphs/h203_95.png\n",
      "Saving file 203_95 ...\n",
      "Saved JSON: /common/home/milky-way/new_graph_cities/cities/h203_95.txt\n",
      "\n",
      "\n",
      "Saving file Day10_Harshini ...\n",
      "Saved JSON: /common/home/milky-way/new_graph_cities/cities/hDay10_Harshini.txt\n",
      "\n",
      "\n",
      "Processing:  2020-12-12 05:05:10.txt\n",
      "Saving image 203_96 ...\n",
      "Saved image: /common/home/milky-way/new_graph_cities/graphs/h203_96.png\n",
      "Saving file 203_96 ...\n",
      "Saved JSON: /common/home/milky-way/new_graph_cities/cities/h203_96.txt\n",
      "\n",
      "\n",
      "Saving file Day10_Harshini ...\n",
      "Saved JSON: /common/home/milky-way/new_graph_cities/cities/hDay10_Harshini.txt\n",
      "\n",
      "\n",
      "Processing:  2020-12-12 05:05:11.txt\n",
      "Saving image 203_97 ...\n",
      "Saved image: /common/home/milky-way/new_graph_cities/graphs/h203_97.png\n",
      "Saving file 203_97 ...\n",
      "Saved JSON: /common/home/milky-way/new_graph_cities/cities/h203_97.txt\n",
      "\n",
      "\n",
      "Saving file Day10_Harshini ...\n",
      "Saved JSON: /common/home/milky-way/new_graph_cities/cities/hDay10_Harshini.txt\n",
      "\n",
      "\n",
      "Processing:  2020-12-12 05:05:12.txt\n",
      "Saving image 203_98 ...\n",
      "Saved image: /common/home/milky-way/new_graph_cities/graphs/h203_98.png\n",
      "Saving file 203_98 ...\n",
      "Saved JSON: /common/home/milky-way/new_graph_cities/cities/h203_98.txt\n",
      "\n",
      "\n",
      "Saving file Day10_Harshini ...\n",
      "Saved JSON: /common/home/milky-way/new_graph_cities/cities/hDay10_Harshini.txt\n",
      "\n",
      "\n",
      "Processing:  2020-12-12 05:05:13.txt\n",
      "Saving image 203_99 ...\n",
      "Saved image: /common/home/milky-way/new_graph_cities/graphs/h203_99.png\n",
      "Saving file 203_99 ...\n",
      "Saved JSON: /common/home/milky-way/new_graph_cities/cities/h203_99.txt\n",
      "\n",
      "\n",
      "Saving file Day10_Harshini ...\n",
      "Saved JSON: /common/home/milky-way/new_graph_cities/cities/hDay10_Harshini.txt\n",
      "\n",
      "\n",
      "Processing:  2020-12-12 05:05:15.txt\n",
      "Saving image 203_100 ...\n",
      "Saved image: /common/home/milky-way/new_graph_cities/graphs/h203_100.png\n",
      "Saving file 203_100 ...\n",
      "Saved JSON: /common/home/milky-way/new_graph_cities/cities/h203_100.txt\n",
      "\n",
      "\n",
      "Saving file Day10_Harshini ...\n",
      "Saved JSON: /common/home/milky-way/new_graph_cities/cities/hDay10_Harshini.txt\n",
      "\n",
      "\n",
      "Processing:  2020-12-12 05:05:16.txt\n",
      "Saving image 203_101 ...\n",
      "Saved image: /common/home/milky-way/new_graph_cities/graphs/h203_101.png\n",
      "Saving file 203_101 ...\n",
      "Saved JSON: /common/home/milky-way/new_graph_cities/cities/h203_101.txt\n",
      "\n",
      "\n",
      "Saving file Day10_Harshini ...\n",
      "Saved JSON: /common/home/milky-way/new_graph_cities/cities/hDay10_Harshini.txt\n",
      "\n",
      "\n",
      "Processing:  2020-12-12 05:05:17.txt\n",
      "Saving image 203_102 ...\n",
      "Saved image: /common/home/milky-way/new_graph_cities/graphs/h203_102.png\n",
      "Saving file 203_102 ...\n",
      "Saved JSON: /common/home/milky-way/new_graph_cities/cities/h203_102.txt\n",
      "\n",
      "\n",
      "Saving file Day10_Harshini ...\n",
      "Saved JSON: /common/home/milky-way/new_graph_cities/cities/hDay10_Harshini.txt\n",
      "\n",
      "\n",
      "Processing:  2020-12-12 05:05:18.txt\n",
      "Saving image 203_103 ...\n",
      "Saved image: /common/home/milky-way/new_graph_cities/graphs/h203_103.png\n",
      "Saving file 203_103 ...\n",
      "Saved JSON: /common/home/milky-way/new_graph_cities/cities/h203_103.txt\n",
      "\n",
      "\n",
      "Saving file Day10_Harshini ...\n",
      "Saved JSON: /common/home/milky-way/new_graph_cities/cities/hDay10_Harshini.txt\n",
      "\n",
      "\n",
      "Processing:  2020-12-12 05:05:19.txt\n",
      "Saving image 203_104 ...\n",
      "Saved image: /common/home/milky-way/new_graph_cities/graphs/h203_104.png\n",
      "Saving file 203_104 ...\n",
      "Saved JSON: /common/home/milky-way/new_graph_cities/cities/h203_104.txt\n",
      "\n",
      "\n",
      "Saving file Day10_Harshini ...\n",
      "Saved JSON: /common/home/milky-way/new_graph_cities/cities/hDay10_Harshini.txt\n",
      "\n",
      "\n",
      "Processing:  2020-12-12 05:05:20.txt\n",
      "Saving image 203_105 ...\n",
      "Saved image: /common/home/milky-way/new_graph_cities/graphs/h203_105.png\n",
      "Saving file 203_105 ...\n",
      "Saved JSON: /common/home/milky-way/new_graph_cities/cities/h203_105.txt\n",
      "\n",
      "\n",
      "Saving file Day10_Harshini ...\n",
      "Saved JSON: /common/home/milky-way/new_graph_cities/cities/hDay10_Harshini.txt\n",
      "\n",
      "\n",
      "Processing:  2020-12-12 05:05:21.txt\n",
      "Saving image 203_106 ...\n",
      "Saved image: /common/home/milky-way/new_graph_cities/graphs/h203_106.png\n",
      "Saving file 203_106 ...\n",
      "Saved JSON: /common/home/milky-way/new_graph_cities/cities/h203_106.txt\n",
      "\n",
      "\n",
      "Saving file Day10_Harshini ...\n",
      "Saved JSON: /common/home/milky-way/new_graph_cities/cities/hDay10_Harshini.txt\n",
      "\n",
      "\n",
      "Processing:  2020-12-12 05:05:23.txt\n",
      "Saving image 203_107 ...\n",
      "Saved image: /common/home/milky-way/new_graph_cities/graphs/h203_107.png\n",
      "Saving file 203_107 ...\n",
      "Saved JSON: /common/home/milky-way/new_graph_cities/cities/h203_107.txt\n",
      "\n",
      "\n",
      "Saving file Day10_Harshini ...\n",
      "Saved JSON: /common/home/milky-way/new_graph_cities/cities/hDay10_Harshini.txt\n",
      "\n",
      "\n",
      "Processing:  2020-12-12 05:05:24.txt\n",
      "Saving image 203_108 ...\n",
      "Saved image: /common/home/milky-way/new_graph_cities/graphs/h203_108.png\n",
      "Saving file 203_108 ...\n",
      "Saved JSON: /common/home/milky-way/new_graph_cities/cities/h203_108.txt\n",
      "\n",
      "\n",
      "Saving file Day10_Harshini ...\n",
      "Saved JSON: /common/home/milky-way/new_graph_cities/cities/hDay10_Harshini.txt\n",
      "\n",
      "\n",
      "Processing:  2020-12-12 05:05:25.txt\n",
      "Saving image 203_109 ...\n",
      "Saved image: /common/home/milky-way/new_graph_cities/graphs/h203_109.png\n",
      "Saving file 203_109 ...\n",
      "Saved JSON: /common/home/milky-way/new_graph_cities/cities/h203_109.txt\n",
      "\n",
      "\n",
      "Saving file Day10_Harshini ...\n",
      "Saved JSON: /common/home/milky-way/new_graph_cities/cities/hDay10_Harshini.txt\n",
      "\n",
      "\n",
      "Processing:  2020-12-12 05:05:26.txt\n",
      "Saving image 203_110 ...\n",
      "Saved image: /common/home/milky-way/new_graph_cities/graphs/h203_110.png\n",
      "Saving file 203_110 ...\n",
      "Saved JSON: /common/home/milky-way/new_graph_cities/cities/h203_110.txt\n",
      "\n",
      "\n",
      "Saving file Day10_Harshini ...\n",
      "Saved JSON: /common/home/milky-way/new_graph_cities/cities/hDay10_Harshini.txt\n",
      "\n",
      "\n",
      "Processing:  2020-12-12 05:05:27.txt\n",
      "Saving image 203_111 ...\n",
      "Saved image: /common/home/milky-way/new_graph_cities/graphs/h203_111.png\n",
      "Saving file 203_111 ...\n",
      "Saved JSON: /common/home/milky-way/new_graph_cities/cities/h203_111.txt\n",
      "\n",
      "\n",
      "Saving file Day10_Harshini ...\n",
      "Saved JSON: /common/home/milky-way/new_graph_cities/cities/hDay10_Harshini.txt\n",
      "\n",
      "\n",
      "Processing:  2020-12-12 05:05:28.txt\n",
      "Saving image 203_112 ...\n",
      "Saved image: /common/home/milky-way/new_graph_cities/graphs/h203_112.png\n",
      "Saving file 203_112 ...\n",
      "Saved JSON: /common/home/milky-way/new_graph_cities/cities/h203_112.txt\n",
      "\n",
      "\n",
      "Saving file Day10_Harshini ...\n",
      "Saved JSON: /common/home/milky-way/new_graph_cities/cities/hDay10_Harshini.txt\n",
      "\n",
      "\n",
      "Processing:  2020-12-12 05:05:30.txt\n",
      "Saving image 203_113 ...\n",
      "Saved image: /common/home/milky-way/new_graph_cities/graphs/h203_113.png\n",
      "Saving file 203_113 ...\n",
      "Saved JSON: /common/home/milky-way/new_graph_cities/cities/h203_113.txt\n",
      "\n",
      "\n",
      "Saving file Day10_Harshini ...\n",
      "Saved JSON: /common/home/milky-way/new_graph_cities/cities/hDay10_Harshini.txt\n",
      "\n",
      "\n",
      "Processing:  2020-12-12 05:05:31.txt\n",
      "Saving image 203_114 ...\n",
      "Saved image: /common/home/milky-way/new_graph_cities/graphs/h203_114.png\n",
      "Saving file 203_114 ...\n",
      "Saved JSON: /common/home/milky-way/new_graph_cities/cities/h203_114.txt\n",
      "\n",
      "\n",
      "Saving file Day10_Harshini ...\n",
      "Saved JSON: /common/home/milky-way/new_graph_cities/cities/hDay10_Harshini.txt\n",
      "\n",
      "\n",
      "Processing:  2020-12-12 05:05:32.txt\n",
      "Saving image 203_115 ...\n",
      "Saved image: /common/home/milky-way/new_graph_cities/graphs/h203_115.png\n",
      "Saving file 203_115 ...\n",
      "Saved JSON: /common/home/milky-way/new_graph_cities/cities/h203_115.txt\n",
      "\n",
      "\n",
      "Saving file Day10_Harshini ...\n",
      "Saved JSON: /common/home/milky-way/new_graph_cities/cities/hDay10_Harshini.txt\n",
      "\n",
      "\n",
      "Processing:  2020-12-12 05:05:33.txt\n",
      "Saving image 203_116 ...\n",
      "Saved image: /common/home/milky-way/new_graph_cities/graphs/h203_116.png\n",
      "Saving file 203_116 ...\n",
      "Saved JSON: /common/home/milky-way/new_graph_cities/cities/h203_116.txt\n",
      "\n",
      "\n",
      "Saving file Day10_Harshini ...\n",
      "Saved JSON: /common/home/milky-way/new_graph_cities/cities/hDay10_Harshini.txt\n",
      "\n",
      "\n",
      "Processing:  2020-12-12 05:05:34.txt\n",
      "Saving image 203_117 ...\n",
      "Saved image: /common/home/milky-way/new_graph_cities/graphs/h203_117.png\n",
      "Saving file 203_117 ...\n",
      "Saved JSON: /common/home/milky-way/new_graph_cities/cities/h203_117.txt\n",
      "\n",
      "\n",
      "Saving file Day10_Harshini ...\n",
      "Saved JSON: /common/home/milky-way/new_graph_cities/cities/hDay10_Harshini.txt\n",
      "\n",
      "\n",
      "Processing:  2020-12-12 05:05:35.txt\n",
      "Saving image 203_118 ...\n",
      "Saved image: /common/home/milky-way/new_graph_cities/graphs/h203_118.png\n",
      "Saving file 203_118 ...\n",
      "Saved JSON: /common/home/milky-way/new_graph_cities/cities/h203_118.txt\n",
      "\n",
      "\n",
      "Saving file Day10_Harshini ...\n",
      "Saved JSON: /common/home/milky-way/new_graph_cities/cities/hDay10_Harshini.txt\n",
      "\n",
      "\n",
      "Processing:  2020-12-12 05:05:37.txt\n",
      "Saving image 203_119 ...\n",
      "Saved image: /common/home/milky-way/new_graph_cities/graphs/h203_119.png\n",
      "Saving file 203_119 ...\n",
      "Saved JSON: /common/home/milky-way/new_graph_cities/cities/h203_119.txt\n",
      "\n",
      "\n",
      "Saving file Day10_Harshini ...\n",
      "Saved JSON: /common/home/milky-way/new_graph_cities/cities/hDay10_Harshini.txt\n",
      "\n",
      "\n",
      "Processing:  2020-12-12 05:05:38.txt\n",
      "Saving image 203_120 ...\n",
      "Saved image: /common/home/milky-way/new_graph_cities/graphs/h203_120.png\n",
      "Saving file 203_120 ...\n",
      "Saved JSON: /common/home/milky-way/new_graph_cities/cities/h203_120.txt\n",
      "\n",
      "\n",
      "Saving file Day10_Harshini ...\n",
      "Saved JSON: /common/home/milky-way/new_graph_cities/cities/hDay10_Harshini.txt\n",
      "\n",
      "\n",
      "Processing:  2020-12-12 05:05:39.txt\n",
      "Saving image 203_121 ...\n",
      "Saved image: /common/home/milky-way/new_graph_cities/graphs/h203_121.png\n",
      "Saving file 203_121 ...\n",
      "Saved JSON: /common/home/milky-way/new_graph_cities/cities/h203_121.txt\n",
      "\n",
      "\n",
      "Saving file Day10_Harshini ...\n",
      "Saved JSON: /common/home/milky-way/new_graph_cities/cities/hDay10_Harshini.txt\n",
      "\n",
      "\n",
      "Processing:  2020-12-12 05:05:40.txt\n",
      "Saving image 203_122 ...\n",
      "Saved image: /common/home/milky-way/new_graph_cities/graphs/h203_122.png\n",
      "Saving file 203_122 ...\n",
      "Saved JSON: /common/home/milky-way/new_graph_cities/cities/h203_122.txt\n",
      "\n",
      "\n",
      "Saving file Day10_Harshini ...\n",
      "Saved JSON: /common/home/milky-way/new_graph_cities/cities/hDay10_Harshini.txt\n",
      "\n",
      "\n",
      "Processing:  2020-12-12 05:05:42.txt\n",
      "Saving image 203_123 ...\n",
      "Saved image: /common/home/milky-way/new_graph_cities/graphs/h203_123.png\n",
      "Saving file 203_123 ...\n",
      "Saved JSON: /common/home/milky-way/new_graph_cities/cities/h203_123.txt\n",
      "\n",
      "\n",
      "Saving file Day10_Harshini ...\n",
      "Saved JSON: /common/home/milky-way/new_graph_cities/cities/hDay10_Harshini.txt\n",
      "\n",
      "\n",
      "Processing:  2020-12-12 05:05:44.txt\n",
      "Saving image 203_124 ...\n",
      "Saved image: /common/home/milky-way/new_graph_cities/graphs/h203_124.png\n",
      "Saving file 203_124 ...\n",
      "Saved JSON: /common/home/milky-way/new_graph_cities/cities/h203_124.txt\n",
      "\n",
      "\n",
      "Saving file Day10_Harshini ...\n",
      "Saved JSON: /common/home/milky-way/new_graph_cities/cities/hDay10_Harshini.txt\n",
      "\n",
      "\n",
      "Processing:  2020-12-12 05:05:46.txt\n",
      "Saving image 203_125 ...\n",
      "Saved image: /common/home/milky-way/new_graph_cities/graphs/h203_125.png\n",
      "Saving file 203_125 ...\n",
      "Saved JSON: /common/home/milky-way/new_graph_cities/cities/h203_125.txt\n",
      "\n",
      "\n",
      "Saving file Day10_Harshini ...\n",
      "Saved JSON: /common/home/milky-way/new_graph_cities/cities/hDay10_Harshini.txt\n",
      "\n",
      "\n",
      "Processing:  2020-12-12 05:05:47.txt\n",
      "Saving image 203_126 ...\n",
      "Saved image: /common/home/milky-way/new_graph_cities/graphs/h203_126.png\n",
      "Saving file 203_126 ...\n",
      "Saved JSON: /common/home/milky-way/new_graph_cities/cities/h203_126.txt\n",
      "\n",
      "\n",
      "Saving file Day10_Harshini ...\n",
      "Saved JSON: /common/home/milky-way/new_graph_cities/cities/hDay10_Harshini.txt\n",
      "\n",
      "\n",
      "Processing:  2020-12-12 05:05:48.txt\n",
      "Saving image 203_127 ...\n",
      "Saved image: /common/home/milky-way/new_graph_cities/graphs/h203_127.png\n",
      "Saving file 203_127 ...\n",
      "Saved JSON: /common/home/milky-way/new_graph_cities/cities/h203_127.txt\n",
      "\n",
      "\n",
      "Saving file Day10_Harshini ...\n",
      "Saved JSON: /common/home/milky-way/new_graph_cities/cities/hDay10_Harshini.txt\n",
      "\n",
      "\n",
      "Processing:  2020-12-12 05:05:50.txt\n",
      "Saving image 203_128 ...\n",
      "Saved image: /common/home/milky-way/new_graph_cities/graphs/h203_128.png\n",
      "Saving file 203_128 ...\n",
      "Saved JSON: /common/home/milky-way/new_graph_cities/cities/h203_128.txt\n",
      "\n",
      "\n",
      "Saving file Day10_Harshini ...\n",
      "Saved JSON: /common/home/milky-way/new_graph_cities/cities/hDay10_Harshini.txt\n",
      "\n",
      "\n",
      "Processing:  2020-12-12 05:05:51.txt\n",
      "Saving image 203_129 ...\n",
      "Saved image: /common/home/milky-way/new_graph_cities/graphs/h203_129.png\n",
      "Saving file 203_129 ...\n",
      "Saved JSON: /common/home/milky-way/new_graph_cities/cities/h203_129.txt\n",
      "\n",
      "\n",
      "Saving file Day10_Harshini ...\n",
      "Saved JSON: /common/home/milky-way/new_graph_cities/cities/hDay10_Harshini.txt\n",
      "\n",
      "\n",
      "Processing:  2020-12-12 05:05:52.txt\n",
      "Saving image 203_130 ...\n",
      "Saved image: /common/home/milky-way/new_graph_cities/graphs/h203_130.png\n",
      "Saving file 203_130 ...\n",
      "Saved JSON: /common/home/milky-way/new_graph_cities/cities/h203_130.txt\n",
      "\n",
      "\n",
      "Saving file Day10_Harshini ...\n",
      "Saved JSON: /common/home/milky-way/new_graph_cities/cities/hDay10_Harshini.txt\n",
      "\n",
      "\n",
      "Processing:  2020-12-12 05:05:53.txt\n",
      "Saving image 203_131 ...\n",
      "Saved image: /common/home/milky-way/new_graph_cities/graphs/h203_131.png\n",
      "Saving file 203_131 ...\n",
      "Saved JSON: /common/home/milky-way/new_graph_cities/cities/h203_131.txt\n",
      "\n",
      "\n",
      "Saving file Day10_Harshini ...\n",
      "Saved JSON: /common/home/milky-way/new_graph_cities/cities/hDay10_Harshini.txt\n",
      "\n",
      "\n",
      "Processing:  2020-12-12 05:05:54.txt\n",
      "Saving image 203_132 ...\n",
      "Saved image: /common/home/milky-way/new_graph_cities/graphs/h203_132.png\n",
      "Saving file 203_132 ...\n",
      "Saved JSON: /common/home/milky-way/new_graph_cities/cities/h203_132.txt\n",
      "\n",
      "\n",
      "Saving file Day10_Harshini ...\n",
      "Saved JSON: /common/home/milky-way/new_graph_cities/cities/hDay10_Harshini.txt\n",
      "\n",
      "\n",
      "Processing:  2020-12-12 05:05:55.txt\n",
      "Saving image 203_133 ...\n",
      "Saved image: /common/home/milky-way/new_graph_cities/graphs/h203_133.png\n",
      "Saving file 203_133 ...\n",
      "Saved JSON: /common/home/milky-way/new_graph_cities/cities/h203_133.txt\n",
      "\n",
      "\n",
      "Saving file Day10_Harshini ...\n",
      "Saved JSON: /common/home/milky-way/new_graph_cities/cities/hDay10_Harshini.txt\n",
      "\n",
      "\n",
      "Processing:  2020-12-12 05:05:59.txt\n",
      "Saving image 203_134 ...\n",
      "Saved image: /common/home/milky-way/new_graph_cities/graphs/h203_134.png\n",
      "Saving file 203_134 ...\n",
      "Saved JSON: /common/home/milky-way/new_graph_cities/cities/h203_134.txt\n",
      "\n",
      "\n",
      "Saving file Day10_Harshini ...\n",
      "Saved JSON: /common/home/milky-way/new_graph_cities/cities/hDay10_Harshini.txt\n",
      "\n",
      "\n",
      "Processing:  2020-12-12 05:06:00.txt\n",
      "Saving image 203_135 ...\n",
      "Saved image: /common/home/milky-way/new_graph_cities/graphs/h203_135.png\n",
      "Saving file 203_135 ...\n",
      "Saved JSON: /common/home/milky-way/new_graph_cities/cities/h203_135.txt\n",
      "\n",
      "\n",
      "Saving file Day10_Harshini ...\n",
      "Saved JSON: /common/home/milky-way/new_graph_cities/cities/hDay10_Harshini.txt\n",
      "\n",
      "\n",
      "Processing:  2020-12-12 05:06:01.txt\n",
      "Saving image 203_136 ...\n",
      "Saved image: /common/home/milky-way/new_graph_cities/graphs/h203_136.png\n",
      "Saving file 203_136 ...\n",
      "Saved JSON: /common/home/milky-way/new_graph_cities/cities/h203_136.txt\n",
      "\n",
      "\n",
      "Saving file Day10_Harshini ...\n",
      "Saved JSON: /common/home/milky-way/new_graph_cities/cities/hDay10_Harshini.txt\n",
      "\n",
      "\n",
      "Processing:  2020-12-12 05:06:02.txt\n",
      "Saving image 203_137 ...\n",
      "Saved image: /common/home/milky-way/new_graph_cities/graphs/h203_137.png\n",
      "Saving file 203_137 ...\n",
      "Saved JSON: /common/home/milky-way/new_graph_cities/cities/h203_137.txt\n",
      "\n",
      "\n",
      "Saving file Day10_Harshini ...\n",
      "Saved JSON: /common/home/milky-way/new_graph_cities/cities/hDay10_Harshini.txt\n",
      "\n",
      "\n",
      "Processing:  2020-12-12 05:06:03.txt\n",
      "Saving image 203_138 ...\n",
      "Saved image: /common/home/milky-way/new_graph_cities/graphs/h203_138.png\n",
      "Saving file 203_138 ...\n",
      "Saved JSON: /common/home/milky-way/new_graph_cities/cities/h203_138.txt\n",
      "\n",
      "\n",
      "Saving file Day10_Harshini ...\n",
      "Saved JSON: /common/home/milky-way/new_graph_cities/cities/hDay10_Harshini.txt\n",
      "\n",
      "\n",
      "Processing:  2020-12-12 05:06:05.txt\n",
      "Saving image 203_139 ...\n",
      "Saved image: /common/home/milky-way/new_graph_cities/graphs/h203_139.png\n",
      "Saving file 203_139 ...\n",
      "Saved JSON: /common/home/milky-way/new_graph_cities/cities/h203_139.txt\n",
      "\n",
      "\n",
      "Saving file Day10_Harshini ...\n",
      "Saved JSON: /common/home/milky-way/new_graph_cities/cities/hDay10_Harshini.txt\n",
      "\n",
      "\n",
      "Processing:  2020-12-12 05:06:07.txt\n",
      "Saving image 203_140 ...\n",
      "Saved image: /common/home/milky-way/new_graph_cities/graphs/h203_140.png\n",
      "Saving file 203_140 ...\n",
      "Saved JSON: /common/home/milky-way/new_graph_cities/cities/h203_140.txt\n",
      "\n",
      "\n",
      "Saving file Day10_Harshini ...\n",
      "Saved JSON: /common/home/milky-way/new_graph_cities/cities/hDay10_Harshini.txt\n",
      "\n",
      "\n",
      "Processing:  2020-12-12 05:06:08.txt\n",
      "Saving image 203_141 ...\n",
      "Saved image: /common/home/milky-way/new_graph_cities/graphs/h203_141.png\n",
      "Saving file 203_141 ...\n",
      "Saved JSON: /common/home/milky-way/new_graph_cities/cities/h203_141.txt\n",
      "\n",
      "\n",
      "Saving file Day10_Harshini ...\n",
      "Saved JSON: /common/home/milky-way/new_graph_cities/cities/hDay10_Harshini.txt\n",
      "\n",
      "\n",
      "Processing:  2020-12-12 05:06:09.txt\n",
      "Saving image 203_142 ...\n",
      "Saved image: /common/home/milky-way/new_graph_cities/graphs/h203_142.png\n",
      "Saving file 203_142 ...\n",
      "Saved JSON: /common/home/milky-way/new_graph_cities/cities/h203_142.txt\n",
      "\n",
      "\n",
      "Saving file Day10_Harshini ...\n",
      "Saved JSON: /common/home/milky-way/new_graph_cities/cities/hDay10_Harshini.txt\n",
      "\n",
      "\n",
      "Processing:  2020-12-12 05:06:13.txt\n",
      "Saving image 204_1 ...\n",
      "Saved image: /common/home/milky-way/new_graph_cities/graphs/h204_1.png\n",
      "Saving file 204_1 ...\n",
      "Saved JSON: /common/home/milky-way/new_graph_cities/cities/h204_1.txt\n",
      "\n",
      "\n",
      "Saving file Day10_Harshini ...\n",
      "Saved JSON: /common/home/milky-way/new_graph_cities/cities/hDay10_Harshini.txt\n",
      "\n",
      "\n",
      "Processing:  2020-12-12 05:06:14.txt\n",
      "Saving image 204_2 ...\n",
      "Saved image: /common/home/milky-way/new_graph_cities/graphs/h204_2.png\n",
      "Saving file 204_2 ...\n",
      "Saved JSON: /common/home/milky-way/new_graph_cities/cities/h204_2.txt\n",
      "\n",
      "\n",
      "Saving file Day10_Harshini ...\n",
      "Saved JSON: /common/home/milky-way/new_graph_cities/cities/hDay10_Harshini.txt\n",
      "\n",
      "\n",
      "Processing:  2020-12-12 05:06:17.txt\n",
      "Saving image 204_3 ...\n",
      "Saved image: /common/home/milky-way/new_graph_cities/graphs/h204_3.png\n",
      "Saving file 204_3 ...\n",
      "Saved JSON: /common/home/milky-way/new_graph_cities/cities/h204_3.txt\n",
      "\n",
      "\n",
      "Saving file Day10_Harshini ...\n",
      "Saved JSON: /common/home/milky-way/new_graph_cities/cities/hDay10_Harshini.txt\n",
      "\n",
      "\n",
      "Processing:  2020-12-12 05:06:24.txt\n",
      "Saving image 204_4 ...\n",
      "Saved image: /common/home/milky-way/new_graph_cities/graphs/h204_4.png\n",
      "Saving file 204_4 ...\n",
      "Saved JSON: /common/home/milky-way/new_graph_cities/cities/h204_4.txt\n",
      "\n",
      "\n",
      "Saving file Day10_Harshini ...\n",
      "Saved JSON: /common/home/milky-way/new_graph_cities/cities/hDay10_Harshini.txt\n",
      "\n",
      "\n",
      "Processing:  2020-12-12 05:06:26.txt\n",
      "Saving image 204_5 ...\n",
      "Saved image: /common/home/milky-way/new_graph_cities/graphs/h204_5.png\n",
      "Saving file 204_5 ...\n",
      "Saved JSON: /common/home/milky-way/new_graph_cities/cities/h204_5.txt\n",
      "\n",
      "\n",
      "Saving file Day10_Harshini ...\n",
      "Saved JSON: /common/home/milky-way/new_graph_cities/cities/hDay10_Harshini.txt\n",
      "\n",
      "\n",
      "Processing:  2020-12-12 05:06:28.txt\n",
      "Saving image 204_6 ...\n",
      "Saved image: /common/home/milky-way/new_graph_cities/graphs/h204_6.png\n",
      "Saving file 204_6 ...\n",
      "Saved JSON: /common/home/milky-way/new_graph_cities/cities/h204_6.txt\n",
      "\n",
      "\n",
      "Saving file Day10_Harshini ...\n",
      "Saved JSON: /common/home/milky-way/new_graph_cities/cities/hDay10_Harshini.txt\n",
      "\n",
      "\n",
      "Processing:  2020-12-12 05:06:29.txt\n",
      "Saving image 204_7 ...\n",
      "Saved image: /common/home/milky-way/new_graph_cities/graphs/h204_7.png\n",
      "Saving file 204_7 ...\n",
      "Saved JSON: /common/home/milky-way/new_graph_cities/cities/h204_7.txt\n",
      "\n",
      "\n",
      "Saving file Day10_Harshini ...\n",
      "Saved JSON: /common/home/milky-way/new_graph_cities/cities/hDay10_Harshini.txt\n",
      "\n",
      "\n",
      "Processing:  2020-12-12 05:06:30.txt\n",
      "Saving image 204_8 ...\n",
      "Saved image: /common/home/milky-way/new_graph_cities/graphs/h204_8.png\n",
      "Saving file 204_8 ...\n",
      "Saved JSON: /common/home/milky-way/new_graph_cities/cities/h204_8.txt\n",
      "\n",
      "\n",
      "Saving file Day10_Harshini ...\n",
      "Saved JSON: /common/home/milky-way/new_graph_cities/cities/hDay10_Harshini.txt\n",
      "\n",
      "\n",
      "Processing:  2020-12-12 05:06:33.txt\n",
      "Saving image 204_9 ...\n",
      "Saved image: /common/home/milky-way/new_graph_cities/graphs/h204_9.png\n",
      "Saving file 204_9 ...\n",
      "Saved JSON: /common/home/milky-way/new_graph_cities/cities/h204_9.txt\n",
      "\n",
      "\n",
      "Saving file Day10_Harshini ...\n",
      "Saved JSON: /common/home/milky-way/new_graph_cities/cities/hDay10_Harshini.txt\n",
      "\n",
      "\n",
      "Processing:  2020-12-12 05:06:36.txt\n",
      "Saving image 204_10 ...\n",
      "Saved image: /common/home/milky-way/new_graph_cities/graphs/h204_10.png\n",
      "Saving file 204_10 ...\n",
      "Saved JSON: /common/home/milky-way/new_graph_cities/cities/h204_10.txt\n",
      "\n",
      "\n",
      "Saving file Day10_Harshini ...\n",
      "Saved JSON: /common/home/milky-way/new_graph_cities/cities/hDay10_Harshini.txt\n",
      "\n",
      "\n",
      "Processing:  2020-12-12 05:06:37.txt\n",
      "Saving image 204_11 ...\n",
      "Saved image: /common/home/milky-way/new_graph_cities/graphs/h204_11.png\n",
      "Saving file 204_11 ...\n",
      "Saved JSON: /common/home/milky-way/new_graph_cities/cities/h204_11.txt\n",
      "\n",
      "\n",
      "Saving file Day10_Harshini ...\n",
      "Saved JSON: /common/home/milky-way/new_graph_cities/cities/hDay10_Harshini.txt\n",
      "\n",
      "\n",
      "Processing:  2020-12-12 05:06:38.txt\n",
      "Saving image 204_12 ...\n",
      "Saved image: /common/home/milky-way/new_graph_cities/graphs/h204_12.png\n",
      "Saving file 204_12 ...\n",
      "Saved JSON: /common/home/milky-way/new_graph_cities/cities/h204_12.txt\n",
      "\n",
      "\n",
      "Saving file Day10_Harshini ...\n",
      "Saved JSON: /common/home/milky-way/new_graph_cities/cities/hDay10_Harshini.txt\n",
      "\n",
      "\n",
      "Processing:  2020-12-12 05:06:39.txt\n",
      "Saving image 204_13 ...\n",
      "Saved image: /common/home/milky-way/new_graph_cities/graphs/h204_13.png\n",
      "Saving file 204_13 ...\n",
      "Saved JSON: /common/home/milky-way/new_graph_cities/cities/h204_13.txt\n",
      "\n",
      "\n",
      "Saving file Day10_Harshini ...\n",
      "Saved JSON: /common/home/milky-way/new_graph_cities/cities/hDay10_Harshini.txt\n",
      "\n",
      "\n",
      "Processing:  2020-12-12 05:06:41.txt\n",
      "Saving image 204_14 ...\n",
      "Saved image: /common/home/milky-way/new_graph_cities/graphs/h204_14.png\n",
      "Saving file 204_14 ...\n",
      "Saved JSON: /common/home/milky-way/new_graph_cities/cities/h204_14.txt\n",
      "\n",
      "\n",
      "Saving file Day10_Harshini ...\n",
      "Saved JSON: /common/home/milky-way/new_graph_cities/cities/hDay10_Harshini.txt\n",
      "\n",
      "\n",
      "Processing:  2020-12-12 05:06:42.txt\n",
      "Saving image 204_15 ...\n",
      "Saved image: /common/home/milky-way/new_graph_cities/graphs/h204_15.png\n",
      "Saving file 204_15 ...\n",
      "Saved JSON: /common/home/milky-way/new_graph_cities/cities/h204_15.txt\n",
      "\n",
      "\n",
      "Saving file Day10_Harshini ...\n",
      "Saved JSON: /common/home/milky-way/new_graph_cities/cities/hDay10_Harshini.txt\n",
      "\n",
      "\n",
      "Processing:  2020-12-12 05:06:43.txt\n",
      "Saving image 204_16 ...\n",
      "Saved image: /common/home/milky-way/new_graph_cities/graphs/h204_16.png\n",
      "Saving file 204_16 ...\n",
      "Saved JSON: /common/home/milky-way/new_graph_cities/cities/h204_16.txt\n",
      "\n",
      "\n",
      "Saving file Day10_Harshini ...\n",
      "Saved JSON: /common/home/milky-way/new_graph_cities/cities/hDay10_Harshini.txt\n",
      "\n",
      "\n",
      "Processing:  2020-12-12 05:06:44.txt\n",
      "Saving image 204_17 ...\n",
      "Saved image: /common/home/milky-way/new_graph_cities/graphs/h204_17.png\n",
      "Saving file 204_17 ...\n",
      "Saved JSON: /common/home/milky-way/new_graph_cities/cities/h204_17.txt\n",
      "\n",
      "\n",
      "Saving file Day10_Harshini ...\n",
      "Saved JSON: /common/home/milky-way/new_graph_cities/cities/hDay10_Harshini.txt\n",
      "\n",
      "\n",
      "Processing:  2020-12-12 05:06:45.txt\n",
      "Saving image 204_18 ...\n",
      "Saved image: /common/home/milky-way/new_graph_cities/graphs/h204_18.png\n",
      "Saving file 204_18 ...\n",
      "Saved JSON: /common/home/milky-way/new_graph_cities/cities/h204_18.txt\n",
      "\n",
      "\n",
      "Saving file Day10_Harshini ...\n",
      "Saved JSON: /common/home/milky-way/new_graph_cities/cities/hDay10_Harshini.txt\n",
      "\n",
      "\n",
      "Processing:  2020-12-12 05:06:48.txt\n",
      "Saving image 204_19 ...\n",
      "Saved image: /common/home/milky-way/new_graph_cities/graphs/h204_19.png\n",
      "Saving file 204_19 ...\n",
      "Saved JSON: /common/home/milky-way/new_graph_cities/cities/h204_19.txt\n",
      "\n",
      "\n",
      "Saving file Day10_Harshini ...\n",
      "Saved JSON: /common/home/milky-way/new_graph_cities/cities/hDay10_Harshini.txt\n",
      "\n",
      "\n",
      "Processing:  2020-12-12 05:06:49.txt\n",
      "Saving image 204_20 ...\n",
      "Saved image: /common/home/milky-way/new_graph_cities/graphs/h204_20.png\n",
      "Saving file 204_20 ...\n",
      "Saved JSON: /common/home/milky-way/new_graph_cities/cities/h204_20.txt\n",
      "\n",
      "\n",
      "Saving file Day10_Harshini ...\n",
      "Saved JSON: /common/home/milky-way/new_graph_cities/cities/hDay10_Harshini.txt\n",
      "\n",
      "\n",
      "Processing:  2020-12-12 05:06:50.txt\n",
      "Saving image 204_21 ...\n",
      "Saved image: /common/home/milky-way/new_graph_cities/graphs/h204_21.png\n",
      "Saving file 204_21 ...\n",
      "Saved JSON: /common/home/milky-way/new_graph_cities/cities/h204_21.txt\n",
      "\n",
      "\n",
      "Saving file Day10_Harshini ...\n",
      "Saved JSON: /common/home/milky-way/new_graph_cities/cities/hDay10_Harshini.txt\n",
      "\n",
      "\n",
      "Processing:  2020-12-12 05:06:52.txt\n",
      "Saving image 204_22 ...\n",
      "Saved image: /common/home/milky-way/new_graph_cities/graphs/h204_22.png\n",
      "Saving file 204_22 ...\n",
      "Saved JSON: /common/home/milky-way/new_graph_cities/cities/h204_22.txt\n",
      "\n",
      "\n",
      "Saving file Day10_Harshini ...\n",
      "Saved JSON: /common/home/milky-way/new_graph_cities/cities/hDay10_Harshini.txt\n",
      "\n",
      "\n",
      "Processing:  2020-12-12 05:06:53.txt\n",
      "Saving image 204_23 ...\n",
      "Saved image: /common/home/milky-way/new_graph_cities/graphs/h204_23.png\n",
      "Saving file 204_23 ...\n",
      "Saved JSON: /common/home/milky-way/new_graph_cities/cities/h204_23.txt\n",
      "\n",
      "\n",
      "Saving file Day10_Harshini ...\n",
      "Saved JSON: /common/home/milky-way/new_graph_cities/cities/hDay10_Harshini.txt\n",
      "\n",
      "\n",
      "Processing:  2020-12-12 05:06:56.txt\n",
      "Saving image 204_24 ...\n",
      "Saved image: /common/home/milky-way/new_graph_cities/graphs/h204_24.png\n",
      "Saving file 204_24 ...\n",
      "Saved JSON: /common/home/milky-way/new_graph_cities/cities/h204_24.txt\n",
      "\n",
      "\n",
      "Saving file Day10_Harshini ...\n",
      "Saved JSON: /common/home/milky-way/new_graph_cities/cities/hDay10_Harshini.txt\n",
      "\n",
      "\n",
      "Processing:  2020-12-12 05:06:57.txt\n",
      "Saving image 204_25 ...\n",
      "Saved image: /common/home/milky-way/new_graph_cities/graphs/h204_25.png\n",
      "Saving file 204_25 ...\n",
      "Saved JSON: /common/home/milky-way/new_graph_cities/cities/h204_25.txt\n",
      "\n",
      "\n",
      "Saving file Day10_Harshini ...\n",
      "Saved JSON: /common/home/milky-way/new_graph_cities/cities/hDay10_Harshini.txt\n",
      "\n",
      "\n",
      "Processing:  2020-12-12 05:06:58.txt\n",
      "Saving image 204_26 ...\n",
      "Saved image: /common/home/milky-way/new_graph_cities/graphs/h204_26.png\n",
      "Saving file 204_26 ...\n",
      "Saved JSON: /common/home/milky-way/new_graph_cities/cities/h204_26.txt\n",
      "\n",
      "\n",
      "Saving file Day10_Harshini ...\n",
      "Saved JSON: /common/home/milky-way/new_graph_cities/cities/hDay10_Harshini.txt\n",
      "\n",
      "\n",
      "Processing:  2020-12-12 05:07:00.txt\n",
      "Saving image 204_27 ...\n",
      "Saved image: /common/home/milky-way/new_graph_cities/graphs/h204_27.png\n",
      "Saving file 204_27 ...\n",
      "Saved JSON: /common/home/milky-way/new_graph_cities/cities/h204_27.txt\n",
      "\n",
      "\n",
      "Saving file Day10_Harshini ...\n",
      "Saved JSON: /common/home/milky-way/new_graph_cities/cities/hDay10_Harshini.txt\n",
      "\n",
      "\n",
      "Processing:  2020-12-12 05:07:05.txt\n",
      "Saving image 204_28 ...\n",
      "Saved image: /common/home/milky-way/new_graph_cities/graphs/h204_28.png\n",
      "Saving file 204_28 ...\n",
      "Saved JSON: /common/home/milky-way/new_graph_cities/cities/h204_28.txt\n",
      "\n",
      "\n",
      "Saving file Day10_Harshini ...\n",
      "Saved JSON: /common/home/milky-way/new_graph_cities/cities/hDay10_Harshini.txt\n",
      "\n",
      "\n",
      "Processing:  2020-12-12 05:07:07.txt\n",
      "Saving image 204_29 ...\n",
      "Saved image: /common/home/milky-way/new_graph_cities/graphs/h204_29.png\n",
      "Saving file 204_29 ...\n",
      "Saved JSON: /common/home/milky-way/new_graph_cities/cities/h204_29.txt\n",
      "\n",
      "\n",
      "Saving file Day10_Harshini ...\n",
      "Saved JSON: /common/home/milky-way/new_graph_cities/cities/hDay10_Harshini.txt\n",
      "\n",
      "\n",
      "Processing:  2020-12-12 05:07:10.txt\n",
      "Saving image 204_30 ...\n",
      "Saved image: /common/home/milky-way/new_graph_cities/graphs/h204_30.png\n",
      "Saving file 204_30 ...\n",
      "Saved JSON: /common/home/milky-way/new_graph_cities/cities/h204_30.txt\n",
      "\n",
      "\n",
      "Saving file Day10_Harshini ...\n",
      "Saved JSON: /common/home/milky-way/new_graph_cities/cities/hDay10_Harshini.txt\n",
      "\n",
      "\n",
      "Processing:  2020-12-12 05:07:13.txt\n",
      "Saving image 204_31 ...\n",
      "Saved image: /common/home/milky-way/new_graph_cities/graphs/h204_31.png\n",
      "Saving file 204_31 ...\n",
      "Saved JSON: /common/home/milky-way/new_graph_cities/cities/h204_31.txt\n",
      "\n",
      "\n",
      "Saving file Day10_Harshini ...\n",
      "Saved JSON: /common/home/milky-way/new_graph_cities/cities/hDay10_Harshini.txt\n",
      "\n",
      "\n",
      "Processing:  2020-12-12 05:07:14.txt\n",
      "Saving image 204_32 ...\n",
      "Saved image: /common/home/milky-way/new_graph_cities/graphs/h204_32.png\n",
      "Saving file 204_32 ...\n",
      "Saved JSON: /common/home/milky-way/new_graph_cities/cities/h204_32.txt\n",
      "\n",
      "\n",
      "Saving file Day10_Harshini ...\n",
      "Saved JSON: /common/home/milky-way/new_graph_cities/cities/hDay10_Harshini.txt\n",
      "\n",
      "\n",
      "Processing:  2020-12-12 05:07:15.txt\n",
      "Saving image 204_33 ...\n",
      "Saved image: /common/home/milky-way/new_graph_cities/graphs/h204_33.png\n",
      "Saving file 204_33 ...\n",
      "Saved JSON: /common/home/milky-way/new_graph_cities/cities/h204_33.txt\n",
      "\n",
      "\n",
      "Saving file Day10_Harshini ...\n",
      "Saved JSON: /common/home/milky-way/new_graph_cities/cities/hDay10_Harshini.txt\n",
      "\n",
      "\n",
      "Processing:  2020-12-12 05:07:19.txt\n",
      "Saving image 204_34 ...\n",
      "Saved image: /common/home/milky-way/new_graph_cities/graphs/h204_34.png\n",
      "Saving file 204_34 ...\n",
      "Saved JSON: /common/home/milky-way/new_graph_cities/cities/h204_34.txt\n",
      "\n",
      "\n",
      "Saving file Day10_Harshini ...\n",
      "Saved JSON: /common/home/milky-way/new_graph_cities/cities/hDay10_Harshini.txt\n",
      "\n",
      "\n",
      "Processing:  2020-12-12 05:07:22.txt\n",
      "Saving image 204_35 ...\n",
      "Saved image: /common/home/milky-way/new_graph_cities/graphs/h204_35.png\n",
      "Saving file 204_35 ...\n",
      "Saved JSON: /common/home/milky-way/new_graph_cities/cities/h204_35.txt\n",
      "\n",
      "\n",
      "Saving file Day10_Harshini ...\n",
      "Saved JSON: /common/home/milky-way/new_graph_cities/cities/hDay10_Harshini.txt\n",
      "\n",
      "\n",
      "Processing:  2020-12-12 05:07:24.txt\n",
      "Saving image 204_36 ...\n",
      "Saved image: /common/home/milky-way/new_graph_cities/graphs/h204_36.png\n",
      "Saving file 204_36 ...\n",
      "Saved JSON: /common/home/milky-way/new_graph_cities/cities/h204_36.txt\n",
      "\n",
      "\n",
      "Saving file Day10_Harshini ...\n",
      "Saved JSON: /common/home/milky-way/new_graph_cities/cities/hDay10_Harshini.txt\n",
      "\n",
      "\n",
      "Processing:  2020-12-12 05:07:25.txt\n",
      "Saving image 204_37 ...\n",
      "Saved image: /common/home/milky-way/new_graph_cities/graphs/h204_37.png\n",
      "Saving file 204_37 ...\n",
      "Saved JSON: /common/home/milky-way/new_graph_cities/cities/h204_37.txt\n",
      "\n",
      "\n",
      "Saving file Day10_Harshini ...\n",
      "Saved JSON: /common/home/milky-way/new_graph_cities/cities/hDay10_Harshini.txt\n",
      "\n",
      "\n",
      "Processing:  2020-12-12 05:07:26.txt\n",
      "Saving image 204_38 ...\n",
      "Saved image: /common/home/milky-way/new_graph_cities/graphs/h204_38.png\n",
      "Saving file 204_38 ...\n",
      "Saved JSON: /common/home/milky-way/new_graph_cities/cities/h204_38.txt\n",
      "\n",
      "\n",
      "Saving file Day10_Harshini ...\n",
      "Saved JSON: /common/home/milky-way/new_graph_cities/cities/hDay10_Harshini.txt\n",
      "\n",
      "\n",
      "Processing:  2020-12-12 05:07:29.txt\n",
      "Saving image 204_39 ...\n",
      "Saved image: /common/home/milky-way/new_graph_cities/graphs/h204_39.png\n",
      "Saving file 204_39 ...\n",
      "Saved JSON: /common/home/milky-way/new_graph_cities/cities/h204_39.txt\n",
      "\n",
      "\n",
      "Saving file Day10_Harshini ...\n",
      "Saved JSON: /common/home/milky-way/new_graph_cities/cities/hDay10_Harshini.txt\n",
      "\n",
      "\n",
      "Processing:  2020-12-12 05:07:33.txt\n",
      "Saving image 204_40 ...\n",
      "Saved image: /common/home/milky-way/new_graph_cities/graphs/h204_40.png\n",
      "Saving file 204_40 ...\n",
      "Saved JSON: /common/home/milky-way/new_graph_cities/cities/h204_40.txt\n",
      "\n",
      "\n",
      "Saving file Day10_Harshini ...\n",
      "Saved JSON: /common/home/milky-way/new_graph_cities/cities/hDay10_Harshini.txt\n",
      "\n",
      "\n",
      "Processing:  2020-12-12 05:07:34.txt\n",
      "Saving image 204_41 ...\n",
      "Saved image: /common/home/milky-way/new_graph_cities/graphs/h204_41.png\n",
      "Saving file 204_41 ...\n",
      "Saved JSON: /common/home/milky-way/new_graph_cities/cities/h204_41.txt\n",
      "\n",
      "\n",
      "Saving file Day10_Harshini ...\n",
      "Saved JSON: /common/home/milky-way/new_graph_cities/cities/hDay10_Harshini.txt\n",
      "\n",
      "\n",
      "Processing:  2020-12-12 05:07:35.txt\n",
      "Saving image 204_42 ...\n",
      "Saved image: /common/home/milky-way/new_graph_cities/graphs/h204_42.png\n",
      "Saving file 204_42 ...\n",
      "Saved JSON: /common/home/milky-way/new_graph_cities/cities/h204_42.txt\n",
      "\n",
      "\n",
      "Saving file Day10_Harshini ...\n",
      "Saved JSON: /common/home/milky-way/new_graph_cities/cities/hDay10_Harshini.txt\n",
      "\n",
      "\n",
      "Processing:  2020-12-12 05:07:36.txt\n",
      "Saving image 204_43 ...\n",
      "Saved image: /common/home/milky-way/new_graph_cities/graphs/h204_43.png\n",
      "Saving file 204_43 ...\n",
      "Saved JSON: /common/home/milky-way/new_graph_cities/cities/h204_43.txt\n",
      "\n",
      "\n",
      "Saving file Day10_Harshini ...\n",
      "Saved JSON: /common/home/milky-way/new_graph_cities/cities/hDay10_Harshini.txt\n",
      "\n",
      "\n",
      "Processing:  2020-12-12 05:07:40.txt\n",
      "Saving image 204_44 ...\n",
      "Saved image: /common/home/milky-way/new_graph_cities/graphs/h204_44.png\n",
      "Saving file 204_44 ...\n",
      "Saved JSON: /common/home/milky-way/new_graph_cities/cities/h204_44.txt\n",
      "\n",
      "\n",
      "Saving file Day10_Harshini ...\n",
      "Saved JSON: /common/home/milky-way/new_graph_cities/cities/hDay10_Harshini.txt\n",
      "\n",
      "\n",
      "Processing:  2020-12-12 05:07:44.txt\n",
      "Saving image 204_45 ...\n",
      "Saved image: /common/home/milky-way/new_graph_cities/graphs/h204_45.png\n",
      "Saving file 204_45 ...\n",
      "Saved JSON: /common/home/milky-way/new_graph_cities/cities/h204_45.txt\n",
      "\n",
      "\n",
      "Saving file Day10_Harshini ...\n",
      "Saved JSON: /common/home/milky-way/new_graph_cities/cities/hDay10_Harshini.txt\n",
      "\n",
      "\n",
      "Processing:  2020-12-12 05:07:51.txt\n",
      "Saving image 204_46 ...\n",
      "Saved image: /common/home/milky-way/new_graph_cities/graphs/h204_46.png\n",
      "Saving file 204_46 ...\n",
      "Saved JSON: /common/home/milky-way/new_graph_cities/cities/h204_46.txt\n",
      "\n",
      "\n",
      "Saving file Day10_Harshini ...\n",
      "Saved JSON: /common/home/milky-way/new_graph_cities/cities/hDay10_Harshini.txt\n",
      "\n",
      "\n",
      "Processing:  2020-12-12 05:07:59.txt\n",
      "Saving image 204_47 ...\n",
      "Saved image: /common/home/milky-way/new_graph_cities/graphs/h204_47.png\n",
      "Saving file 204_47 ...\n",
      "Saved JSON: /common/home/milky-way/new_graph_cities/cities/h204_47.txt\n",
      "\n",
      "\n",
      "Saving file Day10_Harshini ...\n",
      "Saved JSON: /common/home/milky-way/new_graph_cities/cities/hDay10_Harshini.txt\n",
      "\n",
      "\n",
      "Processing:  2020-12-12 05:08:03.txt\n",
      "Saving image 204_48 ...\n",
      "Saved image: /common/home/milky-way/new_graph_cities/graphs/h204_48.png\n",
      "Saving file 204_48 ...\n",
      "Saved JSON: /common/home/milky-way/new_graph_cities/cities/h204_48.txt\n",
      "\n",
      "\n",
      "Saving file Day10_Harshini ...\n",
      "Saved JSON: /common/home/milky-way/new_graph_cities/cities/hDay10_Harshini.txt\n",
      "\n",
      "\n",
      "Processing:  2020-12-12 05:08:04.txt\n",
      "Saving image 204_49 ...\n",
      "Saved image: /common/home/milky-way/new_graph_cities/graphs/h204_49.png\n",
      "Saving file 204_49 ...\n",
      "Saved JSON: /common/home/milky-way/new_graph_cities/cities/h204_49.txt\n",
      "\n",
      "\n",
      "Saving file Day10_Harshini ...\n",
      "Saved JSON: /common/home/milky-way/new_graph_cities/cities/hDay10_Harshini.txt\n",
      "\n",
      "\n",
      "Processing:  2020-12-12 05:08:05.txt\n",
      "Saving image 204_50 ...\n",
      "Saved image: /common/home/milky-way/new_graph_cities/graphs/h204_50.png\n",
      "Saving file 204_50 ...\n",
      "Saved JSON: /common/home/milky-way/new_graph_cities/cities/h204_50.txt\n",
      "\n",
      "\n",
      "Saving file Day10_Harshini ...\n",
      "Saved JSON: /common/home/milky-way/new_graph_cities/cities/hDay10_Harshini.txt\n",
      "\n",
      "\n",
      "Processing:  2020-12-12 05:08:11.txt\n",
      "Saving image 204_51 ...\n",
      "Saved image: /common/home/milky-way/new_graph_cities/graphs/h204_51.png\n",
      "Saving file 204_51 ...\n",
      "Saved JSON: /common/home/milky-way/new_graph_cities/cities/h204_51.txt\n",
      "\n",
      "\n",
      "Saving file Day10_Harshini ...\n",
      "Saved JSON: /common/home/milky-way/new_graph_cities/cities/hDay10_Harshini.txt\n",
      "\n",
      "\n",
      "Processing:  2020-12-12 05:08:12.txt\n",
      "Saving image 204_52 ...\n",
      "Saved image: /common/home/milky-way/new_graph_cities/graphs/h204_52.png\n",
      "Saving file 204_52 ...\n",
      "Saved JSON: /common/home/milky-way/new_graph_cities/cities/h204_52.txt\n",
      "\n",
      "\n",
      "Saving file Day10_Harshini ...\n",
      "Saved JSON: /common/home/milky-way/new_graph_cities/cities/hDay10_Harshini.txt\n",
      "\n",
      "\n",
      "Processing:  2020-12-12 05:08:15.txt\n",
      "Saving image 204_53 ...\n",
      "Saved image: /common/home/milky-way/new_graph_cities/graphs/h204_53.png\n",
      "Saving file 204_53 ...\n",
      "Saved JSON: /common/home/milky-way/new_graph_cities/cities/h204_53.txt\n",
      "\n",
      "\n",
      "Saving file Day10_Harshini ...\n",
      "Saved JSON: /common/home/milky-way/new_graph_cities/cities/hDay10_Harshini.txt\n",
      "\n",
      "\n",
      "Processing:  2020-12-12 05:08:17.txt\n",
      "Saving image 204_54 ...\n",
      "Saved image: /common/home/milky-way/new_graph_cities/graphs/h204_54.png\n",
      "Saving file 204_54 ...\n",
      "Saved JSON: /common/home/milky-way/new_graph_cities/cities/h204_54.txt\n",
      "\n",
      "\n",
      "Saving file Day10_Harshini ...\n",
      "Saved JSON: /common/home/milky-way/new_graph_cities/cities/hDay10_Harshini.txt\n",
      "\n",
      "\n",
      "Processing:  2020-12-12 05:08:21.txt\n",
      "Saving image 204_55 ...\n",
      "Saved image: /common/home/milky-way/new_graph_cities/graphs/h204_55.png\n",
      "Saving file 204_55 ...\n",
      "Saved JSON: /common/home/milky-way/new_graph_cities/cities/h204_55.txt\n",
      "\n",
      "\n",
      "Saving file Day10_Harshini ...\n",
      "Saved JSON: /common/home/milky-way/new_graph_cities/cities/hDay10_Harshini.txt\n",
      "\n",
      "\n",
      "Processing:  2020-12-12 05:08:26.txt\n",
      "Saving image 204_56 ...\n",
      "Saved image: /common/home/milky-way/new_graph_cities/graphs/h204_56.png\n",
      "Saving file 204_56 ...\n",
      "Saved JSON: /common/home/milky-way/new_graph_cities/cities/h204_56.txt\n",
      "\n",
      "\n",
      "Saving file Day10_Harshini ...\n",
      "Saved JSON: /common/home/milky-way/new_graph_cities/cities/hDay10_Harshini.txt\n",
      "\n",
      "\n",
      "Processing:  2020-12-12 05:08:27.txt\n",
      "Saving image 204_57 ...\n",
      "Saved image: /common/home/milky-way/new_graph_cities/graphs/h204_57.png\n",
      "Saving file 204_57 ...\n",
      "Saved JSON: /common/home/milky-way/new_graph_cities/cities/h204_57.txt\n",
      "\n",
      "\n",
      "Saving file Day10_Harshini ...\n",
      "Saved JSON: /common/home/milky-way/new_graph_cities/cities/hDay10_Harshini.txt\n",
      "\n",
      "\n",
      "Processing:  2020-12-12 05:08:28.txt\n",
      "Saving image 204_58 ...\n",
      "Saved image: /common/home/milky-way/new_graph_cities/graphs/h204_58.png\n",
      "Saving file 204_58 ...\n",
      "Saved JSON: /common/home/milky-way/new_graph_cities/cities/h204_58.txt\n",
      "\n",
      "\n",
      "Saving file Day10_Harshini ...\n",
      "Saved JSON: /common/home/milky-way/new_graph_cities/cities/hDay10_Harshini.txt\n",
      "\n",
      "\n",
      "Processing:  2020-12-12 05:08:32.txt\n",
      "Saving image 204_59 ...\n",
      "Saved image: /common/home/milky-way/new_graph_cities/graphs/h204_59.png\n",
      "Saving file 204_59 ...\n",
      "Saved JSON: /common/home/milky-way/new_graph_cities/cities/h204_59.txt\n",
      "\n",
      "\n",
      "Saving file Day10_Harshini ...\n",
      "Saved JSON: /common/home/milky-way/new_graph_cities/cities/hDay10_Harshini.txt\n",
      "\n",
      "\n",
      "Processing:  2020-12-12 05:08:33.txt\n",
      "Saving image 204_60 ...\n",
      "Saved image: /common/home/milky-way/new_graph_cities/graphs/h204_60.png\n",
      "Saving file 204_60 ...\n",
      "Saved JSON: /common/home/milky-way/new_graph_cities/cities/h204_60.txt\n",
      "\n",
      "\n",
      "Saving file Day10_Harshini ...\n",
      "Saved JSON: /common/home/milky-way/new_graph_cities/cities/hDay10_Harshini.txt\n",
      "\n",
      "\n",
      "Processing:  2020-12-12 05:08:34.txt\n",
      "Saving image 204_61 ...\n",
      "Saved image: /common/home/milky-way/new_graph_cities/graphs/h204_61.png\n",
      "Saving file 204_61 ...\n",
      "Saved JSON: /common/home/milky-way/new_graph_cities/cities/h204_61.txt\n",
      "\n",
      "\n",
      "Saving file Day10_Harshini ...\n",
      "Saved JSON: /common/home/milky-way/new_graph_cities/cities/hDay10_Harshini.txt\n",
      "\n",
      "\n",
      "Processing:  2020-12-12 05:08:36.txt\n",
      "Saving image 204_62 ...\n",
      "Saved image: /common/home/milky-way/new_graph_cities/graphs/h204_62.png\n",
      "Saving file 204_62 ...\n",
      "Saved JSON: /common/home/milky-way/new_graph_cities/cities/h204_62.txt\n",
      "\n",
      "\n",
      "Saving file Day10_Harshini ...\n",
      "Saved JSON: /common/home/milky-way/new_graph_cities/cities/hDay10_Harshini.txt\n",
      "\n",
      "\n",
      "Processing:  2020-12-12 05:08:37.txt\n",
      "Saving image 204_63 ...\n",
      "Saved image: /common/home/milky-way/new_graph_cities/graphs/h204_63.png\n",
      "Saving file 204_63 ...\n",
      "Saved JSON: /common/home/milky-way/new_graph_cities/cities/h204_63.txt\n",
      "\n",
      "\n",
      "Saving file Day10_Harshini ...\n",
      "Saved JSON: /common/home/milky-way/new_graph_cities/cities/hDay10_Harshini.txt\n",
      "\n",
      "\n",
      "Processing:  2020-12-12 05:08:38.txt\n",
      "Saving image 204_64 ...\n",
      "Saved image: /common/home/milky-way/new_graph_cities/graphs/h204_64.png\n",
      "Saving file 204_64 ...\n",
      "Saved JSON: /common/home/milky-way/new_graph_cities/cities/h204_64.txt\n",
      "\n",
      "\n",
      "Saving file Day10_Harshini ...\n",
      "Saved JSON: /common/home/milky-way/new_graph_cities/cities/hDay10_Harshini.txt\n",
      "\n",
      "\n",
      "Processing:  2020-12-12 05:08:39.txt\n",
      "Saving image 204_65 ...\n",
      "Saved image: /common/home/milky-way/new_graph_cities/graphs/h204_65.png\n",
      "Saving file 204_65 ...\n",
      "Saved JSON: /common/home/milky-way/new_graph_cities/cities/h204_65.txt\n",
      "\n",
      "\n",
      "Saving file Day10_Harshini ...\n",
      "Saved JSON: /common/home/milky-way/new_graph_cities/cities/hDay10_Harshini.txt\n",
      "\n",
      "\n",
      "Processing:  2020-12-12 05:08:40.txt\n",
      "Saving image 204_66 ...\n",
      "Saved image: /common/home/milky-way/new_graph_cities/graphs/h204_66.png\n",
      "Saving file 204_66 ...\n",
      "Saved JSON: /common/home/milky-way/new_graph_cities/cities/h204_66.txt\n",
      "\n",
      "\n",
      "Saving file Day10_Harshini ...\n",
      "Saved JSON: /common/home/milky-way/new_graph_cities/cities/hDay10_Harshini.txt\n",
      "\n",
      "\n",
      "Processing:  2020-12-12 05:08:41.txt\n",
      "Saving image 204_67 ...\n",
      "Saved image: /common/home/milky-way/new_graph_cities/graphs/h204_67.png\n",
      "Saving file 204_67 ...\n",
      "Saved JSON: /common/home/milky-way/new_graph_cities/cities/h204_67.txt\n",
      "\n",
      "\n",
      "Saving file Day10_Harshini ...\n",
      "Saved JSON: /common/home/milky-way/new_graph_cities/cities/hDay10_Harshini.txt\n",
      "\n",
      "\n",
      "Processing:  2020-12-12 05:08:42.txt\n",
      "Saving image 204_68 ...\n",
      "Saved image: /common/home/milky-way/new_graph_cities/graphs/h204_68.png\n",
      "Saving file 204_68 ...\n",
      "Saved JSON: /common/home/milky-way/new_graph_cities/cities/h204_68.txt\n",
      "\n",
      "\n",
      "Saving file Day10_Harshini ...\n",
      "Saved JSON: /common/home/milky-way/new_graph_cities/cities/hDay10_Harshini.txt\n",
      "\n",
      "\n",
      "Processing:  2020-12-12 05:08:45.txt\n",
      "Saving image 204_69 ...\n",
      "Saved image: /common/home/milky-way/new_graph_cities/graphs/h204_69.png\n",
      "Saving file 204_69 ...\n",
      "Saved JSON: /common/home/milky-way/new_graph_cities/cities/h204_69.txt\n",
      "\n",
      "\n",
      "Saving file Day10_Harshini ...\n",
      "Saved JSON: /common/home/milky-way/new_graph_cities/cities/hDay10_Harshini.txt\n",
      "\n",
      "\n",
      "Processing:  2020-12-12 05:08:46.txt\n",
      "Saving image 204_70 ...\n",
      "Saved image: /common/home/milky-way/new_graph_cities/graphs/h204_70.png\n",
      "Saving file 204_70 ...\n",
      "Saved JSON: /common/home/milky-way/new_graph_cities/cities/h204_70.txt\n",
      "\n",
      "\n",
      "Saving file Day10_Harshini ...\n",
      "Saved JSON: /common/home/milky-way/new_graph_cities/cities/hDay10_Harshini.txt\n",
      "\n",
      "\n",
      "Processing:  2020-12-12 05:08:48.txt\n",
      "Saving image 204_71 ...\n",
      "Saved image: /common/home/milky-way/new_graph_cities/graphs/h204_71.png\n",
      "Saving file 204_71 ...\n",
      "Saved JSON: /common/home/milky-way/new_graph_cities/cities/h204_71.txt\n",
      "\n",
      "\n",
      "Saving file Day10_Harshini ...\n",
      "Saved JSON: /common/home/milky-way/new_graph_cities/cities/hDay10_Harshini.txt\n",
      "\n",
      "\n",
      "Processing:  2020-12-12 05:08:49.txt\n",
      "Saving image 204_72 ...\n",
      "Saved image: /common/home/milky-way/new_graph_cities/graphs/h204_72.png\n",
      "Saving file 204_72 ...\n",
      "Saved JSON: /common/home/milky-way/new_graph_cities/cities/h204_72.txt\n",
      "\n",
      "\n",
      "Saving file Day10_Harshini ...\n",
      "Saved JSON: /common/home/milky-way/new_graph_cities/cities/hDay10_Harshini.txt\n",
      "\n",
      "\n",
      "Processing:  2020-12-12 05:08:50.txt\n",
      "Saving image 204_73 ...\n",
      "Saved image: /common/home/milky-way/new_graph_cities/graphs/h204_73.png\n",
      "Saving file 204_73 ...\n",
      "Saved JSON: /common/home/milky-way/new_graph_cities/cities/h204_73.txt\n",
      "\n",
      "\n",
      "Saving file Day10_Harshini ...\n",
      "Saved JSON: /common/home/milky-way/new_graph_cities/cities/hDay10_Harshini.txt\n",
      "\n",
      "\n",
      "Processing:  2020-12-12 05:08:52.txt\n",
      "Saving image 204_74 ...\n",
      "Saved image: /common/home/milky-way/new_graph_cities/graphs/h204_74.png\n",
      "Saving file 204_74 ...\n",
      "Saved JSON: /common/home/milky-way/new_graph_cities/cities/h204_74.txt\n",
      "\n",
      "\n",
      "Saving file Day10_Harshini ...\n",
      "Saved JSON: /common/home/milky-way/new_graph_cities/cities/hDay10_Harshini.txt\n",
      "\n",
      "\n",
      "Processing:  2020-12-12 05:08:53.txt\n",
      "Saving image 204_75 ...\n",
      "Saved image: /common/home/milky-way/new_graph_cities/graphs/h204_75.png\n",
      "Saving file 204_75 ...\n",
      "Saved JSON: /common/home/milky-way/new_graph_cities/cities/h204_75.txt\n",
      "\n",
      "\n",
      "Saving file Day10_Harshini ...\n",
      "Saved JSON: /common/home/milky-way/new_graph_cities/cities/hDay10_Harshini.txt\n",
      "\n",
      "\n",
      "Processing:  2020-12-12 05:08:55.txt\n",
      "Saving image 204_76 ...\n",
      "Saved image: /common/home/milky-way/new_graph_cities/graphs/h204_76.png\n",
      "Saving file 204_76 ...\n",
      "Saved JSON: /common/home/milky-way/new_graph_cities/cities/h204_76.txt\n",
      "\n",
      "\n",
      "Saving file Day10_Harshini ...\n",
      "Saved JSON: /common/home/milky-way/new_graph_cities/cities/hDay10_Harshini.txt\n",
      "\n",
      "\n",
      "Processing:  2020-12-12 05:08:59.txt\n",
      "Saving image 204_77 ...\n",
      "Saved image: /common/home/milky-way/new_graph_cities/graphs/h204_77.png\n",
      "Saving file 204_77 ...\n",
      "Saved JSON: /common/home/milky-way/new_graph_cities/cities/h204_77.txt\n",
      "\n",
      "\n",
      "Saving file Day10_Harshini ...\n",
      "Saved JSON: /common/home/milky-way/new_graph_cities/cities/hDay10_Harshini.txt\n",
      "\n",
      "\n",
      "Processing:  2020-12-12 05:09:00.txt\n",
      "Saving image 204_78 ...\n",
      "Saved image: /common/home/milky-way/new_graph_cities/graphs/h204_78.png\n",
      "Saving file 204_78 ...\n",
      "Saved JSON: /common/home/milky-way/new_graph_cities/cities/h204_78.txt\n",
      "\n",
      "\n",
      "Saving file Day10_Harshini ...\n",
      "Saved JSON: /common/home/milky-way/new_graph_cities/cities/hDay10_Harshini.txt\n",
      "\n",
      "\n",
      "Processing:  2020-12-12 05:09:03.txt\n",
      "Saving image 204_79 ...\n",
      "Saved image: /common/home/milky-way/new_graph_cities/graphs/h204_79.png\n",
      "Saving file 204_79 ...\n",
      "Saved JSON: /common/home/milky-way/new_graph_cities/cities/h204_79.txt\n",
      "\n",
      "\n",
      "Saving file Day10_Harshini ...\n",
      "Saved JSON: /common/home/milky-way/new_graph_cities/cities/hDay10_Harshini.txt\n",
      "\n",
      "\n",
      "Processing:  2020-12-12 05:09:04.txt\n",
      "Saving image 204_80 ...\n",
      "Saved image: /common/home/milky-way/new_graph_cities/graphs/h204_80.png\n",
      "Saving file 204_80 ...\n",
      "Saved JSON: /common/home/milky-way/new_graph_cities/cities/h204_80.txt\n",
      "\n",
      "\n",
      "Saving file Day10_Harshini ...\n",
      "Saved JSON: /common/home/milky-way/new_graph_cities/cities/hDay10_Harshini.txt\n",
      "\n",
      "\n",
      "Processing:  2020-12-12 05:09:05.txt\n",
      "Saving image 204_81 ...\n",
      "Saved image: /common/home/milky-way/new_graph_cities/graphs/h204_81.png\n",
      "Saving file 204_81 ...\n",
      "Saved JSON: /common/home/milky-way/new_graph_cities/cities/h204_81.txt\n",
      "\n",
      "\n",
      "Saving file Day10_Harshini ...\n",
      "Saved JSON: /common/home/milky-way/new_graph_cities/cities/hDay10_Harshini.txt\n",
      "\n",
      "\n",
      "Processing:  2020-12-12 05:09:09.txt\n",
      "Saving image 204_82 ...\n",
      "Saved image: /common/home/milky-way/new_graph_cities/graphs/h204_82.png\n",
      "Saving file 204_82 ...\n",
      "Saved JSON: /common/home/milky-way/new_graph_cities/cities/h204_82.txt\n",
      "\n",
      "\n",
      "Saving file Day10_Harshini ...\n",
      "Saved JSON: /common/home/milky-way/new_graph_cities/cities/hDay10_Harshini.txt\n",
      "\n",
      "\n",
      "Processing:  2020-12-12 05:09:10.txt\n",
      "Saving image 204_83 ...\n",
      "Saved image: /common/home/milky-way/new_graph_cities/graphs/h204_83.png\n",
      "Saving file 204_83 ...\n",
      "Saved JSON: /common/home/milky-way/new_graph_cities/cities/h204_83.txt\n",
      "\n",
      "\n",
      "Saving file Day10_Harshini ...\n",
      "Saved JSON: /common/home/milky-way/new_graph_cities/cities/hDay10_Harshini.txt\n",
      "\n",
      "\n",
      "Processing:  2020-12-12 05:09:13.txt\n",
      "Saving image 204_84 ...\n",
      "Saved image: /common/home/milky-way/new_graph_cities/graphs/h204_84.png\n",
      "Saving file 204_84 ...\n",
      "Saved JSON: /common/home/milky-way/new_graph_cities/cities/h204_84.txt\n",
      "\n",
      "\n",
      "Saving file Day10_Harshini ...\n",
      "Saved JSON: /common/home/milky-way/new_graph_cities/cities/hDay10_Harshini.txt\n",
      "\n",
      "\n",
      "Processing:  2020-12-12 05:09:14.txt\n",
      "Saving image 204_85 ...\n",
      "Saved image: /common/home/milky-way/new_graph_cities/graphs/h204_85.png\n",
      "Saving file 204_85 ...\n",
      "Saved JSON: /common/home/milky-way/new_graph_cities/cities/h204_85.txt\n",
      "\n",
      "\n",
      "Saving file Day10_Harshini ...\n",
      "Saved JSON: /common/home/milky-way/new_graph_cities/cities/hDay10_Harshini.txt\n",
      "\n",
      "\n",
      "Processing:  2020-12-12 05:09:15.txt\n",
      "Saving image 205_1 ...\n",
      "Saved image: /common/home/milky-way/new_graph_cities/graphs/h205_1.png\n",
      "Saving file 205_1 ...\n",
      "Saved JSON: /common/home/milky-way/new_graph_cities/cities/h205_1.txt\n",
      "\n",
      "\n",
      "Saving file Day10_Harshini ...\n",
      "Saved JSON: /common/home/milky-way/new_graph_cities/cities/hDay10_Harshini.txt\n",
      "\n",
      "\n",
      "Processing:  2020-12-12 05:09:16.txt\n",
      "Saving image 205_2 ...\n",
      "Saved image: /common/home/milky-way/new_graph_cities/graphs/h205_2.png\n",
      "Saving file 205_2 ...\n",
      "Saved JSON: /common/home/milky-way/new_graph_cities/cities/h205_2.txt\n",
      "\n",
      "\n",
      "Saving file Day10_Harshini ...\n",
      "Saved JSON: /common/home/milky-way/new_graph_cities/cities/hDay10_Harshini.txt\n",
      "\n",
      "\n",
      "Processing:  2020-12-12 05:09:17.txt\n",
      "Saving image 205_3 ...\n",
      "Saved image: /common/home/milky-way/new_graph_cities/graphs/h205_3.png\n",
      "Saving file 205_3 ...\n",
      "Saved JSON: /common/home/milky-way/new_graph_cities/cities/h205_3.txt\n",
      "\n",
      "\n",
      "Saving file Day10_Harshini ...\n",
      "Saved JSON: /common/home/milky-way/new_graph_cities/cities/hDay10_Harshini.txt\n",
      "\n",
      "\n",
      "Processing:  2020-12-12 05:09:19.txt\n",
      "Saving image 205_4 ...\n",
      "Saved image: /common/home/milky-way/new_graph_cities/graphs/h205_4.png\n",
      "Saving file 205_4 ...\n",
      "Saved JSON: /common/home/milky-way/new_graph_cities/cities/h205_4.txt\n",
      "\n",
      "\n",
      "Saving file Day10_Harshini ...\n",
      "Saved JSON: /common/home/milky-way/new_graph_cities/cities/hDay10_Harshini.txt\n",
      "\n",
      "\n",
      "Processing:  2020-12-12 05:09:20.txt\n",
      "Saving image 205_5 ...\n",
      "Saved image: /common/home/milky-way/new_graph_cities/graphs/h205_5.png\n",
      "Saving file 205_5 ...\n",
      "Saved JSON: /common/home/milky-way/new_graph_cities/cities/h205_5.txt\n",
      "\n",
      "\n",
      "Saving file Day10_Harshini ...\n",
      "Saved JSON: /common/home/milky-way/new_graph_cities/cities/hDay10_Harshini.txt\n",
      "\n",
      "\n",
      "Processing:  2020-12-12 05:09:21.txt\n",
      "Saving image 205_6 ...\n",
      "Saved image: /common/home/milky-way/new_graph_cities/graphs/h205_6.png\n",
      "Saving file 205_6 ...\n",
      "Saved JSON: /common/home/milky-way/new_graph_cities/cities/h205_6.txt\n",
      "\n",
      "\n",
      "Saving file Day10_Harshini ...\n",
      "Saved JSON: /common/home/milky-way/new_graph_cities/cities/hDay10_Harshini.txt\n",
      "\n",
      "\n",
      "Processing:  2020-12-12 05:09:23.txt\n",
      "Saving image 205_7 ...\n",
      "Saved image: /common/home/milky-way/new_graph_cities/graphs/h205_7.png\n",
      "Saving file 205_7 ...\n",
      "Saved JSON: /common/home/milky-way/new_graph_cities/cities/h205_7.txt\n",
      "\n",
      "\n",
      "Saving file Day10_Harshini ...\n",
      "Saved JSON: /common/home/milky-way/new_graph_cities/cities/hDay10_Harshini.txt\n",
      "\n",
      "\n",
      "Processing:  2020-12-12 05:09:27.txt\n",
      "Saving image 205_8 ...\n",
      "Saved image: /common/home/milky-way/new_graph_cities/graphs/h205_8.png\n",
      "Saving file 205_8 ...\n",
      "Saved JSON: /common/home/milky-way/new_graph_cities/cities/h205_8.txt\n",
      "\n",
      "\n",
      "Saving file Day10_Harshini ...\n",
      "Saved JSON: /common/home/milky-way/new_graph_cities/cities/hDay10_Harshini.txt\n",
      "\n",
      "\n",
      "Processing:  2020-12-12 05:09:30.txt\n",
      "Saving image 205_9 ...\n",
      "Saved image: /common/home/milky-way/new_graph_cities/graphs/h205_9.png\n",
      "Saving file 205_9 ...\n",
      "Saved JSON: /common/home/milky-way/new_graph_cities/cities/h205_9.txt\n",
      "\n",
      "\n",
      "Saving file Day10_Harshini ...\n",
      "Saved JSON: /common/home/milky-way/new_graph_cities/cities/hDay10_Harshini.txt\n",
      "\n",
      "\n",
      "Processing:  2020-12-12 05:09:33.txt\n",
      "Saving image 205_10 ...\n",
      "Saved image: /common/home/milky-way/new_graph_cities/graphs/h205_10.png\n",
      "Saving file 205_10 ...\n",
      "Saved JSON: /common/home/milky-way/new_graph_cities/cities/h205_10.txt\n",
      "\n",
      "\n",
      "Saving file Day10_Harshini ...\n",
      "Saved JSON: /common/home/milky-way/new_graph_cities/cities/hDay10_Harshini.txt\n",
      "\n",
      "\n",
      "Processing:  2020-12-12 05:09:35.txt\n",
      "Saving image 205_11 ...\n",
      "Saved image: /common/home/milky-way/new_graph_cities/graphs/h205_11.png\n",
      "Saving file 205_11 ...\n",
      "Saved JSON: /common/home/milky-way/new_graph_cities/cities/h205_11.txt\n",
      "\n",
      "\n",
      "Saving file Day10_Harshini ...\n",
      "Saved JSON: /common/home/milky-way/new_graph_cities/cities/hDay10_Harshini.txt\n",
      "\n",
      "\n",
      "Processing:  2020-12-12 05:09:38.txt\n",
      "Saving image 205_12 ...\n",
      "Saved image: /common/home/milky-way/new_graph_cities/graphs/h205_12.png\n",
      "Saving file 205_12 ...\n",
      "Saved JSON: /common/home/milky-way/new_graph_cities/cities/h205_12.txt\n",
      "\n",
      "\n",
      "Saving file Day10_Harshini ...\n",
      "Saved JSON: /common/home/milky-way/new_graph_cities/cities/hDay10_Harshini.txt\n",
      "\n",
      "\n",
      "Processing:  2020-12-12 05:09:39.txt\n",
      "Saving image 205_13 ...\n",
      "Saved image: /common/home/milky-way/new_graph_cities/graphs/h205_13.png\n",
      "Saving file 205_13 ...\n",
      "Saved JSON: /common/home/milky-way/new_graph_cities/cities/h205_13.txt\n",
      "\n",
      "\n",
      "Saving file Day10_Harshini ...\n",
      "Saved JSON: /common/home/milky-way/new_graph_cities/cities/hDay10_Harshini.txt\n",
      "\n",
      "\n",
      "Processing:  2020-12-12 05:09:41.txt\n",
      "Saving image 205_14 ...\n",
      "Saved image: /common/home/milky-way/new_graph_cities/graphs/h205_14.png\n",
      "Saving file 205_14 ...\n",
      "Saved JSON: /common/home/milky-way/new_graph_cities/cities/h205_14.txt\n",
      "\n",
      "\n",
      "Saving file Day10_Harshini ...\n",
      "Saved JSON: /common/home/milky-way/new_graph_cities/cities/hDay10_Harshini.txt\n",
      "\n",
      "\n",
      "Processing:  2020-12-12 05:09:42.txt\n",
      "Saving image 205_15 ...\n",
      "Saved image: /common/home/milky-way/new_graph_cities/graphs/h205_15.png\n",
      "Saving file 205_15 ...\n",
      "Saved JSON: /common/home/milky-way/new_graph_cities/cities/h205_15.txt\n",
      "\n",
      "\n",
      "Saving file Day10_Harshini ...\n",
      "Saved JSON: /common/home/milky-way/new_graph_cities/cities/hDay10_Harshini.txt\n",
      "\n",
      "\n",
      "Processing:  2020-12-12 05:09:43.txt\n",
      "Saving image 205_16 ...\n",
      "Saved image: /common/home/milky-way/new_graph_cities/graphs/h205_16.png\n",
      "Saving file 205_16 ...\n",
      "Saved JSON: /common/home/milky-way/new_graph_cities/cities/h205_16.txt\n",
      "\n",
      "\n",
      "Saving file Day10_Harshini ...\n",
      "Saved JSON: /common/home/milky-way/new_graph_cities/cities/hDay10_Harshini.txt\n",
      "\n",
      "\n",
      "Processing:  2020-12-12 05:09:44.txt\n",
      "Saving image 205_17 ...\n",
      "Saved image: /common/home/milky-way/new_graph_cities/graphs/h205_17.png\n",
      "Saving file 205_17 ...\n",
      "Saved JSON: /common/home/milky-way/new_graph_cities/cities/h205_17.txt\n",
      "\n",
      "\n",
      "Saving file Day10_Harshini ...\n",
      "Saved JSON: /common/home/milky-way/new_graph_cities/cities/hDay10_Harshini.txt\n",
      "\n",
      "\n",
      "Processing:  2020-12-12 05:09:45.txt\n",
      "Saving image 205_18 ...\n",
      "Saved image: /common/home/milky-way/new_graph_cities/graphs/h205_18.png\n",
      "Saving file 205_18 ...\n",
      "Saved JSON: /common/home/milky-way/new_graph_cities/cities/h205_18.txt\n",
      "\n",
      "\n",
      "Saving file Day10_Harshini ...\n",
      "Saved JSON: /common/home/milky-way/new_graph_cities/cities/hDay10_Harshini.txt\n",
      "\n",
      "\n",
      "Processing:  2020-12-12 05:09:46.txt\n",
      "Saving image 205_19 ...\n",
      "Saved image: /common/home/milky-way/new_graph_cities/graphs/h205_19.png\n",
      "Saving file 205_19 ...\n",
      "Saved JSON: /common/home/milky-way/new_graph_cities/cities/h205_19.txt\n",
      "\n",
      "\n",
      "Saving file Day10_Harshini ...\n",
      "Saved JSON: /common/home/milky-way/new_graph_cities/cities/hDay10_Harshini.txt\n",
      "\n",
      "\n",
      "Processing:  2020-12-12 05:09:47.txt\n",
      "Saving image 205_20 ...\n",
      "Saved image: /common/home/milky-way/new_graph_cities/graphs/h205_20.png\n",
      "Saving file 205_20 ...\n",
      "Saved JSON: /common/home/milky-way/new_graph_cities/cities/h205_20.txt\n",
      "\n",
      "\n",
      "Saving file Day10_Harshini ...\n",
      "Saved JSON: /common/home/milky-way/new_graph_cities/cities/hDay10_Harshini.txt\n",
      "\n",
      "\n",
      "Processing:  2020-12-12 05:09:48.txt\n",
      "Saving image 205_21 ...\n",
      "Saved image: /common/home/milky-way/new_graph_cities/graphs/h205_21.png\n",
      "Saving file 205_21 ...\n",
      "Saved JSON: /common/home/milky-way/new_graph_cities/cities/h205_21.txt\n",
      "\n",
      "\n",
      "Saving file Day10_Harshini ...\n",
      "Saved JSON: /common/home/milky-way/new_graph_cities/cities/hDay10_Harshini.txt\n",
      "\n",
      "\n",
      "Processing:  2020-12-12 05:09:49.txt\n",
      "Saving image 205_22 ...\n",
      "Saved image: /common/home/milky-way/new_graph_cities/graphs/h205_22.png\n",
      "Saving file 205_22 ...\n",
      "Saved JSON: /common/home/milky-way/new_graph_cities/cities/h205_22.txt\n",
      "\n",
      "\n",
      "Saving file Day10_Harshini ...\n",
      "Saved JSON: /common/home/milky-way/new_graph_cities/cities/hDay10_Harshini.txt\n",
      "\n",
      "\n",
      "Processing:  2020-12-12 05:09:50.txt\n",
      "Saving image 205_23 ...\n",
      "Saved image: /common/home/milky-way/new_graph_cities/graphs/h205_23.png\n",
      "Saving file 205_23 ...\n",
      "Saved JSON: /common/home/milky-way/new_graph_cities/cities/h205_23.txt\n",
      "\n",
      "\n",
      "Saving file Day10_Harshini ...\n",
      "Saved JSON: /common/home/milky-way/new_graph_cities/cities/hDay10_Harshini.txt\n",
      "\n",
      "\n",
      "Processing:  2020-12-12 05:09:51.txt\n",
      "Saving image 205_24 ...\n",
      "Saved image: /common/home/milky-way/new_graph_cities/graphs/h205_24.png\n",
      "Saving file 205_24 ...\n",
      "Saved JSON: /common/home/milky-way/new_graph_cities/cities/h205_24.txt\n",
      "\n",
      "\n",
      "Saving file Day10_Harshini ...\n",
      "Saved JSON: /common/home/milky-way/new_graph_cities/cities/hDay10_Harshini.txt\n",
      "\n",
      "\n",
      "Processing:  2020-12-12 05:09:52.txt\n",
      "Saving image 205_25 ...\n",
      "Saved image: /common/home/milky-way/new_graph_cities/graphs/h205_25.png\n",
      "Saving file 205_25 ...\n",
      "Saved JSON: /common/home/milky-way/new_graph_cities/cities/h205_25.txt\n",
      "\n",
      "\n",
      "Saving file Day10_Harshini ...\n",
      "Saved JSON: /common/home/milky-way/new_graph_cities/cities/hDay10_Harshini.txt\n",
      "\n",
      "\n",
      "Processing:  2020-12-12 05:09:53.txt\n",
      "Saving image 205_26 ...\n",
      "Saved image: /common/home/milky-way/new_graph_cities/graphs/h205_26.png\n",
      "Saving file 205_26 ...\n",
      "Saved JSON: /common/home/milky-way/new_graph_cities/cities/h205_26.txt\n",
      "\n",
      "\n",
      "Saving file Day10_Harshini ...\n",
      "Saved JSON: /common/home/milky-way/new_graph_cities/cities/hDay10_Harshini.txt\n",
      "\n",
      "\n",
      "Processing:  2020-12-12 05:09:54.txt\n",
      "Saving image 205_27 ...\n",
      "Saved image: /common/home/milky-way/new_graph_cities/graphs/h205_27.png\n",
      "Saving file 205_27 ...\n",
      "Saved JSON: /common/home/milky-way/new_graph_cities/cities/h205_27.txt\n",
      "\n",
      "\n",
      "Saving file Day10_Harshini ...\n",
      "Saved JSON: /common/home/milky-way/new_graph_cities/cities/hDay10_Harshini.txt\n",
      "\n",
      "\n",
      "Processing:  2020-12-12 05:09:55.txt\n",
      "Saving image 205_28 ...\n",
      "Saved image: /common/home/milky-way/new_graph_cities/graphs/h205_28.png\n",
      "Saving file 205_28 ...\n",
      "Saved JSON: /common/home/milky-way/new_graph_cities/cities/h205_28.txt\n",
      "\n",
      "\n",
      "Saving file Day10_Harshini ...\n",
      "Saved JSON: /common/home/milky-way/new_graph_cities/cities/hDay10_Harshini.txt\n",
      "\n",
      "\n",
      "Processing:  2020-12-12 05:09:56.txt\n",
      "Saving image 205_29 ...\n",
      "Saved image: /common/home/milky-way/new_graph_cities/graphs/h205_29.png\n",
      "Saving file 205_29 ...\n",
      "Saved JSON: /common/home/milky-way/new_graph_cities/cities/h205_29.txt\n",
      "\n",
      "\n",
      "Saving file Day10_Harshini ...\n",
      "Saved JSON: /common/home/milky-way/new_graph_cities/cities/hDay10_Harshini.txt\n",
      "\n",
      "\n",
      "Processing:  2020-12-12 05:09:57.txt\n",
      "Saving image 205_30 ...\n",
      "Saved image: /common/home/milky-way/new_graph_cities/graphs/h205_30.png\n",
      "Saving file 205_30 ...\n",
      "Saved JSON: /common/home/milky-way/new_graph_cities/cities/h205_30.txt\n",
      "\n",
      "\n",
      "Saving file Day10_Harshini ...\n",
      "Saved JSON: /common/home/milky-way/new_graph_cities/cities/hDay10_Harshini.txt\n",
      "\n",
      "\n",
      "Processing:  2020-12-12 05:09:58.txt\n",
      "Saving image 205_31 ...\n",
      "Saved image: /common/home/milky-way/new_graph_cities/graphs/h205_31.png\n",
      "Saving file 205_31 ...\n",
      "Saved JSON: /common/home/milky-way/new_graph_cities/cities/h205_31.txt\n",
      "\n",
      "\n",
      "Saving file Day10_Harshini ...\n",
      "Saved JSON: /common/home/milky-way/new_graph_cities/cities/hDay10_Harshini.txt\n",
      "\n",
      "\n",
      "Processing:  2020-12-12 05:09:59.txt\n",
      "Saving image 205_32 ...\n",
      "Saved image: /common/home/milky-way/new_graph_cities/graphs/h205_32.png\n",
      "Saving file 205_32 ...\n",
      "Saved JSON: /common/home/milky-way/new_graph_cities/cities/h205_32.txt\n",
      "\n",
      "\n",
      "Saving file Day10_Harshini ...\n",
      "Saved JSON: /common/home/milky-way/new_graph_cities/cities/hDay10_Harshini.txt\n",
      "\n",
      "\n",
      "Processing:  2020-12-12 05:10:01.txt\n",
      "Saving image 205_33 ...\n",
      "Saved image: /common/home/milky-way/new_graph_cities/graphs/h205_33.png\n",
      "Saving file 205_33 ...\n",
      "Saved JSON: /common/home/milky-way/new_graph_cities/cities/h205_33.txt\n",
      "\n",
      "\n",
      "Saving file Day10_Harshini ...\n",
      "Saved JSON: /common/home/milky-way/new_graph_cities/cities/hDay10_Harshini.txt\n",
      "\n",
      "\n",
      "Processing:  2020-12-12 05:10:02.txt\n",
      "Saving image 205_34 ...\n",
      "Saved image: /common/home/milky-way/new_graph_cities/graphs/h205_34.png\n",
      "Saving file 205_34 ...\n",
      "Saved JSON: /common/home/milky-way/new_graph_cities/cities/h205_34.txt\n",
      "\n",
      "\n",
      "Saving file Day10_Harshini ...\n",
      "Saved JSON: /common/home/milky-way/new_graph_cities/cities/hDay10_Harshini.txt\n",
      "\n",
      "\n",
      "Processing:  2020-12-12 05:10:03.txt\n",
      "Saving image 205_35 ...\n",
      "Saved image: /common/home/milky-way/new_graph_cities/graphs/h205_35.png\n",
      "Saving file 205_35 ...\n",
      "Saved JSON: /common/home/milky-way/new_graph_cities/cities/h205_35.txt\n",
      "\n",
      "\n",
      "Saving file Day10_Harshini ...\n",
      "Saved JSON: /common/home/milky-way/new_graph_cities/cities/hDay10_Harshini.txt\n",
      "\n",
      "\n",
      "Processing:  2020-12-12 05:10:04.txt\n",
      "Saving image 205_36 ...\n",
      "Saved image: /common/home/milky-way/new_graph_cities/graphs/h205_36.png\n",
      "Saving file 205_36 ...\n",
      "Saved JSON: /common/home/milky-way/new_graph_cities/cities/h205_36.txt\n",
      "\n",
      "\n",
      "Saving file Day10_Harshini ...\n",
      "Saved JSON: /common/home/milky-way/new_graph_cities/cities/hDay10_Harshini.txt\n",
      "\n",
      "\n",
      "Processing:  2020-12-12 05:10:06.txt\n",
      "Saving image 205_37 ...\n",
      "Saved image: /common/home/milky-way/new_graph_cities/graphs/h205_37.png\n",
      "Saving file 205_37 ...\n",
      "Saved JSON: /common/home/milky-way/new_graph_cities/cities/h205_37.txt\n",
      "\n",
      "\n",
      "Saving file Day10_Harshini ...\n",
      "Saved JSON: /common/home/milky-way/new_graph_cities/cities/hDay10_Harshini.txt\n",
      "\n",
      "\n",
      "Processing:  2020-12-12 05:10:07.txt\n",
      "Saving image 205_38 ...\n",
      "Saved image: /common/home/milky-way/new_graph_cities/graphs/h205_38.png\n",
      "Saving file 205_38 ...\n",
      "Saved JSON: /common/home/milky-way/new_graph_cities/cities/h205_38.txt\n",
      "\n",
      "\n",
      "Saving file Day10_Harshini ...\n",
      "Saved JSON: /common/home/milky-way/new_graph_cities/cities/hDay10_Harshini.txt\n",
      "\n",
      "\n",
      "Processing:  2020-12-12 05:10:09.txt\n",
      "Saving image 205_39 ...\n",
      "Saved image: /common/home/milky-way/new_graph_cities/graphs/h205_39.png\n",
      "Saving file 205_39 ...\n",
      "Saved JSON: /common/home/milky-way/new_graph_cities/cities/h205_39.txt\n",
      "\n",
      "\n",
      "Saving file Day10_Harshini ...\n",
      "Saved JSON: /common/home/milky-way/new_graph_cities/cities/hDay10_Harshini.txt\n",
      "\n",
      "\n",
      "Processing:  2020-12-12 05:10:10.txt\n",
      "Saving image 205_40 ...\n",
      "Saved image: /common/home/milky-way/new_graph_cities/graphs/h205_40.png\n",
      "Saving file 205_40 ...\n",
      "Saved JSON: /common/home/milky-way/new_graph_cities/cities/h205_40.txt\n",
      "\n",
      "\n",
      "Saving file Day10_Harshini ...\n",
      "Saved JSON: /common/home/milky-way/new_graph_cities/cities/hDay10_Harshini.txt\n",
      "\n",
      "\n",
      "Processing:  2020-12-12 05:10:11.txt\n",
      "Saving image 205_41 ...\n",
      "Saved image: /common/home/milky-way/new_graph_cities/graphs/h205_41.png\n",
      "Saving file 205_41 ...\n",
      "Saved JSON: /common/home/milky-way/new_graph_cities/cities/h205_41.txt\n",
      "\n",
      "\n",
      "Saving file Day10_Harshini ...\n",
      "Saved JSON: /common/home/milky-way/new_graph_cities/cities/hDay10_Harshini.txt\n",
      "\n",
      "\n",
      "Processing:  2020-12-12 05:10:12.txt\n",
      "Saving image 205_42 ...\n",
      "Saved image: /common/home/milky-way/new_graph_cities/graphs/h205_42.png\n",
      "Saving file 205_42 ...\n",
      "Saved JSON: /common/home/milky-way/new_graph_cities/cities/h205_42.txt\n",
      "\n",
      "\n",
      "Saving file Day10_Harshini ...\n",
      "Saved JSON: /common/home/milky-way/new_graph_cities/cities/hDay10_Harshini.txt\n",
      "\n",
      "\n",
      "Processing:  2020-12-12 05:10:13.txt\n",
      "Saving image 205_43 ...\n",
      "Saved image: /common/home/milky-way/new_graph_cities/graphs/h205_43.png\n",
      "Saving file 205_43 ...\n",
      "Saved JSON: /common/home/milky-way/new_graph_cities/cities/h205_43.txt\n",
      "\n",
      "\n",
      "Saving file Day10_Harshini ...\n",
      "Saved JSON: /common/home/milky-way/new_graph_cities/cities/hDay10_Harshini.txt\n",
      "\n",
      "\n",
      "Processing:  2020-12-12 05:10:14.txt\n",
      "Saving image 205_44 ...\n",
      "Saved image: /common/home/milky-way/new_graph_cities/graphs/h205_44.png\n",
      "Saving file 205_44 ...\n",
      "Saved JSON: /common/home/milky-way/new_graph_cities/cities/h205_44.txt\n",
      "\n",
      "\n",
      "Saving file Day10_Harshini ...\n",
      "Saved JSON: /common/home/milky-way/new_graph_cities/cities/hDay10_Harshini.txt\n",
      "\n",
      "\n",
      "Processing:  2020-12-12 05:10:15.txt\n",
      "Saving image 205_45 ...\n",
      "Saved image: /common/home/milky-way/new_graph_cities/graphs/h205_45.png\n",
      "Saving file 205_45 ...\n",
      "Saved JSON: /common/home/milky-way/new_graph_cities/cities/h205_45.txt\n",
      "\n",
      "\n",
      "Saving file Day10_Harshini ...\n",
      "Saved JSON: /common/home/milky-way/new_graph_cities/cities/hDay10_Harshini.txt\n",
      "\n",
      "\n",
      "Processing:  2020-12-12 05:10:16.txt\n",
      "Saving image 205_46 ...\n",
      "Saved image: /common/home/milky-way/new_graph_cities/graphs/h205_46.png\n",
      "Saving file 205_46 ...\n",
      "Saved JSON: /common/home/milky-way/new_graph_cities/cities/h205_46.txt\n",
      "\n",
      "\n",
      "Saving file Day10_Harshini ...\n",
      "Saved JSON: /common/home/milky-way/new_graph_cities/cities/hDay10_Harshini.txt\n",
      "\n",
      "\n",
      "Processing:  2020-12-12 05:10:17.txt\n",
      "Saving image 205_47 ...\n",
      "Saved image: /common/home/milky-way/new_graph_cities/graphs/h205_47.png\n",
      "Saving file 205_47 ...\n",
      "Saved JSON: /common/home/milky-way/new_graph_cities/cities/h205_47.txt\n",
      "\n",
      "\n",
      "Saving file Day10_Harshini ...\n",
      "Saved JSON: /common/home/milky-way/new_graph_cities/cities/hDay10_Harshini.txt\n",
      "\n",
      "\n",
      "Processing:  2020-12-12 05:10:18.txt\n",
      "Saving image 205_48 ...\n",
      "Saved image: /common/home/milky-way/new_graph_cities/graphs/h205_48.png\n",
      "Saving file 205_48 ...\n",
      "Saved JSON: /common/home/milky-way/new_graph_cities/cities/h205_48.txt\n",
      "\n",
      "\n",
      "Saving file Day10_Harshini ...\n",
      "Saved JSON: /common/home/milky-way/new_graph_cities/cities/hDay10_Harshini.txt\n",
      "\n",
      "\n",
      "Processing:  2020-12-12 05:10:19.txt\n",
      "Saving image 205_49 ...\n",
      "Saved image: /common/home/milky-way/new_graph_cities/graphs/h205_49.png\n",
      "Saving file 205_49 ...\n",
      "Saved JSON: /common/home/milky-way/new_graph_cities/cities/h205_49.txt\n",
      "\n",
      "\n",
      "Saving file Day10_Harshini ...\n",
      "Saved JSON: /common/home/milky-way/new_graph_cities/cities/hDay10_Harshini.txt\n",
      "\n",
      "\n",
      "Processing:  2020-12-12 05:10:20.txt\n",
      "Saving image 205_50 ...\n",
      "Saved image: /common/home/milky-way/new_graph_cities/graphs/h205_50.png\n",
      "Saving file 205_50 ...\n",
      "Saved JSON: /common/home/milky-way/new_graph_cities/cities/h205_50.txt\n",
      "\n",
      "\n",
      "Saving file Day10_Harshini ...\n",
      "Saved JSON: /common/home/milky-way/new_graph_cities/cities/hDay10_Harshini.txt\n",
      "\n",
      "\n",
      "Processing:  2020-12-12 05:10:21.txt\n",
      "Saving image 205_51 ...\n",
      "Saved image: /common/home/milky-way/new_graph_cities/graphs/h205_51.png\n",
      "Saving file 205_51 ...\n",
      "Saved JSON: /common/home/milky-way/new_graph_cities/cities/h205_51.txt\n",
      "\n",
      "\n",
      "Saving file Day10_Harshini ...\n",
      "Saved JSON: /common/home/milky-way/new_graph_cities/cities/hDay10_Harshini.txt\n",
      "\n",
      "\n",
      "Processing:  2020-12-12 05:10:22.txt\n",
      "Saving image 205_52 ...\n",
      "Saved image: /common/home/milky-way/new_graph_cities/graphs/h205_52.png\n",
      "Saving file 205_52 ...\n",
      "Saved JSON: /common/home/milky-way/new_graph_cities/cities/h205_52.txt\n",
      "\n",
      "\n",
      "Saving file Day10_Harshini ...\n",
      "Saved JSON: /common/home/milky-way/new_graph_cities/cities/hDay10_Harshini.txt\n",
      "\n",
      "\n",
      "Processing:  2020-12-12 05:10:23.txt\n",
      "Saving image 205_53 ...\n",
      "Saved image: /common/home/milky-way/new_graph_cities/graphs/h205_53.png\n",
      "Saving file 205_53 ...\n",
      "Saved JSON: /common/home/milky-way/new_graph_cities/cities/h205_53.txt\n",
      "\n",
      "\n",
      "Saving file Day10_Harshini ...\n",
      "Saved JSON: /common/home/milky-way/new_graph_cities/cities/hDay10_Harshini.txt\n",
      "\n",
      "\n",
      "Processing:  2020-12-12 05:10:24.txt\n",
      "Saving image 205_54 ...\n",
      "Saved image: /common/home/milky-way/new_graph_cities/graphs/h205_54.png\n",
      "Saving file 205_54 ...\n",
      "Saved JSON: /common/home/milky-way/new_graph_cities/cities/h205_54.txt\n",
      "\n",
      "\n",
      "Saving file Day10_Harshini ...\n",
      "Saved JSON: /common/home/milky-way/new_graph_cities/cities/hDay10_Harshini.txt\n",
      "\n",
      "\n",
      "Processing:  2020-12-12 05:10:25.txt\n",
      "Saving image 205_55 ...\n",
      "Saved image: /common/home/milky-way/new_graph_cities/graphs/h205_55.png\n",
      "Saving file 205_55 ...\n",
      "Saved JSON: /common/home/milky-way/new_graph_cities/cities/h205_55.txt\n",
      "\n",
      "\n",
      "Saving file Day10_Harshini ...\n",
      "Saved JSON: /common/home/milky-way/new_graph_cities/cities/hDay10_Harshini.txt\n",
      "\n",
      "\n",
      "Processing:  2020-12-12 05:10:26.txt\n",
      "Saving image 205_56 ...\n",
      "Saved image: /common/home/milky-way/new_graph_cities/graphs/h205_56.png\n",
      "Saving file 205_56 ...\n",
      "Saved JSON: /common/home/milky-way/new_graph_cities/cities/h205_56.txt\n",
      "\n",
      "\n",
      "Saving file Day10_Harshini ...\n",
      "Saved JSON: /common/home/milky-way/new_graph_cities/cities/hDay10_Harshini.txt\n",
      "\n",
      "\n",
      "Processing:  2020-12-12 05:10:27.txt\n",
      "Saving image 205_57 ...\n",
      "Saved image: /common/home/milky-way/new_graph_cities/graphs/h205_57.png\n",
      "Saving file 205_57 ...\n",
      "Saved JSON: /common/home/milky-way/new_graph_cities/cities/h205_57.txt\n",
      "\n",
      "\n",
      "Saving file Day10_Harshini ...\n",
      "Saved JSON: /common/home/milky-way/new_graph_cities/cities/hDay10_Harshini.txt\n",
      "\n",
      "\n",
      "Processing:  2020-12-12 05:10:29.txt\n",
      "Saving image 205_58 ...\n",
      "Saved image: /common/home/milky-way/new_graph_cities/graphs/h205_58.png\n",
      "Saving file 205_58 ...\n",
      "Saved JSON: /common/home/milky-way/new_graph_cities/cities/h205_58.txt\n",
      "\n",
      "\n",
      "Saving file Day10_Harshini ...\n",
      "Saved JSON: /common/home/milky-way/new_graph_cities/cities/hDay10_Harshini.txt\n",
      "\n",
      "\n",
      "Processing:  2020-12-12 05:10:30.txt\n",
      "Saving image 205_59 ...\n",
      "Saved image: /common/home/milky-way/new_graph_cities/graphs/h205_59.png\n",
      "Saving file 205_59 ...\n",
      "Saved JSON: /common/home/milky-way/new_graph_cities/cities/h205_59.txt\n",
      "\n",
      "\n",
      "Saving file Day10_Harshini ...\n",
      "Saved JSON: /common/home/milky-way/new_graph_cities/cities/hDay10_Harshini.txt\n",
      "\n",
      "\n",
      "Processing:  2020-12-12 05:10:31.txt\n",
      "Saving image 205_60 ...\n",
      "Saved image: /common/home/milky-way/new_graph_cities/graphs/h205_60.png\n",
      "Saving file 205_60 ...\n",
      "Saved JSON: /common/home/milky-way/new_graph_cities/cities/h205_60.txt\n",
      "\n",
      "\n",
      "Saving file Day10_Harshini ...\n",
      "Saved JSON: /common/home/milky-way/new_graph_cities/cities/hDay10_Harshini.txt\n",
      "\n",
      "\n",
      "Processing:  2020-12-12 05:10:32.txt\n",
      "Saving image 205_61 ...\n",
      "Saved image: /common/home/milky-way/new_graph_cities/graphs/h205_61.png\n",
      "Saving file 205_61 ...\n",
      "Saved JSON: /common/home/milky-way/new_graph_cities/cities/h205_61.txt\n",
      "\n",
      "\n",
      "Saving file Day10_Harshini ...\n",
      "Saved JSON: /common/home/milky-way/new_graph_cities/cities/hDay10_Harshini.txt\n",
      "\n",
      "\n",
      "Processing:  2020-12-12 05:10:33.txt\n",
      "Saving image 205_62 ...\n",
      "Saved image: /common/home/milky-way/new_graph_cities/graphs/h205_62.png\n",
      "Saving file 205_62 ...\n",
      "Saved JSON: /common/home/milky-way/new_graph_cities/cities/h205_62.txt\n",
      "\n",
      "\n",
      "Saving file Day10_Harshini ...\n",
      "Saved JSON: /common/home/milky-way/new_graph_cities/cities/hDay10_Harshini.txt\n",
      "\n",
      "\n",
      "Processing:  2020-12-12 05:10:35.txt\n",
      "Saving image 205_63 ...\n",
      "Saved image: /common/home/milky-way/new_graph_cities/graphs/h205_63.png\n",
      "Saving file 205_63 ...\n",
      "Saved JSON: /common/home/milky-way/new_graph_cities/cities/h205_63.txt\n",
      "\n",
      "\n",
      "Saving file Day10_Harshini ...\n",
      "Saved JSON: /common/home/milky-way/new_graph_cities/cities/hDay10_Harshini.txt\n",
      "\n",
      "\n",
      "Processing:  2020-12-12 05:10:36.txt\n",
      "Saving image 205_64 ...\n",
      "Saved image: /common/home/milky-way/new_graph_cities/graphs/h205_64.png\n",
      "Saving file 205_64 ...\n",
      "Saved JSON: /common/home/milky-way/new_graph_cities/cities/h205_64.txt\n",
      "\n",
      "\n",
      "Saving file Day10_Harshini ...\n",
      "Saved JSON: /common/home/milky-way/new_graph_cities/cities/hDay10_Harshini.txt\n",
      "\n",
      "\n",
      "Processing:  2020-12-12 05:10:37.txt\n",
      "Saving image 205_65 ...\n",
      "Saved image: /common/home/milky-way/new_graph_cities/graphs/h205_65.png\n",
      "Saving file 205_65 ...\n",
      "Saved JSON: /common/home/milky-way/new_graph_cities/cities/h205_65.txt\n",
      "\n",
      "\n",
      "Saving file Day10_Harshini ...\n",
      "Saved JSON: /common/home/milky-way/new_graph_cities/cities/hDay10_Harshini.txt\n",
      "\n",
      "\n",
      "Processing:  2020-12-12 05:10:38.txt\n",
      "Saving image 205_66 ...\n",
      "Saved image: /common/home/milky-way/new_graph_cities/graphs/h205_66.png\n",
      "Saving file 205_66 ...\n",
      "Saved JSON: /common/home/milky-way/new_graph_cities/cities/h205_66.txt\n",
      "\n",
      "\n",
      "Saving file Day10_Harshini ...\n",
      "Saved JSON: /common/home/milky-way/new_graph_cities/cities/hDay10_Harshini.txt\n",
      "\n",
      "\n",
      "Processing:  2020-12-12 05:10:39.txt\n",
      "Saving image 205_67 ...\n",
      "Saved image: /common/home/milky-way/new_graph_cities/graphs/h205_67.png\n",
      "Saving file 205_67 ...\n",
      "Saved JSON: /common/home/milky-way/new_graph_cities/cities/h205_67.txt\n",
      "\n",
      "\n",
      "Saving file Day10_Harshini ...\n",
      "Saved JSON: /common/home/milky-way/new_graph_cities/cities/hDay10_Harshini.txt\n",
      "\n",
      "\n",
      "Processing:  2020-12-12 05:10:40.txt\n",
      "Saving image 205_68 ...\n",
      "Saved image: /common/home/milky-way/new_graph_cities/graphs/h205_68.png\n",
      "Saving file 205_68 ...\n",
      "Saved JSON: /common/home/milky-way/new_graph_cities/cities/h205_68.txt\n",
      "\n",
      "\n",
      "Saving file Day10_Harshini ...\n",
      "Saved JSON: /common/home/milky-way/new_graph_cities/cities/hDay10_Harshini.txt\n",
      "\n",
      "\n",
      "Processing:  2020-12-12 05:10:41.txt\n",
      "Saving image 205_69 ...\n",
      "Saved image: /common/home/milky-way/new_graph_cities/graphs/h205_69.png\n",
      "Saving file 205_69 ...\n",
      "Saved JSON: /common/home/milky-way/new_graph_cities/cities/h205_69.txt\n",
      "\n",
      "\n",
      "Saving file Day10_Harshini ...\n",
      "Saved JSON: /common/home/milky-way/new_graph_cities/cities/hDay10_Harshini.txt\n",
      "\n",
      "\n",
      "Processing:  2020-12-12 05:10:42.txt\n",
      "Saving image 205_70 ...\n",
      "Saved image: /common/home/milky-way/new_graph_cities/graphs/h205_70.png\n",
      "Saving file 205_70 ...\n",
      "Saved JSON: /common/home/milky-way/new_graph_cities/cities/h205_70.txt\n",
      "\n",
      "\n",
      "Saving file Day10_Harshini ...\n",
      "Saved JSON: /common/home/milky-way/new_graph_cities/cities/hDay10_Harshini.txt\n",
      "\n",
      "\n",
      "Processing:  2020-12-12 05:10:43.txt\n",
      "Saving image 205_71 ...\n",
      "Saved image: /common/home/milky-way/new_graph_cities/graphs/h205_71.png\n",
      "Saving file 205_71 ...\n",
      "Saved JSON: /common/home/milky-way/new_graph_cities/cities/h205_71.txt\n",
      "\n",
      "\n",
      "Saving file Day10_Harshini ...\n",
      "Saved JSON: /common/home/milky-way/new_graph_cities/cities/hDay10_Harshini.txt\n",
      "\n",
      "\n",
      "Processing:  2020-12-12 05:10:44.txt\n",
      "Saving image 205_72 ...\n",
      "Saved image: /common/home/milky-way/new_graph_cities/graphs/h205_72.png\n",
      "Saving file 205_72 ...\n",
      "Saved JSON: /common/home/milky-way/new_graph_cities/cities/h205_72.txt\n",
      "\n",
      "\n",
      "Saving file Day10_Harshini ...\n",
      "Saved JSON: /common/home/milky-way/new_graph_cities/cities/hDay10_Harshini.txt\n",
      "\n",
      "\n",
      "Processing:  2020-12-12 05:10:45.txt\n",
      "Saving image 205_73 ...\n",
      "Saved image: /common/home/milky-way/new_graph_cities/graphs/h205_73.png\n",
      "Saving file 205_73 ...\n",
      "Saved JSON: /common/home/milky-way/new_graph_cities/cities/h205_73.txt\n",
      "\n",
      "\n",
      "Saving file Day10_Harshini ...\n",
      "Saved JSON: /common/home/milky-way/new_graph_cities/cities/hDay10_Harshini.txt\n",
      "\n",
      "\n",
      "Processing:  2020-12-12 05:10:46.txt\n",
      "Saving image 205_74 ...\n",
      "Saved image: /common/home/milky-way/new_graph_cities/graphs/h205_74.png\n",
      "Saving file 205_74 ...\n",
      "Saved JSON: /common/home/milky-way/new_graph_cities/cities/h205_74.txt\n",
      "\n",
      "\n",
      "Saving file Day10_Harshini ...\n",
      "Saved JSON: /common/home/milky-way/new_graph_cities/cities/hDay10_Harshini.txt\n",
      "\n",
      "\n",
      "Processing:  2020-12-12 05:10:47.txt\n",
      "Saving image 205_75 ...\n",
      "Saved image: /common/home/milky-way/new_graph_cities/graphs/h205_75.png\n",
      "Saving file 205_75 ...\n",
      "Saved JSON: /common/home/milky-way/new_graph_cities/cities/h205_75.txt\n",
      "\n",
      "\n",
      "Saving file Day10_Harshini ...\n",
      "Saved JSON: /common/home/milky-way/new_graph_cities/cities/hDay10_Harshini.txt\n",
      "\n",
      "\n",
      "Processing:  2020-12-12 05:10:48.txt\n",
      "Saving image 205_76 ...\n",
      "Saved image: /common/home/milky-way/new_graph_cities/graphs/h205_76.png\n",
      "Saving file 205_76 ...\n",
      "Saved JSON: /common/home/milky-way/new_graph_cities/cities/h205_76.txt\n",
      "\n",
      "\n",
      "Saving file Day10_Harshini ...\n",
      "Saved JSON: /common/home/milky-way/new_graph_cities/cities/hDay10_Harshini.txt\n",
      "\n",
      "\n",
      "Processing:  2020-12-12 05:10:49.txt\n",
      "Saving image 205_77 ...\n",
      "Saved image: /common/home/milky-way/new_graph_cities/graphs/h205_77.png\n",
      "Saving file 205_77 ...\n",
      "Saved JSON: /common/home/milky-way/new_graph_cities/cities/h205_77.txt\n",
      "\n",
      "\n",
      "Saving file Day10_Harshini ...\n",
      "Saved JSON: /common/home/milky-way/new_graph_cities/cities/hDay10_Harshini.txt\n",
      "\n",
      "\n",
      "Processing:  2020-12-12 05:10:50.txt\n",
      "Saving image 205_78 ...\n",
      "Saved image: /common/home/milky-way/new_graph_cities/graphs/h205_78.png\n",
      "Saving file 205_78 ...\n",
      "Saved JSON: /common/home/milky-way/new_graph_cities/cities/h205_78.txt\n",
      "\n",
      "\n",
      "Saving file Day10_Harshini ...\n",
      "Saved JSON: /common/home/milky-way/new_graph_cities/cities/hDay10_Harshini.txt\n",
      "\n",
      "\n",
      "Processing:  2020-12-12 05:10:51.txt\n",
      "Saving image 205_79 ...\n",
      "Saved image: /common/home/milky-way/new_graph_cities/graphs/h205_79.png\n",
      "Saving file 205_79 ...\n",
      "Saved JSON: /common/home/milky-way/new_graph_cities/cities/h205_79.txt\n",
      "\n",
      "\n",
      "Saving file Day10_Harshini ...\n",
      "Saved JSON: /common/home/milky-way/new_graph_cities/cities/hDay10_Harshini.txt\n",
      "\n",
      "\n",
      "Processing:  2020-12-12 05:10:52.txt\n",
      "Saving image 205_80 ...\n",
      "Saved image: /common/home/milky-way/new_graph_cities/graphs/h205_80.png\n",
      "Saving file 205_80 ...\n",
      "Saved JSON: /common/home/milky-way/new_graph_cities/cities/h205_80.txt\n",
      "\n",
      "\n",
      "Saving file Day10_Harshini ...\n",
      "Saved JSON: /common/home/milky-way/new_graph_cities/cities/hDay10_Harshini.txt\n",
      "\n",
      "\n",
      "Processing:  2020-12-12 05:10:53.txt\n",
      "Saving image 205_81 ...\n",
      "Saved image: /common/home/milky-way/new_graph_cities/graphs/h205_81.png\n",
      "Saving file 205_81 ...\n",
      "Saved JSON: /common/home/milky-way/new_graph_cities/cities/h205_81.txt\n",
      "\n",
      "\n",
      "Saving file Day10_Harshini ...\n",
      "Saved JSON: /common/home/milky-way/new_graph_cities/cities/hDay10_Harshini.txt\n",
      "\n",
      "\n",
      "Processing:  2020-12-12 05:10:54.txt\n",
      "Saving image 205_82 ...\n",
      "Saved image: /common/home/milky-way/new_graph_cities/graphs/h205_82.png\n",
      "Saving file 205_82 ...\n",
      "Saved JSON: /common/home/milky-way/new_graph_cities/cities/h205_82.txt\n",
      "\n",
      "\n",
      "Saving file Day10_Harshini ...\n",
      "Saved JSON: /common/home/milky-way/new_graph_cities/cities/hDay10_Harshini.txt\n",
      "\n",
      "\n",
      "Processing:  2020-12-12 05:10:55.txt\n",
      "Saving image 205_83 ...\n",
      "Saved image: /common/home/milky-way/new_graph_cities/graphs/h205_83.png\n",
      "Saving file 205_83 ...\n",
      "Saved JSON: /common/home/milky-way/new_graph_cities/cities/h205_83.txt\n",
      "\n",
      "\n",
      "Saving file Day10_Harshini ...\n",
      "Saved JSON: /common/home/milky-way/new_graph_cities/cities/hDay10_Harshini.txt\n",
      "\n",
      "\n",
      "Processing:  2020-12-12 05:10:56.txt\n",
      "Saving image 205_84 ...\n",
      "Saved image: /common/home/milky-way/new_graph_cities/graphs/h205_84.png\n",
      "Saving file 205_84 ...\n",
      "Saved JSON: /common/home/milky-way/new_graph_cities/cities/h205_84.txt\n",
      "\n",
      "\n",
      "Saving file Day10_Harshini ...\n",
      "Saved JSON: /common/home/milky-way/new_graph_cities/cities/hDay10_Harshini.txt\n",
      "\n",
      "\n",
      "Processing:  2020-12-12 05:10:57.txt\n",
      "Saving image 205_85 ...\n",
      "Saved image: /common/home/milky-way/new_graph_cities/graphs/h205_85.png\n",
      "Saving file 205_85 ...\n",
      "Saved JSON: /common/home/milky-way/new_graph_cities/cities/h205_85.txt\n",
      "\n",
      "\n",
      "Saving file Day10_Harshini ...\n",
      "Saved JSON: /common/home/milky-way/new_graph_cities/cities/hDay10_Harshini.txt\n",
      "\n",
      "\n",
      "Processing:  2020-12-12 05:10:58.txt\n",
      "Saving image 205_86 ...\n",
      "Saved image: /common/home/milky-way/new_graph_cities/graphs/h205_86.png\n",
      "Saving file 205_86 ...\n",
      "Saved JSON: /common/home/milky-way/new_graph_cities/cities/h205_86.txt\n",
      "\n",
      "\n",
      "Saving file Day10_Harshini ...\n",
      "Saved JSON: /common/home/milky-way/new_graph_cities/cities/hDay10_Harshini.txt\n",
      "\n",
      "\n",
      "Processing:  2020-12-12 05:10:59.txt\n",
      "Saving image 205_87 ...\n",
      "Saved image: /common/home/milky-way/new_graph_cities/graphs/h205_87.png\n",
      "Saving file 205_87 ...\n",
      "Saved JSON: /common/home/milky-way/new_graph_cities/cities/h205_87.txt\n",
      "\n",
      "\n",
      "Saving file Day10_Harshini ...\n",
      "Saved JSON: /common/home/milky-way/new_graph_cities/cities/hDay10_Harshini.txt\n",
      "\n",
      "\n",
      "Processing:  2020-12-12 05:11:00.txt\n",
      "Saving image 205_88 ...\n",
      "Saved image: /common/home/milky-way/new_graph_cities/graphs/h205_88.png\n",
      "Saving file 205_88 ...\n",
      "Saved JSON: /common/home/milky-way/new_graph_cities/cities/h205_88.txt\n",
      "\n",
      "\n",
      "Saving file Day10_Harshini ...\n",
      "Saved JSON: /common/home/milky-way/new_graph_cities/cities/hDay10_Harshini.txt\n",
      "\n",
      "\n",
      "Processing:  2020-12-12 05:11:01.txt\n",
      "Saving image 205_89 ...\n",
      "Saved image: /common/home/milky-way/new_graph_cities/graphs/h205_89.png\n",
      "Saving file 205_89 ...\n",
      "Saved JSON: /common/home/milky-way/new_graph_cities/cities/h205_89.txt\n",
      "\n",
      "\n",
      "Saving file Day10_Harshini ...\n",
      "Saved JSON: /common/home/milky-way/new_graph_cities/cities/hDay10_Harshini.txt\n",
      "\n",
      "\n",
      "Processing:  2020-12-12 05:11:02.txt\n",
      "Saving image 205_90 ...\n",
      "Saved image: /common/home/milky-way/new_graph_cities/graphs/h205_90.png\n",
      "Saving file 205_90 ...\n",
      "Saved JSON: /common/home/milky-way/new_graph_cities/cities/h205_90.txt\n",
      "\n",
      "\n",
      "Saving file Day10_Harshini ...\n",
      "Saved JSON: /common/home/milky-way/new_graph_cities/cities/hDay10_Harshini.txt\n",
      "\n",
      "\n",
      "Processing:  2020-12-12 05:11:03.txt\n",
      "Saving image 205_91 ...\n",
      "Saved image: /common/home/milky-way/new_graph_cities/graphs/h205_91.png\n",
      "Saving file 205_91 ...\n",
      "Saved JSON: /common/home/milky-way/new_graph_cities/cities/h205_91.txt\n",
      "\n",
      "\n",
      "Saving file Day10_Harshini ...\n",
      "Saved JSON: /common/home/milky-way/new_graph_cities/cities/hDay10_Harshini.txt\n",
      "\n",
      "\n",
      "Processing:  2020-12-12 05:11:04.txt\n",
      "Saving image 205_92 ...\n",
      "Saved image: /common/home/milky-way/new_graph_cities/graphs/h205_92.png\n",
      "Saving file 205_92 ...\n",
      "Saved JSON: /common/home/milky-way/new_graph_cities/cities/h205_92.txt\n",
      "\n",
      "\n",
      "Saving file Day10_Harshini ...\n",
      "Saved JSON: /common/home/milky-way/new_graph_cities/cities/hDay10_Harshini.txt\n",
      "\n",
      "\n",
      "Processing:  2020-12-12 05:11:06.txt\n",
      "Saving image 206_1 ...\n",
      "Saved image: /common/home/milky-way/new_graph_cities/graphs/h206_1.png\n",
      "Saving file 206_1 ...\n",
      "Saved JSON: /common/home/milky-way/new_graph_cities/cities/h206_1.txt\n",
      "\n",
      "\n",
      "Saving file Day10_Harshini ...\n",
      "Saved JSON: /common/home/milky-way/new_graph_cities/cities/hDay10_Harshini.txt\n",
      "\n",
      "\n",
      "Processing:  2020-12-12 05:11:07.txt\n",
      "Saving image 206_2 ...\n",
      "Saved image: /common/home/milky-way/new_graph_cities/graphs/h206_2.png\n",
      "Saving file 206_2 ...\n",
      "Saved JSON: /common/home/milky-way/new_graph_cities/cities/h206_2.txt\n",
      "\n",
      "\n",
      "Saving file Day10_Harshini ...\n",
      "Saved JSON: /common/home/milky-way/new_graph_cities/cities/hDay10_Harshini.txt\n",
      "\n",
      "\n",
      "Processing:  2020-12-12 05:11:10.txt\n",
      "Saving image 206_3 ...\n",
      "Saved image: /common/home/milky-way/new_graph_cities/graphs/h206_3.png\n",
      "Saving file 206_3 ...\n",
      "Saved JSON: /common/home/milky-way/new_graph_cities/cities/h206_3.txt\n",
      "\n",
      "\n",
      "Saving file Day10_Harshini ...\n",
      "Saved JSON: /common/home/milky-way/new_graph_cities/cities/hDay10_Harshini.txt\n",
      "\n",
      "\n",
      "Processing:  2020-12-12 05:11:12.txt\n",
      "Saving image 206_4 ...\n",
      "Saved image: /common/home/milky-way/new_graph_cities/graphs/h206_4.png\n",
      "Saving file 206_4 ...\n",
      "Saved JSON: /common/home/milky-way/new_graph_cities/cities/h206_4.txt\n",
      "\n",
      "\n",
      "Saving file Day10_Harshini ...\n",
      "Saved JSON: /common/home/milky-way/new_graph_cities/cities/hDay10_Harshini.txt\n",
      "\n",
      "\n",
      "Processing:  2020-12-12 05:11:13.txt\n",
      "Saving image 206_5 ...\n",
      "Saved image: /common/home/milky-way/new_graph_cities/graphs/h206_5.png\n",
      "Saving file 206_5 ...\n",
      "Saved JSON: /common/home/milky-way/new_graph_cities/cities/h206_5.txt\n",
      "\n",
      "\n",
      "Saving file Day10_Harshini ...\n",
      "Saved JSON: /common/home/milky-way/new_graph_cities/cities/hDay10_Harshini.txt\n",
      "\n",
      "\n",
      "Processing:  2020-12-12 05:11:16.txt\n",
      "Saving image 206_6 ...\n",
      "Saved image: /common/home/milky-way/new_graph_cities/graphs/h206_6.png\n",
      "Saving file 206_6 ...\n",
      "Saved JSON: /common/home/milky-way/new_graph_cities/cities/h206_6.txt\n",
      "\n",
      "\n",
      "Saving file Day10_Harshini ...\n",
      "Saved JSON: /common/home/milky-way/new_graph_cities/cities/hDay10_Harshini.txt\n",
      "\n",
      "\n",
      "Processing:  2020-12-12 05:11:18.txt\n",
      "Saving image 206_7 ...\n",
      "Saved image: /common/home/milky-way/new_graph_cities/graphs/h206_7.png\n",
      "Saving file 206_7 ...\n",
      "Saved JSON: /common/home/milky-way/new_graph_cities/cities/h206_7.txt\n",
      "\n",
      "\n",
      "Saving file Day10_Harshini ...\n",
      "Saved JSON: /common/home/milky-way/new_graph_cities/cities/hDay10_Harshini.txt\n",
      "\n",
      "\n",
      "Processing:  2020-12-12 05:11:19.txt\n",
      "Saving image 206_8 ...\n",
      "Saved image: /common/home/milky-way/new_graph_cities/graphs/h206_8.png\n",
      "Saving file 206_8 ...\n",
      "Saved JSON: /common/home/milky-way/new_graph_cities/cities/h206_8.txt\n",
      "\n",
      "\n",
      "Saving file Day10_Harshini ...\n",
      "Saved JSON: /common/home/milky-way/new_graph_cities/cities/hDay10_Harshini.txt\n",
      "\n",
      "\n",
      "Processing:  2020-12-12 05:11:20.txt\n",
      "Saving image 206_9 ...\n",
      "Saved image: /common/home/milky-way/new_graph_cities/graphs/h206_9.png\n",
      "Saving file 206_9 ...\n",
      "Saved JSON: /common/home/milky-way/new_graph_cities/cities/h206_9.txt\n",
      "\n",
      "\n",
      "Saving file Day10_Harshini ...\n",
      "Saved JSON: /common/home/milky-way/new_graph_cities/cities/hDay10_Harshini.txt\n",
      "\n",
      "\n",
      "Processing:  2020-12-12 05:11:21.txt\n",
      "Saving image 206_10 ...\n",
      "Saved image: /common/home/milky-way/new_graph_cities/graphs/h206_10.png\n",
      "Saving file 206_10 ...\n",
      "Saved JSON: /common/home/milky-way/new_graph_cities/cities/h206_10.txt\n",
      "\n",
      "\n",
      "Saving file Day10_Harshini ...\n",
      "Saved JSON: /common/home/milky-way/new_graph_cities/cities/hDay10_Harshini.txt\n",
      "\n",
      "\n",
      "Processing:  2020-12-12 05:11:22.txt\n",
      "Saving image 206_11 ...\n",
      "Saved image: /common/home/milky-way/new_graph_cities/graphs/h206_11.png\n",
      "Saving file 206_11 ...\n",
      "Saved JSON: /common/home/milky-way/new_graph_cities/cities/h206_11.txt\n",
      "\n",
      "\n",
      "Saving file Day10_Harshini ...\n",
      "Saved JSON: /common/home/milky-way/new_graph_cities/cities/hDay10_Harshini.txt\n",
      "\n",
      "\n",
      "Processing:  2020-12-12 05:11:23.txt\n",
      "Saving image 206_12 ...\n",
      "Saved image: /common/home/milky-way/new_graph_cities/graphs/h206_12.png\n",
      "Saving file 206_12 ...\n",
      "Saved JSON: /common/home/milky-way/new_graph_cities/cities/h206_12.txt\n",
      "\n",
      "\n",
      "Saving file Day10_Harshini ...\n",
      "Saved JSON: /common/home/milky-way/new_graph_cities/cities/hDay10_Harshini.txt\n",
      "\n",
      "\n",
      "Processing:  2020-12-12 05:11:24.txt\n",
      "Saving image 206_13 ...\n",
      "Saved image: /common/home/milky-way/new_graph_cities/graphs/h206_13.png\n",
      "Saving file 206_13 ...\n",
      "Saved JSON: /common/home/milky-way/new_graph_cities/cities/h206_13.txt\n",
      "\n",
      "\n",
      "Saving file Day10_Harshini ...\n",
      "Saved JSON: /common/home/milky-way/new_graph_cities/cities/hDay10_Harshini.txt\n",
      "\n",
      "\n",
      "Processing:  2020-12-12 05:11:25.txt\n",
      "Saving image 206_14 ...\n",
      "Saved image: /common/home/milky-way/new_graph_cities/graphs/h206_14.png\n",
      "Saving file 206_14 ...\n",
      "Saved JSON: /common/home/milky-way/new_graph_cities/cities/h206_14.txt\n",
      "\n",
      "\n",
      "Saving file Day10_Harshini ...\n",
      "Saved JSON: /common/home/milky-way/new_graph_cities/cities/hDay10_Harshini.txt\n",
      "\n",
      "\n",
      "Processing:  2020-12-12 05:11:27.txt\n",
      "Saving image 206_15 ...\n",
      "Saved image: /common/home/milky-way/new_graph_cities/graphs/h206_15.png\n",
      "Saving file 206_15 ...\n",
      "Saved JSON: /common/home/milky-way/new_graph_cities/cities/h206_15.txt\n",
      "\n",
      "\n",
      "Saving file Day10_Harshini ...\n",
      "Saved JSON: /common/home/milky-way/new_graph_cities/cities/hDay10_Harshini.txt\n",
      "\n",
      "\n",
      "Processing:  2020-12-12 05:11:28.txt\n",
      "Saving image 206_16 ...\n",
      "Saved image: /common/home/milky-way/new_graph_cities/graphs/h206_16.png\n",
      "Saving file 206_16 ...\n",
      "Saved JSON: /common/home/milky-way/new_graph_cities/cities/h206_16.txt\n",
      "\n",
      "\n",
      "Saving file Day10_Harshini ...\n",
      "Saved JSON: /common/home/milky-way/new_graph_cities/cities/hDay10_Harshini.txt\n",
      "\n",
      "\n",
      "Processing:  2020-12-12 05:11:29.txt\n",
      "Saving image 206_17 ...\n",
      "Saved image: /common/home/milky-way/new_graph_cities/graphs/h206_17.png\n",
      "Saving file 206_17 ...\n",
      "Saved JSON: /common/home/milky-way/new_graph_cities/cities/h206_17.txt\n",
      "\n",
      "\n",
      "Saving file Day10_Harshini ...\n",
      "Saved JSON: /common/home/milky-way/new_graph_cities/cities/hDay10_Harshini.txt\n",
      "\n",
      "\n",
      "Processing:  2020-12-12 05:11:30.txt\n",
      "Saving image 206_18 ...\n",
      "Saved image: /common/home/milky-way/new_graph_cities/graphs/h206_18.png\n",
      "Saving file 206_18 ...\n",
      "Saved JSON: /common/home/milky-way/new_graph_cities/cities/h206_18.txt\n",
      "\n",
      "\n",
      "Saving file Day10_Harshini ...\n",
      "Saved JSON: /common/home/milky-way/new_graph_cities/cities/hDay10_Harshini.txt\n",
      "\n",
      "\n",
      "Processing:  2020-12-12 05:11:31.txt\n",
      "Saving image 206_19 ...\n",
      "Saved image: /common/home/milky-way/new_graph_cities/graphs/h206_19.png\n",
      "Saving file 206_19 ...\n",
      "Saved JSON: /common/home/milky-way/new_graph_cities/cities/h206_19.txt\n",
      "\n",
      "\n",
      "Saving file Day10_Harshini ...\n",
      "Saved JSON: /common/home/milky-way/new_graph_cities/cities/hDay10_Harshini.txt\n",
      "\n",
      "\n",
      "Processing:  2020-12-12 05:11:32.txt\n",
      "Saving image 206_20 ...\n",
      "Saved image: /common/home/milky-way/new_graph_cities/graphs/h206_20.png\n",
      "Saving file 206_20 ...\n",
      "Saved JSON: /common/home/milky-way/new_graph_cities/cities/h206_20.txt\n",
      "\n",
      "\n",
      "Saving file Day10_Harshini ...\n",
      "Saved JSON: /common/home/milky-way/new_graph_cities/cities/hDay10_Harshini.txt\n",
      "\n",
      "\n",
      "Processing:  2020-12-12 05:11:33.txt\n",
      "Saving image 206_21 ...\n",
      "Saved image: /common/home/milky-way/new_graph_cities/graphs/h206_21.png\n",
      "Saving file 206_21 ...\n",
      "Saved JSON: /common/home/milky-way/new_graph_cities/cities/h206_21.txt\n",
      "\n",
      "\n",
      "Saving file Day10_Harshini ...\n",
      "Saved JSON: /common/home/milky-way/new_graph_cities/cities/hDay10_Harshini.txt\n",
      "\n",
      "\n",
      "Processing:  2020-12-12 05:11:34.txt\n",
      "Saving image 206_22 ...\n",
      "Saved image: /common/home/milky-way/new_graph_cities/graphs/h206_22.png\n",
      "Saving file 206_22 ...\n",
      "Saved JSON: /common/home/milky-way/new_graph_cities/cities/h206_22.txt\n",
      "\n",
      "\n",
      "Saving file Day10_Harshini ...\n",
      "Saved JSON: /common/home/milky-way/new_graph_cities/cities/hDay10_Harshini.txt\n",
      "\n",
      "\n",
      "Processing:  2020-12-12 05:11:35.txt\n",
      "Saving image 206_23 ...\n",
      "Saved image: /common/home/milky-way/new_graph_cities/graphs/h206_23.png\n",
      "Saving file 206_23 ...\n",
      "Saved JSON: /common/home/milky-way/new_graph_cities/cities/h206_23.txt\n",
      "\n",
      "\n",
      "Saving file Day10_Harshini ...\n",
      "Saved JSON: /common/home/milky-way/new_graph_cities/cities/hDay10_Harshini.txt\n",
      "\n",
      "\n",
      "Processing:  2020-12-12 05:11:36.txt\n",
      "Saving image 206_24 ...\n",
      "Saved image: /common/home/milky-way/new_graph_cities/graphs/h206_24.png\n",
      "Saving file 206_24 ...\n",
      "Saved JSON: /common/home/milky-way/new_graph_cities/cities/h206_24.txt\n",
      "\n",
      "\n",
      "Saving file Day10_Harshini ...\n",
      "Saved JSON: /common/home/milky-way/new_graph_cities/cities/hDay10_Harshini.txt\n",
      "\n",
      "\n",
      "Processing:  2020-12-12 05:11:37.txt\n",
      "Saving image 206_25 ...\n",
      "Saved image: /common/home/milky-way/new_graph_cities/graphs/h206_25.png\n",
      "Saving file 206_25 ...\n",
      "Saved JSON: /common/home/milky-way/new_graph_cities/cities/h206_25.txt\n",
      "\n",
      "\n",
      "Saving file Day10_Harshini ...\n",
      "Saved JSON: /common/home/milky-way/new_graph_cities/cities/hDay10_Harshini.txt\n",
      "\n",
      "\n",
      "Processing:  2020-12-12 05:11:38.txt\n",
      "Saving image 206_26 ...\n",
      "Saved image: /common/home/milky-way/new_graph_cities/graphs/h206_26.png\n",
      "Saving file 206_26 ...\n",
      "Saved JSON: /common/home/milky-way/new_graph_cities/cities/h206_26.txt\n",
      "\n",
      "\n",
      "Saving file Day10_Harshini ...\n",
      "Saved JSON: /common/home/milky-way/new_graph_cities/cities/hDay10_Harshini.txt\n",
      "\n",
      "\n",
      "Processing:  2020-12-12 05:11:39.txt\n",
      "Saving image 206_27 ...\n",
      "Saved image: /common/home/milky-way/new_graph_cities/graphs/h206_27.png\n",
      "Saving file 206_27 ...\n",
      "Saved JSON: /common/home/milky-way/new_graph_cities/cities/h206_27.txt\n",
      "\n",
      "\n",
      "Saving file Day10_Harshini ...\n",
      "Saved JSON: /common/home/milky-way/new_graph_cities/cities/hDay10_Harshini.txt\n",
      "\n",
      "\n",
      "Processing:  2020-12-12 05:11:40.txt\n",
      "Saving image 206_28 ...\n",
      "Saved image: /common/home/milky-way/new_graph_cities/graphs/h206_28.png\n",
      "Saving file 206_28 ...\n",
      "Saved JSON: /common/home/milky-way/new_graph_cities/cities/h206_28.txt\n",
      "\n",
      "\n",
      "Saving file Day10_Harshini ...\n",
      "Saved JSON: /common/home/milky-way/new_graph_cities/cities/hDay10_Harshini.txt\n",
      "\n",
      "\n",
      "Processing:  2020-12-12 05:11:41.txt\n",
      "Saving image 206_29 ...\n",
      "Saved image: /common/home/milky-way/new_graph_cities/graphs/h206_29.png\n",
      "Saving file 206_29 ...\n",
      "Saved JSON: /common/home/milky-way/new_graph_cities/cities/h206_29.txt\n",
      "\n",
      "\n",
      "Saving file Day10_Harshini ...\n",
      "Saved JSON: /common/home/milky-way/new_graph_cities/cities/hDay10_Harshini.txt\n",
      "\n",
      "\n",
      "Processing:  2020-12-12 05:11:42.txt\n",
      "Saving image 206_30 ...\n",
      "Saved image: /common/home/milky-way/new_graph_cities/graphs/h206_30.png\n",
      "Saving file 206_30 ...\n",
      "Saved JSON: /common/home/milky-way/new_graph_cities/cities/h206_30.txt\n",
      "\n",
      "\n",
      "Saving file Day10_Harshini ...\n",
      "Saved JSON: /common/home/milky-way/new_graph_cities/cities/hDay10_Harshini.txt\n",
      "\n",
      "\n",
      "Processing:  2020-12-12 05:11:43.txt\n",
      "Saving image 206_31 ...\n",
      "Saved image: /common/home/milky-way/new_graph_cities/graphs/h206_31.png\n",
      "Saving file 206_31 ...\n",
      "Saved JSON: /common/home/milky-way/new_graph_cities/cities/h206_31.txt\n",
      "\n",
      "\n",
      "Saving file Day10_Harshini ...\n",
      "Saved JSON: /common/home/milky-way/new_graph_cities/cities/hDay10_Harshini.txt\n",
      "\n",
      "\n",
      "Processing:  2020-12-12 05:11:44.txt\n",
      "Saving image 206_32 ...\n",
      "Saved image: /common/home/milky-way/new_graph_cities/graphs/h206_32.png\n",
      "Saving file 206_32 ...\n",
      "Saved JSON: /common/home/milky-way/new_graph_cities/cities/h206_32.txt\n",
      "\n",
      "\n",
      "Saving file Day10_Harshini ...\n",
      "Saved JSON: /common/home/milky-way/new_graph_cities/cities/hDay10_Harshini.txt\n",
      "\n",
      "\n",
      "Processing:  2020-12-12 05:11:45.txt\n",
      "Saving image 206_33 ...\n",
      "Saved image: /common/home/milky-way/new_graph_cities/graphs/h206_33.png\n",
      "Saving file 206_33 ...\n",
      "Saved JSON: /common/home/milky-way/new_graph_cities/cities/h206_33.txt\n",
      "\n",
      "\n",
      "Saving file Day10_Harshini ...\n",
      "Saved JSON: /common/home/milky-way/new_graph_cities/cities/hDay10_Harshini.txt\n",
      "\n",
      "\n",
      "Processing:  2020-12-12 05:11:46.txt\n",
      "Saving image 206_34 ...\n",
      "Saved image: /common/home/milky-way/new_graph_cities/graphs/h206_34.png\n",
      "Saving file 206_34 ...\n",
      "Saved JSON: /common/home/milky-way/new_graph_cities/cities/h206_34.txt\n",
      "\n",
      "\n",
      "Saving file Day10_Harshini ...\n",
      "Saved JSON: /common/home/milky-way/new_graph_cities/cities/hDay10_Harshini.txt\n",
      "\n",
      "\n",
      "Processing:  2020-12-12 05:11:47.txt\n",
      "Saving image 206_35 ...\n",
      "Saved image: /common/home/milky-way/new_graph_cities/graphs/h206_35.png\n",
      "Saving file 206_35 ...\n",
      "Saved JSON: /common/home/milky-way/new_graph_cities/cities/h206_35.txt\n",
      "\n",
      "\n",
      "Saving file Day10_Harshini ...\n",
      "Saved JSON: /common/home/milky-way/new_graph_cities/cities/hDay10_Harshini.txt\n",
      "\n",
      "\n",
      "Processing:  2020-12-12 05:11:48.txt\n",
      "Saving image 206_36 ...\n",
      "Saved image: /common/home/milky-way/new_graph_cities/graphs/h206_36.png\n",
      "Saving file 206_36 ...\n",
      "Saved JSON: /common/home/milky-way/new_graph_cities/cities/h206_36.txt\n",
      "\n",
      "\n",
      "Saving file Day10_Harshini ...\n",
      "Saved JSON: /common/home/milky-way/new_graph_cities/cities/hDay10_Harshini.txt\n",
      "\n",
      "\n",
      "Processing:  2020-12-12 05:11:50.txt\n",
      "Saving image 206_37 ...\n",
      "Saved image: /common/home/milky-way/new_graph_cities/graphs/h206_37.png\n",
      "Saving file 206_37 ...\n",
      "Saved JSON: /common/home/milky-way/new_graph_cities/cities/h206_37.txt\n",
      "\n",
      "\n",
      "Saving file Day10_Harshini ...\n",
      "Saved JSON: /common/home/milky-way/new_graph_cities/cities/hDay10_Harshini.txt\n",
      "\n",
      "\n",
      "Processing:  2020-12-12 05:11:51.txt\n",
      "Saving image 206_38 ...\n",
      "Saved image: /common/home/milky-way/new_graph_cities/graphs/h206_38.png\n",
      "Saving file 206_38 ...\n",
      "Saved JSON: /common/home/milky-way/new_graph_cities/cities/h206_38.txt\n",
      "\n",
      "\n",
      "Saving file Day10_Harshini ...\n",
      "Saved JSON: /common/home/milky-way/new_graph_cities/cities/hDay10_Harshini.txt\n",
      "\n",
      "\n",
      "Processing:  2020-12-12 05:11:52.txt\n",
      "Saving image 206_39 ...\n",
      "Saved image: /common/home/milky-way/new_graph_cities/graphs/h206_39.png\n",
      "Saving file 206_39 ...\n",
      "Saved JSON: /common/home/milky-way/new_graph_cities/cities/h206_39.txt\n",
      "\n",
      "\n",
      "Saving file Day10_Harshini ...\n",
      "Saved JSON: /common/home/milky-way/new_graph_cities/cities/hDay10_Harshini.txt\n",
      "\n",
      "\n",
      "Processing:  2020-12-12 05:11:53.txt\n",
      "Saving image 206_40 ...\n",
      "Saved image: /common/home/milky-way/new_graph_cities/graphs/h206_40.png\n",
      "Saving file 206_40 ...\n",
      "Saved JSON: /common/home/milky-way/new_graph_cities/cities/h206_40.txt\n",
      "\n",
      "\n",
      "Saving file Day10_Harshini ...\n",
      "Saved JSON: /common/home/milky-way/new_graph_cities/cities/hDay10_Harshini.txt\n",
      "\n",
      "\n",
      "Processing:  2020-12-12 05:11:54.txt\n",
      "Saving image 206_41 ...\n",
      "Saved image: /common/home/milky-way/new_graph_cities/graphs/h206_41.png\n",
      "Saving file 206_41 ...\n",
      "Saved JSON: /common/home/milky-way/new_graph_cities/cities/h206_41.txt\n",
      "\n",
      "\n",
      "Saving file Day10_Harshini ...\n",
      "Saved JSON: /common/home/milky-way/new_graph_cities/cities/hDay10_Harshini.txt\n",
      "\n",
      "\n",
      "Processing:  2020-12-12 05:12:01.txt\n",
      "Saving image 206_42 ...\n",
      "Saved image: /common/home/milky-way/new_graph_cities/graphs/h206_42.png\n",
      "Saving file 206_42 ...\n",
      "Saved JSON: /common/home/milky-way/new_graph_cities/cities/h206_42.txt\n",
      "\n",
      "\n",
      "Saving file Day10_Harshini ...\n",
      "Saved JSON: /common/home/milky-way/new_graph_cities/cities/hDay10_Harshini.txt\n",
      "\n",
      "\n",
      "Processing:  2020-12-12 05:12:07.txt\n",
      "Saving image 206_43 ...\n",
      "Saved image: /common/home/milky-way/new_graph_cities/graphs/h206_43.png\n",
      "Saving file 206_43 ...\n",
      "Saved JSON: /common/home/milky-way/new_graph_cities/cities/h206_43.txt\n",
      "\n",
      "\n",
      "Saving file Day10_Harshini ...\n",
      "Saved JSON: /common/home/milky-way/new_graph_cities/cities/hDay10_Harshini.txt\n",
      "\n",
      "\n",
      "Processing:  2020-12-12 05:12:11.txt\n",
      "Saving image 206_44 ...\n",
      "Saved image: /common/home/milky-way/new_graph_cities/graphs/h206_44.png\n",
      "Saving file 206_44 ...\n",
      "Saved JSON: /common/home/milky-way/new_graph_cities/cities/h206_44.txt\n",
      "\n",
      "\n",
      "Saving file Day10_Harshini ...\n",
      "Saved JSON: /common/home/milky-way/new_graph_cities/cities/hDay10_Harshini.txt\n",
      "\n",
      "\n",
      "Processing:  2020-12-12 05:12:13.txt\n",
      "Saving image 206_45 ...\n",
      "Saved image: /common/home/milky-way/new_graph_cities/graphs/h206_45.png\n",
      "Saving file 206_45 ...\n",
      "Saved JSON: /common/home/milky-way/new_graph_cities/cities/h206_45.txt\n",
      "\n",
      "\n",
      "Saving file Day10_Harshini ...\n",
      "Saved JSON: /common/home/milky-way/new_graph_cities/cities/hDay10_Harshini.txt\n",
      "\n",
      "\n",
      "Processing:  2020-12-12 05:12:14.txt\n",
      "Saving image 206_46 ...\n",
      "Saved image: /common/home/milky-way/new_graph_cities/graphs/h206_46.png\n",
      "Saving file 206_46 ...\n",
      "Saved JSON: /common/home/milky-way/new_graph_cities/cities/h206_46.txt\n",
      "\n",
      "\n",
      "Saving file Day10_Harshini ...\n",
      "Saved JSON: /common/home/milky-way/new_graph_cities/cities/hDay10_Harshini.txt\n",
      "\n",
      "\n",
      "Processing:  2020-12-12 05:12:16.txt\n",
      "Saving image 206_47 ...\n",
      "Saved image: /common/home/milky-way/new_graph_cities/graphs/h206_47.png\n",
      "Saving file 206_47 ...\n",
      "Saved JSON: /common/home/milky-way/new_graph_cities/cities/h206_47.txt\n",
      "\n",
      "\n",
      "Saving file Day10_Harshini ...\n",
      "Saved JSON: /common/home/milky-way/new_graph_cities/cities/hDay10_Harshini.txt\n",
      "\n",
      "\n",
      "Processing:  2020-12-12 05:12:17.txt\n",
      "Saving image 206_48 ...\n",
      "Saved image: /common/home/milky-way/new_graph_cities/graphs/h206_48.png\n",
      "Saving file 206_48 ...\n",
      "Saved JSON: /common/home/milky-way/new_graph_cities/cities/h206_48.txt\n",
      "\n",
      "\n",
      "Saving file Day10_Harshini ...\n",
      "Saved JSON: /common/home/milky-way/new_graph_cities/cities/hDay10_Harshini.txt\n",
      "\n",
      "\n",
      "Processing:  2020-12-12 05:12:18.txt\n",
      "Saving image 206_49 ...\n",
      "Saved image: /common/home/milky-way/new_graph_cities/graphs/h206_49.png\n",
      "Saving file 206_49 ...\n",
      "Saved JSON: /common/home/milky-way/new_graph_cities/cities/h206_49.txt\n",
      "\n",
      "\n",
      "Saving file Day10_Harshini ...\n",
      "Saved JSON: /common/home/milky-way/new_graph_cities/cities/hDay10_Harshini.txt\n",
      "\n",
      "\n",
      "Processing:  2020-12-12 05:12:19.txt\n",
      "Saving image 206_50 ...\n",
      "Saved image: /common/home/milky-way/new_graph_cities/graphs/h206_50.png\n",
      "Saving file 206_50 ...\n",
      "Saved JSON: /common/home/milky-way/new_graph_cities/cities/h206_50.txt\n",
      "\n",
      "\n",
      "Saving file Day10_Harshini ...\n",
      "Saved JSON: /common/home/milky-way/new_graph_cities/cities/hDay10_Harshini.txt\n",
      "\n",
      "\n",
      "Processing:  2020-12-12 05:12:20.txt\n",
      "Saving image 206_51 ...\n",
      "Saved image: /common/home/milky-way/new_graph_cities/graphs/h206_51.png\n",
      "Saving file 206_51 ...\n",
      "Saved JSON: /common/home/milky-way/new_graph_cities/cities/h206_51.txt\n",
      "\n",
      "\n",
      "Saving file Day10_Harshini ...\n",
      "Saved JSON: /common/home/milky-way/new_graph_cities/cities/hDay10_Harshini.txt\n",
      "\n",
      "\n",
      "Processing:  2020-12-12 05:12:21.txt\n",
      "Saving image 206_52 ...\n",
      "Saved image: /common/home/milky-way/new_graph_cities/graphs/h206_52.png\n",
      "Saving file 206_52 ...\n",
      "Saved JSON: /common/home/milky-way/new_graph_cities/cities/h206_52.txt\n",
      "\n",
      "\n",
      "Saving file Day10_Harshini ...\n",
      "Saved JSON: /common/home/milky-way/new_graph_cities/cities/hDay10_Harshini.txt\n",
      "\n",
      "\n",
      "Processing:  2020-12-12 05:12:22.txt\n",
      "Saving image 206_53 ...\n",
      "Saved image: /common/home/milky-way/new_graph_cities/graphs/h206_53.png\n",
      "Saving file 206_53 ...\n",
      "Saved JSON: /common/home/milky-way/new_graph_cities/cities/h206_53.txt\n",
      "\n",
      "\n",
      "Saving file Day10_Harshini ...\n",
      "Saved JSON: /common/home/milky-way/new_graph_cities/cities/hDay10_Harshini.txt\n",
      "\n",
      "\n",
      "Processing:  2020-12-12 05:12:23.txt\n",
      "Saving image 206_54 ...\n",
      "Saved image: /common/home/milky-way/new_graph_cities/graphs/h206_54.png\n",
      "Saving file 206_54 ...\n",
      "Saved JSON: /common/home/milky-way/new_graph_cities/cities/h206_54.txt\n",
      "\n",
      "\n",
      "Saving file Day10_Harshini ...\n",
      "Saved JSON: /common/home/milky-way/new_graph_cities/cities/hDay10_Harshini.txt\n",
      "\n",
      "\n",
      "Processing:  2020-12-12 05:12:24.txt\n",
      "Saving image 206_55 ...\n",
      "Saved image: /common/home/milky-way/new_graph_cities/graphs/h206_55.png\n",
      "Saving file 206_55 ...\n",
      "Saved JSON: /common/home/milky-way/new_graph_cities/cities/h206_55.txt\n",
      "\n",
      "\n",
      "Saving file Day10_Harshini ...\n",
      "Saved JSON: /common/home/milky-way/new_graph_cities/cities/hDay10_Harshini.txt\n",
      "\n",
      "\n",
      "Processing:  2020-12-12 05:12:25.txt\n",
      "Saving image 206_56 ...\n",
      "Saved image: /common/home/milky-way/new_graph_cities/graphs/h206_56.png\n",
      "Saving file 206_56 ...\n",
      "Saved JSON: /common/home/milky-way/new_graph_cities/cities/h206_56.txt\n",
      "\n",
      "\n",
      "Saving file Day10_Harshini ...\n",
      "Saved JSON: /common/home/milky-way/new_graph_cities/cities/hDay10_Harshini.txt\n",
      "\n",
      "\n",
      "Processing:  2020-12-12 05:12:26.txt\n",
      "Saving image 206_57 ...\n",
      "Saved image: /common/home/milky-way/new_graph_cities/graphs/h206_57.png\n",
      "Saving file 206_57 ...\n",
      "Saved JSON: /common/home/milky-way/new_graph_cities/cities/h206_57.txt\n",
      "\n",
      "\n",
      "Saving file Day10_Harshini ...\n",
      "Saved JSON: /common/home/milky-way/new_graph_cities/cities/hDay10_Harshini.txt\n",
      "\n",
      "\n",
      "Processing:  2020-12-12 05:12:27.txt\n",
      "Saving image 206_58 ...\n",
      "Saved image: /common/home/milky-way/new_graph_cities/graphs/h206_58.png\n",
      "Saving file 206_58 ...\n",
      "Saved JSON: /common/home/milky-way/new_graph_cities/cities/h206_58.txt\n",
      "\n",
      "\n",
      "Saving file Day10_Harshini ...\n",
      "Saved JSON: /common/home/milky-way/new_graph_cities/cities/hDay10_Harshini.txt\n",
      "\n",
      "\n",
      "Processing:  2020-12-12 05:12:29.txt\n",
      "Saving image 206_59 ...\n",
      "Saved image: /common/home/milky-way/new_graph_cities/graphs/h206_59.png\n",
      "Saving file 206_59 ...\n",
      "Saved JSON: /common/home/milky-way/new_graph_cities/cities/h206_59.txt\n",
      "\n",
      "\n",
      "Saving file Day10_Harshini ...\n",
      "Saved JSON: /common/home/milky-way/new_graph_cities/cities/hDay10_Harshini.txt\n",
      "\n",
      "\n",
      "Processing:  2020-12-12 05:12:30.txt\n",
      "Saving image 206_60 ...\n",
      "Saved image: /common/home/milky-way/new_graph_cities/graphs/h206_60.png\n",
      "Saving file 206_60 ...\n",
      "Saved JSON: /common/home/milky-way/new_graph_cities/cities/h206_60.txt\n",
      "\n",
      "\n",
      "Saving file Day10_Harshini ...\n",
      "Saved JSON: /common/home/milky-way/new_graph_cities/cities/hDay10_Harshini.txt\n",
      "\n",
      "\n",
      "Processing:  2020-12-12 05:12:35.txt\n",
      "Saving image 206_61 ...\n",
      "Saved image: /common/home/milky-way/new_graph_cities/graphs/h206_61.png\n",
      "Saving file 206_61 ...\n",
      "Saved JSON: /common/home/milky-way/new_graph_cities/cities/h206_61.txt\n",
      "\n",
      "\n",
      "Saving file Day10_Harshini ...\n",
      "Saved JSON: /common/home/milky-way/new_graph_cities/cities/hDay10_Harshini.txt\n",
      "\n",
      "\n",
      "Processing:  2020-12-12 05:12:36.txt\n",
      "Saving image 206_62 ...\n",
      "Saved image: /common/home/milky-way/new_graph_cities/graphs/h206_62.png\n",
      "Saving file 206_62 ...\n",
      "Saved JSON: /common/home/milky-way/new_graph_cities/cities/h206_62.txt\n",
      "\n",
      "\n",
      "Saving file Day10_Harshini ...\n",
      "Saved JSON: /common/home/milky-way/new_graph_cities/cities/hDay10_Harshini.txt\n",
      "\n",
      "\n",
      "Processing:  2020-12-12 05:12:38.txt\n",
      "Saving image 206_63 ...\n",
      "Saved image: /common/home/milky-way/new_graph_cities/graphs/h206_63.png\n",
      "Saving file 206_63 ...\n",
      "Saved JSON: /common/home/milky-way/new_graph_cities/cities/h206_63.txt\n",
      "\n",
      "\n",
      "Saving file Day10_Harshini ...\n",
      "Saved JSON: /common/home/milky-way/new_graph_cities/cities/hDay10_Harshini.txt\n",
      "\n",
      "\n",
      "Processing:  2020-12-12 05:12:40.txt\n",
      "Saving image 206_64 ...\n",
      "Saved image: /common/home/milky-way/new_graph_cities/graphs/h206_64.png\n",
      "Saving file 206_64 ...\n",
      "Saved JSON: /common/home/milky-way/new_graph_cities/cities/h206_64.txt\n",
      "\n",
      "\n",
      "Saving file Day10_Harshini ...\n",
      "Saved JSON: /common/home/milky-way/new_graph_cities/cities/hDay10_Harshini.txt\n",
      "\n",
      "\n",
      "Processing:  2020-12-12 05:12:43.txt\n",
      "Saving image 206_65 ...\n",
      "Saved image: /common/home/milky-way/new_graph_cities/graphs/h206_65.png\n",
      "Saving file 206_65 ...\n",
      "Saved JSON: /common/home/milky-way/new_graph_cities/cities/h206_65.txt\n",
      "\n",
      "\n",
      "Saving file Day10_Harshini ...\n",
      "Saved JSON: /common/home/milky-way/new_graph_cities/cities/hDay10_Harshini.txt\n",
      "\n",
      "\n",
      "Processing:  2020-12-12 05:12:48.txt\n",
      "Saving image 206_66 ...\n",
      "Saved image: /common/home/milky-way/new_graph_cities/graphs/h206_66.png\n",
      "Saving file 206_66 ...\n",
      "Saved JSON: /common/home/milky-way/new_graph_cities/cities/h206_66.txt\n",
      "\n",
      "\n",
      "Saving file Day10_Harshini ...\n",
      "Saved JSON: /common/home/milky-way/new_graph_cities/cities/hDay10_Harshini.txt\n",
      "\n",
      "\n",
      "Processing:  2020-12-12 05:12:59.txt\n",
      "Saving image 206_67 ...\n",
      "Saved image: /common/home/milky-way/new_graph_cities/graphs/h206_67.png\n",
      "Saving file 206_67 ...\n",
      "Saved JSON: /common/home/milky-way/new_graph_cities/cities/h206_67.txt\n",
      "\n",
      "\n",
      "Saving file Day10_Harshini ...\n",
      "Saved JSON: /common/home/milky-way/new_graph_cities/cities/hDay10_Harshini.txt\n",
      "\n",
      "\n",
      "Processing:  2020-12-12 05:13:00.txt\n",
      "Saving image 206_68 ...\n",
      "Saved image: /common/home/milky-way/new_graph_cities/graphs/h206_68.png\n",
      "Saving file 206_68 ...\n",
      "Saved JSON: /common/home/milky-way/new_graph_cities/cities/h206_68.txt\n",
      "\n",
      "\n",
      "Saving file Day10_Harshini ...\n",
      "Saved JSON: /common/home/milky-way/new_graph_cities/cities/hDay10_Harshini.txt\n",
      "\n",
      "\n",
      "Processing:  2020-12-12 05:13:08.txt\n",
      "Saving image 206_69 ...\n",
      "Saved image: /common/home/milky-way/new_graph_cities/graphs/h206_69.png\n",
      "Saving file 206_69 ...\n",
      "Saved JSON: /common/home/milky-way/new_graph_cities/cities/h206_69.txt\n",
      "\n",
      "\n",
      "Saving file Day10_Harshini ...\n",
      "Saved JSON: /common/home/milky-way/new_graph_cities/cities/hDay10_Harshini.txt\n",
      "\n",
      "\n",
      "Processing:  2020-12-12 05:13:12.txt\n",
      "Saving image 206_70 ...\n",
      "Saved image: /common/home/milky-way/new_graph_cities/graphs/h206_70.png\n",
      "Saving file 206_70 ...\n",
      "Saved JSON: /common/home/milky-way/new_graph_cities/cities/h206_70.txt\n",
      "\n",
      "\n",
      "Saving file Day10_Harshini ...\n",
      "Saved JSON: /common/home/milky-way/new_graph_cities/cities/hDay10_Harshini.txt\n",
      "\n",
      "\n",
      "Processing:  2020-12-12 05:13:13.txt\n",
      "Saving image 206_71 ...\n",
      "Saved image: /common/home/milky-way/new_graph_cities/graphs/h206_71.png\n",
      "Saving file 206_71 ...\n",
      "Saved JSON: /common/home/milky-way/new_graph_cities/cities/h206_71.txt\n",
      "\n",
      "\n",
      "Saving file Day10_Harshini ...\n",
      "Saved JSON: /common/home/milky-way/new_graph_cities/cities/hDay10_Harshini.txt\n",
      "\n",
      "\n",
      "Processing:  2020-12-12 05:13:16.txt\n",
      "Saving image 206_72 ...\n",
      "Saved image: /common/home/milky-way/new_graph_cities/graphs/h206_72.png\n",
      "Saving file 206_72 ...\n",
      "Saved JSON: /common/home/milky-way/new_graph_cities/cities/h206_72.txt\n",
      "\n",
      "\n",
      "Saving file Day10_Harshini ...\n",
      "Saved JSON: /common/home/milky-way/new_graph_cities/cities/hDay10_Harshini.txt\n",
      "\n",
      "\n",
      "Processing:  2020-12-12 05:13:19.txt\n",
      "Saving image 206_73 ...\n",
      "Saved image: /common/home/milky-way/new_graph_cities/graphs/h206_73.png\n",
      "Saving file 206_73 ...\n",
      "Saved JSON: /common/home/milky-way/new_graph_cities/cities/h206_73.txt\n",
      "\n",
      "\n",
      "Saving file Day10_Harshini ...\n",
      "Saved JSON: /common/home/milky-way/new_graph_cities/cities/hDay10_Harshini.txt\n",
      "\n",
      "\n",
      "Processing:  2020-12-12 05:13:25.txt\n",
      "Saving image 206_74 ...\n",
      "Saved image: /common/home/milky-way/new_graph_cities/graphs/h206_74.png\n",
      "Saving file 206_74 ...\n",
      "Saved JSON: /common/home/milky-way/new_graph_cities/cities/h206_74.txt\n",
      "\n",
      "\n",
      "Saving file Day10_Harshini ...\n",
      "Saved JSON: /common/home/milky-way/new_graph_cities/cities/hDay10_Harshini.txt\n",
      "\n",
      "\n",
      "Processing:  2020-12-12 05:13:28.txt\n",
      "Saving image 206_75 ...\n",
      "Saved image: /common/home/milky-way/new_graph_cities/graphs/h206_75.png\n",
      "Saving file 206_75 ...\n",
      "Saved JSON: /common/home/milky-way/new_graph_cities/cities/h206_75.txt\n",
      "\n",
      "\n",
      "Saving file Day10_Harshini ...\n",
      "Saved JSON: /common/home/milky-way/new_graph_cities/cities/hDay10_Harshini.txt\n",
      "\n",
      "\n",
      "Processing:  2020-12-12 05:13:30.txt\n",
      "Saving image 206_76 ...\n",
      "Saved image: /common/home/milky-way/new_graph_cities/graphs/h206_76.png\n",
      "Saving file 206_76 ...\n",
      "Saved JSON: /common/home/milky-way/new_graph_cities/cities/h206_76.txt\n",
      "\n",
      "\n",
      "Saving file Day10_Harshini ...\n",
      "Saved JSON: /common/home/milky-way/new_graph_cities/cities/hDay10_Harshini.txt\n",
      "\n",
      "\n",
      "Processing:  2020-12-12 05:13:33.txt\n",
      "Saving image 206_77 ...\n",
      "Saved image: /common/home/milky-way/new_graph_cities/graphs/h206_77.png\n",
      "Saving file 206_77 ...\n",
      "Saved JSON: /common/home/milky-way/new_graph_cities/cities/h206_77.txt\n",
      "\n",
      "\n",
      "Saving file Day10_Harshini ...\n",
      "Saved JSON: /common/home/milky-way/new_graph_cities/cities/hDay10_Harshini.txt\n",
      "\n",
      "\n",
      "Processing:  2020-12-12 05:13:35.txt\n",
      "Saving image 206_78 ...\n",
      "Saved image: /common/home/milky-way/new_graph_cities/graphs/h206_78.png\n",
      "Saving file 206_78 ...\n",
      "Saved JSON: /common/home/milky-way/new_graph_cities/cities/h206_78.txt\n",
      "\n",
      "\n",
      "Saving file Day10_Harshini ...\n",
      "Saved JSON: /common/home/milky-way/new_graph_cities/cities/hDay10_Harshini.txt\n",
      "\n",
      "\n",
      "Processing:  2020-12-12 05:13:38.txt\n",
      "Saving image 206_79 ...\n",
      "Saved image: /common/home/milky-way/new_graph_cities/graphs/h206_79.png\n",
      "Saving file 206_79 ...\n",
      "Saved JSON: /common/home/milky-way/new_graph_cities/cities/h206_79.txt\n",
      "\n",
      "\n",
      "Saving file Day10_Harshini ...\n",
      "Saved JSON: /common/home/milky-way/new_graph_cities/cities/hDay10_Harshini.txt\n",
      "\n",
      "\n",
      "Processing:  2020-12-12 05:13:39.txt\n",
      "Saving image 206_80 ...\n",
      "Saved image: /common/home/milky-way/new_graph_cities/graphs/h206_80.png\n",
      "Saving file 206_80 ...\n",
      "Saved JSON: /common/home/milky-way/new_graph_cities/cities/h206_80.txt\n",
      "\n",
      "\n",
      "Saving file Day10_Harshini ...\n",
      "Saved JSON: /common/home/milky-way/new_graph_cities/cities/hDay10_Harshini.txt\n",
      "\n",
      "\n",
      "Processing:  2020-12-12 05:13:40.txt\n",
      "Saving image 206_81 ...\n",
      "Saved image: /common/home/milky-way/new_graph_cities/graphs/h206_81.png\n",
      "Saving file 206_81 ...\n",
      "Saved JSON: /common/home/milky-way/new_graph_cities/cities/h206_81.txt\n",
      "\n",
      "\n",
      "Saving file Day10_Harshini ...\n",
      "Saved JSON: /common/home/milky-way/new_graph_cities/cities/hDay10_Harshini.txt\n",
      "\n",
      "\n",
      "Processing:  2020-12-12 05:13:43.txt\n",
      "Saving image 206_82 ...\n",
      "Saved image: /common/home/milky-way/new_graph_cities/graphs/h206_82.png\n",
      "Saving file 206_82 ...\n",
      "Saved JSON: /common/home/milky-way/new_graph_cities/cities/h206_82.txt\n",
      "\n",
      "\n",
      "Saving file Day10_Harshini ...\n",
      "Saved JSON: /common/home/milky-way/new_graph_cities/cities/hDay10_Harshini.txt\n",
      "\n",
      "\n",
      "Processing:  2020-12-12 05:13:46.txt\n",
      "Saving image 206_83 ...\n",
      "Saved image: /common/home/milky-way/new_graph_cities/graphs/h206_83.png\n",
      "Saving file 206_83 ...\n",
      "Saved JSON: /common/home/milky-way/new_graph_cities/cities/h206_83.txt\n",
      "\n",
      "\n",
      "Saving file Day10_Harshini ...\n",
      "Saved JSON: /common/home/milky-way/new_graph_cities/cities/hDay10_Harshini.txt\n",
      "\n",
      "\n",
      "Processing:  2020-12-12 05:13:48.txt\n",
      "Saving image 206_84 ...\n",
      "Saved image: /common/home/milky-way/new_graph_cities/graphs/h206_84.png\n",
      "Saving file 206_84 ...\n",
      "Saved JSON: /common/home/milky-way/new_graph_cities/cities/h206_84.txt\n",
      "\n",
      "\n",
      "Saving file Day10_Harshini ...\n",
      "Saved JSON: /common/home/milky-way/new_graph_cities/cities/hDay10_Harshini.txt\n",
      "\n",
      "\n",
      "Processing:  2020-12-12 05:13:59.txt\n",
      "Saving image 207_1 ...\n",
      "Saved image: /common/home/milky-way/new_graph_cities/graphs/h207_1.png\n",
      "Saving file 207_1 ...\n",
      "Saved JSON: /common/home/milky-way/new_graph_cities/cities/h207_1.txt\n",
      "\n",
      "\n",
      "Saving file Day10_Harshini ...\n",
      "Saved JSON: /common/home/milky-way/new_graph_cities/cities/hDay10_Harshini.txt\n",
      "\n",
      "\n",
      "Processing:  2020-12-12 05:14:06.txt\n",
      "Saving image 207_2 ...\n",
      "Saved image: /common/home/milky-way/new_graph_cities/graphs/h207_2.png\n",
      "Saving file 207_2 ...\n",
      "Saved JSON: /common/home/milky-way/new_graph_cities/cities/h207_2.txt\n",
      "\n",
      "\n",
      "Saving file Day10_Harshini ...\n",
      "Saved JSON: /common/home/milky-way/new_graph_cities/cities/hDay10_Harshini.txt\n",
      "\n",
      "\n",
      "Processing:  2020-12-12 05:14:08.txt\n",
      "Saving image 207_3 ...\n",
      "Saved image: /common/home/milky-way/new_graph_cities/graphs/h207_3.png\n",
      "Saving file 207_3 ...\n",
      "Saved JSON: /common/home/milky-way/new_graph_cities/cities/h207_3.txt\n",
      "\n",
      "\n",
      "Saving file Day10_Harshini ...\n",
      "Saved JSON: /common/home/milky-way/new_graph_cities/cities/hDay10_Harshini.txt\n",
      "\n",
      "\n",
      "Processing:  2020-12-12 05:14:10.txt\n",
      "Saving image 207_4 ...\n",
      "Saved image: /common/home/milky-way/new_graph_cities/graphs/h207_4.png\n",
      "Saving file 207_4 ...\n",
      "Saved JSON: /common/home/milky-way/new_graph_cities/cities/h207_4.txt\n",
      "\n",
      "\n",
      "Saving file Day10_Harshini ...\n",
      "Saved JSON: /common/home/milky-way/new_graph_cities/cities/hDay10_Harshini.txt\n",
      "\n",
      "\n",
      "Processing:  2020-12-12 05:14:11.txt\n",
      "Saving image 207_5 ...\n",
      "Saved image: /common/home/milky-way/new_graph_cities/graphs/h207_5.png\n",
      "Saving file 207_5 ...\n",
      "Saved JSON: /common/home/milky-way/new_graph_cities/cities/h207_5.txt\n",
      "\n",
      "\n",
      "Saving file Day10_Harshini ...\n",
      "Saved JSON: /common/home/milky-way/new_graph_cities/cities/hDay10_Harshini.txt\n",
      "\n",
      "\n",
      "Processing:  2020-12-12 05:14:19.txt\n",
      "Saving image 207_6 ...\n",
      "Saved image: /common/home/milky-way/new_graph_cities/graphs/h207_6.png\n",
      "Saving file 207_6 ...\n",
      "Saved JSON: /common/home/milky-way/new_graph_cities/cities/h207_6.txt\n",
      "\n",
      "\n",
      "Saving file Day10_Harshini ...\n",
      "Saved JSON: /common/home/milky-way/new_graph_cities/cities/hDay10_Harshini.txt\n",
      "\n",
      "\n",
      "Processing:  2020-12-12 05:14:27.txt\n",
      "Saving image 207_7 ...\n",
      "Saved image: /common/home/milky-way/new_graph_cities/graphs/h207_7.png\n",
      "Saving file 207_7 ...\n",
      "Saved JSON: /common/home/milky-way/new_graph_cities/cities/h207_7.txt\n",
      "\n",
      "\n",
      "Saving file Day10_Harshini ...\n",
      "Saved JSON: /common/home/milky-way/new_graph_cities/cities/hDay10_Harshini.txt\n",
      "\n",
      "\n",
      "Processing:  2020-12-12 05:14:33.txt\n",
      "Saving image 207_8 ...\n",
      "Saved image: /common/home/milky-way/new_graph_cities/graphs/h207_8.png\n",
      "Saving file 207_8 ...\n",
      "Saved JSON: /common/home/milky-way/new_graph_cities/cities/h207_8.txt\n",
      "\n",
      "\n",
      "Saving file Day10_Harshini ...\n",
      "Saved JSON: /common/home/milky-way/new_graph_cities/cities/hDay10_Harshini.txt\n",
      "\n",
      "\n",
      "Processing:  2020-12-12 05:14:34.txt\n",
      "Saving image 207_9 ...\n",
      "Saved image: /common/home/milky-way/new_graph_cities/graphs/h207_9.png\n",
      "Saving file 207_9 ...\n",
      "Saved JSON: /common/home/milky-way/new_graph_cities/cities/h207_9.txt\n",
      "\n",
      "\n",
      "Saving file Day10_Harshini ...\n",
      "Saved JSON: /common/home/milky-way/new_graph_cities/cities/hDay10_Harshini.txt\n",
      "\n",
      "\n",
      "Processing:  2020-12-12 05:14:36.txt\n",
      "Saving image 207_10 ...\n",
      "Saved image: /common/home/milky-way/new_graph_cities/graphs/h207_10.png\n",
      "Saving file 207_10 ...\n",
      "Saved JSON: /common/home/milky-way/new_graph_cities/cities/h207_10.txt\n",
      "\n",
      "\n",
      "Saving file Day10_Harshini ...\n",
      "Saved JSON: /common/home/milky-way/new_graph_cities/cities/hDay10_Harshini.txt\n",
      "\n",
      "\n",
      "Processing:  2020-12-12 05:14:38.txt\n",
      "Saving image 207_11 ...\n",
      "Saved image: /common/home/milky-way/new_graph_cities/graphs/h207_11.png\n",
      "Saving file 207_11 ...\n",
      "Saved JSON: /common/home/milky-way/new_graph_cities/cities/h207_11.txt\n",
      "\n",
      "\n",
      "Saving file Day10_Harshini ...\n",
      "Saved JSON: /common/home/milky-way/new_graph_cities/cities/hDay10_Harshini.txt\n",
      "\n",
      "\n",
      "Processing:  2020-12-12 05:14:40.txt\n",
      "Saving image 207_12 ...\n",
      "Saved image: /common/home/milky-way/new_graph_cities/graphs/h207_12.png\n",
      "Saving file 207_12 ...\n",
      "Saved JSON: /common/home/milky-way/new_graph_cities/cities/h207_12.txt\n",
      "\n",
      "\n",
      "Saving file Day10_Harshini ...\n",
      "Saved JSON: /common/home/milky-way/new_graph_cities/cities/hDay10_Harshini.txt\n",
      "\n",
      "\n",
      "Processing:  2020-12-12 05:14:41.txt\n",
      "Saving image 207_13 ...\n",
      "Saved image: /common/home/milky-way/new_graph_cities/graphs/h207_13.png\n",
      "Saving file 207_13 ...\n",
      "Saved JSON: /common/home/milky-way/new_graph_cities/cities/h207_13.txt\n",
      "\n",
      "\n",
      "Saving file Day10_Harshini ...\n",
      "Saved JSON: /common/home/milky-way/new_graph_cities/cities/hDay10_Harshini.txt\n",
      "\n",
      "\n",
      "Processing:  2020-12-12 05:14:43.txt\n",
      "Saving image 207_14 ...\n",
      "Saved image: /common/home/milky-way/new_graph_cities/graphs/h207_14.png\n",
      "Saving file 207_14 ...\n",
      "Saved JSON: /common/home/milky-way/new_graph_cities/cities/h207_14.txt\n",
      "\n",
      "\n",
      "Saving file Day10_Harshini ...\n",
      "Saved JSON: /common/home/milky-way/new_graph_cities/cities/hDay10_Harshini.txt\n",
      "\n",
      "\n",
      "Processing:  2020-12-12 05:14:45.txt\n",
      "Saving image 207_15 ...\n",
      "Saved image: /common/home/milky-way/new_graph_cities/graphs/h207_15.png\n",
      "Saving file 207_15 ...\n",
      "Saved JSON: /common/home/milky-way/new_graph_cities/cities/h207_15.txt\n",
      "\n",
      "\n",
      "Saving file Day10_Harshini ...\n",
      "Saved JSON: /common/home/milky-way/new_graph_cities/cities/hDay10_Harshini.txt\n",
      "\n",
      "\n",
      "Processing:  2020-12-12 05:14:52.txt\n",
      "Saving image 207_16 ...\n",
      "Saved image: /common/home/milky-way/new_graph_cities/graphs/h207_16.png\n",
      "Saving file 207_16 ...\n",
      "Saved JSON: /common/home/milky-way/new_graph_cities/cities/h207_16.txt\n",
      "\n",
      "\n",
      "Saving file Day10_Harshini ...\n",
      "Saved JSON: /common/home/milky-way/new_graph_cities/cities/hDay10_Harshini.txt\n",
      "\n",
      "\n",
      "Processing:  2020-12-12 05:14:56.txt\n",
      "Saving image 207_17 ...\n",
      "Saved image: /common/home/milky-way/new_graph_cities/graphs/h207_17.png\n",
      "Saving file 207_17 ...\n",
      "Saved JSON: /common/home/milky-way/new_graph_cities/cities/h207_17.txt\n",
      "\n",
      "\n",
      "Saving file Day10_Harshini ...\n",
      "Saved JSON: /common/home/milky-way/new_graph_cities/cities/hDay10_Harshini.txt\n",
      "\n",
      "\n",
      "Processing:  2020-12-12 05:15:00.txt\n",
      "Saving image 207_18 ...\n",
      "Saved image: /common/home/milky-way/new_graph_cities/graphs/h207_18.png\n",
      "Saving file 207_18 ...\n",
      "Saved JSON: /common/home/milky-way/new_graph_cities/cities/h207_18.txt\n",
      "\n",
      "\n",
      "Saving file Day10_Harshini ...\n",
      "Saved JSON: /common/home/milky-way/new_graph_cities/cities/hDay10_Harshini.txt\n",
      "\n",
      "\n",
      "Processing:  2020-12-12 05:15:04.txt\n",
      "Saving image 207_19 ...\n",
      "Saved image: /common/home/milky-way/new_graph_cities/graphs/h207_19.png\n",
      "Saving file 207_19 ...\n",
      "Saved JSON: /common/home/milky-way/new_graph_cities/cities/h207_19.txt\n",
      "\n",
      "\n",
      "Saving file Day10_Harshini ...\n",
      "Saved JSON: /common/home/milky-way/new_graph_cities/cities/hDay10_Harshini.txt\n",
      "\n",
      "\n",
      "Processing:  2020-12-12 05:15:05.txt\n",
      "Saving image 207_20 ...\n",
      "Saved image: /common/home/milky-way/new_graph_cities/graphs/h207_20.png\n",
      "Saving file 207_20 ...\n",
      "Saved JSON: /common/home/milky-way/new_graph_cities/cities/h207_20.txt\n",
      "\n",
      "\n",
      "Saving file Day10_Harshini ...\n",
      "Saved JSON: /common/home/milky-way/new_graph_cities/cities/hDay10_Harshini.txt\n",
      "\n",
      "\n",
      "Processing:  2020-12-12 05:15:08.txt\n",
      "Saving image 207_21 ...\n",
      "Saved image: /common/home/milky-way/new_graph_cities/graphs/h207_21.png\n",
      "Saving file 207_21 ...\n",
      "Saved JSON: /common/home/milky-way/new_graph_cities/cities/h207_21.txt\n",
      "\n",
      "\n",
      "Saving file Day10_Harshini ...\n",
      "Saved JSON: /common/home/milky-way/new_graph_cities/cities/hDay10_Harshini.txt\n",
      "\n",
      "\n",
      "Processing:  2020-12-12 05:15:09.txt\n",
      "Saving image 207_22 ...\n",
      "Saved image: /common/home/milky-way/new_graph_cities/graphs/h207_22.png\n",
      "Saving file 207_22 ...\n",
      "Saved JSON: /common/home/milky-way/new_graph_cities/cities/h207_22.txt\n",
      "\n",
      "\n",
      "Saving file Day10_Harshini ...\n",
      "Saved JSON: /common/home/milky-way/new_graph_cities/cities/hDay10_Harshini.txt\n",
      "\n",
      "\n",
      "Processing:  2020-12-12 05:15:10.txt\n",
      "Saving image 207_23 ...\n",
      "Saved image: /common/home/milky-way/new_graph_cities/graphs/h207_23.png\n",
      "Saving file 207_23 ...\n",
      "Saved JSON: /common/home/milky-way/new_graph_cities/cities/h207_23.txt\n",
      "\n",
      "\n",
      "Saving file Day10_Harshini ...\n",
      "Saved JSON: /common/home/milky-way/new_graph_cities/cities/hDay10_Harshini.txt\n",
      "\n",
      "\n",
      "Processing:  2020-12-12 05:15:14.txt\n",
      "Saving image 207_24 ...\n",
      "Saved image: /common/home/milky-way/new_graph_cities/graphs/h207_24.png\n",
      "Saving file 207_24 ...\n",
      "Saved JSON: /common/home/milky-way/new_graph_cities/cities/h207_24.txt\n",
      "\n",
      "\n",
      "Saving file Day10_Harshini ...\n",
      "Saved JSON: /common/home/milky-way/new_graph_cities/cities/hDay10_Harshini.txt\n",
      "\n",
      "\n",
      "Processing:  2020-12-12 05:15:15.txt\n",
      "Saving image 207_25 ...\n",
      "Saved image: /common/home/milky-way/new_graph_cities/graphs/h207_25.png\n",
      "Saving file 207_25 ...\n",
      "Saved JSON: /common/home/milky-way/new_graph_cities/cities/h207_25.txt\n",
      "\n",
      "\n",
      "Saving file Day10_Harshini ...\n",
      "Saved JSON: /common/home/milky-way/new_graph_cities/cities/hDay10_Harshini.txt\n",
      "\n",
      "\n",
      "Processing:  2020-12-12 05:15:16.txt\n",
      "Saving image 207_26 ...\n",
      "Saved image: /common/home/milky-way/new_graph_cities/graphs/h207_26.png\n",
      "Saving file 207_26 ...\n",
      "Saved JSON: /common/home/milky-way/new_graph_cities/cities/h207_26.txt\n",
      "\n",
      "\n",
      "Saving file Day10_Harshini ...\n",
      "Saved JSON: /common/home/milky-way/new_graph_cities/cities/hDay10_Harshini.txt\n",
      "\n",
      "\n",
      "Processing:  2020-12-12 05:15:21.txt\n",
      "Saving image 207_27 ...\n",
      "Saved image: /common/home/milky-way/new_graph_cities/graphs/h207_27.png\n",
      "Saving file 207_27 ...\n",
      "Saved JSON: /common/home/milky-way/new_graph_cities/cities/h207_27.txt\n",
      "\n",
      "\n",
      "Saving file Day10_Harshini ...\n",
      "Saved JSON: /common/home/milky-way/new_graph_cities/cities/hDay10_Harshini.txt\n",
      "\n",
      "\n",
      "Processing:  2020-12-12 05:15:30.txt\n",
      "Saving image 207_28 ...\n",
      "Saved image: /common/home/milky-way/new_graph_cities/graphs/h207_28.png\n",
      "Saving file 207_28 ...\n",
      "Saved JSON: /common/home/milky-way/new_graph_cities/cities/h207_28.txt\n",
      "\n",
      "\n",
      "Saving file Day10_Harshini ...\n",
      "Saved JSON: /common/home/milky-way/new_graph_cities/cities/hDay10_Harshini.txt\n",
      "\n",
      "\n",
      "Processing:  2020-12-12 05:15:39.txt\n",
      "Saving image 207_29 ...\n",
      "Saved image: /common/home/milky-way/new_graph_cities/graphs/h207_29.png\n",
      "Saving file 207_29 ...\n",
      "Saved JSON: /common/home/milky-way/new_graph_cities/cities/h207_29.txt\n",
      "\n",
      "\n",
      "Saving file Day10_Harshini ...\n",
      "Saved JSON: /common/home/milky-way/new_graph_cities/cities/hDay10_Harshini.txt\n",
      "\n",
      "\n",
      "Processing:  2020-12-12 05:15:46.txt\n",
      "Saving image 207_30 ...\n",
      "Saved image: /common/home/milky-way/new_graph_cities/graphs/h207_30.png\n",
      "Saving file 207_30 ...\n",
      "Saved JSON: /common/home/milky-way/new_graph_cities/cities/h207_30.txt\n",
      "\n",
      "\n",
      "Saving file Day10_Harshini ...\n",
      "Saved JSON: /common/home/milky-way/new_graph_cities/cities/hDay10_Harshini.txt\n",
      "\n",
      "\n",
      "Processing:  2020-12-12 05:15:47.txt\n",
      "Saving image 207_31 ...\n",
      "Saved image: /common/home/milky-way/new_graph_cities/graphs/h207_31.png\n",
      "Saving file 207_31 ...\n",
      "Saved JSON: /common/home/milky-way/new_graph_cities/cities/h207_31.txt\n",
      "\n",
      "\n",
      "Saving file Day10_Harshini ...\n",
      "Saved JSON: /common/home/milky-way/new_graph_cities/cities/hDay10_Harshini.txt\n",
      "\n",
      "\n",
      "Processing:  2020-12-12 05:15:48.txt\n",
      "Saving image 207_32 ...\n",
      "Saved image: /common/home/milky-way/new_graph_cities/graphs/h207_32.png\n",
      "Saving file 207_32 ...\n",
      "Saved JSON: /common/home/milky-way/new_graph_cities/cities/h207_32.txt\n",
      "\n",
      "\n",
      "Saving file Day10_Harshini ...\n",
      "Saved JSON: /common/home/milky-way/new_graph_cities/cities/hDay10_Harshini.txt\n",
      "\n",
      "\n",
      "Processing:  2020-12-12 05:15:50.txt\n",
      "Saving image 207_33 ...\n",
      "Saved image: /common/home/milky-way/new_graph_cities/graphs/h207_33.png\n",
      "Saving file 207_33 ...\n",
      "Saved JSON: /common/home/milky-way/new_graph_cities/cities/h207_33.txt\n",
      "\n",
      "\n",
      "Saving file Day10_Harshini ...\n",
      "Saved JSON: /common/home/milky-way/new_graph_cities/cities/hDay10_Harshini.txt\n",
      "\n",
      "\n",
      "Processing:  2020-12-12 05:15:51.txt\n",
      "Saving image 207_34 ...\n",
      "Saved image: /common/home/milky-way/new_graph_cities/graphs/h207_34.png\n",
      "Saving file 207_34 ...\n",
      "Saved JSON: /common/home/milky-way/new_graph_cities/cities/h207_34.txt\n",
      "\n",
      "\n",
      "Saving file Day10_Harshini ...\n",
      "Saved JSON: /common/home/milky-way/new_graph_cities/cities/hDay10_Harshini.txt\n",
      "\n",
      "\n",
      "Processing:  2020-12-12 05:15:52.txt\n",
      "Saving image 207_35 ...\n",
      "Saved image: /common/home/milky-way/new_graph_cities/graphs/h207_35.png\n",
      "Saving file 207_35 ...\n",
      "Saved JSON: /common/home/milky-way/new_graph_cities/cities/h207_35.txt\n",
      "\n",
      "\n",
      "Saving file Day10_Harshini ...\n",
      "Saved JSON: /common/home/milky-way/new_graph_cities/cities/hDay10_Harshini.txt\n",
      "\n",
      "\n",
      "Processing:  2020-12-12 05:15:53.txt\n",
      "Saving image 207_36 ...\n",
      "Saved image: /common/home/milky-way/new_graph_cities/graphs/h207_36.png\n",
      "Saving file 207_36 ...\n",
      "Saved JSON: /common/home/milky-way/new_graph_cities/cities/h207_36.txt\n",
      "\n",
      "\n",
      "Saving file Day10_Harshini ...\n",
      "Saved JSON: /common/home/milky-way/new_graph_cities/cities/hDay10_Harshini.txt\n",
      "\n",
      "\n",
      "Processing:  2020-12-12 05:15:54.txt\n",
      "Saving image 207_37 ...\n",
      "Saved image: /common/home/milky-way/new_graph_cities/graphs/h207_37.png\n",
      "Saving file 207_37 ...\n",
      "Saved JSON: /common/home/milky-way/new_graph_cities/cities/h207_37.txt\n",
      "\n",
      "\n",
      "Saving file Day10_Harshini ...\n",
      "Saved JSON: /common/home/milky-way/new_graph_cities/cities/hDay10_Harshini.txt\n",
      "\n",
      "\n",
      "Processing:  2020-12-12 05:15:58.txt\n",
      "Saving image 207_38 ...\n",
      "Saved image: /common/home/milky-way/new_graph_cities/graphs/h207_38.png\n",
      "Saving file 207_38 ...\n",
      "Saved JSON: /common/home/milky-way/new_graph_cities/cities/h207_38.txt\n",
      "\n",
      "\n",
      "Saving file Day10_Harshini ...\n",
      "Saved JSON: /common/home/milky-way/new_graph_cities/cities/hDay10_Harshini.txt\n",
      "\n",
      "\n",
      "Processing:  2020-12-12 05:15:59.txt\n",
      "Saving image 207_39 ...\n",
      "Saved image: /common/home/milky-way/new_graph_cities/graphs/h207_39.png\n",
      "Saving file 207_39 ...\n",
      "Saved JSON: /common/home/milky-way/new_graph_cities/cities/h207_39.txt\n",
      "\n",
      "\n",
      "Saving file Day10_Harshini ...\n",
      "Saved JSON: /common/home/milky-way/new_graph_cities/cities/hDay10_Harshini.txt\n",
      "\n",
      "\n",
      "Processing:  2020-12-12 05:16:01.txt\n",
      "Saving image 207_40 ...\n",
      "Saved image: /common/home/milky-way/new_graph_cities/graphs/h207_40.png\n",
      "Saving file 207_40 ...\n",
      "Saved JSON: /common/home/milky-way/new_graph_cities/cities/h207_40.txt\n",
      "\n",
      "\n",
      "Saving file Day10_Harshini ...\n",
      "Saved JSON: /common/home/milky-way/new_graph_cities/cities/hDay10_Harshini.txt\n",
      "\n",
      "\n",
      "Processing:  2020-12-12 05:16:02.txt\n",
      "Saving image 207_41 ...\n",
      "Saved image: /common/home/milky-way/new_graph_cities/graphs/h207_41.png\n",
      "Saving file 207_41 ...\n",
      "Saved JSON: /common/home/milky-way/new_graph_cities/cities/h207_41.txt\n",
      "\n",
      "\n",
      "Saving file Day10_Harshini ...\n",
      "Saved JSON: /common/home/milky-way/new_graph_cities/cities/hDay10_Harshini.txt\n",
      "\n",
      "\n",
      "Processing:  2020-12-12 05:16:03.txt\n",
      "Saving image 207_42 ...\n",
      "Saved image: /common/home/milky-way/new_graph_cities/graphs/h207_42.png\n",
      "Saving file 207_42 ...\n",
      "Saved JSON: /common/home/milky-way/new_graph_cities/cities/h207_42.txt\n",
      "\n",
      "\n",
      "Saving file Day10_Harshini ...\n",
      "Saved JSON: /common/home/milky-way/new_graph_cities/cities/hDay10_Harshini.txt\n",
      "\n",
      "\n",
      "Processing:  2020-12-12 05:16:07.txt\n",
      "Saving image 207_43 ...\n",
      "Saved image: /common/home/milky-way/new_graph_cities/graphs/h207_43.png\n",
      "Saving file 207_43 ...\n",
      "Saved JSON: /common/home/milky-way/new_graph_cities/cities/h207_43.txt\n",
      "\n",
      "\n",
      "Saving file Day10_Harshini ...\n",
      "Saved JSON: /common/home/milky-way/new_graph_cities/cities/hDay10_Harshini.txt\n",
      "\n",
      "\n",
      "Processing:  2020-12-12 05:16:08.txt\n",
      "Saving image 207_44 ...\n",
      "Saved image: /common/home/milky-way/new_graph_cities/graphs/h207_44.png\n",
      "Saving file 207_44 ...\n",
      "Saved JSON: /common/home/milky-way/new_graph_cities/cities/h207_44.txt\n",
      "\n",
      "\n",
      "Saving file Day10_Harshini ...\n",
      "Saved JSON: /common/home/milky-way/new_graph_cities/cities/hDay10_Harshini.txt\n",
      "\n",
      "\n",
      "Processing:  2020-12-12 05:16:17.txt\n",
      "Saving image 207_45 ...\n",
      "Saved image: /common/home/milky-way/new_graph_cities/graphs/h207_45.png\n",
      "Saving file 207_45 ...\n",
      "Saved JSON: /common/home/milky-way/new_graph_cities/cities/h207_45.txt\n",
      "\n",
      "\n",
      "Saving file Day10_Harshini ...\n",
      "Saved JSON: /common/home/milky-way/new_graph_cities/cities/hDay10_Harshini.txt\n",
      "\n",
      "\n",
      "Processing:  2020-12-12 05:16:19.txt\n",
      "Saving image 207_46 ...\n",
      "Saved image: /common/home/milky-way/new_graph_cities/graphs/h207_46.png\n",
      "Saving file 207_46 ...\n",
      "Saved JSON: /common/home/milky-way/new_graph_cities/cities/h207_46.txt\n",
      "\n",
      "\n",
      "Saving file Day10_Harshini ...\n",
      "Saved JSON: /common/home/milky-way/new_graph_cities/cities/hDay10_Harshini.txt\n",
      "\n",
      "\n",
      "Processing:  2020-12-12 05:16:23.txt\n",
      "Saving image 208_1 ...\n",
      "Saved image: /common/home/milky-way/new_graph_cities/graphs/h208_1.png\n",
      "Saving file 208_1 ...\n",
      "Saved JSON: /common/home/milky-way/new_graph_cities/cities/h208_1.txt\n",
      "\n",
      "\n",
      "Saving file Day10_Harshini ...\n",
      "Saved JSON: /common/home/milky-way/new_graph_cities/cities/hDay10_Harshini.txt\n",
      "\n",
      "\n",
      "Processing:  2020-12-12 05:16:24.txt\n",
      "Saving image 208_2 ...\n",
      "Saved image: /common/home/milky-way/new_graph_cities/graphs/h208_2.png\n",
      "Saving file 208_2 ...\n",
      "Saved JSON: /common/home/milky-way/new_graph_cities/cities/h208_2.txt\n",
      "\n",
      "\n",
      "Saving file Day10_Harshini ...\n",
      "Saved JSON: /common/home/milky-way/new_graph_cities/cities/hDay10_Harshini.txt\n",
      "\n",
      "\n",
      "Processing:  2020-12-12 05:16:25.txt\n",
      "Saving image 208_3 ...\n",
      "Saved image: /common/home/milky-way/new_graph_cities/graphs/h208_3.png\n",
      "Saving file 208_3 ...\n",
      "Saved JSON: /common/home/milky-way/new_graph_cities/cities/h208_3.txt\n",
      "\n",
      "\n",
      "Saving file Day10_Harshini ...\n",
      "Saved JSON: /common/home/milky-way/new_graph_cities/cities/hDay10_Harshini.txt\n",
      "\n",
      "\n",
      "Processing:  2020-12-12 05:16:26.txt\n",
      "Saving image 208_4 ...\n",
      "Saved image: /common/home/milky-way/new_graph_cities/graphs/h208_4.png\n",
      "Saving file 208_4 ...\n",
      "Saved JSON: /common/home/milky-way/new_graph_cities/cities/h208_4.txt\n",
      "\n",
      "\n",
      "Saving file Day10_Harshini ...\n",
      "Saved JSON: /common/home/milky-way/new_graph_cities/cities/hDay10_Harshini.txt\n",
      "\n",
      "\n",
      "Processing:  2020-12-12 05:16:27.txt\n",
      "Saving image 208_5 ...\n",
      "Saved image: /common/home/milky-way/new_graph_cities/graphs/h208_5.png\n",
      "Saving file 208_5 ...\n",
      "Saved JSON: /common/home/milky-way/new_graph_cities/cities/h208_5.txt\n",
      "\n",
      "\n",
      "Saving file Day10_Harshini ...\n",
      "Saved JSON: /common/home/milky-way/new_graph_cities/cities/hDay10_Harshini.txt\n",
      "\n",
      "\n",
      "Processing:  2020-12-12 05:16:29.txt\n",
      "Saving image 208_6 ...\n",
      "Saved image: /common/home/milky-way/new_graph_cities/graphs/h208_6.png\n",
      "Saving file 208_6 ...\n",
      "Saved JSON: /common/home/milky-way/new_graph_cities/cities/h208_6.txt\n",
      "\n",
      "\n",
      "Saving file Day10_Harshini ...\n",
      "Saved JSON: /common/home/milky-way/new_graph_cities/cities/hDay10_Harshini.txt\n",
      "\n",
      "\n",
      "Processing:  2020-12-12 05:16:30.txt\n",
      "Saving image 208_7 ...\n",
      "Saved image: /common/home/milky-way/new_graph_cities/graphs/h208_7.png\n",
      "Saving file 208_7 ...\n",
      "Saved JSON: /common/home/milky-way/new_graph_cities/cities/h208_7.txt\n",
      "\n",
      "\n",
      "Saving file Day10_Harshini ...\n",
      "Saved JSON: /common/home/milky-way/new_graph_cities/cities/hDay10_Harshini.txt\n",
      "\n",
      "\n",
      "Processing:  2020-12-12 05:16:31.txt\n",
      "Saving image 208_8 ...\n",
      "Saved image: /common/home/milky-way/new_graph_cities/graphs/h208_8.png\n",
      "Saving file 208_8 ...\n",
      "Saved JSON: /common/home/milky-way/new_graph_cities/cities/h208_8.txt\n",
      "\n",
      "\n",
      "Saving file Day10_Harshini ...\n",
      "Saved JSON: /common/home/milky-way/new_graph_cities/cities/hDay10_Harshini.txt\n",
      "\n",
      "\n",
      "Processing:  2020-12-12 05:16:32.txt\n",
      "Saving image 208_9 ...\n",
      "Saved image: /common/home/milky-way/new_graph_cities/graphs/h208_9.png\n",
      "Saving file 208_9 ...\n",
      "Saved JSON: /common/home/milky-way/new_graph_cities/cities/h208_9.txt\n",
      "\n",
      "\n",
      "Saving file Day10_Harshini ...\n",
      "Saved JSON: /common/home/milky-way/new_graph_cities/cities/hDay10_Harshini.txt\n",
      "\n",
      "\n",
      "Processing:  2020-12-12 05:16:33.txt\n",
      "Saving image 208_10 ...\n",
      "Saved image: /common/home/milky-way/new_graph_cities/graphs/h208_10.png\n",
      "Saving file 208_10 ...\n",
      "Saved JSON: /common/home/milky-way/new_graph_cities/cities/h208_10.txt\n",
      "\n",
      "\n",
      "Saving file Day10_Harshini ...\n",
      "Saved JSON: /common/home/milky-way/new_graph_cities/cities/hDay10_Harshini.txt\n",
      "\n",
      "\n",
      "Processing:  2020-12-12 05:16:34.txt\n",
      "Saving image 208_11 ...\n",
      "Saved image: /common/home/milky-way/new_graph_cities/graphs/h208_11.png\n",
      "Saving file 208_11 ...\n",
      "Saved JSON: /common/home/milky-way/new_graph_cities/cities/h208_11.txt\n",
      "\n",
      "\n",
      "Saving file Day10_Harshini ...\n",
      "Saved JSON: /common/home/milky-way/new_graph_cities/cities/hDay10_Harshini.txt\n",
      "\n",
      "\n",
      "Processing:  2020-12-12 05:16:36.txt\n",
      "Saving image 208_12 ...\n",
      "Saved image: /common/home/milky-way/new_graph_cities/graphs/h208_12.png\n",
      "Saving file 208_12 ...\n",
      "Saved JSON: /common/home/milky-way/new_graph_cities/cities/h208_12.txt\n",
      "\n",
      "\n",
      "Saving file Day10_Harshini ...\n",
      "Saved JSON: /common/home/milky-way/new_graph_cities/cities/hDay10_Harshini.txt\n",
      "\n",
      "\n",
      "Processing:  2020-12-12 05:16:37.txt\n",
      "Saving image 208_13 ...\n",
      "Saved image: /common/home/milky-way/new_graph_cities/graphs/h208_13.png\n",
      "Saving file 208_13 ...\n",
      "Saved JSON: /common/home/milky-way/new_graph_cities/cities/h208_13.txt\n",
      "\n",
      "\n",
      "Saving file Day10_Harshini ...\n",
      "Saved JSON: /common/home/milky-way/new_graph_cities/cities/hDay10_Harshini.txt\n",
      "\n",
      "\n",
      "Processing:  2020-12-12 05:16:38.txt\n",
      "Saving image 208_14 ...\n",
      "Saved image: /common/home/milky-way/new_graph_cities/graphs/h208_14.png\n",
      "Saving file 208_14 ...\n",
      "Saved JSON: /common/home/milky-way/new_graph_cities/cities/h208_14.txt\n",
      "\n",
      "\n",
      "Saving file Day10_Harshini ...\n",
      "Saved JSON: /common/home/milky-way/new_graph_cities/cities/hDay10_Harshini.txt\n",
      "\n",
      "\n",
      "Processing:  2020-12-12 05:16:39.txt\n",
      "Saving image 208_15 ...\n",
      "Saved image: /common/home/milky-way/new_graph_cities/graphs/h208_15.png\n",
      "Saving file 208_15 ...\n",
      "Saved JSON: /common/home/milky-way/new_graph_cities/cities/h208_15.txt\n",
      "\n",
      "\n",
      "Saving file Day10_Harshini ...\n",
      "Saved JSON: /common/home/milky-way/new_graph_cities/cities/hDay10_Harshini.txt\n",
      "\n",
      "\n",
      "Processing:  2020-12-12 05:16:40.txt\n",
      "Saving image 208_16 ...\n",
      "Saved image: /common/home/milky-way/new_graph_cities/graphs/h208_16.png\n",
      "Saving file 208_16 ...\n",
      "Saved JSON: /common/home/milky-way/new_graph_cities/cities/h208_16.txt\n",
      "\n",
      "\n",
      "Saving file Day10_Harshini ...\n",
      "Saved JSON: /common/home/milky-way/new_graph_cities/cities/hDay10_Harshini.txt\n",
      "\n",
      "\n",
      "Processing:  2020-12-12 05:16:41.txt\n",
      "Saving image 208_17 ...\n",
      "Saved image: /common/home/milky-way/new_graph_cities/graphs/h208_17.png\n",
      "Saving file 208_17 ...\n",
      "Saved JSON: /common/home/milky-way/new_graph_cities/cities/h208_17.txt\n",
      "\n",
      "\n",
      "Saving file Day10_Harshini ...\n",
      "Saved JSON: /common/home/milky-way/new_graph_cities/cities/hDay10_Harshini.txt\n",
      "\n",
      "\n",
      "Processing:  2020-12-12 05:16:42.txt\n",
      "Saving image 208_18 ...\n",
      "Saved image: /common/home/milky-way/new_graph_cities/graphs/h208_18.png\n",
      "Saving file 208_18 ...\n",
      "Saved JSON: /common/home/milky-way/new_graph_cities/cities/h208_18.txt\n",
      "\n",
      "\n",
      "Saving file Day10_Harshini ...\n",
      "Saved JSON: /common/home/milky-way/new_graph_cities/cities/hDay10_Harshini.txt\n",
      "\n",
      "\n",
      "Processing:  2020-12-12 05:16:44.txt\n",
      "Saving image 208_19 ...\n",
      "Saved image: /common/home/milky-way/new_graph_cities/graphs/h208_19.png\n",
      "Saving file 208_19 ...\n",
      "Saved JSON: /common/home/milky-way/new_graph_cities/cities/h208_19.txt\n",
      "\n",
      "\n",
      "Saving file Day10_Harshini ...\n",
      "Saved JSON: /common/home/milky-way/new_graph_cities/cities/hDay10_Harshini.txt\n",
      "\n",
      "\n",
      "Processing:  2020-12-12 05:16:45.txt\n",
      "Saving image 208_20 ...\n",
      "Saved image: /common/home/milky-way/new_graph_cities/graphs/h208_20.png\n",
      "Saving file 208_20 ...\n",
      "Saved JSON: /common/home/milky-way/new_graph_cities/cities/h208_20.txt\n",
      "\n",
      "\n",
      "Saving file Day10_Harshini ...\n",
      "Saved JSON: /common/home/milky-way/new_graph_cities/cities/hDay10_Harshini.txt\n",
      "\n",
      "\n",
      "Processing:  2020-12-12 05:16:46.txt\n",
      "Saving image 208_21 ...\n",
      "Saved image: /common/home/milky-way/new_graph_cities/graphs/h208_21.png\n",
      "Saving file 208_21 ...\n",
      "Saved JSON: /common/home/milky-way/new_graph_cities/cities/h208_21.txt\n",
      "\n",
      "\n",
      "Saving file Day10_Harshini ...\n",
      "Saved JSON: /common/home/milky-way/new_graph_cities/cities/hDay10_Harshini.txt\n",
      "\n",
      "\n",
      "Processing:  2020-12-12 05:16:47.txt\n",
      "Saving image 208_22 ...\n",
      "Saved image: /common/home/milky-way/new_graph_cities/graphs/h208_22.png\n",
      "Saving file 208_22 ...\n",
      "Saved JSON: /common/home/milky-way/new_graph_cities/cities/h208_22.txt\n",
      "\n",
      "\n",
      "Saving file Day10_Harshini ...\n",
      "Saved JSON: /common/home/milky-way/new_graph_cities/cities/hDay10_Harshini.txt\n",
      "\n",
      "\n",
      "Processing:  2020-12-12 05:16:48.txt\n",
      "Saving image 208_23 ...\n",
      "Saved image: /common/home/milky-way/new_graph_cities/graphs/h208_23.png\n",
      "Saving file 208_23 ...\n",
      "Saved JSON: /common/home/milky-way/new_graph_cities/cities/h208_23.txt\n",
      "\n",
      "\n",
      "Saving file Day10_Harshini ...\n",
      "Saved JSON: /common/home/milky-way/new_graph_cities/cities/hDay10_Harshini.txt\n",
      "\n",
      "\n",
      "Processing:  2020-12-12 05:16:50.txt\n",
      "Saving image 208_24 ...\n",
      "Saved image: /common/home/milky-way/new_graph_cities/graphs/h208_24.png\n",
      "Saving file 208_24 ...\n",
      "Saved JSON: /common/home/milky-way/new_graph_cities/cities/h208_24.txt\n",
      "\n",
      "\n",
      "Saving file Day10_Harshini ...\n",
      "Saved JSON: /common/home/milky-way/new_graph_cities/cities/hDay10_Harshini.txt\n",
      "\n",
      "\n",
      "Processing:  2020-12-12 05:16:51.txt\n",
      "Saving image 208_25 ...\n",
      "Saved image: /common/home/milky-way/new_graph_cities/graphs/h208_25.png\n",
      "Saving file 208_25 ...\n",
      "Saved JSON: /common/home/milky-way/new_graph_cities/cities/h208_25.txt\n",
      "\n",
      "\n",
      "Saving file Day10_Harshini ...\n",
      "Saved JSON: /common/home/milky-way/new_graph_cities/cities/hDay10_Harshini.txt\n",
      "\n",
      "\n",
      "Processing:  2020-12-12 05:16:52.txt\n",
      "Saving image 208_26 ...\n",
      "Saved image: /common/home/milky-way/new_graph_cities/graphs/h208_26.png\n",
      "Saving file 208_26 ...\n",
      "Saved JSON: /common/home/milky-way/new_graph_cities/cities/h208_26.txt\n",
      "\n",
      "\n",
      "Saving file Day10_Harshini ...\n",
      "Saved JSON: /common/home/milky-way/new_graph_cities/cities/hDay10_Harshini.txt\n",
      "\n",
      "\n",
      "Processing:  2020-12-12 05:16:53.txt\n",
      "Saving image 208_27 ...\n",
      "Saved image: /common/home/milky-way/new_graph_cities/graphs/h208_27.png\n",
      "Saving file 208_27 ...\n",
      "Saved JSON: /common/home/milky-way/new_graph_cities/cities/h208_27.txt\n",
      "\n",
      "\n",
      "Saving file Day10_Harshini ...\n",
      "Saved JSON: /common/home/milky-way/new_graph_cities/cities/hDay10_Harshini.txt\n",
      "\n",
      "\n",
      "Processing:  2020-12-12 05:16:54.txt\n",
      "Saving image 208_28 ...\n",
      "Saved image: /common/home/milky-way/new_graph_cities/graphs/h208_28.png\n",
      "Saving file 208_28 ...\n",
      "Saved JSON: /common/home/milky-way/new_graph_cities/cities/h208_28.txt\n",
      "\n",
      "\n",
      "Saving file Day10_Harshini ...\n",
      "Saved JSON: /common/home/milky-way/new_graph_cities/cities/hDay10_Harshini.txt\n",
      "\n",
      "\n",
      "Processing:  2020-12-12 05:16:55.txt\n",
      "Saving image 208_29 ...\n",
      "Saved image: /common/home/milky-way/new_graph_cities/graphs/h208_29.png\n",
      "Saving file 208_29 ...\n",
      "Saved JSON: /common/home/milky-way/new_graph_cities/cities/h208_29.txt\n",
      "\n",
      "\n",
      "Saving file Day10_Harshini ...\n",
      "Saved JSON: /common/home/milky-way/new_graph_cities/cities/hDay10_Harshini.txt\n",
      "\n",
      "\n",
      "Processing:  2020-12-12 05:16:56.txt\n",
      "Saving image 208_30 ...\n",
      "Saved image: /common/home/milky-way/new_graph_cities/graphs/h208_30.png\n",
      "Saving file 208_30 ...\n",
      "Saved JSON: /common/home/milky-way/new_graph_cities/cities/h208_30.txt\n",
      "\n",
      "\n",
      "Saving file Day10_Harshini ...\n",
      "Saved JSON: /common/home/milky-way/new_graph_cities/cities/hDay10_Harshini.txt\n",
      "\n",
      "\n",
      "Processing:  2020-12-12 05:16:58.txt\n",
      "Saving image 208_31 ...\n",
      "Saved image: /common/home/milky-way/new_graph_cities/graphs/h208_31.png\n",
      "Saving file 208_31 ...\n",
      "Saved JSON: /common/home/milky-way/new_graph_cities/cities/h208_31.txt\n",
      "\n",
      "\n",
      "Saving file Day10_Harshini ...\n",
      "Saved JSON: /common/home/milky-way/new_graph_cities/cities/hDay10_Harshini.txt\n",
      "\n",
      "\n",
      "Processing:  2020-12-12 05:16:59.txt\n",
      "Saving image 208_32 ...\n",
      "Saved image: /common/home/milky-way/new_graph_cities/graphs/h208_32.png\n",
      "Saving file 208_32 ...\n",
      "Saved JSON: /common/home/milky-way/new_graph_cities/cities/h208_32.txt\n",
      "\n",
      "\n",
      "Saving file Day10_Harshini ...\n",
      "Saved JSON: /common/home/milky-way/new_graph_cities/cities/hDay10_Harshini.txt\n",
      "\n",
      "\n",
      "Processing:  2020-12-12 05:17:00.txt\n",
      "Saving image 208_33 ...\n",
      "Saved image: /common/home/milky-way/new_graph_cities/graphs/h208_33.png\n",
      "Saving file 208_33 ...\n",
      "Saved JSON: /common/home/milky-way/new_graph_cities/cities/h208_33.txt\n",
      "\n",
      "\n",
      "Saving file Day10_Harshini ...\n",
      "Saved JSON: /common/home/milky-way/new_graph_cities/cities/hDay10_Harshini.txt\n",
      "\n",
      "\n",
      "Processing:  2020-12-12 05:17:01.txt\n",
      "Saving image 208_34 ...\n",
      "Saved image: /common/home/milky-way/new_graph_cities/graphs/h208_34.png\n",
      "Saving file 208_34 ...\n",
      "Saved JSON: /common/home/milky-way/new_graph_cities/cities/h208_34.txt\n",
      "\n",
      "\n",
      "Saving file Day10_Harshini ...\n",
      "Saved JSON: /common/home/milky-way/new_graph_cities/cities/hDay10_Harshini.txt\n",
      "\n",
      "\n",
      "Processing:  2020-12-12 05:17:02.txt\n",
      "Saving image 208_35 ...\n",
      "Saved image: /common/home/milky-way/new_graph_cities/graphs/h208_35.png\n",
      "Saving file 208_35 ...\n",
      "Saved JSON: /common/home/milky-way/new_graph_cities/cities/h208_35.txt\n",
      "\n",
      "\n",
      "Saving file Day10_Harshini ...\n",
      "Saved JSON: /common/home/milky-way/new_graph_cities/cities/hDay10_Harshini.txt\n",
      "\n",
      "\n",
      "Processing:  2020-12-12 05:17:03.txt\n",
      "Saving image 208_36 ...\n",
      "Saved image: /common/home/milky-way/new_graph_cities/graphs/h208_36.png\n",
      "Saving file 208_36 ...\n",
      "Saved JSON: /common/home/milky-way/new_graph_cities/cities/h208_36.txt\n",
      "\n",
      "\n",
      "Saving file Day10_Harshini ...\n",
      "Saved JSON: /common/home/milky-way/new_graph_cities/cities/hDay10_Harshini.txt\n",
      "\n",
      "\n",
      "Processing:  2020-12-12 05:17:05.txt\n",
      "Saving image 208_37 ...\n",
      "Saved image: /common/home/milky-way/new_graph_cities/graphs/h208_37.png\n",
      "Saving file 208_37 ...\n",
      "Saved JSON: /common/home/milky-way/new_graph_cities/cities/h208_37.txt\n",
      "\n",
      "\n",
      "Saving file Day10_Harshini ...\n",
      "Saved JSON: /common/home/milky-way/new_graph_cities/cities/hDay10_Harshini.txt\n",
      "\n",
      "\n",
      "Processing:  2020-12-12 05:17:06.txt\n",
      "Saving image 208_38 ...\n",
      "Saved image: /common/home/milky-way/new_graph_cities/graphs/h208_38.png\n",
      "Saving file 208_38 ...\n",
      "Saved JSON: /common/home/milky-way/new_graph_cities/cities/h208_38.txt\n",
      "\n",
      "\n",
      "Saving file Day10_Harshini ...\n",
      "Saved JSON: /common/home/milky-way/new_graph_cities/cities/hDay10_Harshini.txt\n",
      "\n",
      "\n",
      "Processing:  2020-12-12 05:17:08.txt\n",
      "Saving image 208_39 ...\n",
      "Saved image: /common/home/milky-way/new_graph_cities/graphs/h208_39.png\n",
      "Saving file 208_39 ...\n",
      "Saved JSON: /common/home/milky-way/new_graph_cities/cities/h208_39.txt\n",
      "\n",
      "\n",
      "Saving file Day10_Harshini ...\n",
      "Saved JSON: /common/home/milky-way/new_graph_cities/cities/hDay10_Harshini.txt\n",
      "\n",
      "\n",
      "Processing:  2020-12-12 05:17:09.txt\n",
      "Saving image 208_40 ...\n",
      "Saved image: /common/home/milky-way/new_graph_cities/graphs/h208_40.png\n",
      "Saving file 208_40 ...\n",
      "Saved JSON: /common/home/milky-way/new_graph_cities/cities/h208_40.txt\n",
      "\n",
      "\n",
      "Saving file Day10_Harshini ...\n",
      "Saved JSON: /common/home/milky-way/new_graph_cities/cities/hDay10_Harshini.txt\n",
      "\n",
      "\n",
      "Processing:  2020-12-12 05:17:10.txt\n",
      "Saving image 208_41 ...\n",
      "Saved image: /common/home/milky-way/new_graph_cities/graphs/h208_41.png\n",
      "Saving file 208_41 ...\n",
      "Saved JSON: /common/home/milky-way/new_graph_cities/cities/h208_41.txt\n",
      "\n",
      "\n",
      "Saving file Day10_Harshini ...\n",
      "Saved JSON: /common/home/milky-way/new_graph_cities/cities/hDay10_Harshini.txt\n",
      "\n",
      "\n",
      "Processing:  2020-12-12 05:17:12.txt\n",
      "Saving image 208_42 ...\n",
      "Saved image: /common/home/milky-way/new_graph_cities/graphs/h208_42.png\n",
      "Saving file 208_42 ...\n",
      "Saved JSON: /common/home/milky-way/new_graph_cities/cities/h208_42.txt\n",
      "\n",
      "\n",
      "Saving file Day10_Harshini ...\n",
      "Saved JSON: /common/home/milky-way/new_graph_cities/cities/hDay10_Harshini.txt\n",
      "\n",
      "\n",
      "Processing:  2020-12-12 05:17:13.txt\n",
      "Saving image 208_43 ...\n",
      "Saved image: /common/home/milky-way/new_graph_cities/graphs/h208_43.png\n",
      "Saving file 208_43 ...\n",
      "Saved JSON: /common/home/milky-way/new_graph_cities/cities/h208_43.txt\n",
      "\n",
      "\n",
      "Saving file Day10_Harshini ...\n",
      "Saved JSON: /common/home/milky-way/new_graph_cities/cities/hDay10_Harshini.txt\n",
      "\n",
      "\n",
      "Processing:  2020-12-12 05:17:14.txt\n",
      "Saving image 208_44 ...\n",
      "Saved image: /common/home/milky-way/new_graph_cities/graphs/h208_44.png\n",
      "Saving file 208_44 ...\n",
      "Saved JSON: /common/home/milky-way/new_graph_cities/cities/h208_44.txt\n",
      "\n",
      "\n",
      "Saving file Day10_Harshini ...\n",
      "Saved JSON: /common/home/milky-way/new_graph_cities/cities/hDay10_Harshini.txt\n",
      "\n",
      "\n",
      "Processing:  2020-12-12 05:17:15.txt\n",
      "Saving image 208_45 ...\n",
      "Saved image: /common/home/milky-way/new_graph_cities/graphs/h208_45.png\n",
      "Saving file 208_45 ...\n",
      "Saved JSON: /common/home/milky-way/new_graph_cities/cities/h208_45.txt\n",
      "\n",
      "\n",
      "Saving file Day10_Harshini ...\n",
      "Saved JSON: /common/home/milky-way/new_graph_cities/cities/hDay10_Harshini.txt\n",
      "\n",
      "\n",
      "Processing:  2020-12-12 05:17:16.txt\n",
      "Saving image 208_46 ...\n",
      "Saved image: /common/home/milky-way/new_graph_cities/graphs/h208_46.png\n",
      "Saving file 208_46 ...\n",
      "Saved JSON: /common/home/milky-way/new_graph_cities/cities/h208_46.txt\n",
      "\n",
      "\n",
      "Saving file Day10_Harshini ...\n",
      "Saved JSON: /common/home/milky-way/new_graph_cities/cities/hDay10_Harshini.txt\n",
      "\n",
      "\n",
      "Processing:  2020-12-12 05:17:17.txt\n",
      "Saving image 208_47 ...\n",
      "Saved image: /common/home/milky-way/new_graph_cities/graphs/h208_47.png\n",
      "Saving file 208_47 ...\n",
      "Saved JSON: /common/home/milky-way/new_graph_cities/cities/h208_47.txt\n",
      "\n",
      "\n",
      "Saving file Day10_Harshini ...\n",
      "Saved JSON: /common/home/milky-way/new_graph_cities/cities/hDay10_Harshini.txt\n",
      "\n",
      "\n",
      "Processing:  2020-12-12 05:17:19.txt\n",
      "Saving image 208_48 ...\n",
      "Saved image: /common/home/milky-way/new_graph_cities/graphs/h208_48.png\n",
      "Saving file 208_48 ...\n",
      "Saved JSON: /common/home/milky-way/new_graph_cities/cities/h208_48.txt\n",
      "\n",
      "\n",
      "Saving file Day10_Harshini ...\n",
      "Saved JSON: /common/home/milky-way/new_graph_cities/cities/hDay10_Harshini.txt\n",
      "\n",
      "\n",
      "Processing:  2020-12-12 05:17:20.txt\n",
      "Saving image 208_49 ...\n",
      "Saved image: /common/home/milky-way/new_graph_cities/graphs/h208_49.png\n",
      "Saving file 208_49 ...\n",
      "Saved JSON: /common/home/milky-way/new_graph_cities/cities/h208_49.txt\n",
      "\n",
      "\n",
      "Saving file Day10_Harshini ...\n",
      "Saved JSON: /common/home/milky-way/new_graph_cities/cities/hDay10_Harshini.txt\n",
      "\n",
      "\n",
      "Processing:  2020-12-12 05:17:21.txt\n",
      "Saving image 208_50 ...\n",
      "Saved image: /common/home/milky-way/new_graph_cities/graphs/h208_50.png\n",
      "Saving file 208_50 ...\n",
      "Saved JSON: /common/home/milky-way/new_graph_cities/cities/h208_50.txt\n",
      "\n",
      "\n",
      "Saving file Day10_Harshini ...\n",
      "Saved JSON: /common/home/milky-way/new_graph_cities/cities/hDay10_Harshini.txt\n",
      "\n",
      "\n",
      "Processing:  2020-12-12 05:17:22.txt\n",
      "Saving image 208_51 ...\n",
      "Saved image: /common/home/milky-way/new_graph_cities/graphs/h208_51.png\n",
      "Saving file 208_51 ...\n",
      "Saved JSON: /common/home/milky-way/new_graph_cities/cities/h208_51.txt\n",
      "\n",
      "\n",
      "Saving file Day10_Harshini ...\n",
      "Saved JSON: /common/home/milky-way/new_graph_cities/cities/hDay10_Harshini.txt\n",
      "\n",
      "\n",
      "Processing:  2020-12-12 05:17:23.txt\n",
      "Saving image 208_52 ...\n",
      "Saved image: /common/home/milky-way/new_graph_cities/graphs/h208_52.png\n",
      "Saving file 208_52 ...\n",
      "Saved JSON: /common/home/milky-way/new_graph_cities/cities/h208_52.txt\n",
      "\n",
      "\n",
      "Saving file Day10_Harshini ...\n",
      "Saved JSON: /common/home/milky-way/new_graph_cities/cities/hDay10_Harshini.txt\n",
      "\n",
      "\n",
      "Processing:  2020-12-12 05:17:26.txt\n",
      "Saving image 208_53 ...\n",
      "Saved image: /common/home/milky-way/new_graph_cities/graphs/h208_53.png\n",
      "Saving file 208_53 ...\n",
      "Saved JSON: /common/home/milky-way/new_graph_cities/cities/h208_53.txt\n",
      "\n",
      "\n",
      "Saving file Day10_Harshini ...\n",
      "Saved JSON: /common/home/milky-way/new_graph_cities/cities/hDay10_Harshini.txt\n",
      "\n",
      "\n",
      "Processing:  2020-12-12 05:17:27.txt\n",
      "Saving image 208_54 ...\n",
      "Saved image: /common/home/milky-way/new_graph_cities/graphs/h208_54.png\n",
      "Saving file 208_54 ...\n",
      "Saved JSON: /common/home/milky-way/new_graph_cities/cities/h208_54.txt\n",
      "\n",
      "\n",
      "Saving file Day10_Harshini ...\n",
      "Saved JSON: /common/home/milky-way/new_graph_cities/cities/hDay10_Harshini.txt\n",
      "\n",
      "\n",
      "Processing:  2020-12-12 05:17:28.txt\n",
      "Saving image 208_55 ...\n",
      "Saved image: /common/home/milky-way/new_graph_cities/graphs/h208_55.png\n",
      "Saving file 208_55 ...\n",
      "Saved JSON: /common/home/milky-way/new_graph_cities/cities/h208_55.txt\n",
      "\n",
      "\n",
      "Saving file Day10_Harshini ...\n",
      "Saved JSON: /common/home/milky-way/new_graph_cities/cities/hDay10_Harshini.txt\n",
      "\n",
      "\n",
      "Processing:  2020-12-12 05:17:30.txt\n",
      "Saving image 208_56 ...\n",
      "Saved image: /common/home/milky-way/new_graph_cities/graphs/h208_56.png\n",
      "Saving file 208_56 ...\n",
      "Saved JSON: /common/home/milky-way/new_graph_cities/cities/h208_56.txt\n",
      "\n",
      "\n",
      "Saving file Day10_Harshini ...\n",
      "Saved JSON: /common/home/milky-way/new_graph_cities/cities/hDay10_Harshini.txt\n",
      "\n",
      "\n",
      "Processing:  2020-12-12 05:17:31.txt\n",
      "Saving image 208_57 ...\n",
      "Saved image: /common/home/milky-way/new_graph_cities/graphs/h208_57.png\n",
      "Saving file 208_57 ...\n",
      "Saved JSON: /common/home/milky-way/new_graph_cities/cities/h208_57.txt\n",
      "\n",
      "\n",
      "Saving file Day10_Harshini ...\n",
      "Saved JSON: /common/home/milky-way/new_graph_cities/cities/hDay10_Harshini.txt\n",
      "\n",
      "\n",
      "Processing:  2020-12-12 05:17:33.txt\n",
      "Saving image 208_58 ...\n",
      "Saved image: /common/home/milky-way/new_graph_cities/graphs/h208_58.png\n",
      "Saving file 208_58 ...\n",
      "Saved JSON: /common/home/milky-way/new_graph_cities/cities/h208_58.txt\n",
      "\n",
      "\n",
      "Saving file Day10_Harshini ...\n",
      "Saved JSON: /common/home/milky-way/new_graph_cities/cities/hDay10_Harshini.txt\n",
      "\n",
      "\n",
      "Processing:  2020-12-12 05:17:34.txt\n",
      "Saving image 208_59 ...\n",
      "Saved image: /common/home/milky-way/new_graph_cities/graphs/h208_59.png\n",
      "Saving file 208_59 ...\n",
      "Saved JSON: /common/home/milky-way/new_graph_cities/cities/h208_59.txt\n",
      "\n",
      "\n",
      "Saving file Day10_Harshini ...\n",
      "Saved JSON: /common/home/milky-way/new_graph_cities/cities/hDay10_Harshini.txt\n",
      "\n",
      "\n",
      "Processing:  2020-12-12 05:17:35.txt\n",
      "Saving image 208_60 ...\n",
      "Saved image: /common/home/milky-way/new_graph_cities/graphs/h208_60.png\n",
      "Saving file 208_60 ...\n",
      "Saved JSON: /common/home/milky-way/new_graph_cities/cities/h208_60.txt\n",
      "\n",
      "\n",
      "Saving file Day10_Harshini ...\n",
      "Saved JSON: /common/home/milky-way/new_graph_cities/cities/hDay10_Harshini.txt\n",
      "\n",
      "\n",
      "Processing:  2020-12-12 05:17:36.txt\n",
      "Saving image 208_61 ...\n",
      "Saved image: /common/home/milky-way/new_graph_cities/graphs/h208_61.png\n",
      "Saving file 208_61 ...\n",
      "Saved JSON: /common/home/milky-way/new_graph_cities/cities/h208_61.txt\n",
      "\n",
      "\n",
      "Saving file Day10_Harshini ...\n",
      "Saved JSON: /common/home/milky-way/new_graph_cities/cities/hDay10_Harshini.txt\n",
      "\n",
      "\n",
      "Processing:  2020-12-12 05:17:37.txt\n",
      "Saving image 208_62 ...\n",
      "Saved image: /common/home/milky-way/new_graph_cities/graphs/h208_62.png\n",
      "Saving file 208_62 ...\n",
      "Saved JSON: /common/home/milky-way/new_graph_cities/cities/h208_62.txt\n",
      "\n",
      "\n",
      "Saving file Day10_Harshini ...\n",
      "Saved JSON: /common/home/milky-way/new_graph_cities/cities/hDay10_Harshini.txt\n",
      "\n",
      "\n",
      "Processing:  2020-12-12 05:17:38.txt\n",
      "Saving image 208_63 ...\n",
      "Saved image: /common/home/milky-way/new_graph_cities/graphs/h208_63.png\n",
      "Saving file 208_63 ...\n",
      "Saved JSON: /common/home/milky-way/new_graph_cities/cities/h208_63.txt\n",
      "\n",
      "\n",
      "Saving file Day10_Harshini ...\n",
      "Saved JSON: /common/home/milky-way/new_graph_cities/cities/hDay10_Harshini.txt\n",
      "\n",
      "\n",
      "Processing:  2020-12-12 05:17:40.txt\n",
      "Saving image 208_64 ...\n",
      "Saved image: /common/home/milky-way/new_graph_cities/graphs/h208_64.png\n",
      "Saving file 208_64 ...\n",
      "Saved JSON: /common/home/milky-way/new_graph_cities/cities/h208_64.txt\n",
      "\n",
      "\n",
      "Saving file Day10_Harshini ...\n",
      "Saved JSON: /common/home/milky-way/new_graph_cities/cities/hDay10_Harshini.txt\n",
      "\n",
      "\n",
      "Processing:  2020-12-12 05:17:41.txt\n",
      "Saving image 208_65 ...\n",
      "Saved image: /common/home/milky-way/new_graph_cities/graphs/h208_65.png\n",
      "Saving file 208_65 ...\n",
      "Saved JSON: /common/home/milky-way/new_graph_cities/cities/h208_65.txt\n",
      "\n",
      "\n",
      "Saving file Day10_Harshini ...\n",
      "Saved JSON: /common/home/milky-way/new_graph_cities/cities/hDay10_Harshini.txt\n",
      "\n",
      "\n",
      "Processing:  2020-12-12 05:17:42.txt\n",
      "Saving image 208_66 ...\n",
      "Saved image: /common/home/milky-way/new_graph_cities/graphs/h208_66.png\n",
      "Saving file 208_66 ...\n",
      "Saved JSON: /common/home/milky-way/new_graph_cities/cities/h208_66.txt\n",
      "\n",
      "\n",
      "Saving file Day10_Harshini ...\n",
      "Saved JSON: /common/home/milky-way/new_graph_cities/cities/hDay10_Harshini.txt\n",
      "\n",
      "\n",
      "Processing:  2020-12-12 05:17:43.txt\n",
      "Saving image 208_67 ...\n",
      "Saved image: /common/home/milky-way/new_graph_cities/graphs/h208_67.png\n",
      "Saving file 208_67 ...\n",
      "Saved JSON: /common/home/milky-way/new_graph_cities/cities/h208_67.txt\n",
      "\n",
      "\n",
      "Saving file Day10_Harshini ...\n",
      "Saved JSON: /common/home/milky-way/new_graph_cities/cities/hDay10_Harshini.txt\n",
      "\n",
      "\n",
      "Processing:  2020-12-12 05:17:44.txt\n",
      "Saving image 208_68 ...\n",
      "Saved image: /common/home/milky-way/new_graph_cities/graphs/h208_68.png\n",
      "Saving file 208_68 ...\n",
      "Saved JSON: /common/home/milky-way/new_graph_cities/cities/h208_68.txt\n",
      "\n",
      "\n",
      "Saving file Day10_Harshini ...\n",
      "Saved JSON: /common/home/milky-way/new_graph_cities/cities/hDay10_Harshini.txt\n",
      "\n",
      "\n",
      "Processing:  2020-12-12 05:17:45.txt\n",
      "Saving image 208_69 ...\n",
      "Saved image: /common/home/milky-way/new_graph_cities/graphs/h208_69.png\n",
      "Saving file 208_69 ...\n",
      "Saved JSON: /common/home/milky-way/new_graph_cities/cities/h208_69.txt\n",
      "\n",
      "\n",
      "Saving file Day10_Harshini ...\n",
      "Saved JSON: /common/home/milky-way/new_graph_cities/cities/hDay10_Harshini.txt\n",
      "\n",
      "\n",
      "Processing:  2020-12-12 05:17:47.txt\n",
      "Saving image 208_70 ...\n",
      "Saving file Day10_Harshini ...\n",
      "Saved JSON: /common/home/milky-way/new_graph_cities/cities/hDay10_Harshini.txt\n",
      "\n",
      "\n"
     ]
    },
    {
     "ename": "KeyboardInterrupt",
     "evalue": "",
     "output_type": "error",
     "traceback": [
      "\u001B[0;31m---------------------------------------------------------------------------\u001B[0m",
      "\u001B[0;31mKeyboardInterrupt\u001B[0m                         Traceback (most recent call last)",
      "\u001B[0;32m<ipython-input-15-94086feb590c>\u001B[0m in \u001B[0;36m<module>\u001B[0;34m\u001B[0m\n\u001B[0;32m----> 1\u001B[0;31m \u001B[0mprocessAllStarTiles\u001B[0m\u001B[0;34m(\u001B[0m\u001B[0minput_folder\u001B[0m\u001B[0;34m)\u001B[0m\u001B[0;34m\u001B[0m\u001B[0;34m\u001B[0m\u001B[0m\n\u001B[0m\u001B[1;32m      2\u001B[0m \u001B[0;31m#processStar(\"2020-12-12 04:58:34.txt\")\u001B[0m\u001B[0;34m\u001B[0m\u001B[0;34m\u001B[0m\u001B[0;34m\u001B[0m\u001B[0m\n\u001B[1;32m      3\u001B[0m \u001B[0;31m# 203_60\u001B[0m\u001B[0;34m\u001B[0m\u001B[0;34m\u001B[0m\u001B[0;34m\u001B[0m\u001B[0m\n\u001B[1;32m      4\u001B[0m \u001B[0;31m# 202_35\u001B[0m\u001B[0;34m\u001B[0m\u001B[0;34m\u001B[0m\u001B[0;34m\u001B[0m\u001B[0m\n\u001B[1;32m      5\u001B[0m \u001B[0;31m# 201_98\u001B[0m\u001B[0;34m\u001B[0m\u001B[0;34m\u001B[0m\u001B[0;34m\u001B[0m\u001B[0m\n",
      "\u001B[0;32m<ipython-input-14-e9e939b70424>\u001B[0m in \u001B[0;36mprocessAllStarTiles\u001B[0;34m(folderpath)\u001B[0m\n\u001B[1;32m    104\u001B[0m \u001B[0;34m\u001B[0m\u001B[0m\n\u001B[1;32m    105\u001B[0m \u001B[0;31m#                 time.sleep(10)\u001B[0m\u001B[0;34m\u001B[0m\u001B[0;34m\u001B[0m\u001B[0;34m\u001B[0m\u001B[0m\n\u001B[0;32m--> 106\u001B[0;31m                 \u001B[0msave_graph\u001B[0m\u001B[0;34m(\u001B[0m\u001B[0mstars_tile_batch\u001B[0m\u001B[0;34m,\u001B[0m \u001B[0mfilename\u001B[0m\u001B[0;34m)\u001B[0m\u001B[0;34m\u001B[0m\u001B[0;34m\u001B[0m\u001B[0m\n\u001B[0m\u001B[1;32m    107\u001B[0m \u001B[0;34m\u001B[0m\u001B[0m\n\u001B[1;32m    108\u001B[0m \u001B[0;34m\u001B[0m\u001B[0m\n",
      "\u001B[0;32m<ipython-input-14-e9e939b70424>\u001B[0m in \u001B[0;36msave_graph\u001B[0;34m(g, filename)\u001B[0m\n\u001B[1;32m     11\u001B[0m     \u001B[0max\u001B[0m \u001B[0;34m=\u001B[0m \u001B[0mfig\u001B[0m\u001B[0;34m.\u001B[0m\u001B[0madd_subplot\u001B[0m\u001B[0;34m(\u001B[0m\u001B[0;36m111\u001B[0m\u001B[0;34m)\u001B[0m\u001B[0;34m\u001B[0m\u001B[0;34m\u001B[0m\u001B[0m\n\u001B[1;32m     12\u001B[0m \u001B[0;34m\u001B[0m\u001B[0m\n\u001B[0;32m---> 13\u001B[0;31m     nx.draw_kamada_kawai(g, with_labels = False, node_size=50,\n\u001B[0m\u001B[1;32m     14\u001B[0m                          \u001B[0mnode_shape\u001B[0m\u001B[0;34m=\u001B[0m\u001B[0;34m'*'\u001B[0m\u001B[0;34m,\u001B[0m \u001B[0mnode_color\u001B[0m\u001B[0;34m=\u001B[0m\u001B[0;34m\"gold\"\u001B[0m\u001B[0;34m,\u001B[0m \u001B[0medge_color\u001B[0m\u001B[0;34m=\u001B[0m\u001B[0;34m'crimson'\u001B[0m\u001B[0;34m,\u001B[0m\u001B[0;34m\u001B[0m\u001B[0;34m\u001B[0m\u001B[0m\n\u001B[1;32m     15\u001B[0m                          alpha=1, cmap=cm.get_cmap(\"Wistia\", 10))\n",
      "\u001B[0;32m/koko/system/anaconda/envs/python38/lib/python3.8/site-packages/networkx/drawing/nx_pylab.py\u001B[0m in \u001B[0;36mdraw_kamada_kawai\u001B[0;34m(G, **kwargs)\u001B[0m\n\u001B[1;32m   1009\u001B[0m        \u001B[0mfunction\u001B[0m\u001B[0;34m.\u001B[0m\u001B[0;34m\u001B[0m\u001B[0;34m\u001B[0m\u001B[0m\n\u001B[1;32m   1010\u001B[0m     \"\"\"\n\u001B[0;32m-> 1011\u001B[0;31m     \u001B[0mdraw\u001B[0m\u001B[0;34m(\u001B[0m\u001B[0mG\u001B[0m\u001B[0;34m,\u001B[0m \u001B[0mkamada_kawai_layout\u001B[0m\u001B[0;34m(\u001B[0m\u001B[0mG\u001B[0m\u001B[0;34m)\u001B[0m\u001B[0;34m,\u001B[0m \u001B[0;34m**\u001B[0m\u001B[0mkwargs\u001B[0m\u001B[0;34m)\u001B[0m\u001B[0;34m\u001B[0m\u001B[0;34m\u001B[0m\u001B[0m\n\u001B[0m\u001B[1;32m   1012\u001B[0m \u001B[0;34m\u001B[0m\u001B[0m\n\u001B[1;32m   1013\u001B[0m \u001B[0;34m\u001B[0m\u001B[0m\n",
      "\u001B[0;32m/koko/system/anaconda/envs/python38/lib/python3.8/site-packages/networkx/drawing/layout.py\u001B[0m in \u001B[0;36mkamada_kawai_layout\u001B[0;34m(G, dist, pos, weight, scale, center, dim)\u001B[0m\n\u001B[1;32m    713\u001B[0m     \u001B[0mpos_arr\u001B[0m \u001B[0;34m=\u001B[0m \u001B[0mnp\u001B[0m\u001B[0;34m.\u001B[0m\u001B[0marray\u001B[0m\u001B[0;34m(\u001B[0m\u001B[0;34m[\u001B[0m\u001B[0mpos\u001B[0m\u001B[0;34m[\u001B[0m\u001B[0mn\u001B[0m\u001B[0;34m]\u001B[0m \u001B[0;32mfor\u001B[0m \u001B[0mn\u001B[0m \u001B[0;32min\u001B[0m \u001B[0mG\u001B[0m\u001B[0;34m]\u001B[0m\u001B[0;34m)\u001B[0m\u001B[0;34m\u001B[0m\u001B[0;34m\u001B[0m\u001B[0m\n\u001B[1;32m    714\u001B[0m \u001B[0;34m\u001B[0m\u001B[0m\n\u001B[0;32m--> 715\u001B[0;31m     \u001B[0mpos\u001B[0m \u001B[0;34m=\u001B[0m \u001B[0m_kamada_kawai_solve\u001B[0m\u001B[0;34m(\u001B[0m\u001B[0mdist_mtx\u001B[0m\u001B[0;34m,\u001B[0m \u001B[0mpos_arr\u001B[0m\u001B[0;34m,\u001B[0m \u001B[0mdim\u001B[0m\u001B[0;34m)\u001B[0m\u001B[0;34m\u001B[0m\u001B[0;34m\u001B[0m\u001B[0m\n\u001B[0m\u001B[1;32m    716\u001B[0m \u001B[0;34m\u001B[0m\u001B[0m\n\u001B[1;32m    717\u001B[0m     \u001B[0mpos\u001B[0m \u001B[0;34m=\u001B[0m \u001B[0mrescale_layout\u001B[0m\u001B[0;34m(\u001B[0m\u001B[0mpos\u001B[0m\u001B[0;34m,\u001B[0m \u001B[0mscale\u001B[0m\u001B[0;34m=\u001B[0m\u001B[0mscale\u001B[0m\u001B[0;34m)\u001B[0m \u001B[0;34m+\u001B[0m \u001B[0mcenter\u001B[0m\u001B[0;34m\u001B[0m\u001B[0;34m\u001B[0m\u001B[0m\n",
      "\u001B[0;32m/koko/system/anaconda/envs/python38/lib/python3.8/site-packages/networkx/drawing/layout.py\u001B[0m in \u001B[0;36m_kamada_kawai_solve\u001B[0;34m(dist_mtx, pos_arr, dim)\u001B[0m\n\u001B[1;32m    731\u001B[0m                 meanwt, dim)\n\u001B[1;32m    732\u001B[0m \u001B[0;34m\u001B[0m\u001B[0m\n\u001B[0;32m--> 733\u001B[0;31m     optresult = minimize(_kamada_kawai_costfn, pos_arr.ravel(),\n\u001B[0m\u001B[1;32m    734\u001B[0m                          method='L-BFGS-B', args=costargs, jac=True)\n\u001B[1;32m    735\u001B[0m \u001B[0;34m\u001B[0m\u001B[0m\n",
      "\u001B[0;32m/koko/system/anaconda/envs/python38/lib/python3.8/site-packages/scipy/optimize/_minimize.py\u001B[0m in \u001B[0;36mminimize\u001B[0;34m(fun, x0, args, method, jac, hess, hessp, bounds, constraints, tol, callback, options)\u001B[0m\n\u001B[1;32m    607\u001B[0m                                   **options)\n\u001B[1;32m    608\u001B[0m     \u001B[0;32melif\u001B[0m \u001B[0mmeth\u001B[0m \u001B[0;34m==\u001B[0m \u001B[0;34m'l-bfgs-b'\u001B[0m\u001B[0;34m:\u001B[0m\u001B[0;34m\u001B[0m\u001B[0;34m\u001B[0m\u001B[0m\n\u001B[0;32m--> 609\u001B[0;31m         return _minimize_lbfgsb(fun, x0, args, jac, bounds,\n\u001B[0m\u001B[1;32m    610\u001B[0m                                 callback=callback, **options)\n\u001B[1;32m    611\u001B[0m     \u001B[0;32melif\u001B[0m \u001B[0mmeth\u001B[0m \u001B[0;34m==\u001B[0m \u001B[0;34m'tnc'\u001B[0m\u001B[0;34m:\u001B[0m\u001B[0;34m\u001B[0m\u001B[0;34m\u001B[0m\u001B[0m\n",
      "\u001B[0;32m/koko/system/anaconda/envs/python38/lib/python3.8/site-packages/scipy/optimize/lbfgsb.py\u001B[0m in \u001B[0;36m_minimize_lbfgsb\u001B[0;34m(fun, x0, args, jac, bounds, disp, maxcor, ftol, gtol, eps, maxfun, maxiter, iprint, callback, maxls, **unknown_options)\u001B[0m\n\u001B[1;32m    343\u001B[0m             \u001B[0;31m# until the completion of the current minimization iteration.\u001B[0m\u001B[0;34m\u001B[0m\u001B[0;34m\u001B[0m\u001B[0;34m\u001B[0m\u001B[0m\n\u001B[1;32m    344\u001B[0m             \u001B[0;31m# Overwrite f and g:\u001B[0m\u001B[0;34m\u001B[0m\u001B[0;34m\u001B[0m\u001B[0;34m\u001B[0m\u001B[0m\n\u001B[0;32m--> 345\u001B[0;31m             \u001B[0mf\u001B[0m\u001B[0;34m,\u001B[0m \u001B[0mg\u001B[0m \u001B[0;34m=\u001B[0m \u001B[0mfunc_and_grad\u001B[0m\u001B[0;34m(\u001B[0m\u001B[0mx\u001B[0m\u001B[0;34m)\u001B[0m\u001B[0;34m\u001B[0m\u001B[0;34m\u001B[0m\u001B[0m\n\u001B[0m\u001B[1;32m    346\u001B[0m         \u001B[0;32melif\u001B[0m \u001B[0mtask_str\u001B[0m\u001B[0;34m.\u001B[0m\u001B[0mstartswith\u001B[0m\u001B[0;34m(\u001B[0m\u001B[0;34mb'NEW_X'\u001B[0m\u001B[0;34m)\u001B[0m\u001B[0;34m:\u001B[0m\u001B[0;34m\u001B[0m\u001B[0;34m\u001B[0m\u001B[0m\n\u001B[1;32m    347\u001B[0m             \u001B[0;31m# new iteration\u001B[0m\u001B[0;34m\u001B[0m\u001B[0;34m\u001B[0m\u001B[0;34m\u001B[0m\u001B[0m\n",
      "\u001B[0;32m/koko/system/anaconda/envs/python38/lib/python3.8/site-packages/scipy/optimize/lbfgsb.py\u001B[0m in \u001B[0;36mfunc_and_grad\u001B[0;34m(x)\u001B[0m\n\u001B[1;32m    293\u001B[0m     \u001B[0;32melse\u001B[0m\u001B[0;34m:\u001B[0m\u001B[0;34m\u001B[0m\u001B[0;34m\u001B[0m\u001B[0m\n\u001B[1;32m    294\u001B[0m         \u001B[0;32mdef\u001B[0m \u001B[0mfunc_and_grad\u001B[0m\u001B[0;34m(\u001B[0m\u001B[0mx\u001B[0m\u001B[0;34m)\u001B[0m\u001B[0;34m:\u001B[0m\u001B[0;34m\u001B[0m\u001B[0;34m\u001B[0m\u001B[0m\n\u001B[0;32m--> 295\u001B[0;31m             \u001B[0mf\u001B[0m \u001B[0;34m=\u001B[0m \u001B[0mfun\u001B[0m\u001B[0;34m(\u001B[0m\u001B[0mx\u001B[0m\u001B[0;34m,\u001B[0m \u001B[0;34m*\u001B[0m\u001B[0margs\u001B[0m\u001B[0;34m)\u001B[0m\u001B[0;34m\u001B[0m\u001B[0;34m\u001B[0m\u001B[0m\n\u001B[0m\u001B[1;32m    296\u001B[0m             \u001B[0mg\u001B[0m \u001B[0;34m=\u001B[0m \u001B[0mjac\u001B[0m\u001B[0;34m(\u001B[0m\u001B[0mx\u001B[0m\u001B[0;34m,\u001B[0m \u001B[0;34m*\u001B[0m\u001B[0margs\u001B[0m\u001B[0;34m)\u001B[0m\u001B[0;34m\u001B[0m\u001B[0;34m\u001B[0m\u001B[0m\n\u001B[1;32m    297\u001B[0m             \u001B[0;32mreturn\u001B[0m \u001B[0mf\u001B[0m\u001B[0;34m,\u001B[0m \u001B[0mg\u001B[0m\u001B[0;34m\u001B[0m\u001B[0;34m\u001B[0m\u001B[0m\n",
      "\u001B[0;32m/koko/system/anaconda/envs/python38/lib/python3.8/site-packages/scipy/optimize/optimize.py\u001B[0m in \u001B[0;36mfunction_wrapper\u001B[0;34m(*wrapper_args)\u001B[0m\n\u001B[1;32m    325\u001B[0m     \u001B[0;32mdef\u001B[0m \u001B[0mfunction_wrapper\u001B[0m\u001B[0;34m(\u001B[0m\u001B[0;34m*\u001B[0m\u001B[0mwrapper_args\u001B[0m\u001B[0;34m)\u001B[0m\u001B[0;34m:\u001B[0m\u001B[0;34m\u001B[0m\u001B[0;34m\u001B[0m\u001B[0m\n\u001B[1;32m    326\u001B[0m         \u001B[0mncalls\u001B[0m\u001B[0;34m[\u001B[0m\u001B[0;36m0\u001B[0m\u001B[0;34m]\u001B[0m \u001B[0;34m+=\u001B[0m \u001B[0;36m1\u001B[0m\u001B[0;34m\u001B[0m\u001B[0;34m\u001B[0m\u001B[0m\n\u001B[0;32m--> 327\u001B[0;31m         \u001B[0;32mreturn\u001B[0m \u001B[0mfunction\u001B[0m\u001B[0;34m(\u001B[0m\u001B[0;34m*\u001B[0m\u001B[0;34m(\u001B[0m\u001B[0mwrapper_args\u001B[0m \u001B[0;34m+\u001B[0m \u001B[0margs\u001B[0m\u001B[0;34m)\u001B[0m\u001B[0;34m)\u001B[0m\u001B[0;34m\u001B[0m\u001B[0;34m\u001B[0m\u001B[0m\n\u001B[0m\u001B[1;32m    328\u001B[0m \u001B[0;34m\u001B[0m\u001B[0m\n\u001B[1;32m    329\u001B[0m     \u001B[0;32mreturn\u001B[0m \u001B[0mncalls\u001B[0m\u001B[0;34m,\u001B[0m \u001B[0mfunction_wrapper\u001B[0m\u001B[0;34m\u001B[0m\u001B[0;34m\u001B[0m\u001B[0m\n",
      "\u001B[0;32m/koko/system/anaconda/envs/python38/lib/python3.8/site-packages/scipy/optimize/optimize.py\u001B[0m in \u001B[0;36m__call__\u001B[0;34m(self, x, *args)\u001B[0m\n\u001B[1;32m     63\u001B[0m     \u001B[0;32mdef\u001B[0m \u001B[0m__call__\u001B[0m\u001B[0;34m(\u001B[0m\u001B[0mself\u001B[0m\u001B[0;34m,\u001B[0m \u001B[0mx\u001B[0m\u001B[0;34m,\u001B[0m \u001B[0;34m*\u001B[0m\u001B[0margs\u001B[0m\u001B[0;34m)\u001B[0m\u001B[0;34m:\u001B[0m\u001B[0;34m\u001B[0m\u001B[0;34m\u001B[0m\u001B[0m\n\u001B[1;32m     64\u001B[0m         \u001B[0mself\u001B[0m\u001B[0;34m.\u001B[0m\u001B[0mx\u001B[0m \u001B[0;34m=\u001B[0m \u001B[0mnumpy\u001B[0m\u001B[0;34m.\u001B[0m\u001B[0masarray\u001B[0m\u001B[0;34m(\u001B[0m\u001B[0mx\u001B[0m\u001B[0;34m)\u001B[0m\u001B[0;34m.\u001B[0m\u001B[0mcopy\u001B[0m\u001B[0;34m(\u001B[0m\u001B[0;34m)\u001B[0m\u001B[0;34m\u001B[0m\u001B[0;34m\u001B[0m\u001B[0m\n\u001B[0;32m---> 65\u001B[0;31m         \u001B[0mfg\u001B[0m \u001B[0;34m=\u001B[0m \u001B[0mself\u001B[0m\u001B[0;34m.\u001B[0m\u001B[0mfun\u001B[0m\u001B[0;34m(\u001B[0m\u001B[0mx\u001B[0m\u001B[0;34m,\u001B[0m \u001B[0;34m*\u001B[0m\u001B[0margs\u001B[0m\u001B[0;34m)\u001B[0m\u001B[0;34m\u001B[0m\u001B[0;34m\u001B[0m\u001B[0m\n\u001B[0m\u001B[1;32m     66\u001B[0m         \u001B[0mself\u001B[0m\u001B[0;34m.\u001B[0m\u001B[0mjac\u001B[0m \u001B[0;34m=\u001B[0m \u001B[0mfg\u001B[0m\u001B[0;34m[\u001B[0m\u001B[0;36m1\u001B[0m\u001B[0;34m]\u001B[0m\u001B[0;34m\u001B[0m\u001B[0;34m\u001B[0m\u001B[0m\n\u001B[1;32m     67\u001B[0m         \u001B[0;32mreturn\u001B[0m \u001B[0mfg\u001B[0m\u001B[0;34m[\u001B[0m\u001B[0;36m0\u001B[0m\u001B[0;34m]\u001B[0m\u001B[0;34m\u001B[0m\u001B[0;34m\u001B[0m\u001B[0m\n",
      "\u001B[0;32m/koko/system/anaconda/envs/python38/lib/python3.8/site-packages/networkx/drawing/layout.py\u001B[0m in \u001B[0;36m_kamada_kawai_costfn\u001B[0;34m(pos_vec, np, invdist, meanweight, dim)\u001B[0m\n\u001B[1;32m    744\u001B[0m     \u001B[0mdelta\u001B[0m \u001B[0;34m=\u001B[0m \u001B[0mpos_arr\u001B[0m\u001B[0;34m[\u001B[0m\u001B[0;34m:\u001B[0m\u001B[0;34m,\u001B[0m \u001B[0mnp\u001B[0m\u001B[0;34m.\u001B[0m\u001B[0mnewaxis\u001B[0m\u001B[0;34m,\u001B[0m \u001B[0;34m:\u001B[0m\u001B[0;34m]\u001B[0m \u001B[0;34m-\u001B[0m \u001B[0mpos_arr\u001B[0m\u001B[0;34m[\u001B[0m\u001B[0mnp\u001B[0m\u001B[0;34m.\u001B[0m\u001B[0mnewaxis\u001B[0m\u001B[0;34m,\u001B[0m \u001B[0;34m:\u001B[0m\u001B[0;34m,\u001B[0m \u001B[0;34m:\u001B[0m\u001B[0;34m]\u001B[0m\u001B[0;34m\u001B[0m\u001B[0;34m\u001B[0m\u001B[0m\n\u001B[1;32m    745\u001B[0m     \u001B[0mnodesep\u001B[0m \u001B[0;34m=\u001B[0m \u001B[0mnp\u001B[0m\u001B[0;34m.\u001B[0m\u001B[0mlinalg\u001B[0m\u001B[0;34m.\u001B[0m\u001B[0mnorm\u001B[0m\u001B[0;34m(\u001B[0m\u001B[0mdelta\u001B[0m\u001B[0;34m,\u001B[0m \u001B[0maxis\u001B[0m\u001B[0;34m=\u001B[0m\u001B[0;34m-\u001B[0m\u001B[0;36m1\u001B[0m\u001B[0;34m)\u001B[0m\u001B[0;34m\u001B[0m\u001B[0;34m\u001B[0m\u001B[0m\n\u001B[0;32m--> 746\u001B[0;31m     direction = np.einsum('ijk,ij->ijk',\n\u001B[0m\u001B[1;32m    747\u001B[0m                           \u001B[0mdelta\u001B[0m\u001B[0;34m,\u001B[0m\u001B[0;34m\u001B[0m\u001B[0;34m\u001B[0m\u001B[0m\n\u001B[1;32m    748\u001B[0m                           1 / (nodesep + np.eye(nNodes) * 1e-3))\n",
      "\u001B[0;32m<__array_function__ internals>\u001B[0m in \u001B[0;36meinsum\u001B[0;34m(*args, **kwargs)\u001B[0m\n",
      "\u001B[0;32m/koko/system/anaconda/envs/python38/lib/python3.8/site-packages/numpy/core/einsumfunc.py\u001B[0m in \u001B[0;36meinsum\u001B[0;34m(*operands, **kwargs)\u001B[0m\n\u001B[1;32m   1354\u001B[0m     \u001B[0;31m# If no optimization, run pure einsum\u001B[0m\u001B[0;34m\u001B[0m\u001B[0;34m\u001B[0m\u001B[0;34m\u001B[0m\u001B[0m\n\u001B[1;32m   1355\u001B[0m     \u001B[0;32mif\u001B[0m \u001B[0moptimize_arg\u001B[0m \u001B[0;32mis\u001B[0m \u001B[0;32mFalse\u001B[0m\u001B[0;34m:\u001B[0m\u001B[0;34m\u001B[0m\u001B[0;34m\u001B[0m\u001B[0m\n\u001B[0;32m-> 1356\u001B[0;31m         \u001B[0;32mreturn\u001B[0m \u001B[0mc_einsum\u001B[0m\u001B[0;34m(\u001B[0m\u001B[0;34m*\u001B[0m\u001B[0moperands\u001B[0m\u001B[0;34m,\u001B[0m \u001B[0;34m**\u001B[0m\u001B[0mkwargs\u001B[0m\u001B[0;34m)\u001B[0m\u001B[0;34m\u001B[0m\u001B[0;34m\u001B[0m\u001B[0m\n\u001B[0m\u001B[1;32m   1357\u001B[0m \u001B[0;34m\u001B[0m\u001B[0m\n\u001B[1;32m   1358\u001B[0m     \u001B[0mvalid_einsum_kwargs\u001B[0m \u001B[0;34m=\u001B[0m \u001B[0;34m[\u001B[0m\u001B[0;34m'out'\u001B[0m\u001B[0;34m,\u001B[0m \u001B[0;34m'dtype'\u001B[0m\u001B[0;34m,\u001B[0m \u001B[0;34m'order'\u001B[0m\u001B[0;34m,\u001B[0m \u001B[0;34m'casting'\u001B[0m\u001B[0;34m]\u001B[0m\u001B[0;34m\u001B[0m\u001B[0;34m\u001B[0m\u001B[0m\n",
      "\u001B[0;31mKeyboardInterrupt\u001B[0m: "
     ]
    },
    {
     "data": {
      "text/plain": [
       "<Figure size 1080x1080 with 0 Axes>"
      ]
     },
     "metadata": {},
     "output_type": "display_data"
    },
    {
     "data": {
      "text/plain": [
       "<Figure size 1080x1080 with 0 Axes>"
      ]
     },
     "metadata": {},
     "output_type": "display_data"
    },
    {
     "data": {
      "text/plain": [
       "<Figure size 1080x1080 with 0 Axes>"
      ]
     },
     "metadata": {},
     "output_type": "display_data"
    },
    {
     "data": {
      "text/plain": [
       "<Figure size 1080x1080 with 0 Axes>"
      ]
     },
     "metadata": {},
     "output_type": "display_data"
    },
    {
     "data": {
      "text/plain": [
       "<Figure size 1080x1080 with 0 Axes>"
      ]
     },
     "metadata": {},
     "output_type": "display_data"
    },
    {
     "data": {
      "text/plain": [
       "<Figure size 1080x1080 with 0 Axes>"
      ]
     },
     "metadata": {},
     "output_type": "display_data"
    },
    {
     "data": {
      "text/plain": [
       "<Figure size 1080x1080 with 0 Axes>"
      ]
     },
     "metadata": {},
     "output_type": "display_data"
    },
    {
     "data": {
      "text/plain": [
       "<Figure size 1080x1080 with 0 Axes>"
      ]
     },
     "metadata": {},
     "output_type": "display_data"
    },
    {
     "data": {
      "text/plain": [
       "<Figure size 1080x1080 with 0 Axes>"
      ]
     },
     "metadata": {},
     "output_type": "display_data"
    },
    {
     "data": {
      "text/plain": [
       "<Figure size 1080x1080 with 0 Axes>"
      ]
     },
     "metadata": {},
     "output_type": "display_data"
    },
    {
     "data": {
      "text/plain": [
       "<Figure size 1080x1080 with 0 Axes>"
      ]
     },
     "metadata": {},
     "output_type": "display_data"
    },
    {
     "data": {
      "text/plain": [
       "<Figure size 1080x1080 with 0 Axes>"
      ]
     },
     "metadata": {},
     "output_type": "display_data"
    },
    {
     "data": {
      "text/plain": [
       "<Figure size 1080x1080 with 0 Axes>"
      ]
     },
     "metadata": {},
     "output_type": "display_data"
    },
    {
     "data": {
      "text/plain": [
       "<Figure size 1080x1080 with 0 Axes>"
      ]
     },
     "metadata": {},
     "output_type": "display_data"
    },
    {
     "data": {
      "text/plain": [
       "<Figure size 1080x1080 with 0 Axes>"
      ]
     },
     "metadata": {},
     "output_type": "display_data"
    },
    {
     "data": {
      "text/plain": [
       "<Figure size 1080x1080 with 0 Axes>"
      ]
     },
     "metadata": {},
     "output_type": "display_data"
    },
    {
     "data": {
      "text/plain": [
       "<Figure size 1080x1080 with 0 Axes>"
      ]
     },
     "metadata": {},
     "output_type": "display_data"
    },
    {
     "data": {
      "text/plain": [
       "<Figure size 1080x1080 with 0 Axes>"
      ]
     },
     "metadata": {},
     "output_type": "display_data"
    },
    {
     "data": {
      "text/plain": [
       "<Figure size 1080x1080 with 0 Axes>"
      ]
     },
     "metadata": {},
     "output_type": "display_data"
    },
    {
     "data": {
      "text/plain": [
       "<Figure size 1080x1080 with 0 Axes>"
      ]
     },
     "metadata": {},
     "output_type": "display_data"
    },
    {
     "data": {
      "text/plain": [
       "<Figure size 1080x1080 with 0 Axes>"
      ]
     },
     "metadata": {},
     "output_type": "display_data"
    },
    {
     "data": {
      "text/plain": [
       "<Figure size 1080x1080 with 0 Axes>"
      ]
     },
     "metadata": {},
     "output_type": "display_data"
    },
    {
     "data": {
      "text/plain": [
       "<Figure size 1080x1080 with 0 Axes>"
      ]
     },
     "metadata": {},
     "output_type": "display_data"
    },
    {
     "data": {
      "text/plain": [
       "<Figure size 1080x1080 with 0 Axes>"
      ]
     },
     "metadata": {},
     "output_type": "display_data"
    },
    {
     "data": {
      "text/plain": [
       "<Figure size 1080x1080 with 0 Axes>"
      ]
     },
     "metadata": {},
     "output_type": "display_data"
    },
    {
     "data": {
      "text/plain": [
       "<Figure size 1080x1080 with 0 Axes>"
      ]
     },
     "metadata": {},
     "output_type": "display_data"
    },
    {
     "data": {
      "text/plain": [
       "<Figure size 1080x1080 with 0 Axes>"
      ]
     },
     "metadata": {},
     "output_type": "display_data"
    },
    {
     "data": {
      "text/plain": [
       "<Figure size 1080x1080 with 0 Axes>"
      ]
     },
     "metadata": {},
     "output_type": "display_data"
    },
    {
     "data": {
      "text/plain": [
       "<Figure size 1080x1080 with 0 Axes>"
      ]
     },
     "metadata": {},
     "output_type": "display_data"
    },
    {
     "data": {
      "text/plain": [
       "<Figure size 1080x1080 with 0 Axes>"
      ]
     },
     "metadata": {},
     "output_type": "display_data"
    },
    {
     "data": {
      "text/plain": [
       "<Figure size 1080x1080 with 0 Axes>"
      ]
     },
     "metadata": {},
     "output_type": "display_data"
    },
    {
     "data": {
      "text/plain": [
       "<Figure size 1080x1080 with 0 Axes>"
      ]
     },
     "metadata": {},
     "output_type": "display_data"
    },
    {
     "data": {
      "text/plain": [
       "<Figure size 1080x1080 with 0 Axes>"
      ]
     },
     "metadata": {},
     "output_type": "display_data"
    },
    {
     "data": {
      "text/plain": [
       "<Figure size 1080x1080 with 0 Axes>"
      ]
     },
     "metadata": {},
     "output_type": "display_data"
    },
    {
     "data": {
      "text/plain": [
       "<Figure size 1080x1080 with 0 Axes>"
      ]
     },
     "metadata": {},
     "output_type": "display_data"
    },
    {
     "data": {
      "text/plain": [
       "<Figure size 1080x1080 with 0 Axes>"
      ]
     },
     "metadata": {},
     "output_type": "display_data"
    },
    {
     "data": {
      "text/plain": [
       "<Figure size 1080x1080 with 0 Axes>"
      ]
     },
     "metadata": {},
     "output_type": "display_data"
    },
    {
     "data": {
      "text/plain": [
       "<Figure size 1080x1080 with 0 Axes>"
      ]
     },
     "metadata": {},
     "output_type": "display_data"
    },
    {
     "data": {
      "text/plain": [
       "<Figure size 1080x1080 with 0 Axes>"
      ]
     },
     "metadata": {},
     "output_type": "display_data"
    },
    {
     "data": {
      "text/plain": [
       "<Figure size 1080x1080 with 0 Axes>"
      ]
     },
     "metadata": {},
     "output_type": "display_data"
    },
    {
     "data": {
      "text/plain": [
       "<Figure size 1080x1080 with 0 Axes>"
      ]
     },
     "metadata": {},
     "output_type": "display_data"
    },
    {
     "data": {
      "text/plain": [
       "<Figure size 1080x1080 with 0 Axes>"
      ]
     },
     "metadata": {},
     "output_type": "display_data"
    },
    {
     "data": {
      "text/plain": [
       "<Figure size 1080x1080 with 0 Axes>"
      ]
     },
     "metadata": {},
     "output_type": "display_data"
    },
    {
     "data": {
      "text/plain": [
       "<Figure size 1080x1080 with 0 Axes>"
      ]
     },
     "metadata": {},
     "output_type": "display_data"
    },
    {
     "data": {
      "text/plain": [
       "<Figure size 1080x1080 with 0 Axes>"
      ]
     },
     "metadata": {},
     "output_type": "display_data"
    },
    {
     "data": {
      "text/plain": [
       "<Figure size 1080x1080 with 0 Axes>"
      ]
     },
     "metadata": {},
     "output_type": "display_data"
    },
    {
     "data": {
      "text/plain": [
       "<Figure size 1080x1080 with 0 Axes>"
      ]
     },
     "metadata": {},
     "output_type": "display_data"
    },
    {
     "data": {
      "text/plain": [
       "<Figure size 1080x1080 with 0 Axes>"
      ]
     },
     "metadata": {},
     "output_type": "display_data"
    },
    {
     "data": {
      "text/plain": [
       "<Figure size 1080x1080 with 0 Axes>"
      ]
     },
     "metadata": {},
     "output_type": "display_data"
    },
    {
     "data": {
      "text/plain": [
       "<Figure size 1080x1080 with 0 Axes>"
      ]
     },
     "metadata": {},
     "output_type": "display_data"
    },
    {
     "data": {
      "text/plain": [
       "<Figure size 1080x1080 with 0 Axes>"
      ]
     },
     "metadata": {},
     "output_type": "display_data"
    },
    {
     "data": {
      "text/plain": [
       "<Figure size 1080x1080 with 0 Axes>"
      ]
     },
     "metadata": {},
     "output_type": "display_data"
    },
    {
     "data": {
      "text/plain": [
       "<Figure size 1080x1080 with 0 Axes>"
      ]
     },
     "metadata": {},
     "output_type": "display_data"
    },
    {
     "data": {
      "text/plain": [
       "<Figure size 1080x1080 with 0 Axes>"
      ]
     },
     "metadata": {},
     "output_type": "display_data"
    },
    {
     "data": {
      "text/plain": [
       "<Figure size 1080x1080 with 0 Axes>"
      ]
     },
     "metadata": {},
     "output_type": "display_data"
    },
    {
     "data": {
      "text/plain": [
       "<Figure size 1080x1080 with 0 Axes>"
      ]
     },
     "metadata": {},
     "output_type": "display_data"
    },
    {
     "data": {
      "text/plain": [
       "<Figure size 1080x1080 with 0 Axes>"
      ]
     },
     "metadata": {},
     "output_type": "display_data"
    },
    {
     "data": {
      "text/plain": [
       "<Figure size 1080x1080 with 0 Axes>"
      ]
     },
     "metadata": {},
     "output_type": "display_data"
    },
    {
     "data": {
      "text/plain": [
       "<Figure size 1080x1080 with 0 Axes>"
      ]
     },
     "metadata": {},
     "output_type": "display_data"
    },
    {
     "data": {
      "text/plain": [
       "<Figure size 1080x1080 with 0 Axes>"
      ]
     },
     "metadata": {},
     "output_type": "display_data"
    },
    {
     "data": {
      "text/plain": [
       "<Figure size 1080x1080 with 0 Axes>"
      ]
     },
     "metadata": {},
     "output_type": "display_data"
    },
    {
     "data": {
      "text/plain": [
       "<Figure size 1080x1080 with 0 Axes>"
      ]
     },
     "metadata": {},
     "output_type": "display_data"
    },
    {
     "data": {
      "text/plain": [
       "<Figure size 1080x1080 with 0 Axes>"
      ]
     },
     "metadata": {},
     "output_type": "display_data"
    },
    {
     "data": {
      "text/plain": [
       "<Figure size 1080x1080 with 0 Axes>"
      ]
     },
     "metadata": {},
     "output_type": "display_data"
    },
    {
     "data": {
      "text/plain": [
       "<Figure size 1080x1080 with 0 Axes>"
      ]
     },
     "metadata": {},
     "output_type": "display_data"
    },
    {
     "data": {
      "text/plain": [
       "<Figure size 1080x1080 with 0 Axes>"
      ]
     },
     "metadata": {},
     "output_type": "display_data"
    },
    {
     "data": {
      "text/plain": [
       "<Figure size 1080x1080 with 0 Axes>"
      ]
     },
     "metadata": {},
     "output_type": "display_data"
    },
    {
     "data": {
      "text/plain": [
       "<Figure size 1080x1080 with 0 Axes>"
      ]
     },
     "metadata": {},
     "output_type": "display_data"
    },
    {
     "data": {
      "text/plain": [
       "<Figure size 1080x1080 with 0 Axes>"
      ]
     },
     "metadata": {},
     "output_type": "display_data"
    },
    {
     "data": {
      "text/plain": [
       "<Figure size 1080x1080 with 0 Axes>"
      ]
     },
     "metadata": {},
     "output_type": "display_data"
    },
    {
     "data": {
      "text/plain": [
       "<Figure size 1080x1080 with 0 Axes>"
      ]
     },
     "metadata": {},
     "output_type": "display_data"
    },
    {
     "data": {
      "text/plain": [
       "<Figure size 1080x1080 with 0 Axes>"
      ]
     },
     "metadata": {},
     "output_type": "display_data"
    },
    {
     "data": {
      "text/plain": [
       "<Figure size 1080x1080 with 0 Axes>"
      ]
     },
     "metadata": {},
     "output_type": "display_data"
    },
    {
     "data": {
      "text/plain": [
       "<Figure size 1080x1080 with 0 Axes>"
      ]
     },
     "metadata": {},
     "output_type": "display_data"
    },
    {
     "data": {
      "text/plain": [
       "<Figure size 1080x1080 with 0 Axes>"
      ]
     },
     "metadata": {},
     "output_type": "display_data"
    },
    {
     "data": {
      "text/plain": [
       "<Figure size 1080x1080 with 0 Axes>"
      ]
     },
     "metadata": {},
     "output_type": "display_data"
    },
    {
     "data": {
      "text/plain": [
       "<Figure size 1080x1080 with 0 Axes>"
      ]
     },
     "metadata": {},
     "output_type": "display_data"
    },
    {
     "data": {
      "text/plain": [
       "<Figure size 1080x1080 with 0 Axes>"
      ]
     },
     "metadata": {},
     "output_type": "display_data"
    },
    {
     "data": {
      "text/plain": [
       "<Figure size 1080x1080 with 0 Axes>"
      ]
     },
     "metadata": {},
     "output_type": "display_data"
    },
    {
     "data": {
      "text/plain": [
       "<Figure size 1080x1080 with 0 Axes>"
      ]
     },
     "metadata": {},
     "output_type": "display_data"
    },
    {
     "data": {
      "text/plain": [
       "<Figure size 1080x1080 with 0 Axes>"
      ]
     },
     "metadata": {},
     "output_type": "display_data"
    },
    {
     "data": {
      "text/plain": [
       "<Figure size 1080x1080 with 0 Axes>"
      ]
     },
     "metadata": {},
     "output_type": "display_data"
    },
    {
     "data": {
      "text/plain": [
       "<Figure size 1080x1080 with 0 Axes>"
      ]
     },
     "metadata": {},
     "output_type": "display_data"
    },
    {
     "data": {
      "text/plain": [
       "<Figure size 1080x1080 with 0 Axes>"
      ]
     },
     "metadata": {},
     "output_type": "display_data"
    },
    {
     "data": {
      "text/plain": [
       "<Figure size 1080x1080 with 0 Axes>"
      ]
     },
     "metadata": {},
     "output_type": "display_data"
    },
    {
     "data": {
      "text/plain": [
       "<Figure size 1080x1080 with 0 Axes>"
      ]
     },
     "metadata": {},
     "output_type": "display_data"
    },
    {
     "data": {
      "text/plain": [
       "<Figure size 1080x1080 with 0 Axes>"
      ]
     },
     "metadata": {},
     "output_type": "display_data"
    },
    {
     "data": {
      "text/plain": [
       "<Figure size 1080x1080 with 0 Axes>"
      ]
     },
     "metadata": {},
     "output_type": "display_data"
    },
    {
     "data": {
      "text/plain": [
       "<Figure size 1080x1080 with 0 Axes>"
      ]
     },
     "metadata": {},
     "output_type": "display_data"
    },
    {
     "data": {
      "text/plain": [
       "<Figure size 1080x1080 with 0 Axes>"
      ]
     },
     "metadata": {},
     "output_type": "display_data"
    },
    {
     "data": {
      "text/plain": [
       "<Figure size 1080x1080 with 0 Axes>"
      ]
     },
     "metadata": {},
     "output_type": "display_data"
    },
    {
     "data": {
      "text/plain": [
       "<Figure size 1080x1080 with 0 Axes>"
      ]
     },
     "metadata": {},
     "output_type": "display_data"
    },
    {
     "data": {
      "text/plain": [
       "<Figure size 1080x1080 with 0 Axes>"
      ]
     },
     "metadata": {},
     "output_type": "display_data"
    },
    {
     "data": {
      "text/plain": [
       "<Figure size 1080x1080 with 0 Axes>"
      ]
     },
     "metadata": {},
     "output_type": "display_data"
    },
    {
     "data": {
      "text/plain": [
       "<Figure size 1080x1080 with 0 Axes>"
      ]
     },
     "metadata": {},
     "output_type": "display_data"
    },
    {
     "data": {
      "text/plain": [
       "<Figure size 1080x1080 with 0 Axes>"
      ]
     },
     "metadata": {},
     "output_type": "display_data"
    },
    {
     "data": {
      "text/plain": [
       "<Figure size 1080x1080 with 0 Axes>"
      ]
     },
     "metadata": {},
     "output_type": "display_data"
    },
    {
     "data": {
      "text/plain": [
       "<Figure size 1080x1080 with 0 Axes>"
      ]
     },
     "metadata": {},
     "output_type": "display_data"
    },
    {
     "data": {
      "text/plain": [
       "<Figure size 1080x1080 with 0 Axes>"
      ]
     },
     "metadata": {},
     "output_type": "display_data"
    },
    {
     "data": {
      "text/plain": [
       "<Figure size 1080x1080 with 0 Axes>"
      ]
     },
     "metadata": {},
     "output_type": "display_data"
    },
    {
     "data": {
      "text/plain": [
       "<Figure size 1080x1080 with 0 Axes>"
      ]
     },
     "metadata": {},
     "output_type": "display_data"
    },
    {
     "data": {
      "text/plain": [
       "<Figure size 1080x1080 with 0 Axes>"
      ]
     },
     "metadata": {},
     "output_type": "display_data"
    },
    {
     "data": {
      "text/plain": [
       "<Figure size 1080x1080 with 0 Axes>"
      ]
     },
     "metadata": {},
     "output_type": "display_data"
    },
    {
     "data": {
      "text/plain": [
       "<Figure size 1080x1080 with 0 Axes>"
      ]
     },
     "metadata": {},
     "output_type": "display_data"
    },
    {
     "data": {
      "text/plain": [
       "<Figure size 1080x1080 with 0 Axes>"
      ]
     },
     "metadata": {},
     "output_type": "display_data"
    },
    {
     "data": {
      "text/plain": [
       "<Figure size 1080x1080 with 0 Axes>"
      ]
     },
     "metadata": {},
     "output_type": "display_data"
    },
    {
     "data": {
      "text/plain": [
       "<Figure size 1080x1080 with 0 Axes>"
      ]
     },
     "metadata": {},
     "output_type": "display_data"
    },
    {
     "data": {
      "text/plain": [
       "<Figure size 1080x1080 with 0 Axes>"
      ]
     },
     "metadata": {},
     "output_type": "display_data"
    },
    {
     "data": {
      "text/plain": [
       "<Figure size 1080x1080 with 0 Axes>"
      ]
     },
     "metadata": {},
     "output_type": "display_data"
    },
    {
     "data": {
      "text/plain": [
       "<Figure size 1080x1080 with 0 Axes>"
      ]
     },
     "metadata": {},
     "output_type": "display_data"
    },
    {
     "data": {
      "text/plain": [
       "<Figure size 1080x1080 with 0 Axes>"
      ]
     },
     "metadata": {},
     "output_type": "display_data"
    },
    {
     "data": {
      "text/plain": [
       "<Figure size 1080x1080 with 0 Axes>"
      ]
     },
     "metadata": {},
     "output_type": "display_data"
    },
    {
     "data": {
      "text/plain": [
       "<Figure size 1080x1080 with 0 Axes>"
      ]
     },
     "metadata": {},
     "output_type": "display_data"
    },
    {
     "data": {
      "text/plain": [
       "<Figure size 1080x1080 with 0 Axes>"
      ]
     },
     "metadata": {},
     "output_type": "display_data"
    },
    {
     "data": {
      "text/plain": [
       "<Figure size 1080x1080 with 0 Axes>"
      ]
     },
     "metadata": {},
     "output_type": "display_data"
    },
    {
     "data": {
      "text/plain": [
       "<Figure size 1080x1080 with 0 Axes>"
      ]
     },
     "metadata": {},
     "output_type": "display_data"
    },
    {
     "data": {
      "text/plain": [
       "<Figure size 1080x1080 with 0 Axes>"
      ]
     },
     "metadata": {},
     "output_type": "display_data"
    },
    {
     "data": {
      "text/plain": [
       "<Figure size 1080x1080 with 0 Axes>"
      ]
     },
     "metadata": {},
     "output_type": "display_data"
    },
    {
     "data": {
      "text/plain": [
       "<Figure size 1080x1080 with 0 Axes>"
      ]
     },
     "metadata": {},
     "output_type": "display_data"
    },
    {
     "data": {
      "text/plain": [
       "<Figure size 1080x1080 with 0 Axes>"
      ]
     },
     "metadata": {},
     "output_type": "display_data"
    },
    {
     "data": {
      "text/plain": [
       "<Figure size 1080x1080 with 0 Axes>"
      ]
     },
     "metadata": {},
     "output_type": "display_data"
    },
    {
     "data": {
      "text/plain": [
       "<Figure size 1080x1080 with 0 Axes>"
      ]
     },
     "metadata": {},
     "output_type": "display_data"
    },
    {
     "data": {
      "text/plain": [
       "<Figure size 1080x1080 with 0 Axes>"
      ]
     },
     "metadata": {},
     "output_type": "display_data"
    },
    {
     "data": {
      "text/plain": [
       "<Figure size 1080x1080 with 0 Axes>"
      ]
     },
     "metadata": {},
     "output_type": "display_data"
    },
    {
     "data": {
      "text/plain": [
       "<Figure size 1080x1080 with 0 Axes>"
      ]
     },
     "metadata": {},
     "output_type": "display_data"
    },
    {
     "data": {
      "text/plain": [
       "<Figure size 1080x1080 with 0 Axes>"
      ]
     },
     "metadata": {},
     "output_type": "display_data"
    },
    {
     "data": {
      "text/plain": [
       "<Figure size 1080x1080 with 0 Axes>"
      ]
     },
     "metadata": {},
     "output_type": "display_data"
    },
    {
     "data": {
      "text/plain": [
       "<Figure size 1080x1080 with 0 Axes>"
      ]
     },
     "metadata": {},
     "output_type": "display_data"
    },
    {
     "data": {
      "text/plain": [
       "<Figure size 1080x1080 with 0 Axes>"
      ]
     },
     "metadata": {},
     "output_type": "display_data"
    },
    {
     "data": {
      "text/plain": [
       "<Figure size 1080x1080 with 0 Axes>"
      ]
     },
     "metadata": {},
     "output_type": "display_data"
    },
    {
     "data": {
      "text/plain": [
       "<Figure size 1080x1080 with 0 Axes>"
      ]
     },
     "metadata": {},
     "output_type": "display_data"
    },
    {
     "data": {
      "text/plain": [
       "<Figure size 1080x1080 with 0 Axes>"
      ]
     },
     "metadata": {},
     "output_type": "display_data"
    },
    {
     "data": {
      "text/plain": [
       "<Figure size 1080x1080 with 0 Axes>"
      ]
     },
     "metadata": {},
     "output_type": "display_data"
    },
    {
     "data": {
      "text/plain": [
       "<Figure size 1080x1080 with 0 Axes>"
      ]
     },
     "metadata": {},
     "output_type": "display_data"
    },
    {
     "data": {
      "text/plain": [
       "<Figure size 1080x1080 with 0 Axes>"
      ]
     },
     "metadata": {},
     "output_type": "display_data"
    },
    {
     "data": {
      "text/plain": [
       "<Figure size 1080x1080 with 0 Axes>"
      ]
     },
     "metadata": {},
     "output_type": "display_data"
    },
    {
     "data": {
      "text/plain": [
       "<Figure size 1080x1080 with 0 Axes>"
      ]
     },
     "metadata": {},
     "output_type": "display_data"
    },
    {
     "data": {
      "text/plain": [
       "<Figure size 1080x1080 with 0 Axes>"
      ]
     },
     "metadata": {},
     "output_type": "display_data"
    },
    {
     "data": {
      "text/plain": [
       "<Figure size 1080x1080 with 0 Axes>"
      ]
     },
     "metadata": {},
     "output_type": "display_data"
    },
    {
     "data": {
      "text/plain": [
       "<Figure size 1080x1080 with 0 Axes>"
      ]
     },
     "metadata": {},
     "output_type": "display_data"
    },
    {
     "data": {
      "text/plain": [
       "<Figure size 1080x1080 with 0 Axes>"
      ]
     },
     "metadata": {},
     "output_type": "display_data"
    },
    {
     "data": {
      "text/plain": [
       "<Figure size 1080x1080 with 0 Axes>"
      ]
     },
     "metadata": {},
     "output_type": "display_data"
    },
    {
     "data": {
      "text/plain": [
       "<Figure size 1080x1080 with 0 Axes>"
      ]
     },
     "metadata": {},
     "output_type": "display_data"
    },
    {
     "data": {
      "text/plain": [
       "<Figure size 1080x1080 with 0 Axes>"
      ]
     },
     "metadata": {},
     "output_type": "display_data"
    },
    {
     "data": {
      "text/plain": [
       "<Figure size 1080x1080 with 0 Axes>"
      ]
     },
     "metadata": {},
     "output_type": "display_data"
    },
    {
     "data": {
      "text/plain": [
       "<Figure size 1080x1080 with 0 Axes>"
      ]
     },
     "metadata": {},
     "output_type": "display_data"
    },
    {
     "data": {
      "text/plain": [
       "<Figure size 1080x1080 with 0 Axes>"
      ]
     },
     "metadata": {},
     "output_type": "display_data"
    },
    {
     "data": {
      "text/plain": [
       "<Figure size 1080x1080 with 0 Axes>"
      ]
     },
     "metadata": {},
     "output_type": "display_data"
    },
    {
     "data": {
      "text/plain": [
       "<Figure size 1080x1080 with 0 Axes>"
      ]
     },
     "metadata": {},
     "output_type": "display_data"
    },
    {
     "data": {
      "text/plain": [
       "<Figure size 1080x1080 with 0 Axes>"
      ]
     },
     "metadata": {},
     "output_type": "display_data"
    },
    {
     "data": {
      "text/plain": [
       "<Figure size 1080x1080 with 0 Axes>"
      ]
     },
     "metadata": {},
     "output_type": "display_data"
    },
    {
     "data": {
      "text/plain": [
       "<Figure size 1080x1080 with 0 Axes>"
      ]
     },
     "metadata": {},
     "output_type": "display_data"
    },
    {
     "data": {
      "text/plain": [
       "<Figure size 1080x1080 with 0 Axes>"
      ]
     },
     "metadata": {},
     "output_type": "display_data"
    },
    {
     "data": {
      "text/plain": [
       "<Figure size 1080x1080 with 0 Axes>"
      ]
     },
     "metadata": {},
     "output_type": "display_data"
    },
    {
     "data": {
      "text/plain": [
       "<Figure size 1080x1080 with 0 Axes>"
      ]
     },
     "metadata": {},
     "output_type": "display_data"
    },
    {
     "data": {
      "text/plain": [
       "<Figure size 1080x1080 with 0 Axes>"
      ]
     },
     "metadata": {},
     "output_type": "display_data"
    },
    {
     "data": {
      "text/plain": [
       "<Figure size 1080x1080 with 0 Axes>"
      ]
     },
     "metadata": {},
     "output_type": "display_data"
    },
    {
     "data": {
      "text/plain": [
       "<Figure size 1080x1080 with 0 Axes>"
      ]
     },
     "metadata": {},
     "output_type": "display_data"
    },
    {
     "data": {
      "text/plain": [
       "<Figure size 1080x1080 with 0 Axes>"
      ]
     },
     "metadata": {},
     "output_type": "display_data"
    },
    {
     "data": {
      "text/plain": [
       "<Figure size 1080x1080 with 0 Axes>"
      ]
     },
     "metadata": {},
     "output_type": "display_data"
    },
    {
     "data": {
      "text/plain": [
       "<Figure size 1080x1080 with 0 Axes>"
      ]
     },
     "metadata": {},
     "output_type": "display_data"
    },
    {
     "data": {
      "text/plain": [
       "<Figure size 1080x1080 with 0 Axes>"
      ]
     },
     "metadata": {},
     "output_type": "display_data"
    },
    {
     "data": {
      "text/plain": [
       "<Figure size 1080x1080 with 0 Axes>"
      ]
     },
     "metadata": {},
     "output_type": "display_data"
    },
    {
     "data": {
      "text/plain": [
       "<Figure size 1080x1080 with 0 Axes>"
      ]
     },
     "metadata": {},
     "output_type": "display_data"
    },
    {
     "data": {
      "text/plain": [
       "<Figure size 1080x1080 with 0 Axes>"
      ]
     },
     "metadata": {},
     "output_type": "display_data"
    },
    {
     "data": {
      "text/plain": [
       "<Figure size 1080x1080 with 0 Axes>"
      ]
     },
     "metadata": {},
     "output_type": "display_data"
    },
    {
     "data": {
      "text/plain": [
       "<Figure size 1080x1080 with 0 Axes>"
      ]
     },
     "metadata": {},
     "output_type": "display_data"
    },
    {
     "data": {
      "text/plain": [
       "<Figure size 1080x1080 with 0 Axes>"
      ]
     },
     "metadata": {},
     "output_type": "display_data"
    },
    {
     "data": {
      "text/plain": [
       "<Figure size 1080x1080 with 0 Axes>"
      ]
     },
     "metadata": {},
     "output_type": "display_data"
    },
    {
     "data": {
      "text/plain": [
       "<Figure size 1080x1080 with 0 Axes>"
      ]
     },
     "metadata": {},
     "output_type": "display_data"
    },
    {
     "data": {
      "text/plain": [
       "<Figure size 1080x1080 with 0 Axes>"
      ]
     },
     "metadata": {},
     "output_type": "display_data"
    },
    {
     "data": {
      "text/plain": [
       "<Figure size 1080x1080 with 0 Axes>"
      ]
     },
     "metadata": {},
     "output_type": "display_data"
    },
    {
     "data": {
      "text/plain": [
       "<Figure size 1080x1080 with 0 Axes>"
      ]
     },
     "metadata": {},
     "output_type": "display_data"
    },
    {
     "data": {
      "text/plain": [
       "<Figure size 1080x1080 with 0 Axes>"
      ]
     },
     "metadata": {},
     "output_type": "display_data"
    },
    {
     "data": {
      "text/plain": [
       "<Figure size 1080x1080 with 0 Axes>"
      ]
     },
     "metadata": {},
     "output_type": "display_data"
    },
    {
     "data": {
      "text/plain": [
       "<Figure size 1080x1080 with 0 Axes>"
      ]
     },
     "metadata": {},
     "output_type": "display_data"
    },
    {
     "data": {
      "text/plain": [
       "<Figure size 1080x1080 with 0 Axes>"
      ]
     },
     "metadata": {},
     "output_type": "display_data"
    },
    {
     "data": {
      "text/plain": [
       "<Figure size 1080x1080 with 0 Axes>"
      ]
     },
     "metadata": {},
     "output_type": "display_data"
    },
    {
     "data": {
      "text/plain": [
       "<Figure size 1080x1080 with 0 Axes>"
      ]
     },
     "metadata": {},
     "output_type": "display_data"
    },
    {
     "data": {
      "text/plain": [
       "<Figure size 1080x1080 with 0 Axes>"
      ]
     },
     "metadata": {},
     "output_type": "display_data"
    },
    {
     "data": {
      "text/plain": [
       "<Figure size 1080x1080 with 0 Axes>"
      ]
     },
     "metadata": {},
     "output_type": "display_data"
    },
    {
     "data": {
      "text/plain": [
       "<Figure size 1080x1080 with 0 Axes>"
      ]
     },
     "metadata": {},
     "output_type": "display_data"
    },
    {
     "data": {
      "text/plain": [
       "<Figure size 1080x1080 with 0 Axes>"
      ]
     },
     "metadata": {},
     "output_type": "display_data"
    },
    {
     "data": {
      "text/plain": [
       "<Figure size 1080x1080 with 0 Axes>"
      ]
     },
     "metadata": {},
     "output_type": "display_data"
    },
    {
     "data": {
      "text/plain": [
       "<Figure size 1080x1080 with 0 Axes>"
      ]
     },
     "metadata": {},
     "output_type": "display_data"
    },
    {
     "data": {
      "text/plain": [
       "<Figure size 1080x1080 with 0 Axes>"
      ]
     },
     "metadata": {},
     "output_type": "display_data"
    },
    {
     "data": {
      "text/plain": [
       "<Figure size 1080x1080 with 0 Axes>"
      ]
     },
     "metadata": {},
     "output_type": "display_data"
    },
    {
     "data": {
      "text/plain": [
       "<Figure size 1080x1080 with 0 Axes>"
      ]
     },
     "metadata": {},
     "output_type": "display_data"
    },
    {
     "data": {
      "text/plain": [
       "<Figure size 1080x1080 with 0 Axes>"
      ]
     },
     "metadata": {},
     "output_type": "display_data"
    },
    {
     "data": {
      "text/plain": [
       "<Figure size 1080x1080 with 0 Axes>"
      ]
     },
     "metadata": {},
     "output_type": "display_data"
    },
    {
     "data": {
      "text/plain": [
       "<Figure size 1080x1080 with 0 Axes>"
      ]
     },
     "metadata": {},
     "output_type": "display_data"
    },
    {
     "data": {
      "text/plain": [
       "<Figure size 1080x1080 with 0 Axes>"
      ]
     },
     "metadata": {},
     "output_type": "display_data"
    },
    {
     "data": {
      "text/plain": [
       "<Figure size 1080x1080 with 0 Axes>"
      ]
     },
     "metadata": {},
     "output_type": "display_data"
    },
    {
     "data": {
      "text/plain": [
       "<Figure size 1080x1080 with 0 Axes>"
      ]
     },
     "metadata": {},
     "output_type": "display_data"
    },
    {
     "data": {
      "text/plain": [
       "<Figure size 1080x1080 with 0 Axes>"
      ]
     },
     "metadata": {},
     "output_type": "display_data"
    },
    {
     "data": {
      "text/plain": [
       "<Figure size 1080x1080 with 0 Axes>"
      ]
     },
     "metadata": {},
     "output_type": "display_data"
    },
    {
     "data": {
      "text/plain": [
       "<Figure size 1080x1080 with 0 Axes>"
      ]
     },
     "metadata": {},
     "output_type": "display_data"
    },
    {
     "data": {
      "text/plain": [
       "<Figure size 1080x1080 with 0 Axes>"
      ]
     },
     "metadata": {},
     "output_type": "display_data"
    },
    {
     "data": {
      "text/plain": [
       "<Figure size 1080x1080 with 0 Axes>"
      ]
     },
     "metadata": {},
     "output_type": "display_data"
    },
    {
     "data": {
      "text/plain": [
       "<Figure size 1080x1080 with 0 Axes>"
      ]
     },
     "metadata": {},
     "output_type": "display_data"
    },
    {
     "data": {
      "text/plain": [
       "<Figure size 1080x1080 with 0 Axes>"
      ]
     },
     "metadata": {},
     "output_type": "display_data"
    },
    {
     "data": {
      "text/plain": [
       "<Figure size 1080x1080 with 0 Axes>"
      ]
     },
     "metadata": {},
     "output_type": "display_data"
    },
    {
     "data": {
      "text/plain": [
       "<Figure size 1080x1080 with 0 Axes>"
      ]
     },
     "metadata": {},
     "output_type": "display_data"
    },
    {
     "data": {
      "text/plain": [
       "<Figure size 1080x1080 with 0 Axes>"
      ]
     },
     "metadata": {},
     "output_type": "display_data"
    },
    {
     "data": {
      "text/plain": [
       "<Figure size 1080x1080 with 0 Axes>"
      ]
     },
     "metadata": {},
     "output_type": "display_data"
    },
    {
     "data": {
      "text/plain": [
       "<Figure size 1080x1080 with 0 Axes>"
      ]
     },
     "metadata": {},
     "output_type": "display_data"
    },
    {
     "data": {
      "text/plain": [
       "<Figure size 1080x1080 with 0 Axes>"
      ]
     },
     "metadata": {},
     "output_type": "display_data"
    },
    {
     "data": {
      "text/plain": [
       "<Figure size 1080x1080 with 0 Axes>"
      ]
     },
     "metadata": {},
     "output_type": "display_data"
    },
    {
     "data": {
      "text/plain": [
       "<Figure size 1080x1080 with 0 Axes>"
      ]
     },
     "metadata": {},
     "output_type": "display_data"
    },
    {
     "data": {
      "text/plain": [
       "<Figure size 1080x1080 with 0 Axes>"
      ]
     },
     "metadata": {},
     "output_type": "display_data"
    },
    {
     "data": {
      "text/plain": [
       "<Figure size 1080x1080 with 0 Axes>"
      ]
     },
     "metadata": {},
     "output_type": "display_data"
    },
    {
     "data": {
      "text/plain": [
       "<Figure size 1080x1080 with 0 Axes>"
      ]
     },
     "metadata": {},
     "output_type": "display_data"
    },
    {
     "data": {
      "text/plain": [
       "<Figure size 1080x1080 with 0 Axes>"
      ]
     },
     "metadata": {},
     "output_type": "display_data"
    },
    {
     "data": {
      "text/plain": [
       "<Figure size 1080x1080 with 0 Axes>"
      ]
     },
     "metadata": {},
     "output_type": "display_data"
    },
    {
     "data": {
      "text/plain": [
       "<Figure size 1080x1080 with 0 Axes>"
      ]
     },
     "metadata": {},
     "output_type": "display_data"
    },
    {
     "data": {
      "text/plain": [
       "<Figure size 1080x1080 with 0 Axes>"
      ]
     },
     "metadata": {},
     "output_type": "display_data"
    },
    {
     "data": {
      "text/plain": [
       "<Figure size 1080x1080 with 0 Axes>"
      ]
     },
     "metadata": {},
     "output_type": "display_data"
    },
    {
     "data": {
      "text/plain": [
       "<Figure size 1080x1080 with 0 Axes>"
      ]
     },
     "metadata": {},
     "output_type": "display_data"
    },
    {
     "data": {
      "text/plain": [
       "<Figure size 1080x1080 with 0 Axes>"
      ]
     },
     "metadata": {},
     "output_type": "display_data"
    },
    {
     "data": {
      "text/plain": [
       "<Figure size 1080x1080 with 0 Axes>"
      ]
     },
     "metadata": {},
     "output_type": "display_data"
    },
    {
     "data": {
      "text/plain": [
       "<Figure size 1080x1080 with 0 Axes>"
      ]
     },
     "metadata": {},
     "output_type": "display_data"
    },
    {
     "data": {
      "text/plain": [
       "<Figure size 1080x1080 with 0 Axes>"
      ]
     },
     "metadata": {},
     "output_type": "display_data"
    },
    {
     "data": {
      "text/plain": [
       "<Figure size 1080x1080 with 0 Axes>"
      ]
     },
     "metadata": {},
     "output_type": "display_data"
    },
    {
     "data": {
      "text/plain": [
       "<Figure size 1080x1080 with 0 Axes>"
      ]
     },
     "metadata": {},
     "output_type": "display_data"
    },
    {
     "data": {
      "text/plain": [
       "<Figure size 1080x1080 with 0 Axes>"
      ]
     },
     "metadata": {},
     "output_type": "display_data"
    },
    {
     "data": {
      "text/plain": [
       "<Figure size 1080x1080 with 0 Axes>"
      ]
     },
     "metadata": {},
     "output_type": "display_data"
    },
    {
     "data": {
      "text/plain": [
       "<Figure size 1080x1080 with 0 Axes>"
      ]
     },
     "metadata": {},
     "output_type": "display_data"
    },
    {
     "data": {
      "text/plain": [
       "<Figure size 1080x1080 with 0 Axes>"
      ]
     },
     "metadata": {},
     "output_type": "display_data"
    },
    {
     "data": {
      "text/plain": [
       "<Figure size 1080x1080 with 0 Axes>"
      ]
     },
     "metadata": {},
     "output_type": "display_data"
    },
    {
     "data": {
      "text/plain": [
       "<Figure size 1080x1080 with 0 Axes>"
      ]
     },
     "metadata": {},
     "output_type": "display_data"
    },
    {
     "data": {
      "text/plain": [
       "<Figure size 1080x1080 with 0 Axes>"
      ]
     },
     "metadata": {},
     "output_type": "display_data"
    },
    {
     "data": {
      "text/plain": [
       "<Figure size 1080x1080 with 0 Axes>"
      ]
     },
     "metadata": {},
     "output_type": "display_data"
    },
    {
     "data": {
      "text/plain": [
       "<Figure size 1080x1080 with 0 Axes>"
      ]
     },
     "metadata": {},
     "output_type": "display_data"
    },
    {
     "data": {
      "text/plain": [
       "<Figure size 1080x1080 with 0 Axes>"
      ]
     },
     "metadata": {},
     "output_type": "display_data"
    },
    {
     "data": {
      "text/plain": [
       "<Figure size 1080x1080 with 0 Axes>"
      ]
     },
     "metadata": {},
     "output_type": "display_data"
    },
    {
     "data": {
      "text/plain": [
       "<Figure size 1080x1080 with 0 Axes>"
      ]
     },
     "metadata": {},
     "output_type": "display_data"
    },
    {
     "data": {
      "text/plain": [
       "<Figure size 1080x1080 with 0 Axes>"
      ]
     },
     "metadata": {},
     "output_type": "display_data"
    },
    {
     "data": {
      "text/plain": [
       "<Figure size 1080x1080 with 0 Axes>"
      ]
     },
     "metadata": {},
     "output_type": "display_data"
    },
    {
     "data": {
      "text/plain": [
       "<Figure size 1080x1080 with 0 Axes>"
      ]
     },
     "metadata": {},
     "output_type": "display_data"
    },
    {
     "data": {
      "text/plain": [
       "<Figure size 1080x1080 with 0 Axes>"
      ]
     },
     "metadata": {},
     "output_type": "display_data"
    },
    {
     "data": {
      "text/plain": [
       "<Figure size 1080x1080 with 0 Axes>"
      ]
     },
     "metadata": {},
     "output_type": "display_data"
    },
    {
     "data": {
      "text/plain": [
       "<Figure size 1080x1080 with 0 Axes>"
      ]
     },
     "metadata": {},
     "output_type": "display_data"
    },
    {
     "data": {
      "text/plain": [
       "<Figure size 1080x1080 with 0 Axes>"
      ]
     },
     "metadata": {},
     "output_type": "display_data"
    },
    {
     "data": {
      "text/plain": [
       "<Figure size 1080x1080 with 0 Axes>"
      ]
     },
     "metadata": {},
     "output_type": "display_data"
    },
    {
     "data": {
      "text/plain": [
       "<Figure size 1080x1080 with 0 Axes>"
      ]
     },
     "metadata": {},
     "output_type": "display_data"
    },
    {
     "data": {
      "text/plain": [
       "<Figure size 1080x1080 with 0 Axes>"
      ]
     },
     "metadata": {},
     "output_type": "display_data"
    },
    {
     "data": {
      "text/plain": [
       "<Figure size 1080x1080 with 0 Axes>"
      ]
     },
     "metadata": {},
     "output_type": "display_data"
    },
    {
     "data": {
      "text/plain": [
       "<Figure size 1080x1080 with 0 Axes>"
      ]
     },
     "metadata": {},
     "output_type": "display_data"
    },
    {
     "data": {
      "text/plain": [
       "<Figure size 1080x1080 with 0 Axes>"
      ]
     },
     "metadata": {},
     "output_type": "display_data"
    },
    {
     "data": {
      "text/plain": [
       "<Figure size 1080x1080 with 0 Axes>"
      ]
     },
     "metadata": {},
     "output_type": "display_data"
    },
    {
     "data": {
      "text/plain": [
       "<Figure size 1080x1080 with 0 Axes>"
      ]
     },
     "metadata": {},
     "output_type": "display_data"
    },
    {
     "data": {
      "text/plain": [
       "<Figure size 1080x1080 with 0 Axes>"
      ]
     },
     "metadata": {},
     "output_type": "display_data"
    },
    {
     "data": {
      "text/plain": [
       "<Figure size 1080x1080 with 0 Axes>"
      ]
     },
     "metadata": {},
     "output_type": "display_data"
    },
    {
     "data": {
      "text/plain": [
       "<Figure size 1080x1080 with 0 Axes>"
      ]
     },
     "metadata": {},
     "output_type": "display_data"
    },
    {
     "data": {
      "text/plain": [
       "<Figure size 1080x1080 with 0 Axes>"
      ]
     },
     "metadata": {},
     "output_type": "display_data"
    },
    {
     "data": {
      "text/plain": [
       "<Figure size 1080x1080 with 0 Axes>"
      ]
     },
     "metadata": {},
     "output_type": "display_data"
    },
    {
     "data": {
      "text/plain": [
       "<Figure size 1080x1080 with 0 Axes>"
      ]
     },
     "metadata": {},
     "output_type": "display_data"
    },
    {
     "data": {
      "text/plain": [
       "<Figure size 1080x1080 with 0 Axes>"
      ]
     },
     "metadata": {},
     "output_type": "display_data"
    },
    {
     "data": {
      "text/plain": [
       "<Figure size 1080x1080 with 0 Axes>"
      ]
     },
     "metadata": {},
     "output_type": "display_data"
    },
    {
     "data": {
      "text/plain": [
       "<Figure size 1080x1080 with 0 Axes>"
      ]
     },
     "metadata": {},
     "output_type": "display_data"
    },
    {
     "data": {
      "text/plain": [
       "<Figure size 1080x1080 with 0 Axes>"
      ]
     },
     "metadata": {},
     "output_type": "display_data"
    },
    {
     "data": {
      "text/plain": [
       "<Figure size 1080x1080 with 0 Axes>"
      ]
     },
     "metadata": {},
     "output_type": "display_data"
    },
    {
     "data": {
      "text/plain": [
       "<Figure size 1080x1080 with 0 Axes>"
      ]
     },
     "metadata": {},
     "output_type": "display_data"
    },
    {
     "data": {
      "text/plain": [
       "<Figure size 1080x1080 with 0 Axes>"
      ]
     },
     "metadata": {},
     "output_type": "display_data"
    },
    {
     "data": {
      "text/plain": [
       "<Figure size 1080x1080 with 0 Axes>"
      ]
     },
     "metadata": {},
     "output_type": "display_data"
    },
    {
     "data": {
      "text/plain": [
       "<Figure size 1080x1080 with 0 Axes>"
      ]
     },
     "metadata": {},
     "output_type": "display_data"
    },
    {
     "data": {
      "text/plain": [
       "<Figure size 1080x1080 with 0 Axes>"
      ]
     },
     "metadata": {},
     "output_type": "display_data"
    },
    {
     "data": {
      "text/plain": [
       "<Figure size 1080x1080 with 0 Axes>"
      ]
     },
     "metadata": {},
     "output_type": "display_data"
    },
    {
     "data": {
      "text/plain": [
       "<Figure size 1080x1080 with 0 Axes>"
      ]
     },
     "metadata": {},
     "output_type": "display_data"
    },
    {
     "data": {
      "text/plain": [
       "<Figure size 1080x1080 with 0 Axes>"
      ]
     },
     "metadata": {},
     "output_type": "display_data"
    },
    {
     "data": {
      "text/plain": [
       "<Figure size 1080x1080 with 0 Axes>"
      ]
     },
     "metadata": {},
     "output_type": "display_data"
    },
    {
     "data": {
      "text/plain": [
       "<Figure size 1080x1080 with 0 Axes>"
      ]
     },
     "metadata": {},
     "output_type": "display_data"
    },
    {
     "data": {
      "text/plain": [
       "<Figure size 1080x1080 with 0 Axes>"
      ]
     },
     "metadata": {},
     "output_type": "display_data"
    },
    {
     "data": {
      "text/plain": [
       "<Figure size 1080x1080 with 0 Axes>"
      ]
     },
     "metadata": {},
     "output_type": "display_data"
    },
    {
     "data": {
      "text/plain": [
       "<Figure size 1080x1080 with 0 Axes>"
      ]
     },
     "metadata": {},
     "output_type": "display_data"
    },
    {
     "data": {
      "text/plain": [
       "<Figure size 1080x1080 with 0 Axes>"
      ]
     },
     "metadata": {},
     "output_type": "display_data"
    },
    {
     "data": {
      "text/plain": [
       "<Figure size 1080x1080 with 0 Axes>"
      ]
     },
     "metadata": {},
     "output_type": "display_data"
    },
    {
     "data": {
      "text/plain": [
       "<Figure size 1080x1080 with 0 Axes>"
      ]
     },
     "metadata": {},
     "output_type": "display_data"
    },
    {
     "data": {
      "text/plain": [
       "<Figure size 1080x1080 with 0 Axes>"
      ]
     },
     "metadata": {},
     "output_type": "display_data"
    },
    {
     "data": {
      "text/plain": [
       "<Figure size 1080x1080 with 0 Axes>"
      ]
     },
     "metadata": {},
     "output_type": "display_data"
    },
    {
     "data": {
      "text/plain": [
       "<Figure size 1080x1080 with 0 Axes>"
      ]
     },
     "metadata": {},
     "output_type": "display_data"
    },
    {
     "data": {
      "text/plain": [
       "<Figure size 1080x1080 with 0 Axes>"
      ]
     },
     "metadata": {},
     "output_type": "display_data"
    },
    {
     "data": {
      "text/plain": [
       "<Figure size 1080x1080 with 0 Axes>"
      ]
     },
     "metadata": {},
     "output_type": "display_data"
    },
    {
     "data": {
      "text/plain": [
       "<Figure size 1080x1080 with 0 Axes>"
      ]
     },
     "metadata": {},
     "output_type": "display_data"
    },
    {
     "data": {
      "text/plain": [
       "<Figure size 1080x1080 with 0 Axes>"
      ]
     },
     "metadata": {},
     "output_type": "display_data"
    },
    {
     "data": {
      "text/plain": [
       "<Figure size 1080x1080 with 0 Axes>"
      ]
     },
     "metadata": {},
     "output_type": "display_data"
    },
    {
     "data": {
      "text/plain": [
       "<Figure size 1080x1080 with 0 Axes>"
      ]
     },
     "metadata": {},
     "output_type": "display_data"
    },
    {
     "data": {
      "text/plain": [
       "<Figure size 1080x1080 with 0 Axes>"
      ]
     },
     "metadata": {},
     "output_type": "display_data"
    },
    {
     "data": {
      "text/plain": [
       "<Figure size 1080x1080 with 0 Axes>"
      ]
     },
     "metadata": {},
     "output_type": "display_data"
    },
    {
     "data": {
      "text/plain": [
       "<Figure size 1080x1080 with 0 Axes>"
      ]
     },
     "metadata": {},
     "output_type": "display_data"
    },
    {
     "data": {
      "text/plain": [
       "<Figure size 1080x1080 with 0 Axes>"
      ]
     },
     "metadata": {},
     "output_type": "display_data"
    },
    {
     "data": {
      "text/plain": [
       "<Figure size 1080x1080 with 0 Axes>"
      ]
     },
     "metadata": {},
     "output_type": "display_data"
    },
    {
     "data": {
      "text/plain": [
       "<Figure size 1080x1080 with 0 Axes>"
      ]
     },
     "metadata": {},
     "output_type": "display_data"
    },
    {
     "data": {
      "text/plain": [
       "<Figure size 1080x1080 with 0 Axes>"
      ]
     },
     "metadata": {},
     "output_type": "display_data"
    },
    {
     "data": {
      "text/plain": [
       "<Figure size 1080x1080 with 0 Axes>"
      ]
     },
     "metadata": {},
     "output_type": "display_data"
    },
    {
     "data": {
      "text/plain": [
       "<Figure size 1080x1080 with 0 Axes>"
      ]
     },
     "metadata": {},
     "output_type": "display_data"
    },
    {
     "data": {
      "text/plain": [
       "<Figure size 1080x1080 with 0 Axes>"
      ]
     },
     "metadata": {},
     "output_type": "display_data"
    },
    {
     "data": {
      "text/plain": [
       "<Figure size 1080x1080 with 0 Axes>"
      ]
     },
     "metadata": {},
     "output_type": "display_data"
    },
    {
     "data": {
      "text/plain": [
       "<Figure size 1080x1080 with 0 Axes>"
      ]
     },
     "metadata": {},
     "output_type": "display_data"
    },
    {
     "data": {
      "text/plain": [
       "<Figure size 1080x1080 with 0 Axes>"
      ]
     },
     "metadata": {},
     "output_type": "display_data"
    },
    {
     "data": {
      "text/plain": [
       "<Figure size 1080x1080 with 0 Axes>"
      ]
     },
     "metadata": {},
     "output_type": "display_data"
    },
    {
     "data": {
      "text/plain": [
       "<Figure size 1080x1080 with 0 Axes>"
      ]
     },
     "metadata": {},
     "output_type": "display_data"
    },
    {
     "data": {
      "text/plain": [
       "<Figure size 1080x1080 with 0 Axes>"
      ]
     },
     "metadata": {},
     "output_type": "display_data"
    },
    {
     "data": {
      "text/plain": [
       "<Figure size 1080x1080 with 0 Axes>"
      ]
     },
     "metadata": {},
     "output_type": "display_data"
    },
    {
     "data": {
      "text/plain": [
       "<Figure size 1080x1080 with 0 Axes>"
      ]
     },
     "metadata": {},
     "output_type": "display_data"
    },
    {
     "data": {
      "text/plain": [
       "<Figure size 1080x1080 with 0 Axes>"
      ]
     },
     "metadata": {},
     "output_type": "display_data"
    },
    {
     "data": {
      "text/plain": [
       "<Figure size 1080x1080 with 0 Axes>"
      ]
     },
     "metadata": {},
     "output_type": "display_data"
    },
    {
     "data": {
      "text/plain": [
       "<Figure size 1080x1080 with 0 Axes>"
      ]
     },
     "metadata": {},
     "output_type": "display_data"
    },
    {
     "data": {
      "text/plain": [
       "<Figure size 1080x1080 with 0 Axes>"
      ]
     },
     "metadata": {},
     "output_type": "display_data"
    },
    {
     "data": {
      "text/plain": [
       "<Figure size 1080x1080 with 0 Axes>"
      ]
     },
     "metadata": {},
     "output_type": "display_data"
    },
    {
     "data": {
      "text/plain": [
       "<Figure size 1080x1080 with 0 Axes>"
      ]
     },
     "metadata": {},
     "output_type": "display_data"
    },
    {
     "data": {
      "text/plain": [
       "<Figure size 1080x1080 with 0 Axes>"
      ]
     },
     "metadata": {},
     "output_type": "display_data"
    },
    {
     "data": {
      "text/plain": [
       "<Figure size 1080x1080 with 0 Axes>"
      ]
     },
     "metadata": {},
     "output_type": "display_data"
    },
    {
     "data": {
      "text/plain": [
       "<Figure size 1080x1080 with 0 Axes>"
      ]
     },
     "metadata": {},
     "output_type": "display_data"
    },
    {
     "data": {
      "text/plain": [
       "<Figure size 1080x1080 with 0 Axes>"
      ]
     },
     "metadata": {},
     "output_type": "display_data"
    },
    {
     "data": {
      "text/plain": [
       "<Figure size 1080x1080 with 0 Axes>"
      ]
     },
     "metadata": {},
     "output_type": "display_data"
    },
    {
     "data": {
      "text/plain": [
       "<Figure size 1080x1080 with 0 Axes>"
      ]
     },
     "metadata": {},
     "output_type": "display_data"
    },
    {
     "data": {
      "text/plain": [
       "<Figure size 1080x1080 with 0 Axes>"
      ]
     },
     "metadata": {},
     "output_type": "display_data"
    },
    {
     "data": {
      "text/plain": [
       "<Figure size 1080x1080 with 0 Axes>"
      ]
     },
     "metadata": {},
     "output_type": "display_data"
    },
    {
     "data": {
      "text/plain": [
       "<Figure size 1080x1080 with 0 Axes>"
      ]
     },
     "metadata": {},
     "output_type": "display_data"
    },
    {
     "data": {
      "text/plain": [
       "<Figure size 1080x1080 with 0 Axes>"
      ]
     },
     "metadata": {},
     "output_type": "display_data"
    },
    {
     "data": {
      "text/plain": [
       "<Figure size 1080x1080 with 0 Axes>"
      ]
     },
     "metadata": {},
     "output_type": "display_data"
    },
    {
     "data": {
      "text/plain": [
       "<Figure size 1080x1080 with 0 Axes>"
      ]
     },
     "metadata": {},
     "output_type": "display_data"
    },
    {
     "data": {
      "text/plain": [
       "<Figure size 1080x1080 with 0 Axes>"
      ]
     },
     "metadata": {},
     "output_type": "display_data"
    },
    {
     "data": {
      "text/plain": [
       "<Figure size 1080x1080 with 0 Axes>"
      ]
     },
     "metadata": {},
     "output_type": "display_data"
    },
    {
     "data": {
      "text/plain": [
       "<Figure size 1080x1080 with 0 Axes>"
      ]
     },
     "metadata": {},
     "output_type": "display_data"
    },
    {
     "data": {
      "text/plain": [
       "<Figure size 1080x1080 with 0 Axes>"
      ]
     },
     "metadata": {},
     "output_type": "display_data"
    },
    {
     "data": {
      "text/plain": [
       "<Figure size 1080x1080 with 0 Axes>"
      ]
     },
     "metadata": {},
     "output_type": "display_data"
    },
    {
     "data": {
      "text/plain": [
       "<Figure size 1080x1080 with 0 Axes>"
      ]
     },
     "metadata": {},
     "output_type": "display_data"
    },
    {
     "data": {
      "text/plain": [
       "<Figure size 1080x1080 with 0 Axes>"
      ]
     },
     "metadata": {},
     "output_type": "display_data"
    },
    {
     "data": {
      "text/plain": [
       "<Figure size 1080x1080 with 0 Axes>"
      ]
     },
     "metadata": {},
     "output_type": "display_data"
    },
    {
     "data": {
      "text/plain": [
       "<Figure size 1080x1080 with 0 Axes>"
      ]
     },
     "metadata": {},
     "output_type": "display_data"
    },
    {
     "data": {
      "text/plain": [
       "<Figure size 1080x1080 with 0 Axes>"
      ]
     },
     "metadata": {},
     "output_type": "display_data"
    },
    {
     "data": {
      "text/plain": [
       "<Figure size 1080x1080 with 0 Axes>"
      ]
     },
     "metadata": {},
     "output_type": "display_data"
    },
    {
     "data": {
      "text/plain": [
       "<Figure size 1080x1080 with 0 Axes>"
      ]
     },
     "metadata": {},
     "output_type": "display_data"
    },
    {
     "data": {
      "text/plain": [
       "<Figure size 1080x1080 with 0 Axes>"
      ]
     },
     "metadata": {},
     "output_type": "display_data"
    },
    {
     "data": {
      "text/plain": [
       "<Figure size 1080x1080 with 0 Axes>"
      ]
     },
     "metadata": {},
     "output_type": "display_data"
    },
    {
     "data": {
      "text/plain": [
       "<Figure size 1080x1080 with 0 Axes>"
      ]
     },
     "metadata": {},
     "output_type": "display_data"
    },
    {
     "data": {
      "text/plain": [
       "<Figure size 1080x1080 with 0 Axes>"
      ]
     },
     "metadata": {},
     "output_type": "display_data"
    },
    {
     "data": {
      "text/plain": [
       "<Figure size 1080x1080 with 0 Axes>"
      ]
     },
     "metadata": {},
     "output_type": "display_data"
    },
    {
     "data": {
      "text/plain": [
       "<Figure size 1080x1080 with 0 Axes>"
      ]
     },
     "metadata": {},
     "output_type": "display_data"
    },
    {
     "data": {
      "text/plain": [
       "<Figure size 1080x1080 with 0 Axes>"
      ]
     },
     "metadata": {},
     "output_type": "display_data"
    },
    {
     "data": {
      "text/plain": [
       "<Figure size 1080x1080 with 0 Axes>"
      ]
     },
     "metadata": {},
     "output_type": "display_data"
    },
    {
     "data": {
      "text/plain": [
       "<Figure size 1080x1080 with 0 Axes>"
      ]
     },
     "metadata": {},
     "output_type": "display_data"
    },
    {
     "data": {
      "text/plain": [
       "<Figure size 1080x1080 with 0 Axes>"
      ]
     },
     "metadata": {},
     "output_type": "display_data"
    },
    {
     "data": {
      "text/plain": [
       "<Figure size 1080x1080 with 0 Axes>"
      ]
     },
     "metadata": {},
     "output_type": "display_data"
    },
    {
     "data": {
      "text/plain": [
       "<Figure size 1080x1080 with 0 Axes>"
      ]
     },
     "metadata": {},
     "output_type": "display_data"
    },
    {
     "data": {
      "text/plain": [
       "<Figure size 1080x1080 with 0 Axes>"
      ]
     },
     "metadata": {},
     "output_type": "display_data"
    },
    {
     "data": {
      "text/plain": [
       "<Figure size 1080x1080 with 0 Axes>"
      ]
     },
     "metadata": {},
     "output_type": "display_data"
    },
    {
     "data": {
      "text/plain": [
       "<Figure size 1080x1080 with 0 Axes>"
      ]
     },
     "metadata": {},
     "output_type": "display_data"
    },
    {
     "data": {
      "text/plain": [
       "<Figure size 1080x1080 with 0 Axes>"
      ]
     },
     "metadata": {},
     "output_type": "display_data"
    },
    {
     "data": {
      "text/plain": [
       "<Figure size 1080x1080 with 0 Axes>"
      ]
     },
     "metadata": {},
     "output_type": "display_data"
    },
    {
     "data": {
      "text/plain": [
       "<Figure size 1080x1080 with 0 Axes>"
      ]
     },
     "metadata": {},
     "output_type": "display_data"
    },
    {
     "data": {
      "text/plain": [
       "<Figure size 1080x1080 with 0 Axes>"
      ]
     },
     "metadata": {},
     "output_type": "display_data"
    },
    {
     "data": {
      "text/plain": [
       "<Figure size 1080x1080 with 0 Axes>"
      ]
     },
     "metadata": {},
     "output_type": "display_data"
    },
    {
     "data": {
      "text/plain": [
       "<Figure size 1080x1080 with 0 Axes>"
      ]
     },
     "metadata": {},
     "output_type": "display_data"
    },
    {
     "data": {
      "text/plain": [
       "<Figure size 1080x1080 with 0 Axes>"
      ]
     },
     "metadata": {},
     "output_type": "display_data"
    },
    {
     "data": {
      "text/plain": [
       "<Figure size 1080x1080 with 0 Axes>"
      ]
     },
     "metadata": {},
     "output_type": "display_data"
    },
    {
     "data": {
      "text/plain": [
       "<Figure size 1080x1080 with 0 Axes>"
      ]
     },
     "metadata": {},
     "output_type": "display_data"
    },
    {
     "data": {
      "text/plain": [
       "<Figure size 1080x1080 with 0 Axes>"
      ]
     },
     "metadata": {},
     "output_type": "display_data"
    },
    {
     "data": {
      "text/plain": [
       "<Figure size 1080x1080 with 0 Axes>"
      ]
     },
     "metadata": {},
     "output_type": "display_data"
    },
    {
     "data": {
      "text/plain": [
       "<Figure size 1080x1080 with 0 Axes>"
      ]
     },
     "metadata": {},
     "output_type": "display_data"
    },
    {
     "data": {
      "text/plain": [
       "<Figure size 1080x1080 with 0 Axes>"
      ]
     },
     "metadata": {},
     "output_type": "display_data"
    },
    {
     "data": {
      "text/plain": [
       "<Figure size 1080x1080 with 0 Axes>"
      ]
     },
     "metadata": {},
     "output_type": "display_data"
    },
    {
     "data": {
      "text/plain": [
       "<Figure size 1080x1080 with 0 Axes>"
      ]
     },
     "metadata": {},
     "output_type": "display_data"
    },
    {
     "data": {
      "text/plain": [
       "<Figure size 1080x1080 with 0 Axes>"
      ]
     },
     "metadata": {},
     "output_type": "display_data"
    },
    {
     "data": {
      "text/plain": [
       "<Figure size 1080x1080 with 0 Axes>"
      ]
     },
     "metadata": {},
     "output_type": "display_data"
    },
    {
     "data": {
      "text/plain": [
       "<Figure size 1080x1080 with 0 Axes>"
      ]
     },
     "metadata": {},
     "output_type": "display_data"
    },
    {
     "data": {
      "text/plain": [
       "<Figure size 1080x1080 with 0 Axes>"
      ]
     },
     "metadata": {},
     "output_type": "display_data"
    },
    {
     "data": {
      "text/plain": [
       "<Figure size 1080x1080 with 0 Axes>"
      ]
     },
     "metadata": {},
     "output_type": "display_data"
    },
    {
     "data": {
      "text/plain": [
       "<Figure size 1080x1080 with 0 Axes>"
      ]
     },
     "metadata": {},
     "output_type": "display_data"
    },
    {
     "data": {
      "text/plain": [
       "<Figure size 1080x1080 with 0 Axes>"
      ]
     },
     "metadata": {},
     "output_type": "display_data"
    },
    {
     "data": {
      "text/plain": [
       "<Figure size 1080x1080 with 0 Axes>"
      ]
     },
     "metadata": {},
     "output_type": "display_data"
    },
    {
     "data": {
      "text/plain": [
       "<Figure size 1080x1080 with 0 Axes>"
      ]
     },
     "metadata": {},
     "output_type": "display_data"
    },
    {
     "data": {
      "text/plain": [
       "<Figure size 1080x1080 with 0 Axes>"
      ]
     },
     "metadata": {},
     "output_type": "display_data"
    },
    {
     "data": {
      "text/plain": [
       "<Figure size 1080x1080 with 0 Axes>"
      ]
     },
     "metadata": {},
     "output_type": "display_data"
    },
    {
     "data": {
      "text/plain": [
       "<Figure size 1080x1080 with 0 Axes>"
      ]
     },
     "metadata": {},
     "output_type": "display_data"
    },
    {
     "data": {
      "text/plain": [
       "<Figure size 1080x1080 with 0 Axes>"
      ]
     },
     "metadata": {},
     "output_type": "display_data"
    },
    {
     "data": {
      "text/plain": [
       "<Figure size 1080x1080 with 0 Axes>"
      ]
     },
     "metadata": {},
     "output_type": "display_data"
    },
    {
     "data": {
      "text/plain": [
       "<Figure size 1080x1080 with 0 Axes>"
      ]
     },
     "metadata": {},
     "output_type": "display_data"
    },
    {
     "data": {
      "text/plain": [
       "<Figure size 1080x1080 with 0 Axes>"
      ]
     },
     "metadata": {},
     "output_type": "display_data"
    },
    {
     "data": {
      "text/plain": [
       "<Figure size 1080x1080 with 0 Axes>"
      ]
     },
     "metadata": {},
     "output_type": "display_data"
    },
    {
     "data": {
      "text/plain": [
       "<Figure size 1080x1080 with 0 Axes>"
      ]
     },
     "metadata": {},
     "output_type": "display_data"
    },
    {
     "data": {
      "text/plain": [
       "<Figure size 1080x1080 with 0 Axes>"
      ]
     },
     "metadata": {},
     "output_type": "display_data"
    },
    {
     "data": {
      "text/plain": [
       "<Figure size 1080x1080 with 0 Axes>"
      ]
     },
     "metadata": {},
     "output_type": "display_data"
    },
    {
     "data": {
      "text/plain": [
       "<Figure size 1080x1080 with 0 Axes>"
      ]
     },
     "metadata": {},
     "output_type": "display_data"
    },
    {
     "data": {
      "text/plain": [
       "<Figure size 1080x1080 with 0 Axes>"
      ]
     },
     "metadata": {},
     "output_type": "display_data"
    },
    {
     "data": {
      "text/plain": [
       "<Figure size 1080x1080 with 0 Axes>"
      ]
     },
     "metadata": {},
     "output_type": "display_data"
    },
    {
     "data": {
      "text/plain": [
       "<Figure size 1080x1080 with 0 Axes>"
      ]
     },
     "metadata": {},
     "output_type": "display_data"
    },
    {
     "data": {
      "text/plain": [
       "<Figure size 1080x1080 with 0 Axes>"
      ]
     },
     "metadata": {},
     "output_type": "display_data"
    },
    {
     "data": {
      "text/plain": [
       "<Figure size 1080x1080 with 0 Axes>"
      ]
     },
     "metadata": {},
     "output_type": "display_data"
    },
    {
     "data": {
      "text/plain": [
       "<Figure size 1080x1080 with 0 Axes>"
      ]
     },
     "metadata": {},
     "output_type": "display_data"
    },
    {
     "data": {
      "text/plain": [
       "<Figure size 1080x1080 with 0 Axes>"
      ]
     },
     "metadata": {},
     "output_type": "display_data"
    },
    {
     "data": {
      "text/plain": [
       "<Figure size 1080x1080 with 0 Axes>"
      ]
     },
     "metadata": {},
     "output_type": "display_data"
    },
    {
     "data": {
      "text/plain": [
       "<Figure size 1080x1080 with 0 Axes>"
      ]
     },
     "metadata": {},
     "output_type": "display_data"
    },
    {
     "data": {
      "text/plain": [
       "<Figure size 1080x1080 with 0 Axes>"
      ]
     },
     "metadata": {},
     "output_type": "display_data"
    },
    {
     "data": {
      "text/plain": [
       "<Figure size 1080x1080 with 0 Axes>"
      ]
     },
     "metadata": {},
     "output_type": "display_data"
    },
    {
     "data": {
      "text/plain": [
       "<Figure size 1080x1080 with 0 Axes>"
      ]
     },
     "metadata": {},
     "output_type": "display_data"
    },
    {
     "data": {
      "text/plain": [
       "<Figure size 1080x1080 with 0 Axes>"
      ]
     },
     "metadata": {},
     "output_type": "display_data"
    },
    {
     "data": {
      "text/plain": [
       "<Figure size 1080x1080 with 0 Axes>"
      ]
     },
     "metadata": {},
     "output_type": "display_data"
    },
    {
     "data": {
      "text/plain": [
       "<Figure size 1080x1080 with 0 Axes>"
      ]
     },
     "metadata": {},
     "output_type": "display_data"
    },
    {
     "data": {
      "text/plain": [
       "<Figure size 1080x1080 with 0 Axes>"
      ]
     },
     "metadata": {},
     "output_type": "display_data"
    },
    {
     "data": {
      "text/plain": [
       "<Figure size 1080x1080 with 0 Axes>"
      ]
     },
     "metadata": {},
     "output_type": "display_data"
    },
    {
     "data": {
      "text/plain": [
       "<Figure size 1080x1080 with 0 Axes>"
      ]
     },
     "metadata": {},
     "output_type": "display_data"
    },
    {
     "data": {
      "text/plain": [
       "<Figure size 1080x1080 with 0 Axes>"
      ]
     },
     "metadata": {},
     "output_type": "display_data"
    },
    {
     "data": {
      "text/plain": [
       "<Figure size 1080x1080 with 0 Axes>"
      ]
     },
     "metadata": {},
     "output_type": "display_data"
    },
    {
     "data": {
      "text/plain": [
       "<Figure size 1080x1080 with 0 Axes>"
      ]
     },
     "metadata": {},
     "output_type": "display_data"
    },
    {
     "data": {
      "text/plain": [
       "<Figure size 1080x1080 with 0 Axes>"
      ]
     },
     "metadata": {},
     "output_type": "display_data"
    },
    {
     "data": {
      "text/plain": [
       "<Figure size 1080x1080 with 0 Axes>"
      ]
     },
     "metadata": {},
     "output_type": "display_data"
    },
    {
     "data": {
      "text/plain": [
       "<Figure size 1080x1080 with 0 Axes>"
      ]
     },
     "metadata": {},
     "output_type": "display_data"
    },
    {
     "data": {
      "text/plain": [
       "<Figure size 1080x1080 with 0 Axes>"
      ]
     },
     "metadata": {},
     "output_type": "display_data"
    },
    {
     "data": {
      "text/plain": [
       "<Figure size 1080x1080 with 0 Axes>"
      ]
     },
     "metadata": {},
     "output_type": "display_data"
    },
    {
     "data": {
      "text/plain": [
       "<Figure size 1080x1080 with 0 Axes>"
      ]
     },
     "metadata": {},
     "output_type": "display_data"
    },
    {
     "data": {
      "text/plain": [
       "<Figure size 1080x1080 with 0 Axes>"
      ]
     },
     "metadata": {},
     "output_type": "display_data"
    },
    {
     "data": {
      "text/plain": [
       "<Figure size 1080x1080 with 0 Axes>"
      ]
     },
     "metadata": {},
     "output_type": "display_data"
    },
    {
     "data": {
      "text/plain": [
       "<Figure size 1080x1080 with 0 Axes>"
      ]
     },
     "metadata": {},
     "output_type": "display_data"
    },
    {
     "data": {
      "text/plain": [
       "<Figure size 1080x1080 with 0 Axes>"
      ]
     },
     "metadata": {},
     "output_type": "display_data"
    },
    {
     "data": {
      "text/plain": [
       "<Figure size 1080x1080 with 0 Axes>"
      ]
     },
     "metadata": {},
     "output_type": "display_data"
    },
    {
     "data": {
      "text/plain": [
       "<Figure size 1080x1080 with 0 Axes>"
      ]
     },
     "metadata": {},
     "output_type": "display_data"
    },
    {
     "data": {
      "text/plain": [
       "<Figure size 1080x1080 with 0 Axes>"
      ]
     },
     "metadata": {},
     "output_type": "display_data"
    },
    {
     "data": {
      "text/plain": [
       "<Figure size 1080x1080 with 0 Axes>"
      ]
     },
     "metadata": {},
     "output_type": "display_data"
    },
    {
     "data": {
      "text/plain": [
       "<Figure size 1080x1080 with 0 Axes>"
      ]
     },
     "metadata": {},
     "output_type": "display_data"
    },
    {
     "data": {
      "text/plain": [
       "<Figure size 1080x1080 with 0 Axes>"
      ]
     },
     "metadata": {},
     "output_type": "display_data"
    },
    {
     "data": {
      "text/plain": [
       "<Figure size 1080x1080 with 0 Axes>"
      ]
     },
     "metadata": {},
     "output_type": "display_data"
    },
    {
     "data": {
      "text/plain": [
       "<Figure size 1080x1080 with 0 Axes>"
      ]
     },
     "metadata": {},
     "output_type": "display_data"
    },
    {
     "data": {
      "text/plain": [
       "<Figure size 1080x1080 with 0 Axes>"
      ]
     },
     "metadata": {},
     "output_type": "display_data"
    },
    {
     "data": {
      "text/plain": [
       "<Figure size 1080x1080 with 0 Axes>"
      ]
     },
     "metadata": {},
     "output_type": "display_data"
    },
    {
     "data": {
      "text/plain": [
       "<Figure size 1080x1080 with 0 Axes>"
      ]
     },
     "metadata": {},
     "output_type": "display_data"
    },
    {
     "data": {
      "text/plain": [
       "<Figure size 1080x1080 with 0 Axes>"
      ]
     },
     "metadata": {},
     "output_type": "display_data"
    },
    {
     "data": {
      "text/plain": [
       "<Figure size 1080x1080 with 0 Axes>"
      ]
     },
     "metadata": {},
     "output_type": "display_data"
    },
    {
     "data": {
      "text/plain": [
       "<Figure size 1080x1080 with 0 Axes>"
      ]
     },
     "metadata": {},
     "output_type": "display_data"
    },
    {
     "data": {
      "text/plain": [
       "<Figure size 1080x1080 with 0 Axes>"
      ]
     },
     "metadata": {},
     "output_type": "display_data"
    },
    {
     "data": {
      "text/plain": [
       "<Figure size 1080x1080 with 0 Axes>"
      ]
     },
     "metadata": {},
     "output_type": "display_data"
    },
    {
     "data": {
      "text/plain": [
       "<Figure size 1080x1080 with 0 Axes>"
      ]
     },
     "metadata": {},
     "output_type": "display_data"
    },
    {
     "data": {
      "text/plain": [
       "<Figure size 1080x1080 with 0 Axes>"
      ]
     },
     "metadata": {},
     "output_type": "display_data"
    },
    {
     "data": {
      "text/plain": [
       "<Figure size 1080x1080 with 0 Axes>"
      ]
     },
     "metadata": {},
     "output_type": "display_data"
    },
    {
     "data": {
      "text/plain": [
       "<Figure size 1080x1080 with 0 Axes>"
      ]
     },
     "metadata": {},
     "output_type": "display_data"
    },
    {
     "data": {
      "text/plain": [
       "<Figure size 1080x1080 with 0 Axes>"
      ]
     },
     "metadata": {},
     "output_type": "display_data"
    },
    {
     "data": {
      "text/plain": [
       "<Figure size 1080x1080 with 0 Axes>"
      ]
     },
     "metadata": {},
     "output_type": "display_data"
    },
    {
     "data": {
      "text/plain": [
       "<Figure size 1080x1080 with 0 Axes>"
      ]
     },
     "metadata": {},
     "output_type": "display_data"
    },
    {
     "data": {
      "text/plain": [
       "<Figure size 1080x1080 with 0 Axes>"
      ]
     },
     "metadata": {},
     "output_type": "display_data"
    },
    {
     "data": {
      "text/plain": [
       "<Figure size 1080x1080 with 0 Axes>"
      ]
     },
     "metadata": {},
     "output_type": "display_data"
    },
    {
     "data": {
      "text/plain": [
       "<Figure size 1080x1080 with 0 Axes>"
      ]
     },
     "metadata": {},
     "output_type": "display_data"
    },
    {
     "data": {
      "text/plain": [
       "<Figure size 1080x1080 with 0 Axes>"
      ]
     },
     "metadata": {},
     "output_type": "display_data"
    },
    {
     "data": {
      "text/plain": [
       "<Figure size 1080x1080 with 0 Axes>"
      ]
     },
     "metadata": {},
     "output_type": "display_data"
    },
    {
     "data": {
      "text/plain": [
       "<Figure size 1080x1080 with 0 Axes>"
      ]
     },
     "metadata": {},
     "output_type": "display_data"
    },
    {
     "data": {
      "text/plain": [
       "<Figure size 1080x1080 with 0 Axes>"
      ]
     },
     "metadata": {},
     "output_type": "display_data"
    },
    {
     "data": {
      "text/plain": [
       "<Figure size 1080x1080 with 0 Axes>"
      ]
     },
     "metadata": {},
     "output_type": "display_data"
    },
    {
     "data": {
      "text/plain": [
       "<Figure size 1080x1080 with 0 Axes>"
      ]
     },
     "metadata": {},
     "output_type": "display_data"
    },
    {
     "data": {
      "text/plain": [
       "<Figure size 1080x1080 with 0 Axes>"
      ]
     },
     "metadata": {},
     "output_type": "display_data"
    },
    {
     "data": {
      "text/plain": [
       "<Figure size 1080x1080 with 0 Axes>"
      ]
     },
     "metadata": {},
     "output_type": "display_data"
    },
    {
     "data": {
      "text/plain": [
       "<Figure size 1080x1080 with 0 Axes>"
      ]
     },
     "metadata": {},
     "output_type": "display_data"
    },
    {
     "data": {
      "text/plain": [
       "<Figure size 1080x1080 with 0 Axes>"
      ]
     },
     "metadata": {},
     "output_type": "display_data"
    },
    {
     "data": {
      "text/plain": [
       "<Figure size 1080x1080 with 0 Axes>"
      ]
     },
     "metadata": {},
     "output_type": "display_data"
    },
    {
     "data": {
      "text/plain": [
       "<Figure size 1080x1080 with 0 Axes>"
      ]
     },
     "metadata": {},
     "output_type": "display_data"
    },
    {
     "data": {
      "text/plain": [
       "<Figure size 1080x1080 with 0 Axes>"
      ]
     },
     "metadata": {},
     "output_type": "display_data"
    },
    {
     "data": {
      "text/plain": [
       "<Figure size 1080x1080 with 0 Axes>"
      ]
     },
     "metadata": {},
     "output_type": "display_data"
    },
    {
     "data": {
      "text/plain": [
       "<Figure size 1080x1080 with 0 Axes>"
      ]
     },
     "metadata": {},
     "output_type": "display_data"
    },
    {
     "data": {
      "text/plain": [
       "<Figure size 1080x1080 with 0 Axes>"
      ]
     },
     "metadata": {},
     "output_type": "display_data"
    },
    {
     "data": {
      "text/plain": [
       "<Figure size 1080x1080 with 0 Axes>"
      ]
     },
     "metadata": {},
     "output_type": "display_data"
    },
    {
     "data": {
      "text/plain": [
       "<Figure size 1080x1080 with 0 Axes>"
      ]
     },
     "metadata": {},
     "output_type": "display_data"
    },
    {
     "data": {
      "text/plain": [
       "<Figure size 1080x1080 with 0 Axes>"
      ]
     },
     "metadata": {},
     "output_type": "display_data"
    },
    {
     "data": {
      "text/plain": [
       "<Figure size 1080x1080 with 0 Axes>"
      ]
     },
     "metadata": {},
     "output_type": "display_data"
    },
    {
     "data": {
      "text/plain": [
       "<Figure size 1080x1080 with 0 Axes>"
      ]
     },
     "metadata": {},
     "output_type": "display_data"
    },
    {
     "data": {
      "text/plain": [
       "<Figure size 1080x1080 with 0 Axes>"
      ]
     },
     "metadata": {},
     "output_type": "display_data"
    },
    {
     "data": {
      "text/plain": [
       "<Figure size 1080x1080 with 0 Axes>"
      ]
     },
     "metadata": {},
     "output_type": "display_data"
    },
    {
     "data": {
      "text/plain": [
       "<Figure size 1080x1080 with 0 Axes>"
      ]
     },
     "metadata": {},
     "output_type": "display_data"
    },
    {
     "data": {
      "text/plain": [
       "<Figure size 1080x1080 with 0 Axes>"
      ]
     },
     "metadata": {},
     "output_type": "display_data"
    },
    {
     "data": {
      "text/plain": [
       "<Figure size 1080x1080 with 0 Axes>"
      ]
     },
     "metadata": {},
     "output_type": "display_data"
    },
    {
     "data": {
      "text/plain": [
       "<Figure size 1080x1080 with 0 Axes>"
      ]
     },
     "metadata": {},
     "output_type": "display_data"
    },
    {
     "data": {
      "text/plain": [
       "<Figure size 1080x1080 with 0 Axes>"
      ]
     },
     "metadata": {},
     "output_type": "display_data"
    },
    {
     "data": {
      "text/plain": [
       "<Figure size 1080x1080 with 0 Axes>"
      ]
     },
     "metadata": {},
     "output_type": "display_data"
    },
    {
     "data": {
      "text/plain": [
       "<Figure size 1080x1080 with 0 Axes>"
      ]
     },
     "metadata": {},
     "output_type": "display_data"
    },
    {
     "data": {
      "text/plain": [
       "<Figure size 1080x1080 with 0 Axes>"
      ]
     },
     "metadata": {},
     "output_type": "display_data"
    },
    {
     "data": {
      "text/plain": [
       "<Figure size 1080x1080 with 0 Axes>"
      ]
     },
     "metadata": {},
     "output_type": "display_data"
    },
    {
     "data": {
      "text/plain": [
       "<Figure size 1080x1080 with 0 Axes>"
      ]
     },
     "metadata": {},
     "output_type": "display_data"
    },
    {
     "data": {
      "text/plain": [
       "<Figure size 1080x1080 with 0 Axes>"
      ]
     },
     "metadata": {},
     "output_type": "display_data"
    },
    {
     "data": {
      "text/plain": [
       "<Figure size 1080x1080 with 0 Axes>"
      ]
     },
     "metadata": {},
     "output_type": "display_data"
    },
    {
     "data": {
      "text/plain": [
       "<Figure size 1080x1080 with 0 Axes>"
      ]
     },
     "metadata": {},
     "output_type": "display_data"
    },
    {
     "data": {
      "text/plain": [
       "<Figure size 1080x1080 with 0 Axes>"
      ]
     },
     "metadata": {},
     "output_type": "display_data"
    },
    {
     "data": {
      "text/plain": [
       "<Figure size 1080x1080 with 0 Axes>"
      ]
     },
     "metadata": {},
     "output_type": "display_data"
    },
    {
     "data": {
      "text/plain": [
       "<Figure size 1080x1080 with 0 Axes>"
      ]
     },
     "metadata": {},
     "output_type": "display_data"
    },
    {
     "data": {
      "text/plain": [
       "<Figure size 1080x1080 with 0 Axes>"
      ]
     },
     "metadata": {},
     "output_type": "display_data"
    },
    {
     "data": {
      "text/plain": [
       "<Figure size 1080x1080 with 0 Axes>"
      ]
     },
     "metadata": {},
     "output_type": "display_data"
    },
    {
     "data": {
      "text/plain": [
       "<Figure size 1080x1080 with 0 Axes>"
      ]
     },
     "metadata": {},
     "output_type": "display_data"
    },
    {
     "data": {
      "text/plain": [
       "<Figure size 1080x1080 with 0 Axes>"
      ]
     },
     "metadata": {},
     "output_type": "display_data"
    },
    {
     "data": {
      "text/plain": [
       "<Figure size 1080x1080 with 0 Axes>"
      ]
     },
     "metadata": {},
     "output_type": "display_data"
    },
    {
     "data": {
      "text/plain": [
       "<Figure size 1080x1080 with 0 Axes>"
      ]
     },
     "metadata": {},
     "output_type": "display_data"
    },
    {
     "data": {
      "text/plain": [
       "<Figure size 1080x1080 with 0 Axes>"
      ]
     },
     "metadata": {},
     "output_type": "display_data"
    },
    {
     "data": {
      "text/plain": [
       "<Figure size 1080x1080 with 0 Axes>"
      ]
     },
     "metadata": {},
     "output_type": "display_data"
    },
    {
     "data": {
      "text/plain": [
       "<Figure size 1080x1080 with 0 Axes>"
      ]
     },
     "metadata": {},
     "output_type": "display_data"
    },
    {
     "data": {
      "text/plain": [
       "<Figure size 1080x1080 with 0 Axes>"
      ]
     },
     "metadata": {},
     "output_type": "display_data"
    },
    {
     "data": {
      "text/plain": [
       "<Figure size 1080x1080 with 0 Axes>"
      ]
     },
     "metadata": {},
     "output_type": "display_data"
    },
    {
     "data": {
      "text/plain": [
       "<Figure size 1080x1080 with 0 Axes>"
      ]
     },
     "metadata": {},
     "output_type": "display_data"
    },
    {
     "data": {
      "text/plain": [
       "<Figure size 1080x1080 with 0 Axes>"
      ]
     },
     "metadata": {},
     "output_type": "display_data"
    },
    {
     "data": {
      "text/plain": [
       "<Figure size 1080x1080 with 0 Axes>"
      ]
     },
     "metadata": {},
     "output_type": "display_data"
    },
    {
     "data": {
      "text/plain": [
       "<Figure size 1080x1080 with 0 Axes>"
      ]
     },
     "metadata": {},
     "output_type": "display_data"
    },
    {
     "data": {
      "text/plain": [
       "<Figure size 1080x1080 with 0 Axes>"
      ]
     },
     "metadata": {},
     "output_type": "display_data"
    },
    {
     "data": {
      "text/plain": [
       "<Figure size 1080x1080 with 0 Axes>"
      ]
     },
     "metadata": {},
     "output_type": "display_data"
    },
    {
     "data": {
      "text/plain": [
       "<Figure size 1080x1080 with 0 Axes>"
      ]
     },
     "metadata": {},
     "output_type": "display_data"
    },
    {
     "data": {
      "text/plain": [
       "<Figure size 1080x1080 with 0 Axes>"
      ]
     },
     "metadata": {},
     "output_type": "display_data"
    },
    {
     "data": {
      "text/plain": [
       "<Figure size 1080x1080 with 0 Axes>"
      ]
     },
     "metadata": {},
     "output_type": "display_data"
    },
    {
     "data": {
      "text/plain": [
       "<Figure size 1080x1080 with 0 Axes>"
      ]
     },
     "metadata": {},
     "output_type": "display_data"
    },
    {
     "data": {
      "text/plain": [
       "<Figure size 1080x1080 with 0 Axes>"
      ]
     },
     "metadata": {},
     "output_type": "display_data"
    },
    {
     "data": {
      "text/plain": [
       "<Figure size 1080x1080 with 0 Axes>"
      ]
     },
     "metadata": {},
     "output_type": "display_data"
    },
    {
     "data": {
      "text/plain": [
       "<Figure size 1080x1080 with 0 Axes>"
      ]
     },
     "metadata": {},
     "output_type": "display_data"
    },
    {
     "data": {
      "text/plain": [
       "<Figure size 1080x1080 with 0 Axes>"
      ]
     },
     "metadata": {},
     "output_type": "display_data"
    },
    {
     "data": {
      "text/plain": [
       "<Figure size 1080x1080 with 0 Axes>"
      ]
     },
     "metadata": {},
     "output_type": "display_data"
    },
    {
     "data": {
      "text/plain": [
       "<Figure size 1080x1080 with 0 Axes>"
      ]
     },
     "metadata": {},
     "output_type": "display_data"
    },
    {
     "data": {
      "text/plain": [
       "<Figure size 1080x1080 with 0 Axes>"
      ]
     },
     "metadata": {},
     "output_type": "display_data"
    },
    {
     "data": {
      "text/plain": [
       "<Figure size 1080x1080 with 0 Axes>"
      ]
     },
     "metadata": {},
     "output_type": "display_data"
    },
    {
     "data": {
      "text/plain": [
       "<Figure size 1080x1080 with 0 Axes>"
      ]
     },
     "metadata": {},
     "output_type": "display_data"
    },
    {
     "data": {
      "text/plain": [
       "<Figure size 1080x1080 with 0 Axes>"
      ]
     },
     "metadata": {},
     "output_type": "display_data"
    },
    {
     "data": {
      "text/plain": [
       "<Figure size 1080x1080 with 0 Axes>"
      ]
     },
     "metadata": {},
     "output_type": "display_data"
    },
    {
     "data": {
      "text/plain": [
       "<Figure size 1080x1080 with 0 Axes>"
      ]
     },
     "metadata": {},
     "output_type": "display_data"
    },
    {
     "data": {
      "text/plain": [
       "<Figure size 1080x1080 with 0 Axes>"
      ]
     },
     "metadata": {},
     "output_type": "display_data"
    },
    {
     "data": {
      "text/plain": [
       "<Figure size 1080x1080 with 0 Axes>"
      ]
     },
     "metadata": {},
     "output_type": "display_data"
    },
    {
     "data": {
      "text/plain": [
       "<Figure size 1080x1080 with 0 Axes>"
      ]
     },
     "metadata": {},
     "output_type": "display_data"
    },
    {
     "data": {
      "text/plain": [
       "<Figure size 1080x1080 with 0 Axes>"
      ]
     },
     "metadata": {},
     "output_type": "display_data"
    },
    {
     "data": {
      "text/plain": [
       "<Figure size 1080x1080 with 0 Axes>"
      ]
     },
     "metadata": {},
     "output_type": "display_data"
    },
    {
     "data": {
      "text/plain": [
       "<Figure size 1080x1080 with 0 Axes>"
      ]
     },
     "metadata": {},
     "output_type": "display_data"
    },
    {
     "data": {
      "text/plain": [
       "<Figure size 1080x1080 with 0 Axes>"
      ]
     },
     "metadata": {},
     "output_type": "display_data"
    },
    {
     "data": {
      "text/plain": [
       "<Figure size 1080x1080 with 0 Axes>"
      ]
     },
     "metadata": {},
     "output_type": "display_data"
    },
    {
     "data": {
      "text/plain": [
       "<Figure size 1080x1080 with 0 Axes>"
      ]
     },
     "metadata": {},
     "output_type": "display_data"
    },
    {
     "data": {
      "text/plain": [
       "<Figure size 1080x1080 with 0 Axes>"
      ]
     },
     "metadata": {},
     "output_type": "display_data"
    },
    {
     "data": {
      "text/plain": [
       "<Figure size 1080x1080 with 0 Axes>"
      ]
     },
     "metadata": {},
     "output_type": "display_data"
    },
    {
     "data": {
      "text/plain": [
       "<Figure size 1080x1080 with 0 Axes>"
      ]
     },
     "metadata": {},
     "output_type": "display_data"
    },
    {
     "data": {
      "text/plain": [
       "<Figure size 1080x1080 with 0 Axes>"
      ]
     },
     "metadata": {},
     "output_type": "display_data"
    },
    {
     "data": {
      "text/plain": [
       "<Figure size 1080x1080 with 0 Axes>"
      ]
     },
     "metadata": {},
     "output_type": "display_data"
    },
    {
     "data": {
      "text/plain": [
       "<Figure size 1080x1080 with 0 Axes>"
      ]
     },
     "metadata": {},
     "output_type": "display_data"
    },
    {
     "data": {
      "text/plain": [
       "<Figure size 1080x1080 with 0 Axes>"
      ]
     },
     "metadata": {},
     "output_type": "display_data"
    },
    {
     "data": {
      "text/plain": [
       "<Figure size 1080x1080 with 0 Axes>"
      ]
     },
     "metadata": {},
     "output_type": "display_data"
    },
    {
     "data": {
      "text/plain": [
       "<Figure size 1080x1080 with 0 Axes>"
      ]
     },
     "metadata": {},
     "output_type": "display_data"
    },
    {
     "data": {
      "text/plain": [
       "<Figure size 1080x1080 with 0 Axes>"
      ]
     },
     "metadata": {},
     "output_type": "display_data"
    },
    {
     "data": {
      "text/plain": [
       "<Figure size 1080x1080 with 0 Axes>"
      ]
     },
     "metadata": {},
     "output_type": "display_data"
    },
    {
     "data": {
      "text/plain": [
       "<Figure size 1080x1080 with 0 Axes>"
      ]
     },
     "metadata": {},
     "output_type": "display_data"
    },
    {
     "data": {
      "text/plain": [
       "<Figure size 1080x1080 with 0 Axes>"
      ]
     },
     "metadata": {},
     "output_type": "display_data"
    },
    {
     "data": {
      "text/plain": [
       "<Figure size 1080x1080 with 0 Axes>"
      ]
     },
     "metadata": {},
     "output_type": "display_data"
    },
    {
     "data": {
      "text/plain": [
       "<Figure size 1080x1080 with 0 Axes>"
      ]
     },
     "metadata": {},
     "output_type": "display_data"
    },
    {
     "data": {
      "text/plain": [
       "<Figure size 1080x1080 with 0 Axes>"
      ]
     },
     "metadata": {},
     "output_type": "display_data"
    },
    {
     "data": {
      "text/plain": [
       "<Figure size 1080x1080 with 0 Axes>"
      ]
     },
     "metadata": {},
     "output_type": "display_data"
    },
    {
     "data": {
      "text/plain": [
       "<Figure size 1080x1080 with 0 Axes>"
      ]
     },
     "metadata": {},
     "output_type": "display_data"
    },
    {
     "data": {
      "text/plain": [
       "<Figure size 1080x1080 with 0 Axes>"
      ]
     },
     "metadata": {},
     "output_type": "display_data"
    },
    {
     "data": {
      "text/plain": [
       "<Figure size 1080x1080 with 0 Axes>"
      ]
     },
     "metadata": {},
     "output_type": "display_data"
    },
    {
     "data": {
      "text/plain": [
       "<Figure size 1080x1080 with 0 Axes>"
      ]
     },
     "metadata": {},
     "output_type": "display_data"
    },
    {
     "data": {
      "text/plain": [
       "<Figure size 1080x1080 with 0 Axes>"
      ]
     },
     "metadata": {},
     "output_type": "display_data"
    },
    {
     "data": {
      "text/plain": [
       "<Figure size 1080x1080 with 0 Axes>"
      ]
     },
     "metadata": {},
     "output_type": "display_data"
    },
    {
     "data": {
      "text/plain": [
       "<Figure size 1080x1080 with 0 Axes>"
      ]
     },
     "metadata": {},
     "output_type": "display_data"
    },
    {
     "data": {
      "text/plain": [
       "<Figure size 1080x1080 with 0 Axes>"
      ]
     },
     "metadata": {},
     "output_type": "display_data"
    },
    {
     "data": {
      "text/plain": [
       "<Figure size 1080x1080 with 0 Axes>"
      ]
     },
     "metadata": {},
     "output_type": "display_data"
    },
    {
     "data": {
      "text/plain": [
       "<Figure size 1080x1080 with 0 Axes>"
      ]
     },
     "metadata": {},
     "output_type": "display_data"
    },
    {
     "data": {
      "text/plain": [
       "<Figure size 1080x1080 with 0 Axes>"
      ]
     },
     "metadata": {},
     "output_type": "display_data"
    },
    {
     "data": {
      "text/plain": [
       "<Figure size 1080x1080 with 0 Axes>"
      ]
     },
     "metadata": {},
     "output_type": "display_data"
    },
    {
     "data": {
      "text/plain": [
       "<Figure size 1080x1080 with 0 Axes>"
      ]
     },
     "metadata": {},
     "output_type": "display_data"
    },
    {
     "data": {
      "text/plain": [
       "<Figure size 1080x1080 with 0 Axes>"
      ]
     },
     "metadata": {},
     "output_type": "display_data"
    },
    {
     "data": {
      "text/plain": [
       "<Figure size 1080x1080 with 0 Axes>"
      ]
     },
     "metadata": {},
     "output_type": "display_data"
    },
    {
     "data": {
      "text/plain": [
       "<Figure size 1080x1080 with 0 Axes>"
      ]
     },
     "metadata": {},
     "output_type": "display_data"
    },
    {
     "data": {
      "text/plain": [
       "<Figure size 1080x1080 with 0 Axes>"
      ]
     },
     "metadata": {},
     "output_type": "display_data"
    },
    {
     "data": {
      "text/plain": [
       "<Figure size 1080x1080 with 0 Axes>"
      ]
     },
     "metadata": {},
     "output_type": "display_data"
    },
    {
     "data": {
      "text/plain": [
       "<Figure size 1080x1080 with 0 Axes>"
      ]
     },
     "metadata": {},
     "output_type": "display_data"
    },
    {
     "data": {
      "text/plain": [
       "<Figure size 1080x1080 with 0 Axes>"
      ]
     },
     "metadata": {},
     "output_type": "display_data"
    },
    {
     "data": {
      "text/plain": [
       "<Figure size 1080x1080 with 0 Axes>"
      ]
     },
     "metadata": {},
     "output_type": "display_data"
    },
    {
     "data": {
      "text/plain": [
       "<Figure size 1080x1080 with 0 Axes>"
      ]
     },
     "metadata": {},
     "output_type": "display_data"
    },
    {
     "data": {
      "text/plain": [
       "<Figure size 1080x1080 with 0 Axes>"
      ]
     },
     "metadata": {},
     "output_type": "display_data"
    },
    {
     "data": {
      "text/plain": [
       "<Figure size 1080x1080 with 0 Axes>"
      ]
     },
     "metadata": {},
     "output_type": "display_data"
    },
    {
     "data": {
      "text/plain": [
       "<Figure size 1080x1080 with 0 Axes>"
      ]
     },
     "metadata": {},
     "output_type": "display_data"
    },
    {
     "data": {
      "text/plain": [
       "<Figure size 1080x1080 with 0 Axes>"
      ]
     },
     "metadata": {},
     "output_type": "display_data"
    },
    {
     "data": {
      "text/plain": [
       "<Figure size 1080x1080 with 0 Axes>"
      ]
     },
     "metadata": {},
     "output_type": "display_data"
    },
    {
     "data": {
      "text/plain": [
       "<Figure size 1080x1080 with 0 Axes>"
      ]
     },
     "metadata": {},
     "output_type": "display_data"
    },
    {
     "data": {
      "text/plain": [
       "<Figure size 1080x1080 with 0 Axes>"
      ]
     },
     "metadata": {},
     "output_type": "display_data"
    },
    {
     "data": {
      "text/plain": [
       "<Figure size 1080x1080 with 0 Axes>"
      ]
     },
     "metadata": {},
     "output_type": "display_data"
    },
    {
     "data": {
      "text/plain": [
       "<Figure size 1080x1080 with 0 Axes>"
      ]
     },
     "metadata": {},
     "output_type": "display_data"
    },
    {
     "data": {
      "text/plain": [
       "<Figure size 1080x1080 with 0 Axes>"
      ]
     },
     "metadata": {},
     "output_type": "display_data"
    },
    {
     "data": {
      "text/plain": [
       "<Figure size 1080x1080 with 0 Axes>"
      ]
     },
     "metadata": {},
     "output_type": "display_data"
    },
    {
     "data": {
      "text/plain": [
       "<Figure size 1080x1080 with 0 Axes>"
      ]
     },
     "metadata": {},
     "output_type": "display_data"
    },
    {
     "data": {
      "text/plain": [
       "<Figure size 1080x1080 with 0 Axes>"
      ]
     },
     "metadata": {},
     "output_type": "display_data"
    },
    {
     "data": {
      "text/plain": [
       "<Figure size 1080x1080 with 0 Axes>"
      ]
     },
     "metadata": {},
     "output_type": "display_data"
    },
    {
     "data": {
      "text/plain": [
       "<Figure size 1080x1080 with 0 Axes>"
      ]
     },
     "metadata": {},
     "output_type": "display_data"
    },
    {
     "data": {
      "text/plain": [
       "<Figure size 1080x1080 with 0 Axes>"
      ]
     },
     "metadata": {},
     "output_type": "display_data"
    },
    {
     "data": {
      "text/plain": [
       "<Figure size 1080x1080 with 0 Axes>"
      ]
     },
     "metadata": {},
     "output_type": "display_data"
    },
    {
     "data": {
      "text/plain": [
       "<Figure size 1080x1080 with 0 Axes>"
      ]
     },
     "metadata": {},
     "output_type": "display_data"
    },
    {
     "data": {
      "text/plain": [
       "<Figure size 1080x1080 with 0 Axes>"
      ]
     },
     "metadata": {},
     "output_type": "display_data"
    },
    {
     "data": {
      "text/plain": [
       "<Figure size 1080x1080 with 0 Axes>"
      ]
     },
     "metadata": {},
     "output_type": "display_data"
    },
    {
     "data": {
      "text/plain": [
       "<Figure size 1080x1080 with 0 Axes>"
      ]
     },
     "metadata": {},
     "output_type": "display_data"
    },
    {
     "data": {
      "text/plain": [
       "<Figure size 1080x1080 with 0 Axes>"
      ]
     },
     "metadata": {},
     "output_type": "display_data"
    },
    {
     "data": {
      "text/plain": [
       "<Figure size 1080x1080 with 0 Axes>"
      ]
     },
     "metadata": {},
     "output_type": "display_data"
    },
    {
     "data": {
      "text/plain": [
       "<Figure size 1080x1080 with 0 Axes>"
      ]
     },
     "metadata": {},
     "output_type": "display_data"
    },
    {
     "data": {
      "text/plain": [
       "<Figure size 1080x1080 with 0 Axes>"
      ]
     },
     "metadata": {},
     "output_type": "display_data"
    },
    {
     "data": {
      "text/plain": [
       "<Figure size 1080x1080 with 0 Axes>"
      ]
     },
     "metadata": {},
     "output_type": "display_data"
    },
    {
     "data": {
      "text/plain": [
       "<Figure size 1080x1080 with 0 Axes>"
      ]
     },
     "metadata": {},
     "output_type": "display_data"
    },
    {
     "data": {
      "text/plain": [
       "<Figure size 1080x1080 with 0 Axes>"
      ]
     },
     "metadata": {},
     "output_type": "display_data"
    },
    {
     "data": {
      "text/plain": [
       "<Figure size 1080x1080 with 0 Axes>"
      ]
     },
     "metadata": {},
     "output_type": "display_data"
    },
    {
     "data": {
      "text/plain": [
       "<Figure size 1080x1080 with 0 Axes>"
      ]
     },
     "metadata": {},
     "output_type": "display_data"
    },
    {
     "data": {
      "text/plain": [
       "<Figure size 1080x1080 with 0 Axes>"
      ]
     },
     "metadata": {},
     "output_type": "display_data"
    },
    {
     "data": {
      "text/plain": [
       "<Figure size 1080x1080 with 0 Axes>"
      ]
     },
     "metadata": {},
     "output_type": "display_data"
    },
    {
     "data": {
      "text/plain": [
       "<Figure size 1080x1080 with 0 Axes>"
      ]
     },
     "metadata": {},
     "output_type": "display_data"
    },
    {
     "data": {
      "text/plain": [
       "<Figure size 1080x1080 with 0 Axes>"
      ]
     },
     "metadata": {},
     "output_type": "display_data"
    },
    {
     "data": {
      "text/plain": [
       "<Figure size 1080x1080 with 0 Axes>"
      ]
     },
     "metadata": {},
     "output_type": "display_data"
    },
    {
     "data": {
      "text/plain": [
       "<Figure size 1080x1080 with 0 Axes>"
      ]
     },
     "metadata": {},
     "output_type": "display_data"
    },
    {
     "data": {
      "text/plain": [
       "<Figure size 1080x1080 with 0 Axes>"
      ]
     },
     "metadata": {},
     "output_type": "display_data"
    },
    {
     "data": {
      "text/plain": [
       "<Figure size 1080x1080 with 0 Axes>"
      ]
     },
     "metadata": {},
     "output_type": "display_data"
    },
    {
     "data": {
      "text/plain": [
       "<Figure size 1080x1080 with 0 Axes>"
      ]
     },
     "metadata": {},
     "output_type": "display_data"
    },
    {
     "data": {
      "text/plain": [
       "<Figure size 1080x1080 with 0 Axes>"
      ]
     },
     "metadata": {},
     "output_type": "display_data"
    },
    {
     "data": {
      "text/plain": [
       "<Figure size 1080x1080 with 0 Axes>"
      ]
     },
     "metadata": {},
     "output_type": "display_data"
    },
    {
     "data": {
      "text/plain": [
       "<Figure size 1080x1080 with 0 Axes>"
      ]
     },
     "metadata": {},
     "output_type": "display_data"
    },
    {
     "data": {
      "text/plain": [
       "<Figure size 1080x1080 with 0 Axes>"
      ]
     },
     "metadata": {},
     "output_type": "display_data"
    },
    {
     "data": {
      "text/plain": [
       "<Figure size 1080x1080 with 0 Axes>"
      ]
     },
     "metadata": {},
     "output_type": "display_data"
    },
    {
     "data": {
      "text/plain": [
       "<Figure size 1080x1080 with 0 Axes>"
      ]
     },
     "metadata": {},
     "output_type": "display_data"
    },
    {
     "data": {
      "text/plain": [
       "<Figure size 1080x1080 with 0 Axes>"
      ]
     },
     "metadata": {},
     "output_type": "display_data"
    },
    {
     "data": {
      "text/plain": [
       "<Figure size 1080x1080 with 0 Axes>"
      ]
     },
     "metadata": {},
     "output_type": "display_data"
    },
    {
     "data": {
      "text/plain": [
       "<Figure size 1080x1080 with 0 Axes>"
      ]
     },
     "metadata": {},
     "output_type": "display_data"
    },
    {
     "data": {
      "text/plain": [
       "<Figure size 1080x1080 with 0 Axes>"
      ]
     },
     "metadata": {},
     "output_type": "display_data"
    },
    {
     "data": {
      "text/plain": [
       "<Figure size 1080x1080 with 0 Axes>"
      ]
     },
     "metadata": {},
     "output_type": "display_data"
    },
    {
     "data": {
      "text/plain": [
       "<Figure size 1080x1080 with 0 Axes>"
      ]
     },
     "metadata": {},
     "output_type": "display_data"
    },
    {
     "data": {
      "text/plain": [
       "<Figure size 1080x1080 with 0 Axes>"
      ]
     },
     "metadata": {},
     "output_type": "display_data"
    },
    {
     "data": {
      "text/plain": [
       "<Figure size 1080x1080 with 0 Axes>"
      ]
     },
     "metadata": {},
     "output_type": "display_data"
    },
    {
     "data": {
      "text/plain": [
       "<Figure size 1080x1080 with 0 Axes>"
      ]
     },
     "metadata": {},
     "output_type": "display_data"
    },
    {
     "data": {
      "text/plain": [
       "<Figure size 1080x1080 with 0 Axes>"
      ]
     },
     "metadata": {},
     "output_type": "display_data"
    },
    {
     "data": {
      "text/plain": [
       "<Figure size 1080x1080 with 0 Axes>"
      ]
     },
     "metadata": {},
     "output_type": "display_data"
    },
    {
     "data": {
      "text/plain": [
       "<Figure size 1080x1080 with 0 Axes>"
      ]
     },
     "metadata": {},
     "output_type": "display_data"
    },
    {
     "data": {
      "text/plain": [
       "<Figure size 1080x1080 with 0 Axes>"
      ]
     },
     "metadata": {},
     "output_type": "display_data"
    },
    {
     "data": {
      "text/plain": [
       "<Figure size 1080x1080 with 0 Axes>"
      ]
     },
     "metadata": {},
     "output_type": "display_data"
    },
    {
     "data": {
      "text/plain": [
       "<Figure size 1080x1080 with 0 Axes>"
      ]
     },
     "metadata": {},
     "output_type": "display_data"
    },
    {
     "data": {
      "text/plain": [
       "<Figure size 1080x1080 with 0 Axes>"
      ]
     },
     "metadata": {},
     "output_type": "display_data"
    },
    {
     "data": {
      "text/plain": [
       "<Figure size 1080x1080 with 0 Axes>"
      ]
     },
     "metadata": {},
     "output_type": "display_data"
    },
    {
     "data": {
      "text/plain": [
       "<Figure size 1080x1080 with 0 Axes>"
      ]
     },
     "metadata": {},
     "output_type": "display_data"
    },
    {
     "data": {
      "text/plain": [
       "<Figure size 1080x1080 with 0 Axes>"
      ]
     },
     "metadata": {},
     "output_type": "display_data"
    },
    {
     "data": {
      "text/plain": [
       "<Figure size 1080x1080 with 0 Axes>"
      ]
     },
     "metadata": {},
     "output_type": "display_data"
    },
    {
     "data": {
      "text/plain": [
       "<Figure size 1080x1080 with 0 Axes>"
      ]
     },
     "metadata": {},
     "output_type": "display_data"
    },
    {
     "data": {
      "text/plain": [
       "<Figure size 1080x1080 with 0 Axes>"
      ]
     },
     "metadata": {},
     "output_type": "display_data"
    },
    {
     "data": {
      "text/plain": [
       "<Figure size 1080x1080 with 0 Axes>"
      ]
     },
     "metadata": {},
     "output_type": "display_data"
    },
    {
     "data": {
      "text/plain": [
       "<Figure size 1080x1080 with 0 Axes>"
      ]
     },
     "metadata": {},
     "output_type": "display_data"
    },
    {
     "data": {
      "text/plain": [
       "<Figure size 1080x1080 with 0 Axes>"
      ]
     },
     "metadata": {},
     "output_type": "display_data"
    },
    {
     "data": {
      "text/plain": [
       "<Figure size 1080x1080 with 0 Axes>"
      ]
     },
     "metadata": {},
     "output_type": "display_data"
    },
    {
     "data": {
      "text/plain": [
       "<Figure size 1080x1080 with 0 Axes>"
      ]
     },
     "metadata": {},
     "output_type": "display_data"
    },
    {
     "data": {
      "text/plain": [
       "<Figure size 1080x1080 with 0 Axes>"
      ]
     },
     "metadata": {},
     "output_type": "display_data"
    },
    {
     "data": {
      "text/plain": [
       "<Figure size 1080x1080 with 0 Axes>"
      ]
     },
     "metadata": {},
     "output_type": "display_data"
    },
    {
     "data": {
      "text/plain": [
       "<Figure size 1080x1080 with 0 Axes>"
      ]
     },
     "metadata": {},
     "output_type": "display_data"
    },
    {
     "data": {
      "text/plain": [
       "<Figure size 1080x1080 with 0 Axes>"
      ]
     },
     "metadata": {},
     "output_type": "display_data"
    },
    {
     "data": {
      "text/plain": [
       "<Figure size 1080x1080 with 0 Axes>"
      ]
     },
     "metadata": {},
     "output_type": "display_data"
    },
    {
     "data": {
      "text/plain": [
       "<Figure size 1080x1080 with 0 Axes>"
      ]
     },
     "metadata": {},
     "output_type": "display_data"
    },
    {
     "data": {
      "text/plain": [
       "<Figure size 1080x1080 with 0 Axes>"
      ]
     },
     "metadata": {},
     "output_type": "display_data"
    },
    {
     "data": {
      "text/plain": [
       "<Figure size 1080x1080 with 0 Axes>"
      ]
     },
     "metadata": {},
     "output_type": "display_data"
    },
    {
     "data": {
      "text/plain": [
       "<Figure size 1080x1080 with 0 Axes>"
      ]
     },
     "metadata": {},
     "output_type": "display_data"
    },
    {
     "data": {
      "text/plain": [
       "<Figure size 1080x1080 with 0 Axes>"
      ]
     },
     "metadata": {},
     "output_type": "display_data"
    },
    {
     "data": {
      "text/plain": [
       "<Figure size 1080x1080 with 0 Axes>"
      ]
     },
     "metadata": {},
     "output_type": "display_data"
    },
    {
     "data": {
      "text/plain": [
       "<Figure size 1080x1080 with 0 Axes>"
      ]
     },
     "metadata": {},
     "output_type": "display_data"
    },
    {
     "data": {
      "text/plain": [
       "<Figure size 1080x1080 with 0 Axes>"
      ]
     },
     "metadata": {},
     "output_type": "display_data"
    },
    {
     "data": {
      "text/plain": [
       "<Figure size 1080x1080 with 0 Axes>"
      ]
     },
     "metadata": {},
     "output_type": "display_data"
    },
    {
     "data": {
      "text/plain": [
       "<Figure size 1080x1080 with 0 Axes>"
      ]
     },
     "metadata": {},
     "output_type": "display_data"
    },
    {
     "data": {
      "text/plain": [
       "<Figure size 1080x1080 with 0 Axes>"
      ]
     },
     "metadata": {},
     "output_type": "display_data"
    },
    {
     "data": {
      "image/png": "[encoded data removed]",
      "text/plain": [
       "<Figure size 1080x1080 with 1 Axes>"
      ]
     },
     "metadata": {
      "needs_background": "light"
     },
     "output_type": "display_data"
    }
   ],
   "source": [
    "processAllStarTiles(input_folder)\n",
    "#processStar(\"2020-12-12 04:58:34.txt\")"
   ]
  },
  {
   "cell_type": "code",
   "execution_count": null,
   "metadata": {},
   "outputs": [],
   "source": []
  }
 ],
 "metadata": {
  "kernelspec": {
   "display_name": "Python 3",
   "language": "python",
   "name": "python3"
  },
  "language_info": {
   "codemirror_mode": {
    "name": "ipython",
    "version": 3
   },
   "file_extension": ".py",
   "mimetype": "text/x-python",
   "name": "python",
   "nbconvert_exporter": "python",
   "pygments_lexer": "ipython3",
   "version": "3.8.2"
  },
  "varInspector": {
   "cols": {
    "lenName": 16,
    "lenType": 16,
    "lenVar": 40
   },
   "kernels_config": {
    "python": {
     "delete_cmd_postfix": "",
     "delete_cmd_prefix": "del ",
     "library": "var_list.py",
     "varRefreshCmd": "print(var_dic_list())"
    },
    "r": {
     "delete_cmd_postfix": ") ",
     "delete_cmd_prefix": "rm(",
     "library": "var_list.r",
     "varRefreshCmd": "cat(var_dic_list()) "
    }
   },
   "types_to_exclude": [
    "module",
    "function",
    "builtin_function_or_method",
    "instance",
    "_Feature"
   ],
   "window_display": false
  }
 },
 "nbformat": 4,
 "nbformat_minor": 4
}