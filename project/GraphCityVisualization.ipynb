{
 "cells": [
  {
   "cell_type": "code",
   "execution_count": 1,
   "metadata": {},
   "outputs": [],
   "source": [
    "%matplotlib widget\n",
    "\n",
    "import matplotlib as mpl\n",
    "from mpl_toolkits.mplot3d import Axes3D\n",
    "import numpy as np\n",
    "import matplotlib.pyplot as plt"
   ]
  },
  {
   "cell_type": "code",
   "execution_count": 2,
   "metadata": {},
   "outputs": [
    {
     "data": {
      "application/vnd.jupyter.widget-view+json": {
       "model_id": "1906f6ebd1c7454cbf73f40cb6f50219",
       "version_major": 2,
       "version_minor": 0
      },
      "text/plain": [
       "Canvas(toolbar=Toolbar(toolitems=[('Home', 'Reset original view', 'home', 'home'), ('Back', 'Back to previous …"
      ]
     },
     "metadata": {},
     "output_type": "display_data"
    }
   ],
   "source": [
    "fig = plt.figure()\n",
    "\n",
    "ax = fig.add_subplot(111, projection='3d')\n",
    "theta = np.linspace(0, 2 * np.pi, 201)\n",
    "\n",
    "y = 10*np.cos(theta)\n",
    "x = 10*np.sin(theta)\n",
    "\n",
    "for i in range(1, 6):\n",
    "    phi = np.pi/5\n",
    "    ax.plot(x * i,\n",
    "            y*np.sin(phi) + 10*np.sin(phi),\n",
    "            i)\n",
    "\n",
    "ax.plot((0,0),(0,0), '-k', label='z-axis')\n",
    "ax.legend()\n",
    "\n",
    "plt.show()"
   ]
  },
  {
   "cell_type": "code",
   "execution_count": 96,
   "metadata": {},
   "outputs": [
    {
     "name": "stderr",
     "output_type": "stream",
     "text": [
      "<ipython-input-96-e68bafcc0e72>:10: RuntimeWarning: More than 20 figures have been opened. Figures created through the pyplot interface (`matplotlib.pyplot.figure`) are retained until explicitly closed and may consume too much memory. (To control this warning, see the rcParam `figure.max_open_warning`).\n",
      "  fig = plt.figure()\n"
     ]
    },
    {
     "data": {
      "application/vnd.jupyter.widget-view+json": {
       "model_id": "9a0a5619608a434e87f3cceb51dfe091",
       "version_major": 2,
       "version_minor": 0
      },
      "text/plain": [
       "Canvas(toolbar=Toolbar(toolitems=[('Home', 'Reset original view', 'home', 'home'), ('Back', 'Back to previous …"
      ]
     },
     "metadata": {},
     "output_type": "display_data"
    }
   ],
   "source": [
    "import numpy as np\n",
    "import matplotlib.pyplot as plt\n",
    "import matplotlib.colors as clrs\n",
    "from matplotlib.patches import Circle\n",
    "import mpl_toolkits.mplot3d.art3d as art3d\n",
    "\n",
    "cms = mpl.cm\n",
    "maps = [cms.jet, cms.gray, cms.autumn]\n",
    "\n",
    "fig = plt.figure()\n",
    "\n",
    "ax = fig.add_subplot(111, projection='3d')\n",
    "\n",
    "\n",
    "ax.set_xlim(0, 15)\n",
    "ax.set_ylim(0, 15)\n",
    "ax.set_zlim(0, 15)\n",
    "\n",
    "# Hide ticks and grid\n",
    "ax.grid(False)\n",
    "ax.set_xticks([])\n",
    "ax.set_yticks([])\n",
    "ax.set_zticks([])\n",
    "\n",
    "legend_x = []\n",
    "legend_y = []\n",
    "\n",
    "for i in range(10, 1, -1):\n",
    "    \n",
    "    x = 6\n",
    "    y = 6\n",
    "    z=(2 * i)\n",
    "    radius = 3 + (i%3)\n",
    "    \n",
    "    cmi = radius%3\n",
    "    color = maps[cmi](155)\n",
    "    \n",
    "    p = Circle((x, y), radius, color=color)\n",
    "\n",
    "    legend_x.append(p)\n",
    "    legend_y.append(radius)\n",
    "    \n",
    "    ax.add_patch(p)\n",
    "\n",
    "    art3d.pathpatch_2d_to_3d(p, z=z, zdir=\"z\")\n",
    "    ax.text(x+radius+3, 0, z+1, 'HareHare', size=10, zorder=15, zdir='x')\n",
    "\n",
    "ax.legend(legend_x, legend_y)\n",
    "plt.show()"
   ]
  },
  {
   "cell_type": "code",
   "execution_count": null,
   "metadata": {},
   "outputs": [],
   "source": []
  }
 ],
 "metadata": {
  "kernelspec": {
   "display_name": "Python 3",
   "language": "python",
   "name": "python3"
  },
  "language_info": {
   "codemirror_mode": {
    "name": "ipython",
    "version": 3
   },
   "file_extension": ".py",
   "mimetype": "text/x-python",
   "name": "python",
   "nbconvert_exporter": "python",
   "pygments_lexer": "ipython3",
   "version": "3.8.2"
  }
 },
 "nbformat": 4,
 "nbformat_minor": 4
}
